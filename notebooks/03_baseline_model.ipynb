{
 "cells": [
  {
   "cell_type": "markdown",
   "id": "23b96a64",
   "metadata": {},
   "source": [
    "# 1. Exploring data for modeling phase "
   ]
  },
  {
   "cell_type": "code",
   "execution_count": null,
   "id": "e12dde73",
   "metadata": {},
   "outputs": [
    {
     "name": "stdout",
     "output_type": "stream",
     "text": [
      "Requirement already satisfied: xgboost in /opt/homebrew/Caskroom/miniconda/base/envs/deepseek-mac/lib/python3.10/site-packages (3.0.0)\n",
      "Requirement already satisfied: numpy in /opt/homebrew/Caskroom/miniconda/base/envs/deepseek-mac/lib/python3.10/site-packages (from xgboost) (1.26.4)\n",
      "Requirement already satisfied: scipy in /opt/homebrew/Caskroom/miniconda/base/envs/deepseek-mac/lib/python3.10/site-packages (from xgboost) (1.15.2)\n"
     ]
    }
   ],
   "source": [
    "# pip install seaborn \n",
    "#! pip install -U imbalanced-learn\n",
    "#! pip install xgboost"
   ]
  },
  {
   "cell_type": "code",
   "execution_count": 30,
   "id": "ce6c8ff7",
   "metadata": {},
   "outputs": [],
   "source": [
    "import pandas as pd \n",
    "import numpy as np\n",
    "\n",
    "from sklearn.model_selection import train_test_split\n",
    "from sklearn.preprocessing import StandardScaler, OneHotEncoder\n",
    "from sklearn.compose import ColumnTransformer\n",
    "from sklearn.pipeline import Pipeline\n",
    "from sklearn.ensemble import RandomForestClassifier\n",
    "from sklearn.metrics import classification_report, confusion_matrix\n",
    "\n",
    "from sklearn.preprocessing import StandardScaler, OneHotEncoder, LabelEncoder\n",
    "\n",
    "import matplotlib.pyplot as plt\n",
    "import seaborn as sns\n",
    "from imblearn.over_sampling import SMOTE\n",
    "from sklearn.model_selection import GridSearchCV\n",
    "from xgboost import XGBClassifier  # Using XGBoost instead of RandomForest\n",
    "\n",
    "import time\n",
    "\n"
   ]
  },
  {
   "cell_type": "code",
   "execution_count": 3,
   "id": "6f94e9dc",
   "metadata": {},
   "outputs": [],
   "source": [
    "df_lct_dl = pd.read_csv('../data/raw/curr_lct_dl.csv')"
   ]
  },
  {
   "cell_type": "code",
   "execution_count": 4,
   "id": "99bb3aed",
   "metadata": {},
   "outputs": [
    {
     "data": {
      "text/html": [
       "<div>\n",
       "<style scoped>\n",
       "    .dataframe tbody tr th:only-of-type {\n",
       "        vertical-align: middle;\n",
       "    }\n",
       "\n",
       "    .dataframe tbody tr th {\n",
       "        vertical-align: top;\n",
       "    }\n",
       "\n",
       "    .dataframe thead th {\n",
       "        text-align: right;\n",
       "    }\n",
       "</style>\n",
       "<table border=\"1\" class=\"dataframe\">\n",
       "  <thead>\n",
       "    <tr style=\"text-align: right;\">\n",
       "      <th></th>\n",
       "      <th>unit_id</th>\n",
       "      <th>ddate</th>\n",
       "      <th>dtime</th>\n",
       "      <th>target</th>\n",
       "      <th>address</th>\n",
       "      <th>packets_received</th>\n",
       "      <th>packets_sent</th>\n",
       "      <th>packet_size</th>\n",
       "      <th>bytes_total</th>\n",
       "      <th>duration</th>\n",
       "      <th>bytes_sec</th>\n",
       "      <th>error_code</th>\n",
       "      <th>successes</th>\n",
       "      <th>failures</th>\n",
       "    </tr>\n",
       "  </thead>\n",
       "  <tbody>\n",
       "    <tr>\n",
       "      <th>0</th>\n",
       "      <td>386</td>\n",
       "      <td>2023-02-01</td>\n",
       "      <td>2023-02-02 00:50:49</td>\n",
       "      <td>sp1-vm-newyork-us.samknows.com</td>\n",
       "      <td>151.139.31.1</td>\n",
       "      <td>52</td>\n",
       "      <td>100</td>\n",
       "      <td>1400</td>\n",
       "      <td>72800</td>\n",
       "      <td>993</td>\n",
       "      <td>87311824</td>\n",
       "      <td>NO_ERROR</td>\n",
       "      <td>1</td>\n",
       "      <td>0</td>\n",
       "    </tr>\n",
       "    <tr>\n",
       "      <th>1</th>\n",
       "      <td>386</td>\n",
       "      <td>2023-02-02</td>\n",
       "      <td>2023-02-02 11:47:29</td>\n",
       "      <td>sp1-vm-newyork-us.samknows.com</td>\n",
       "      <td>151.139.31.1</td>\n",
       "      <td>52</td>\n",
       "      <td>100</td>\n",
       "      <td>1400</td>\n",
       "      <td>72800</td>\n",
       "      <td>765</td>\n",
       "      <td>87866112</td>\n",
       "      <td>NO_ERROR</td>\n",
       "      <td>1</td>\n",
       "      <td>0</td>\n",
       "    </tr>\n",
       "    <tr>\n",
       "      <th>2</th>\n",
       "      <td>386</td>\n",
       "      <td>2023-02-02</td>\n",
       "      <td>2023-02-02 17:47:06</td>\n",
       "      <td>sp1-vm-newyork-us.samknows.com</td>\n",
       "      <td>151.139.31.1</td>\n",
       "      <td>79</td>\n",
       "      <td>100</td>\n",
       "      <td>1400</td>\n",
       "      <td>110600</td>\n",
       "      <td>6292</td>\n",
       "      <td>69421488</td>\n",
       "      <td>NO_ERROR</td>\n",
       "      <td>1</td>\n",
       "      <td>0</td>\n",
       "    </tr>\n",
       "    <tr>\n",
       "      <th>3</th>\n",
       "      <td>386</td>\n",
       "      <td>2023-02-03</td>\n",
       "      <td>2023-02-03 05:50:56</td>\n",
       "      <td>sp1-vm-newyork-us.samknows.com</td>\n",
       "      <td>151.139.31.1</td>\n",
       "      <td>81</td>\n",
       "      <td>100</td>\n",
       "      <td>1400</td>\n",
       "      <td>113400</td>\n",
       "      <td>6653</td>\n",
       "      <td>44712440</td>\n",
       "      <td>NO_ERROR</td>\n",
       "      <td>1</td>\n",
       "      <td>0</td>\n",
       "    </tr>\n",
       "    <tr>\n",
       "      <th>4</th>\n",
       "      <td>386</td>\n",
       "      <td>2023-02-03</td>\n",
       "      <td>2023-02-04 00:51:20</td>\n",
       "      <td>sp1-vm-newyork-us.samknows.com</td>\n",
       "      <td>151.139.31.1</td>\n",
       "      <td>79</td>\n",
       "      <td>100</td>\n",
       "      <td>1400</td>\n",
       "      <td>110600</td>\n",
       "      <td>6278</td>\n",
       "      <td>80396040</td>\n",
       "      <td>NO_ERROR</td>\n",
       "      <td>1</td>\n",
       "      <td>0</td>\n",
       "    </tr>\n",
       "    <tr>\n",
       "      <th>...</th>\n",
       "      <td>...</td>\n",
       "      <td>...</td>\n",
       "      <td>...</td>\n",
       "      <td>...</td>\n",
       "      <td>...</td>\n",
       "      <td>...</td>\n",
       "      <td>...</td>\n",
       "      <td>...</td>\n",
       "      <td>...</td>\n",
       "      <td>...</td>\n",
       "      <td>...</td>\n",
       "      <td>...</td>\n",
       "      <td>...</td>\n",
       "      <td>...</td>\n",
       "    </tr>\n",
       "    <tr>\n",
       "      <th>869696</th>\n",
       "      <td>93007349</td>\n",
       "      <td>2023-02-27</td>\n",
       "      <td>2023-02-28 05:51:32</td>\n",
       "      <td>sp1-vm-losangeles-us.samknows.com</td>\n",
       "      <td>151.139.71.29</td>\n",
       "      <td>100</td>\n",
       "      <td>100</td>\n",
       "      <td>1400</td>\n",
       "      <td>140000</td>\n",
       "      <td>6079</td>\n",
       "      <td>50450040</td>\n",
       "      <td>NO_ERROR</td>\n",
       "      <td>1</td>\n",
       "      <td>0</td>\n",
       "    </tr>\n",
       "    <tr>\n",
       "      <th>869697</th>\n",
       "      <td>93007349</td>\n",
       "      <td>2023-02-27</td>\n",
       "      <td>2023-02-28 06:49:38</td>\n",
       "      <td>sp1-vm-losangeles-us.samknows.com</td>\n",
       "      <td>151.139.71.29</td>\n",
       "      <td>100</td>\n",
       "      <td>100</td>\n",
       "      <td>1400</td>\n",
       "      <td>140000</td>\n",
       "      <td>3923</td>\n",
       "      <td>68643216</td>\n",
       "      <td>NO_ERROR</td>\n",
       "      <td>1</td>\n",
       "      <td>0</td>\n",
       "    </tr>\n",
       "    <tr>\n",
       "      <th>869698</th>\n",
       "      <td>93007349</td>\n",
       "      <td>2023-02-28</td>\n",
       "      <td>2023-02-28 08:44:37</td>\n",
       "      <td>sp1-vm-losangeles-us.samknows.com</td>\n",
       "      <td>151.139.71.29</td>\n",
       "      <td>100</td>\n",
       "      <td>100</td>\n",
       "      <td>1400</td>\n",
       "      <td>140000</td>\n",
       "      <td>2861</td>\n",
       "      <td>72056552</td>\n",
       "      <td>NO_ERROR</td>\n",
       "      <td>1</td>\n",
       "      <td>0</td>\n",
       "    </tr>\n",
       "    <tr>\n",
       "      <th>869699</th>\n",
       "      <td>93007349</td>\n",
       "      <td>2023-02-28</td>\n",
       "      <td>2023-02-28 14:45:22</td>\n",
       "      <td>sp1-vm-losangeles-us.samknows.com</td>\n",
       "      <td>151.139.71.29</td>\n",
       "      <td>100</td>\n",
       "      <td>100</td>\n",
       "      <td>1400</td>\n",
       "      <td>140000</td>\n",
       "      <td>2133</td>\n",
       "      <td>70877720</td>\n",
       "      <td>NO_ERROR</td>\n",
       "      <td>1</td>\n",
       "      <td>0</td>\n",
       "    </tr>\n",
       "    <tr>\n",
       "      <th>869700</th>\n",
       "      <td>93007349</td>\n",
       "      <td>2023-02-28</td>\n",
       "      <td>2023-02-28 20:45:38</td>\n",
       "      <td>sp1-vm-losangeles-us.samknows.com</td>\n",
       "      <td>151.139.71.29</td>\n",
       "      <td>100</td>\n",
       "      <td>100</td>\n",
       "      <td>1400</td>\n",
       "      <td>140000</td>\n",
       "      <td>3466</td>\n",
       "      <td>59232496</td>\n",
       "      <td>NO_ERROR</td>\n",
       "      <td>1</td>\n",
       "      <td>0</td>\n",
       "    </tr>\n",
       "  </tbody>\n",
       "</table>\n",
       "<p>869701 rows × 14 columns</p>\n",
       "</div>"
      ],
      "text/plain": [
       "         unit_id       ddate                dtime  \\\n",
       "0            386  2023-02-01  2023-02-02 00:50:49   \n",
       "1            386  2023-02-02  2023-02-02 11:47:29   \n",
       "2            386  2023-02-02  2023-02-02 17:47:06   \n",
       "3            386  2023-02-03  2023-02-03 05:50:56   \n",
       "4            386  2023-02-03  2023-02-04 00:51:20   \n",
       "...          ...         ...                  ...   \n",
       "869696  93007349  2023-02-27  2023-02-28 05:51:32   \n",
       "869697  93007349  2023-02-27  2023-02-28 06:49:38   \n",
       "869698  93007349  2023-02-28  2023-02-28 08:44:37   \n",
       "869699  93007349  2023-02-28  2023-02-28 14:45:22   \n",
       "869700  93007349  2023-02-28  2023-02-28 20:45:38   \n",
       "\n",
       "                                   target        address  packets_received  \\\n",
       "0          sp1-vm-newyork-us.samknows.com   151.139.31.1                52   \n",
       "1          sp1-vm-newyork-us.samknows.com   151.139.31.1                52   \n",
       "2          sp1-vm-newyork-us.samknows.com   151.139.31.1                79   \n",
       "3          sp1-vm-newyork-us.samknows.com   151.139.31.1                81   \n",
       "4          sp1-vm-newyork-us.samknows.com   151.139.31.1                79   \n",
       "...                                   ...            ...               ...   \n",
       "869696  sp1-vm-losangeles-us.samknows.com  151.139.71.29               100   \n",
       "869697  sp1-vm-losangeles-us.samknows.com  151.139.71.29               100   \n",
       "869698  sp1-vm-losangeles-us.samknows.com  151.139.71.29               100   \n",
       "869699  sp1-vm-losangeles-us.samknows.com  151.139.71.29               100   \n",
       "869700  sp1-vm-losangeles-us.samknows.com  151.139.71.29               100   \n",
       "\n",
       "        packets_sent  packet_size  bytes_total  duration  bytes_sec  \\\n",
       "0                100         1400        72800       993   87311824   \n",
       "1                100         1400        72800       765   87866112   \n",
       "2                100         1400       110600      6292   69421488   \n",
       "3                100         1400       113400      6653   44712440   \n",
       "4                100         1400       110600      6278   80396040   \n",
       "...              ...          ...          ...       ...        ...   \n",
       "869696           100         1400       140000      6079   50450040   \n",
       "869697           100         1400       140000      3923   68643216   \n",
       "869698           100         1400       140000      2861   72056552   \n",
       "869699           100         1400       140000      2133   70877720   \n",
       "869700           100         1400       140000      3466   59232496   \n",
       "\n",
       "       error_code  successes  failures  \n",
       "0        NO_ERROR          1         0  \n",
       "1        NO_ERROR          1         0  \n",
       "2        NO_ERROR          1         0  \n",
       "3        NO_ERROR          1         0  \n",
       "4        NO_ERROR          1         0  \n",
       "...           ...        ...       ...  \n",
       "869696   NO_ERROR          1         0  \n",
       "869697   NO_ERROR          1         0  \n",
       "869698   NO_ERROR          1         0  \n",
       "869699   NO_ERROR          1         0  \n",
       "869700   NO_ERROR          1         0  \n",
       "\n",
       "[869701 rows x 14 columns]"
      ]
     },
     "execution_count": 4,
     "metadata": {},
     "output_type": "execute_result"
    }
   ],
   "source": [
    "df_lct_dl"
   ]
  },
  {
   "cell_type": "code",
   "execution_count": 5,
   "id": "0bc3f561",
   "metadata": {},
   "outputs": [
    {
     "name": "stdout",
     "output_type": "stream",
     "text": [
      "<class 'pandas.core.frame.DataFrame'>\n",
      "RangeIndex: 869701 entries, 0 to 869700\n",
      "Data columns (total 14 columns):\n",
      " #   Column            Non-Null Count   Dtype \n",
      "---  ------            --------------   ----- \n",
      " 0   unit_id           869701 non-null  int64 \n",
      " 1   ddate             869701 non-null  object\n",
      " 2   dtime             869701 non-null  object\n",
      " 3   target            869701 non-null  object\n",
      " 4   address           869701 non-null  object\n",
      " 5   packets_received  869701 non-null  int64 \n",
      " 6   packets_sent      869701 non-null  int64 \n",
      " 7   packet_size       869701 non-null  int64 \n",
      " 8   bytes_total       869701 non-null  int64 \n",
      " 9   duration          869701 non-null  int64 \n",
      " 10  bytes_sec         869701 non-null  int64 \n",
      " 11  error_code        869701 non-null  object\n",
      " 12  successes         869701 non-null  int64 \n",
      " 13  failures          869701 non-null  int64 \n",
      "dtypes: int64(9), object(5)\n",
      "memory usage: 92.9+ MB\n"
     ]
    }
   ],
   "source": [
    "df_lct_dl.info()"
   ]
  },
  {
   "cell_type": "code",
   "execution_count": 6,
   "id": "7db1595b",
   "metadata": {},
   "outputs": [
    {
     "data": {
      "text/plain": [
       "array(['NO_ERROR', 'TCP_CONNECT', 'RCV_FAILED', 'ZERO_SENT_SERVER',\n",
       "       'TCP_RECV'], dtype=object)"
      ]
     },
     "execution_count": 6,
     "metadata": {},
     "output_type": "execute_result"
    }
   ],
   "source": [
    "df_lct_dl['error_code'].unique()"
   ]
  },
  {
   "cell_type": "code",
   "execution_count": 7,
   "id": "f41614f1",
   "metadata": {},
   "outputs": [
    {
     "name": "stdout",
     "output_type": "stream",
     "text": [
      "error_code\n",
      "NO_ERROR            866807\n",
      "TCP_CONNECT           2336\n",
      "ZERO_SENT_SERVER       382\n",
      "RCV_FAILED             175\n",
      "TCP_RECV                 1\n",
      "Name: count, dtype: int64\n"
     ]
    }
   ],
   "source": [
    "error_code_distribution = df_lct_dl['error_code'].value_counts()\n",
    "print(error_code_distribution)"
   ]
  },
  {
   "cell_type": "code",
   "execution_count": 8,
   "id": "9af7cff7",
   "metadata": {},
   "outputs": [
    {
     "data": {
      "text/html": [
       "<div>\n",
       "<style scoped>\n",
       "    .dataframe tbody tr th:only-of-type {\n",
       "        vertical-align: middle;\n",
       "    }\n",
       "\n",
       "    .dataframe tbody tr th {\n",
       "        vertical-align: top;\n",
       "    }\n",
       "\n",
       "    .dataframe thead th {\n",
       "        text-align: right;\n",
       "    }\n",
       "</style>\n",
       "<table border=\"1\" class=\"dataframe\">\n",
       "  <thead>\n",
       "    <tr style=\"text-align: right;\">\n",
       "      <th></th>\n",
       "      <th>unit_id</th>\n",
       "      <th>packets_received</th>\n",
       "      <th>packets_sent</th>\n",
       "      <th>packet_size</th>\n",
       "      <th>bytes_total</th>\n",
       "      <th>duration</th>\n",
       "      <th>bytes_sec</th>\n",
       "      <th>successes</th>\n",
       "      <th>failures</th>\n",
       "    </tr>\n",
       "  </thead>\n",
       "  <tbody>\n",
       "    <tr>\n",
       "      <th>count</th>\n",
       "      <td>8.697010e+05</td>\n",
       "      <td>869701.000000</td>\n",
       "      <td>869701.000000</td>\n",
       "      <td>869701.0</td>\n",
       "      <td>869701.000000</td>\n",
       "      <td>8.697010e+05</td>\n",
       "      <td>8.697010e+05</td>\n",
       "      <td>869701.000000</td>\n",
       "      <td>869701.000000</td>\n",
       "    </tr>\n",
       "    <tr>\n",
       "      <th>mean</th>\n",
       "      <td>2.240975e+07</td>\n",
       "      <td>86.665430</td>\n",
       "      <td>99.667242</td>\n",
       "      <td>1400.0</td>\n",
       "      <td>121331.601780</td>\n",
       "      <td>3.357469e+04</td>\n",
       "      <td>3.121015e+07</td>\n",
       "      <td>0.996672</td>\n",
       "      <td>0.003328</td>\n",
       "    </tr>\n",
       "    <tr>\n",
       "      <th>std</th>\n",
       "      <td>2.541703e+07</td>\n",
       "      <td>20.926162</td>\n",
       "      <td>5.758916</td>\n",
       "      <td>0.0</td>\n",
       "      <td>29296.626978</td>\n",
       "      <td>1.075456e+05</td>\n",
       "      <td>3.590050e+07</td>\n",
       "      <td>0.057589</td>\n",
       "      <td>0.057589</td>\n",
       "    </tr>\n",
       "    <tr>\n",
       "      <th>min</th>\n",
       "      <td>3.860000e+02</td>\n",
       "      <td>0.000000</td>\n",
       "      <td>0.000000</td>\n",
       "      <td>1400.0</td>\n",
       "      <td>0.000000</td>\n",
       "      <td>0.000000e+00</td>\n",
       "      <td>0.000000e+00</td>\n",
       "      <td>0.000000</td>\n",
       "      <td>0.000000</td>\n",
       "    </tr>\n",
       "    <tr>\n",
       "      <th>25%</th>\n",
       "      <td>8.058040e+05</td>\n",
       "      <td>77.000000</td>\n",
       "      <td>100.000000</td>\n",
       "      <td>1400.0</td>\n",
       "      <td>107800.000000</td>\n",
       "      <td>5.606000e+03</td>\n",
       "      <td>4.770858e+06</td>\n",
       "      <td>1.000000</td>\n",
       "      <td>0.000000</td>\n",
       "    </tr>\n",
       "    <tr>\n",
       "      <th>50%</th>\n",
       "      <td>4.172669e+06</td>\n",
       "      <td>100.000000</td>\n",
       "      <td>100.000000</td>\n",
       "      <td>1400.0</td>\n",
       "      <td>140000.000000</td>\n",
       "      <td>9.491000e+03</td>\n",
       "      <td>1.371387e+07</td>\n",
       "      <td>1.000000</td>\n",
       "      <td>0.000000</td>\n",
       "    </tr>\n",
       "    <tr>\n",
       "      <th>75%</th>\n",
       "      <td>3.948602e+07</td>\n",
       "      <td>100.000000</td>\n",
       "      <td>100.000000</td>\n",
       "      <td>1400.0</td>\n",
       "      <td>140000.000000</td>\n",
       "      <td>2.381700e+04</td>\n",
       "      <td>4.576806e+07</td>\n",
       "      <td>1.000000</td>\n",
       "      <td>0.000000</td>\n",
       "    </tr>\n",
       "    <tr>\n",
       "      <th>max</th>\n",
       "      <td>9.300735e+07</td>\n",
       "      <td>100.000000</td>\n",
       "      <td>100.000000</td>\n",
       "      <td>1400.0</td>\n",
       "      <td>140000.000000</td>\n",
       "      <td>3.004544e+06</td>\n",
       "      <td>3.248000e+08</td>\n",
       "      <td>1.000000</td>\n",
       "      <td>1.000000</td>\n",
       "    </tr>\n",
       "  </tbody>\n",
       "</table>\n",
       "</div>"
      ],
      "text/plain": [
       "            unit_id  packets_received   packets_sent  packet_size  \\\n",
       "count  8.697010e+05     869701.000000  869701.000000     869701.0   \n",
       "mean   2.240975e+07         86.665430      99.667242       1400.0   \n",
       "std    2.541703e+07         20.926162       5.758916          0.0   \n",
       "min    3.860000e+02          0.000000       0.000000       1400.0   \n",
       "25%    8.058040e+05         77.000000     100.000000       1400.0   \n",
       "50%    4.172669e+06        100.000000     100.000000       1400.0   \n",
       "75%    3.948602e+07        100.000000     100.000000       1400.0   \n",
       "max    9.300735e+07        100.000000     100.000000       1400.0   \n",
       "\n",
       "         bytes_total      duration     bytes_sec      successes       failures  \n",
       "count  869701.000000  8.697010e+05  8.697010e+05  869701.000000  869701.000000  \n",
       "mean   121331.601780  3.357469e+04  3.121015e+07       0.996672       0.003328  \n",
       "std     29296.626978  1.075456e+05  3.590050e+07       0.057589       0.057589  \n",
       "min         0.000000  0.000000e+00  0.000000e+00       0.000000       0.000000  \n",
       "25%    107800.000000  5.606000e+03  4.770858e+06       1.000000       0.000000  \n",
       "50%    140000.000000  9.491000e+03  1.371387e+07       1.000000       0.000000  \n",
       "75%    140000.000000  2.381700e+04  4.576806e+07       1.000000       0.000000  \n",
       "max    140000.000000  3.004544e+06  3.248000e+08       1.000000       1.000000  "
      ]
     },
     "execution_count": 8,
     "metadata": {},
     "output_type": "execute_result"
    }
   ],
   "source": [
    "df_lct_dl.describe()"
   ]
  },
  {
   "cell_type": "code",
   "execution_count": 9,
   "id": "2f138c7f",
   "metadata": {},
   "outputs": [
    {
     "data": {
      "text/html": [
       "<div>\n",
       "<style scoped>\n",
       "    .dataframe tbody tr th:only-of-type {\n",
       "        vertical-align: middle;\n",
       "    }\n",
       "\n",
       "    .dataframe tbody tr th {\n",
       "        vertical-align: top;\n",
       "    }\n",
       "\n",
       "    .dataframe thead th {\n",
       "        text-align: right;\n",
       "    }\n",
       "</style>\n",
       "<table border=\"1\" class=\"dataframe\">\n",
       "  <thead>\n",
       "    <tr style=\"text-align: right;\">\n",
       "      <th></th>\n",
       "      <th>bytes_sec</th>\n",
       "      <th>duration</th>\n",
       "      <th>packets_received</th>\n",
       "      <th>packets_sent</th>\n",
       "    </tr>\n",
       "  </thead>\n",
       "  <tbody>\n",
       "    <tr>\n",
       "      <th>count</th>\n",
       "      <td>8.697010e+05</td>\n",
       "      <td>8.697010e+05</td>\n",
       "      <td>869701.000000</td>\n",
       "      <td>869701.000000</td>\n",
       "    </tr>\n",
       "    <tr>\n",
       "      <th>mean</th>\n",
       "      <td>3.121015e+07</td>\n",
       "      <td>3.357469e+04</td>\n",
       "      <td>86.665430</td>\n",
       "      <td>99.667242</td>\n",
       "    </tr>\n",
       "    <tr>\n",
       "      <th>std</th>\n",
       "      <td>3.590050e+07</td>\n",
       "      <td>1.075456e+05</td>\n",
       "      <td>20.926162</td>\n",
       "      <td>5.758916</td>\n",
       "    </tr>\n",
       "    <tr>\n",
       "      <th>min</th>\n",
       "      <td>0.000000e+00</td>\n",
       "      <td>0.000000e+00</td>\n",
       "      <td>0.000000</td>\n",
       "      <td>0.000000</td>\n",
       "    </tr>\n",
       "    <tr>\n",
       "      <th>25%</th>\n",
       "      <td>4.770858e+06</td>\n",
       "      <td>5.606000e+03</td>\n",
       "      <td>77.000000</td>\n",
       "      <td>100.000000</td>\n",
       "    </tr>\n",
       "    <tr>\n",
       "      <th>50%</th>\n",
       "      <td>1.371387e+07</td>\n",
       "      <td>9.491000e+03</td>\n",
       "      <td>100.000000</td>\n",
       "      <td>100.000000</td>\n",
       "    </tr>\n",
       "    <tr>\n",
       "      <th>75%</th>\n",
       "      <td>4.576806e+07</td>\n",
       "      <td>2.381700e+04</td>\n",
       "      <td>100.000000</td>\n",
       "      <td>100.000000</td>\n",
       "    </tr>\n",
       "    <tr>\n",
       "      <th>max</th>\n",
       "      <td>3.248000e+08</td>\n",
       "      <td>3.004544e+06</td>\n",
       "      <td>100.000000</td>\n",
       "      <td>100.000000</td>\n",
       "    </tr>\n",
       "  </tbody>\n",
       "</table>\n",
       "</div>"
      ],
      "text/plain": [
       "          bytes_sec      duration  packets_received   packets_sent\n",
       "count  8.697010e+05  8.697010e+05     869701.000000  869701.000000\n",
       "mean   3.121015e+07  3.357469e+04         86.665430      99.667242\n",
       "std    3.590050e+07  1.075456e+05         20.926162       5.758916\n",
       "min    0.000000e+00  0.000000e+00          0.000000       0.000000\n",
       "25%    4.770858e+06  5.606000e+03         77.000000     100.000000\n",
       "50%    1.371387e+07  9.491000e+03        100.000000     100.000000\n",
       "75%    4.576806e+07  2.381700e+04        100.000000     100.000000\n",
       "max    3.248000e+08  3.004544e+06        100.000000     100.000000"
      ]
     },
     "execution_count": 9,
     "metadata": {},
     "output_type": "execute_result"
    }
   ],
   "source": [
    "df_lct_dl[['bytes_sec', 'duration', 'packets_received', 'packets_sent']].describe()"
   ]
  },
  {
   "cell_type": "code",
   "execution_count": 10,
   "id": "0d1e51a9",
   "metadata": {},
   "outputs": [
    {
     "data": {
      "text/plain": [
       "False    869455\n",
       "True        246\n",
       "Name: count, dtype: int64"
      ]
     },
     "execution_count": 10,
     "metadata": {},
     "output_type": "execute_result"
    }
   ],
   "source": [
    "df_lct_dl.duplicated().value_counts()"
   ]
  },
  {
   "cell_type": "code",
   "execution_count": 11,
   "id": "5c8dcdd4",
   "metadata": {},
   "outputs": [
    {
     "data": {
      "text/plain": [
       "unit_id             0\n",
       "ddate               0\n",
       "dtime               0\n",
       "target              0\n",
       "address             0\n",
       "packets_received    0\n",
       "packets_sent        0\n",
       "packet_size         0\n",
       "bytes_total         0\n",
       "duration            0\n",
       "bytes_sec           0\n",
       "error_code          0\n",
       "successes           0\n",
       "failures            0\n",
       "dtype: int64"
      ]
     },
     "execution_count": 11,
     "metadata": {},
     "output_type": "execute_result"
    }
   ],
   "source": [
    "df_lct_dl.isnull().sum()"
   ]
  },
  {
   "cell_type": "markdown",
   "id": "8a4dc5e5",
   "metadata": {},
   "source": [
    "## Error Code Distribution\n",
    "\n",
    "- **NO_ERROR**: 866,807 (99.7%)\n",
    "\n",
    "- **TCP_CONNECT**: 2,336 (0.27%)\n",
    "\n",
    "- **ZERO_SENT_SERVER**: 382 (0.04%)\n",
    "\n",
    "- **RCV_FAILED**: 175 (0.02%)\n",
    "\n",
    "- **TCP_RECV**: 1 (extremely rare)\n",
    "\n",
    "## Data Characteristics\n",
    "\n",
    "- **Missing Values**: None\n",
    "\n",
    "- **Duplicate Rows**: 246 (can be removed)\n",
    "\n",
    "- **Class Imbalance**: Extremely imbalanced classes (NO_ERROR dominates)\n",
    "\n",
    "## Numerical Features\n",
    "\n",
    "- **Variation**: Numerical features exhibit good variation.\n",
    "\n",
    "- **Predictive Potential**: `bytes_sec` shows high variability and could be highly predictive."
   ]
  },
  {
   "cell_type": "markdown",
   "id": "7a9fcc8a",
   "metadata": {},
   "source": [
    "# 2. Data Preprocessing"
   ]
  },
  {
   "cell_type": "markdown",
   "id": "49fdc18e",
   "metadata": {},
   "source": [
    "## remove duplicates"
   ]
  },
  {
   "cell_type": "code",
   "execution_count": 12,
   "id": "35ee8399",
   "metadata": {},
   "outputs": [],
   "source": [
    "# remove the duplication \n",
    "df_cleaned = df_lct_dl.drop_duplicates().reset_index(drop=True)"
   ]
  },
  {
   "cell_type": "code",
   "execution_count": 13,
   "id": "d34184e5",
   "metadata": {},
   "outputs": [
    {
     "data": {
      "text/html": [
       "<div>\n",
       "<style scoped>\n",
       "    .dataframe tbody tr th:only-of-type {\n",
       "        vertical-align: middle;\n",
       "    }\n",
       "\n",
       "    .dataframe tbody tr th {\n",
       "        vertical-align: top;\n",
       "    }\n",
       "\n",
       "    .dataframe thead th {\n",
       "        text-align: right;\n",
       "    }\n",
       "</style>\n",
       "<table border=\"1\" class=\"dataframe\">\n",
       "  <thead>\n",
       "    <tr style=\"text-align: right;\">\n",
       "      <th></th>\n",
       "      <th>unit_id</th>\n",
       "      <th>ddate</th>\n",
       "      <th>dtime</th>\n",
       "      <th>target</th>\n",
       "      <th>address</th>\n",
       "      <th>packets_received</th>\n",
       "      <th>packets_sent</th>\n",
       "      <th>packet_size</th>\n",
       "      <th>bytes_total</th>\n",
       "      <th>duration</th>\n",
       "      <th>bytes_sec</th>\n",
       "      <th>error_code</th>\n",
       "      <th>successes</th>\n",
       "      <th>failures</th>\n",
       "    </tr>\n",
       "  </thead>\n",
       "  <tbody>\n",
       "    <tr>\n",
       "      <th>0</th>\n",
       "      <td>386</td>\n",
       "      <td>2023-02-01</td>\n",
       "      <td>2023-02-02 00:50:49</td>\n",
       "      <td>sp1-vm-newyork-us.samknows.com</td>\n",
       "      <td>151.139.31.1</td>\n",
       "      <td>52</td>\n",
       "      <td>100</td>\n",
       "      <td>1400</td>\n",
       "      <td>72800</td>\n",
       "      <td>993</td>\n",
       "      <td>87311824</td>\n",
       "      <td>NO_ERROR</td>\n",
       "      <td>1</td>\n",
       "      <td>0</td>\n",
       "    </tr>\n",
       "    <tr>\n",
       "      <th>1</th>\n",
       "      <td>386</td>\n",
       "      <td>2023-02-02</td>\n",
       "      <td>2023-02-02 11:47:29</td>\n",
       "      <td>sp1-vm-newyork-us.samknows.com</td>\n",
       "      <td>151.139.31.1</td>\n",
       "      <td>52</td>\n",
       "      <td>100</td>\n",
       "      <td>1400</td>\n",
       "      <td>72800</td>\n",
       "      <td>765</td>\n",
       "      <td>87866112</td>\n",
       "      <td>NO_ERROR</td>\n",
       "      <td>1</td>\n",
       "      <td>0</td>\n",
       "    </tr>\n",
       "    <tr>\n",
       "      <th>2</th>\n",
       "      <td>386</td>\n",
       "      <td>2023-02-02</td>\n",
       "      <td>2023-02-02 17:47:06</td>\n",
       "      <td>sp1-vm-newyork-us.samknows.com</td>\n",
       "      <td>151.139.31.1</td>\n",
       "      <td>79</td>\n",
       "      <td>100</td>\n",
       "      <td>1400</td>\n",
       "      <td>110600</td>\n",
       "      <td>6292</td>\n",
       "      <td>69421488</td>\n",
       "      <td>NO_ERROR</td>\n",
       "      <td>1</td>\n",
       "      <td>0</td>\n",
       "    </tr>\n",
       "    <tr>\n",
       "      <th>3</th>\n",
       "      <td>386</td>\n",
       "      <td>2023-02-03</td>\n",
       "      <td>2023-02-03 05:50:56</td>\n",
       "      <td>sp1-vm-newyork-us.samknows.com</td>\n",
       "      <td>151.139.31.1</td>\n",
       "      <td>81</td>\n",
       "      <td>100</td>\n",
       "      <td>1400</td>\n",
       "      <td>113400</td>\n",
       "      <td>6653</td>\n",
       "      <td>44712440</td>\n",
       "      <td>NO_ERROR</td>\n",
       "      <td>1</td>\n",
       "      <td>0</td>\n",
       "    </tr>\n",
       "    <tr>\n",
       "      <th>4</th>\n",
       "      <td>386</td>\n",
       "      <td>2023-02-03</td>\n",
       "      <td>2023-02-04 00:51:20</td>\n",
       "      <td>sp1-vm-newyork-us.samknows.com</td>\n",
       "      <td>151.139.31.1</td>\n",
       "      <td>79</td>\n",
       "      <td>100</td>\n",
       "      <td>1400</td>\n",
       "      <td>110600</td>\n",
       "      <td>6278</td>\n",
       "      <td>80396040</td>\n",
       "      <td>NO_ERROR</td>\n",
       "      <td>1</td>\n",
       "      <td>0</td>\n",
       "    </tr>\n",
       "    <tr>\n",
       "      <th>...</th>\n",
       "      <td>...</td>\n",
       "      <td>...</td>\n",
       "      <td>...</td>\n",
       "      <td>...</td>\n",
       "      <td>...</td>\n",
       "      <td>...</td>\n",
       "      <td>...</td>\n",
       "      <td>...</td>\n",
       "      <td>...</td>\n",
       "      <td>...</td>\n",
       "      <td>...</td>\n",
       "      <td>...</td>\n",
       "      <td>...</td>\n",
       "      <td>...</td>\n",
       "    </tr>\n",
       "    <tr>\n",
       "      <th>869450</th>\n",
       "      <td>93007349</td>\n",
       "      <td>2023-02-27</td>\n",
       "      <td>2023-02-28 05:51:32</td>\n",
       "      <td>sp1-vm-losangeles-us.samknows.com</td>\n",
       "      <td>151.139.71.29</td>\n",
       "      <td>100</td>\n",
       "      <td>100</td>\n",
       "      <td>1400</td>\n",
       "      <td>140000</td>\n",
       "      <td>6079</td>\n",
       "      <td>50450040</td>\n",
       "      <td>NO_ERROR</td>\n",
       "      <td>1</td>\n",
       "      <td>0</td>\n",
       "    </tr>\n",
       "    <tr>\n",
       "      <th>869451</th>\n",
       "      <td>93007349</td>\n",
       "      <td>2023-02-27</td>\n",
       "      <td>2023-02-28 06:49:38</td>\n",
       "      <td>sp1-vm-losangeles-us.samknows.com</td>\n",
       "      <td>151.139.71.29</td>\n",
       "      <td>100</td>\n",
       "      <td>100</td>\n",
       "      <td>1400</td>\n",
       "      <td>140000</td>\n",
       "      <td>3923</td>\n",
       "      <td>68643216</td>\n",
       "      <td>NO_ERROR</td>\n",
       "      <td>1</td>\n",
       "      <td>0</td>\n",
       "    </tr>\n",
       "    <tr>\n",
       "      <th>869452</th>\n",
       "      <td>93007349</td>\n",
       "      <td>2023-02-28</td>\n",
       "      <td>2023-02-28 08:44:37</td>\n",
       "      <td>sp1-vm-losangeles-us.samknows.com</td>\n",
       "      <td>151.139.71.29</td>\n",
       "      <td>100</td>\n",
       "      <td>100</td>\n",
       "      <td>1400</td>\n",
       "      <td>140000</td>\n",
       "      <td>2861</td>\n",
       "      <td>72056552</td>\n",
       "      <td>NO_ERROR</td>\n",
       "      <td>1</td>\n",
       "      <td>0</td>\n",
       "    </tr>\n",
       "    <tr>\n",
       "      <th>869453</th>\n",
       "      <td>93007349</td>\n",
       "      <td>2023-02-28</td>\n",
       "      <td>2023-02-28 14:45:22</td>\n",
       "      <td>sp1-vm-losangeles-us.samknows.com</td>\n",
       "      <td>151.139.71.29</td>\n",
       "      <td>100</td>\n",
       "      <td>100</td>\n",
       "      <td>1400</td>\n",
       "      <td>140000</td>\n",
       "      <td>2133</td>\n",
       "      <td>70877720</td>\n",
       "      <td>NO_ERROR</td>\n",
       "      <td>1</td>\n",
       "      <td>0</td>\n",
       "    </tr>\n",
       "    <tr>\n",
       "      <th>869454</th>\n",
       "      <td>93007349</td>\n",
       "      <td>2023-02-28</td>\n",
       "      <td>2023-02-28 20:45:38</td>\n",
       "      <td>sp1-vm-losangeles-us.samknows.com</td>\n",
       "      <td>151.139.71.29</td>\n",
       "      <td>100</td>\n",
       "      <td>100</td>\n",
       "      <td>1400</td>\n",
       "      <td>140000</td>\n",
       "      <td>3466</td>\n",
       "      <td>59232496</td>\n",
       "      <td>NO_ERROR</td>\n",
       "      <td>1</td>\n",
       "      <td>0</td>\n",
       "    </tr>\n",
       "  </tbody>\n",
       "</table>\n",
       "<p>869455 rows × 14 columns</p>\n",
       "</div>"
      ],
      "text/plain": [
       "         unit_id       ddate                dtime  \\\n",
       "0            386  2023-02-01  2023-02-02 00:50:49   \n",
       "1            386  2023-02-02  2023-02-02 11:47:29   \n",
       "2            386  2023-02-02  2023-02-02 17:47:06   \n",
       "3            386  2023-02-03  2023-02-03 05:50:56   \n",
       "4            386  2023-02-03  2023-02-04 00:51:20   \n",
       "...          ...         ...                  ...   \n",
       "869450  93007349  2023-02-27  2023-02-28 05:51:32   \n",
       "869451  93007349  2023-02-27  2023-02-28 06:49:38   \n",
       "869452  93007349  2023-02-28  2023-02-28 08:44:37   \n",
       "869453  93007349  2023-02-28  2023-02-28 14:45:22   \n",
       "869454  93007349  2023-02-28  2023-02-28 20:45:38   \n",
       "\n",
       "                                   target        address  packets_received  \\\n",
       "0          sp1-vm-newyork-us.samknows.com   151.139.31.1                52   \n",
       "1          sp1-vm-newyork-us.samknows.com   151.139.31.1                52   \n",
       "2          sp1-vm-newyork-us.samknows.com   151.139.31.1                79   \n",
       "3          sp1-vm-newyork-us.samknows.com   151.139.31.1                81   \n",
       "4          sp1-vm-newyork-us.samknows.com   151.139.31.1                79   \n",
       "...                                   ...            ...               ...   \n",
       "869450  sp1-vm-losangeles-us.samknows.com  151.139.71.29               100   \n",
       "869451  sp1-vm-losangeles-us.samknows.com  151.139.71.29               100   \n",
       "869452  sp1-vm-losangeles-us.samknows.com  151.139.71.29               100   \n",
       "869453  sp1-vm-losangeles-us.samknows.com  151.139.71.29               100   \n",
       "869454  sp1-vm-losangeles-us.samknows.com  151.139.71.29               100   \n",
       "\n",
       "        packets_sent  packet_size  bytes_total  duration  bytes_sec  \\\n",
       "0                100         1400        72800       993   87311824   \n",
       "1                100         1400        72800       765   87866112   \n",
       "2                100         1400       110600      6292   69421488   \n",
       "3                100         1400       113400      6653   44712440   \n",
       "4                100         1400       110600      6278   80396040   \n",
       "...              ...          ...          ...       ...        ...   \n",
       "869450           100         1400       140000      6079   50450040   \n",
       "869451           100         1400       140000      3923   68643216   \n",
       "869452           100         1400       140000      2861   72056552   \n",
       "869453           100         1400       140000      2133   70877720   \n",
       "869454           100         1400       140000      3466   59232496   \n",
       "\n",
       "       error_code  successes  failures  \n",
       "0        NO_ERROR          1         0  \n",
       "1        NO_ERROR          1         0  \n",
       "2        NO_ERROR          1         0  \n",
       "3        NO_ERROR          1         0  \n",
       "4        NO_ERROR          1         0  \n",
       "...           ...        ...       ...  \n",
       "869450   NO_ERROR          1         0  \n",
       "869451   NO_ERROR          1         0  \n",
       "869452   NO_ERROR          1         0  \n",
       "869453   NO_ERROR          1         0  \n",
       "869454   NO_ERROR          1         0  \n",
       "\n",
       "[869455 rows x 14 columns]"
      ]
     },
     "execution_count": 13,
     "metadata": {},
     "output_type": "execute_result"
    }
   ],
   "source": [
    "df_cleaned"
   ]
  },
  {
   "cell_type": "markdown",
   "id": "ab990111",
   "metadata": {},
   "source": [
    "## extract  features from date and time"
   ]
  },
  {
   "cell_type": "code",
   "execution_count": 14,
   "id": "aa6e6b62",
   "metadata": {},
   "outputs": [],
   "source": [
    "df_cleaned['ddate'] = pd.to_datetime(df_cleaned['ddate'])\n",
    "df_cleaned['dtime'] = pd.to_datetime(df_cleaned['dtime'])\n",
    "df_cleaned['hour'] = df_cleaned['dtime'].dt.hour\n",
    "df_cleaned['day_of_week'] = df_cleaned['ddate'].dt.dayofweek\n",
    "df_cleaned['month'] = df_cleaned['ddate'].dt.month"
   ]
  },
  {
   "cell_type": "code",
   "execution_count": 15,
   "id": "79f62759",
   "metadata": {},
   "outputs": [
    {
     "name": "stdout",
     "output_type": "stream",
     "text": [
      "<class 'pandas.core.frame.DataFrame'>\n",
      "RangeIndex: 869455 entries, 0 to 869454\n",
      "Data columns (total 17 columns):\n",
      " #   Column            Non-Null Count   Dtype         \n",
      "---  ------            --------------   -----         \n",
      " 0   unit_id           869455 non-null  int64         \n",
      " 1   ddate             869455 non-null  datetime64[ns]\n",
      " 2   dtime             869455 non-null  datetime64[ns]\n",
      " 3   target            869455 non-null  object        \n",
      " 4   address           869455 non-null  object        \n",
      " 5   packets_received  869455 non-null  int64         \n",
      " 6   packets_sent      869455 non-null  int64         \n",
      " 7   packet_size       869455 non-null  int64         \n",
      " 8   bytes_total       869455 non-null  int64         \n",
      " 9   duration          869455 non-null  int64         \n",
      " 10  bytes_sec         869455 non-null  int64         \n",
      " 11  error_code        869455 non-null  object        \n",
      " 12  successes         869455 non-null  int64         \n",
      " 13  failures          869455 non-null  int64         \n",
      " 14  hour              869455 non-null  int32         \n",
      " 15  day_of_week       869455 non-null  int32         \n",
      " 16  month             869455 non-null  int32         \n",
      "dtypes: datetime64[ns](2), int32(3), int64(9), object(3)\n",
      "memory usage: 102.8+ MB\n"
     ]
    }
   ],
   "source": [
    "df_cleaned.info()"
   ]
  },
  {
   "cell_type": "markdown",
   "id": "a5c7c33d",
   "metadata": {},
   "source": [
    "## new feauture engineering part "
   ]
  },
  {
   "cell_type": "code",
   "execution_count": 16,
   "id": "cb08a64b",
   "metadata": {},
   "outputs": [],
   "source": [
    "df_cleaned['packets_ratio'] = df_cleaned['packets_received'] / (df_cleaned['packets_sent'] + 1)  # Adding 1 to avoid division by zero\n",
    "df_cleaned['transfer_efficiency'] = df_cleaned['bytes_sec'] / (df_cleaned['bytes_total'] + 1)  # Higher is better"
   ]
  },
  {
   "cell_type": "markdown",
   "id": "ada174f5",
   "metadata": {},
   "source": [
    "# 3. Feature Selection"
   ]
  },
  {
   "cell_type": "code",
   "execution_count": 17,
   "id": "d035c0f2",
   "metadata": {},
   "outputs": [],
   "source": [
    "features = [\n",
    "    'unit_id',                # Unit identifier\n",
    "    'target',                 # Target server \n",
    "    'address',                # IP address\n",
    "    'packets_received',       # Network performance metric\n",
    "    'packets_sent',           # Network performance metric\n",
    "    'packet_size',            # Size of packets\n",
    "    'bytes_total',            # Total bytes transferred\n",
    "    'duration',               # Duration of test\n",
    "    'bytes_sec',              # Throughput\n",
    "    'successes',              # Success count\n",
    "    'failures',               # Failure count\n",
    "    'hour',                   # Time feature\n",
    "    'day_of_week',            # Day feature\n",
    "    'month',                  # Month feature\n",
    "    'packets_ratio',          # Engineered feature\n",
    "    'transfer_efficiency'     # Engineered feature\n",
    "]"
   ]
  },
  {
   "cell_type": "markdown",
   "id": "72f4c5c5",
   "metadata": {},
   "source": [
    "## separate categorical and numerical features"
   ]
  },
  {
   "cell_type": "code",
   "execution_count": 18,
   "id": "5d5d373b",
   "metadata": {},
   "outputs": [],
   "source": [
    "# Separate categorical and numerical features\n",
    "categorical_features = ['unit_id', 'target', 'address']   # unit_id as categorical to reducae the dimentionality we will process with it \n",
    "numerical_features = [f for f in features if f not in categorical_features]"
   ]
  },
  {
   "cell_type": "code",
   "execution_count": 19,
   "id": "31fd2a27",
   "metadata": {},
   "outputs": [
    {
     "name": "stdout",
     "output_type": "stream",
     "text": [
      "Original class distribution:\n",
      "error_code\n",
      "NO_ERROR            866564\n",
      "TCP_CONNECT           2333\n",
      "ZERO_SENT_SERVER       382\n",
      "RCV_FAILED             175\n",
      "TCP_RECV                 1\n",
      "Name: count, dtype: int64\n"
     ]
    }
   ],
   "source": [
    "print(\"Original class distribution:\")\n",
    "print(df_cleaned['error_code'].value_counts())"
   ]
  },
  {
   "cell_type": "markdown",
   "id": "967e7a0a",
   "metadata": {},
   "source": [
    "    -- Combine the rare class with another similar class to handle the rare class problem "
   ]
  },
  {
   "cell_type": "code",
   "execution_count": 20,
   "id": "10b668ca",
   "metadata": {},
   "outputs": [],
   "source": [
    "df_filtered = df_cleaned.copy()\n",
    "# Map TCP_RECV to RCV_FAILED since they seem related\n",
    "df_filtered.loc[df_filtered['error_code'] == 'TCP_RECV', 'error_code'] = 'RCV_FAILED'"
   ]
  },
  {
   "cell_type": "code",
   "execution_count": 21,
   "id": "77797237",
   "metadata": {},
   "outputs": [
    {
     "name": "stdout",
     "output_type": "stream",
     "text": [
      "\n",
      "Modified class distribution:\n",
      "error_code\n",
      "NO_ERROR            866564\n",
      "TCP_CONNECT           2333\n",
      "ZERO_SENT_SERVER       382\n",
      "RCV_FAILED             176\n",
      "Name: count, dtype: int64\n"
     ]
    }
   ],
   "source": [
    "print(\"\\nModified class distribution:\")\n",
    "print(df_filtered['error_code'].value_counts())"
   ]
  },
  {
   "cell_type": "code",
   "execution_count": 22,
   "id": "6928db86",
   "metadata": {},
   "outputs": [],
   "source": [
    "X = df_filtered[features]\n",
    "y = df_filtered['error_code']"
   ]
  },
  {
   "cell_type": "code",
   "execution_count": null,
   "id": "03e7dafb",
   "metadata": {},
   "outputs": [
    {
     "name": "stdout",
     "output_type": "stream",
     "text": [
      "\n",
      "Label mapping:\n",
      "NO_ERROR -> 0\n",
      "RCV_FAILED -> 1\n",
      "TCP_CONNECT -> 2\n",
      "ZERO_SENT_SERVER -> 3\n"
     ]
    }
   ],
   "source": [
    "# 3. Apply label encoding to convert string labels to numbers\n",
    "label_encoder = LabelEncoder()\n",
    "y_encoded = label_encoder.fit_transform(y)\n",
    "\n",
    "# Store the mapping for later reference\n",
    "label_mapping = dict(zip(label_encoder.classes_, label_encoder.transform(label_encoder.classes_)))\n",
    "print(\"\\nLabel mapping:\")\n",
    "for class_name, encoded_value in label_mapping.items():\n",
    "    print(f\"{class_name} -> {encoded_value}\")"
   ]
  },
  {
   "cell_type": "markdown",
   "id": "42f977f4",
   "metadata": {},
   "source": [
    "# 4. Data Splitting"
   ]
  },
  {
   "cell_type": "code",
   "execution_count": 24,
   "id": "c6c13fcb",
   "metadata": {},
   "outputs": [],
   "source": [
    "X_train, X_test, y_train, y_test = train_test_split(X, y_encoded, test_size=0.2, random_state=42)"
   ]
  },
  {
   "cell_type": "code",
   "execution_count": 25,
   "id": "852e707e",
   "metadata": {},
   "outputs": [
    {
     "name": "stdout",
     "output_type": "stream",
     "text": [
      "\n",
      "Training set class distribution:\n",
      "NO_ERROR (0): 693286\n",
      "TCP_CONNECT (2): 1830\n",
      "ZERO_SENT_SERVER (3): 310\n",
      "RCV_FAILED (1): 138\n"
     ]
    }
   ],
   "source": [
    "# Check class distribution in train and test sets\n",
    "print(\"\\nTraining set class distribution:\")\n",
    "train_dist = pd.Series(y_train).value_counts()\n",
    "for code, count in train_dist.items():\n",
    "    class_name = label_encoder.inverse_transform([code])[0]  # Convert back to original label\n",
    "    print(f\"{class_name} ({code}): {count}\")"
   ]
  },
  {
   "cell_type": "code",
   "execution_count": 26,
   "id": "09941915",
   "metadata": {},
   "outputs": [
    {
     "name": "stdout",
     "output_type": "stream",
     "text": [
      "\n",
      "Test set class distribution:\n",
      "NO_ERROR (0): 173278\n",
      "TCP_CONNECT (2): 503\n",
      "ZERO_SENT_SERVER (3): 72\n",
      "RCV_FAILED (1): 38\n"
     ]
    }
   ],
   "source": [
    "print(\"\\nTest set class distribution:\")\n",
    "test_dist = pd.Series(y_test).value_counts()\n",
    "for code, count in test_dist.items():\n",
    "    class_name = label_encoder.inverse_transform([code])[0]  # Convert back to original label\n",
    "    print(f\"{class_name} ({code}): {count}\")"
   ]
  },
  {
   "cell_type": "markdown",
   "id": "32aa84f2",
   "metadata": {},
   "source": [
    "# 5. Create a preprocessing pipeline"
   ]
  },
  {
   "cell_type": "code",
   "execution_count": 27,
   "id": "8e7b52bd",
   "metadata": {},
   "outputs": [],
   "source": [
    "preprocessor = ColumnTransformer(\n",
    "    transformers=[\n",
    "        ('num', StandardScaler(), numerical_features),\n",
    "        ('cat', OneHotEncoder(handle_unknown='ignore', sparse_output=False), categorical_features)\n",
    "    ])"
   ]
  },
  {
   "cell_type": "markdown",
   "id": "abeb5847",
   "metadata": {},
   "source": [
    "# 6. Build the pipeline with baseline model as RandomForest and class_weight"
   ]
  },
  {
   "cell_type": "code",
   "execution_count": 28,
   "id": "1ce7df93",
   "metadata": {},
   "outputs": [],
   "source": [
    "# 6. Build the pipeline with XGBoost\n",
    "pipeline = Pipeline(steps=[\n",
    "    ('preprocessor', preprocessor),\n",
    "    ('classifier', XGBClassifier(\n",
    "        n_estimators=100,         # Fewer trees for faster training\n",
    "        max_depth=8,              # Control model complexity\n",
    "        learning_rate=0.1,        # Learning rate\n",
    "        objective='multi:softprob', # For multi-class classification\n",
    "        tree_method='hist',       # 'hist' is faster than 'exact'\n",
    "        scale_pos_weight=1,       # Handle class imbalance\n",
    "        random_state=42,\n",
    "        n_jobs=-1))               # Use all CPU cores\n",
    "])"
   ]
  },
  {
   "cell_type": "markdown",
   "id": "5c7ba47f",
   "metadata": {},
   "source": [
    "# 7. Train the model"
   ]
  },
  {
   "cell_type": "code",
   "execution_count": 31,
   "id": "ec65c0a7",
   "metadata": {},
   "outputs": [
    {
     "name": "stdout",
     "output_type": "stream",
     "text": [
      "\n",
      "Training the model...\n"
     ]
    },
    {
     "name": "stderr",
     "output_type": "stream",
     "text": [
      "/opt/homebrew/Caskroom/miniconda/base/envs/deepseek-mac/lib/python3.10/site-packages/xgboost/training.py:183: UserWarning: [22:30:20] WARNING: /Users/runner/work/xgboost/xgboost/src/learner.cc:738: \n",
      "Parameters: { \"scale_pos_weight\" } are not used.\n",
      "\n",
      "  bst.update(dtrain, iteration=i, fobj=obj)\n"
     ]
    },
    {
     "name": "stdout",
     "output_type": "stream",
     "text": [
      "Training completed in 217.76 seconds\n"
     ]
    }
   ],
   "source": [
    "print(\"\\nTraining the model...\")\n",
    "start_time = time.time()\n",
    "pipeline.fit(X_train, y_train)\n",
    "training_time = time.time() - start_time\n",
    "print(f\"Training completed in {training_time:.2f} seconds\")"
   ]
  },
  {
   "cell_type": "markdown",
   "id": "66fb0edb",
   "metadata": {},
   "source": [
    "# 8. Evaluate the model"
   ]
  },
  {
   "cell_type": "code",
   "execution_count": 32,
   "id": "7fc1b3fc",
   "metadata": {},
   "outputs": [
    {
     "name": "stdout",
     "output_type": "stream",
     "text": [
      "Prediction completed in 4.15 seconds\n"
     ]
    }
   ],
   "source": [
    "start_time = time.time()\n",
    "y_pred_encoded = pipeline.predict(X_test)\n",
    "prediction_time = time.time() - start_time\n",
    "print(f\"Prediction completed in {prediction_time:.2f} seconds\")"
   ]
  },
  {
   "cell_type": "code",
   "execution_count": 33,
   "id": "79118f6a",
   "metadata": {},
   "outputs": [],
   "source": [
    "# Convert encoded predictions back to original labels for reporting\n",
    "y_pred = label_encoder.inverse_transform(y_pred_encoded)\n",
    "y_test_original = label_encoder.inverse_transform(y_test)"
   ]
  },
  {
   "cell_type": "code",
   "execution_count": 34,
   "id": "6e7f4ae1",
   "metadata": {},
   "outputs": [
    {
     "name": "stdout",
     "output_type": "stream",
     "text": [
      "\n",
      "Classification Report:\n",
      "                  precision    recall  f1-score   support\n",
      "\n",
      "        NO_ERROR       1.00      1.00      1.00    173278\n",
      "      RCV_FAILED       0.71      0.32      0.44        38\n",
      "     TCP_CONNECT       0.92      0.99      0.95       503\n",
      "ZERO_SENT_SERVER       0.98      0.75      0.85        72\n",
      "\n",
      "        accuracy                           1.00    173891\n",
      "       macro avg       0.90      0.76      0.81    173891\n",
      "    weighted avg       1.00      1.00      1.00    173891\n",
      "\n"
     ]
    }
   ],
   "source": [
    "# Print classification report\n",
    "print(\"\\nClassification Report:\")\n",
    "print(classification_report(y_test_original, y_pred))"
   ]
  },
  {
   "cell_type": "markdown",
   "id": "b3b05ed1",
   "metadata": {},
   "source": [
    "### vizualize the results"
   ]
  },
  {
   "cell_type": "code",
   "execution_count": 35,
   "id": "dd25a298",
   "metadata": {},
   "outputs": [
    {
     "data": {
      "image/png": "[encoded data removed]",
      "text/plain": [
       "<Figure size 1000x800 with 2 Axes>"
      ]
     },
     "metadata": {},
     "output_type": "display_data"
    }
   ],
   "source": [
    "# Plot confusion matrix\n",
    "plt.figure(figsize=(10, 8))\n",
    "cm = confusion_matrix(y_test_original, y_pred)\n",
    "class_names = label_encoder.classes_\n",
    "sns.heatmap(cm, annot=True, fmt='d', cmap='Blues', xticklabels=class_names, yticklabels=class_names)\n",
    "plt.title('Confusion Matrix')\n",
    "plt.ylabel('True Label')\n",
    "plt.xlabel('Predicted Label')\n",
    "plt.tight_layout()\n",
    "# plt.savefig('confusion_matrix.png')\n",
    "# print(\"Confusion matrix saved as 'confusion_matrix.png'\")\n",
    "# plt.close()"
   ]
  },
  {
   "cell_type": "code",
   "execution_count": 36,
   "id": "561e9f81",
   "metadata": {},
   "outputs": [
    {
     "data": {
      "image/png": "[encoded data removed]",
      "text/plain": [
       "<Figure size 1200x1000 with 1 Axes>"
      ]
     },
     "metadata": {},
     "output_type": "display_data"
    }
   ],
   "source": [
    "# 9. Feature Importance Analysis\n",
    "if hasattr(pipeline.named_steps['classifier'], 'feature_importances_'):\n",
    "    # Get preprocessor\n",
    "    preprocessor = pipeline.named_steps['preprocessor']\n",
    "    \n",
    "    # Get column transformer output feature names\n",
    "    feature_names = []\n",
    "    \n",
    "    # Add numerical feature names\n",
    "    feature_names.extend(numerical_features)\n",
    "    \n",
    "    # Add one-hot encoded feature names\n",
    "    ohe = preprocessor.transformers_[1][1]\n",
    "    if hasattr(ohe, 'get_feature_names_out'):\n",
    "        # For newer scikit-learn versions\n",
    "        try:\n",
    "            cat_feature_names = ohe.get_feature_names_out(categorical_features)\n",
    "            feature_names.extend(cat_feature_names)\n",
    "        except:\n",
    "            # Fallback if above fails\n",
    "            cat_count = len(pipeline.named_steps['classifier'].feature_importances_) - len(numerical_features)\n",
    "            cat_feature_names = [f'cat_{i}' for i in range(cat_count)]\n",
    "            feature_names.extend(cat_feature_names)\n",
    "    else:\n",
    "        # For older scikit-learn versions\n",
    "        try:\n",
    "            cat_feature_names = ohe.get_feature_names(categorical_features)\n",
    "            feature_names.extend(cat_feature_names)\n",
    "        except:\n",
    "            # Fallback if above fails\n",
    "            cat_count = len(pipeline.named_steps['classifier'].feature_importances_) - len(numerical_features)\n",
    "            cat_feature_names = [f'cat_{i}' for i in range(cat_count)]\n",
    "            feature_names.extend(cat_feature_names)\n",
    "    \n",
    "    # Get feature importances\n",
    "    importances = pipeline.named_steps['classifier'].feature_importances_\n",
    "    \n",
    "    # Match feature_names length to importances\n",
    "    if len(feature_names) > len(importances):\n",
    "        feature_names = feature_names[:len(importances)]\n",
    "    elif len(feature_names) < len(importances):\n",
    "        # Add placeholder names if needed\n",
    "        feature_names.extend([f'feature_{i}' for i in range(len(feature_names), len(importances))])\n",
    "    \n",
    "    # Show top 20 features\n",
    "    indices = np.argsort(importances)[::-1][:min(20, len(feature_names))]\n",
    "    \n",
    "    plt.figure(figsize=(12, 10))\n",
    "    plt.title('Feature Importances')\n",
    "    plt.barh(range(len(indices)), importances[indices], align='center')\n",
    "    plt.yticks(range(len(indices)), [feature_names[i] for i in indices])\n",
    "    plt.xlabel('Relative Importance')\n",
    "    plt.tight_layout()\n",
    "    # plt.savefig('feature_importance.png')\n",
    "    # print(\"Feature importance plot saved as 'feature_importance.png'\")\n",
    "    # plt.close()"
   ]
  },
  {
   "cell_type": "code",
   "execution_count": 38,
   "id": "aa9a7362",
   "metadata": {},
   "outputs": [
    {
     "name": "stdout",
     "output_type": "stream",
     "text": [
      "Model and label encoder saved as 'broadband_error_classifier_xgb.pkl'\n"
     ]
    }
   ],
   "source": [
    "# 10. Save the model and label encoder\n",
    "import joblib\n",
    "model_data = {\n",
    "    'pipeline': pipeline,\n",
    "    'label_encoder': label_encoder,\n",
    "    'features': features,\n",
    "    'label_mapping': label_mapping\n",
    "}\n",
    "joblib.dump(model_data, '../data/processed/broadband_error_classifier_xgb.pkl')\n",
    "print(\"Model and label encoder saved as 'broadband_error_classifier_xgb.pkl'\")\n"
   ]
  }
 ],
 "metadata": {
  "kernelspec": {
   "display_name": "deepseek-mac",
   "language": "python",
   "name": "python3"
  },
  "language_info": {
   "codemirror_mode": {
    "name": "ipython",
    "version": 3
   },
   "file_extension": ".py",
   "mimetype": "text/x-python",
   "name": "python",
   "nbconvert_exporter": "python",
   "pygments_lexer": "ipython3",
   "version": "3.10.16"
  }
 },
 "nbformat": 4,
 "nbformat_minor": 5
}
