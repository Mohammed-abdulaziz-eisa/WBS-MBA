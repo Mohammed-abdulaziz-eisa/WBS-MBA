{
 "cells": [
  {
   "cell_type": "code",
   "execution_count": 1,
   "metadata": {},
   "outputs": [],
   "source": [
    "import pandas as pd "
   ]
  },
  {
   "cell_type": "markdown",
   "metadata": {},
   "source": [
    "# urr_httpgetmt and curr_httpgetmt6: Download speed metrics\n"
   ]
  },
  {
   "cell_type": "code",
   "execution_count": 2,
   "metadata": {},
   "outputs": [],
   "source": [
    "# first we explore the curr_httpgetmt\n",
    "df_httpgetmt = pd.read_csv('../data/raw/curr_httpgetmt.csv')"
   ]
  },
  {
   "cell_type": "code",
   "execution_count": 3,
   "metadata": {},
   "outputs": [
    {
     "data": {
      "text/html": [
       "<div>\n",
       "<style scoped>\n",
       "    .dataframe tbody tr th:only-of-type {\n",
       "        vertical-align: middle;\n",
       "    }\n",
       "\n",
       "    .dataframe tbody tr th {\n",
       "        vertical-align: top;\n",
       "    }\n",
       "\n",
       "    .dataframe thead th {\n",
       "        text-align: right;\n",
       "    }\n",
       "</style>\n",
       "<table border=\"1\" class=\"dataframe\">\n",
       "  <thead>\n",
       "    <tr style=\"text-align: right;\">\n",
       "      <th></th>\n",
       "      <th>unit_id</th>\n",
       "      <th>dtime</th>\n",
       "      <th>target</th>\n",
       "      <th>address</th>\n",
       "      <th>fetch_time</th>\n",
       "      <th>bytes_total</th>\n",
       "      <th>bytes_sec</th>\n",
       "      <th>bytes_sec_interval</th>\n",
       "      <th>warmup_time</th>\n",
       "      <th>warmup_bytes</th>\n",
       "      <th>sequence</th>\n",
       "      <th>threads</th>\n",
       "      <th>successes</th>\n",
       "      <th>failures</th>\n",
       "    </tr>\n",
       "  </thead>\n",
       "  <tbody>\n",
       "    <tr>\n",
       "      <th>0</th>\n",
       "      <td>386</td>\n",
       "      <td>2023-02-02 11:46:44</td>\n",
       "      <td>sp1-vm-newyork-us.samknows.com</td>\n",
       "      <td>151.139.31.1</td>\n",
       "      <td>10028665</td>\n",
       "      <td>257012514</td>\n",
       "      <td>25627789</td>\n",
       "      <td>25627789</td>\n",
       "      <td>5028092</td>\n",
       "      <td>122041478</td>\n",
       "      <td>0</td>\n",
       "      <td>8</td>\n",
       "      <td>1</td>\n",
       "      <td>0</td>\n",
       "    </tr>\n",
       "    <tr>\n",
       "      <th>1</th>\n",
       "      <td>386</td>\n",
       "      <td>2023-02-02 17:46:29</td>\n",
       "      <td>sp1-vm-newyork-us.samknows.com</td>\n",
       "      <td>151.139.31.1</td>\n",
       "      <td>10018544</td>\n",
       "      <td>255021762</td>\n",
       "      <td>25454972</td>\n",
       "      <td>25454972</td>\n",
       "      <td>1523612</td>\n",
       "      <td>33933926</td>\n",
       "      <td>0</td>\n",
       "      <td>8</td>\n",
       "      <td>1</td>\n",
       "      <td>0</td>\n",
       "    </tr>\n",
       "  </tbody>\n",
       "</table>\n",
       "</div>"
      ],
      "text/plain": [
       "   unit_id                dtime                          target       address  \\\n",
       "0      386  2023-02-02 11:46:44  sp1-vm-newyork-us.samknows.com  151.139.31.1   \n",
       "1      386  2023-02-02 17:46:29  sp1-vm-newyork-us.samknows.com  151.139.31.1   \n",
       "\n",
       "   fetch_time  bytes_total  bytes_sec  bytes_sec_interval  warmup_time  \\\n",
       "0    10028665    257012514   25627789            25627789      5028092   \n",
       "1    10018544    255021762   25454972            25454972      1523612   \n",
       "\n",
       "   warmup_bytes  sequence  threads  successes  failures  \n",
       "0     122041478         0        8          1         0  \n",
       "1      33933926         0        8          1         0  "
      ]
     },
     "execution_count": 3,
     "metadata": {},
     "output_type": "execute_result"
    }
   ],
   "source": [
    "df_httpgetmt.head(2)"
   ]
  },
  {
   "cell_type": "code",
   "execution_count": 4,
   "metadata": {},
   "outputs": [
    {
     "name": "stdout",
     "output_type": "stream",
     "text": [
      "<class 'pandas.core.frame.DataFrame'>\n",
      "RangeIndex: 724511 entries, 0 to 724510\n",
      "Data columns (total 14 columns):\n",
      " #   Column              Non-Null Count   Dtype \n",
      "---  ------              --------------   ----- \n",
      " 0   unit_id             724511 non-null  int64 \n",
      " 1   dtime               724511 non-null  object\n",
      " 2   target              724511 non-null  object\n",
      " 3   address             724511 non-null  object\n",
      " 4   fetch_time          724511 non-null  int64 \n",
      " 5   bytes_total         724511 non-null  int64 \n",
      " 6   bytes_sec           724511 non-null  int64 \n",
      " 7   bytes_sec_interval  724511 non-null  int64 \n",
      " 8   warmup_time         724511 non-null  int64 \n",
      " 9   warmup_bytes        724511 non-null  int64 \n",
      " 10  sequence            724511 non-null  int64 \n",
      " 11  threads             724511 non-null  int64 \n",
      " 12  successes           724511 non-null  int64 \n",
      " 13  failures            724511 non-null  int64 \n",
      "dtypes: int64(11), object(3)\n",
      "memory usage: 77.4+ MB\n"
     ]
    }
   ],
   "source": [
    "df_httpgetmt.info()"
   ]
  },
  {
   "cell_type": "markdown",
   "metadata": {},
   "source": [
    "### Description\n",
    "`urr_httpgetmt` and `curr_httpgetmt6` are functions that measure the download speed of HTTP GET requests. They are used to assess the performance of HTTP servers by calculating the time taken to download a specified number of bytes from a given URL. The functions return the download speed in bytes per second (Bps) and can be used for both IPv4 and IPv6 addresses."
   ]
  },
  {
   "cell_type": "code",
   "execution_count": 5,
   "metadata": {},
   "outputs": [],
   "source": [
    "# second we explore the curr_httpgetmt\n",
    "df_curr_httpgetmt6 = pd.read_csv('../data/raw/curr_httpgetmt6.csv')"
   ]
  },
  {
   "cell_type": "code",
   "execution_count": 6,
   "metadata": {},
   "outputs": [
    {
     "data": {
      "text/html": [
       "<div>\n",
       "<style scoped>\n",
       "    .dataframe tbody tr th:only-of-type {\n",
       "        vertical-align: middle;\n",
       "    }\n",
       "\n",
       "    .dataframe tbody tr th {\n",
       "        vertical-align: top;\n",
       "    }\n",
       "\n",
       "    .dataframe thead th {\n",
       "        text-align: right;\n",
       "    }\n",
       "</style>\n",
       "<table border=\"1\" class=\"dataframe\">\n",
       "  <thead>\n",
       "    <tr style=\"text-align: right;\">\n",
       "      <th></th>\n",
       "      <th>unit_id</th>\n",
       "      <th>dtime</th>\n",
       "      <th>target</th>\n",
       "      <th>address</th>\n",
       "      <th>fetch_time</th>\n",
       "      <th>bytes_total</th>\n",
       "      <th>bytes_sec</th>\n",
       "      <th>bytes_sec_interval</th>\n",
       "      <th>warmup_time</th>\n",
       "      <th>warmup_bytes</th>\n",
       "      <th>sequence</th>\n",
       "      <th>threads</th>\n",
       "      <th>successes</th>\n",
       "      <th>failures</th>\n",
       "    </tr>\n",
       "  </thead>\n",
       "  <tbody>\n",
       "    <tr>\n",
       "      <th>0</th>\n",
       "      <td>216748</td>\n",
       "      <td>2023-02-25 02:55:46</td>\n",
       "      <td>v6-n1-fcc-losangeles-us.samknows.com</td>\n",
       "      <td>2604:6840:1600:1501::1</td>\n",
       "      <td>10489480</td>\n",
       "      <td>616088464</td>\n",
       "      <td>58733938</td>\n",
       "      <td>58733938</td>\n",
       "      <td>7983673</td>\n",
       "      <td>441679036</td>\n",
       "      <td>0</td>\n",
       "      <td>8</td>\n",
       "      <td>1</td>\n",
       "      <td>0</td>\n",
       "    </tr>\n",
       "    <tr>\n",
       "      <th>1</th>\n",
       "      <td>216748</td>\n",
       "      <td>2023-02-25 05:55:25</td>\n",
       "      <td>v6-n1-fcc-losangeles-us.samknows.com</td>\n",
       "      <td>2604:6840:1600:1501::1</td>\n",
       "      <td>10541189</td>\n",
       "      <td>646054608</td>\n",
       "      <td>61288590</td>\n",
       "      <td>61288590</td>\n",
       "      <td>8068534</td>\n",
       "      <td>446827962</td>\n",
       "      <td>0</td>\n",
       "      <td>8</td>\n",
       "      <td>1</td>\n",
       "      <td>0</td>\n",
       "    </tr>\n",
       "  </tbody>\n",
       "</table>\n",
       "</div>"
      ],
      "text/plain": [
       "   unit_id                dtime                                target  \\\n",
       "0   216748  2023-02-25 02:55:46  v6-n1-fcc-losangeles-us.samknows.com   \n",
       "1   216748  2023-02-25 05:55:25  v6-n1-fcc-losangeles-us.samknows.com   \n",
       "\n",
       "                  address  fetch_time  bytes_total  bytes_sec  \\\n",
       "0  2604:6840:1600:1501::1    10489480    616088464   58733938   \n",
       "1  2604:6840:1600:1501::1    10541189    646054608   61288590   \n",
       "\n",
       "   bytes_sec_interval  warmup_time  warmup_bytes  sequence  threads  \\\n",
       "0            58733938      7983673     441679036         0        8   \n",
       "1            61288590      8068534     446827962         0        8   \n",
       "\n",
       "   successes  failures  \n",
       "0          1         0  \n",
       "1          1         0  "
      ]
     },
     "execution_count": 6,
     "metadata": {},
     "output_type": "execute_result"
    }
   ],
   "source": [
    "df_curr_httpgetmt6.head(2)"
   ]
  },
  {
   "cell_type": "code",
   "execution_count": 21,
   "metadata": {},
   "outputs": [
    {
     "name": "stdout",
     "output_type": "stream",
     "text": [
      "<class 'pandas.core.frame.DataFrame'>\n",
      "RangeIndex: 489 entries, 0 to 488\n",
      "Data columns (total 14 columns):\n",
      " #   Column              Non-Null Count  Dtype \n",
      "---  ------              --------------  ----- \n",
      " 0   unit_id             489 non-null    int64 \n",
      " 1   dtime               489 non-null    object\n",
      " 2   target              489 non-null    object\n",
      " 3   address             489 non-null    object\n",
      " 4   fetch_time          489 non-null    int64 \n",
      " 5   bytes_total         489 non-null    int64 \n",
      " 6   bytes_sec           489 non-null    int64 \n",
      " 7   bytes_sec_interval  489 non-null    int64 \n",
      " 8   warmup_time         489 non-null    int64 \n",
      " 9   warmup_bytes        489 non-null    int64 \n",
      " 10  sequence            489 non-null    int64 \n",
      " 11  threads             489 non-null    int64 \n",
      " 12  successes           489 non-null    int64 \n",
      " 13  failures            489 non-null    int64 \n",
      "dtypes: int64(11), object(3)\n",
      "memory usage: 53.6+ KB\n"
     ]
    }
   ],
   "source": [
    "df_curr_httpgetmt6.info()"
   ]
  },
  {
   "cell_type": "markdown",
   "metadata": {},
   "source": [
    "From this data, you can explore the following:\n",
    "\n",
    "1. **Download Speed Analysis**:\n",
    "    - Analyze the `bytes_sec` and `bytes_sec_interval` columns to understand the download speed trends.\n",
    "    - Compare the download speeds across different `target` servers or `address`.\n",
    "\n",
    "2. **Fetch Time Analysis**:\n",
    "    - Investigate the `fetch_time` column to see how long it takes to fetch data from different servers.\n",
    "\n",
    "3. **Warmup Performance**:\n",
    "    - Analyze the `warmup_time` and `warmup_bytes` columns to understand the warmup phase's impact on performance.\n",
    "\n",
    "4. **Server Performance**:\n",
    "    - Compare the performance of different `target` servers or `address` in terms of download speed and fetch time.\n",
    "\n",
    "5. **Success and Failure Rates**:\n",
    "    - Use the `successes` and `failures` columns to calculate the success rate of HTTP GET requests.\n",
    "\n",
    "6. **Thread Utilization**:\n",
    "    - Analyze the `threads` column to see how the number of threads affects performance metrics like `bytes_sec`.\n",
    "\n",
    "7. **Time-based Trends**:\n",
    "    - Use the `dtime` column to explore time-based trends in download speed or fetch time.\n",
    "\n",
    "8. **Correlation Analysis**:\n",
    "    - Perform correlation analysis between columns like `fetch_time`, `bytes_sec`, `warmup_time`, etc., to identify relationships.ـ\n",
    "    "
   ]
  },
  {
   "cell_type": "markdown",
   "metadata": {
    "vscode": {
     "languageId": "yaml"
    }
   },
   "source": [
    "The data in `curr_httpgetmt6.csv` represents performance metrics for HTTP GET requests, specifically for IPv6 addresses. Here's a detailed explanation of the columns and their significance:\n",
    "\n",
    "\n",
    "### Example Insights:\n",
    "- The data can be used to analyze download speeds (`bytes_sec` and `bytes_sec_interval`) across different servers (`target`) and addresses (`address`).\n",
    "- The `fetch_time` and `warmup_time` columns provide insights into latency and connection setup times.\n",
    "- The `successes` and `failures` columns can be used to calculate the reliability of the HTTP GET requests.\n",
    "- By analyzing `threads`, you can assess how parallelism impacts performance metrics like `bytes_sec`.\n",
    "\n",
    "This dataset is valuable for understanding the performance of IPv6-based HTTP GET requests and identifying potential bottlenecks or areas for optimization."
   ]
  },
  {
   "cell_type": "markdown",
   "metadata": {},
   "source": [
    "---"
   ]
  },
  {
   "cell_type": "markdown",
   "metadata": {},
   "source": [
    "---"
   ]
  },
  {
   "cell_type": "markdown",
   "metadata": {},
   "source": [
    "### Comparison of `urr_httpgetmt` and `curr_httpgetmt6`\n",
    "\n",
    "From the descriptions of the two datasets, here are the key observations and comparisons:\n",
    "\n",
    "1. **Purpose**:\n",
    "    - Both datasets measure the performance of HTTP GET requests.\n",
    "    - `urr_httpgetmt` focuses on general HTTP GET performance, while `curr_httpgetmt6` specifically targets IPv6-based HTTP GET requests.\n",
    "\n",
    "2. **Target Servers**:\n",
    "    - Both datasets include a `target` column that identifies the server being tested. However, `curr_httpgetmt6` focuses on IPv6 servers, as indicated by the `address` column containing IPv6 addresses.\n",
    "\n",
    "3. **Performance Metrics**:\n",
    "    - Both datasets provide similar performance metrics, such as:\n",
    "      - `fetch_time`: Time taken to fetch data.\n",
    "      - `bytes_sec` and `bytes_sec_interval`: Download speeds.\n",
    "      - `warmup_time` and `warmup_bytes`: Metrics for the warmup phase.\n",
    "    - These metrics allow for a detailed analysis of download speeds, latency, and connection setup times.\n",
    "\n",
    "4. **Thread Utilization**:\n",
    "    - Both datasets include a `threads` column, which indicates the level of parallelism used during the HTTP GET requests.\n",
    "\n",
    "5. **Success and Failure Rates**:\n",
    "    - Both datasets track the number of successful (`successes`) and failed (`failures`) HTTP GET requests, enabling reliability analysis.\n",
    "\n",
    "6. **Time-based Trends**:\n",
    "    - The `dtime` column in both datasets allows for time-based trend analysis of performance metrics.\n",
    "\n",
    "7. **Differences**:\n",
    "    - The primary difference lies in the focus of the datasets:\n",
    "      - `urr_httpgetmt` includes both IPv4 and IPv6 data.\n",
    "      - `curr_httpgetmt6` is exclusively for IPv6 performance analysis.\n",
    "\n",
    "### Insights:\n",
    "- The datasets are complementary and can be used together to compare IPv4 and IPv6 performance.\n",
    "- `urr_httpgetmt` provides a broader view of HTTP GET performance, while `curr_httpgetmt6` offers a focused analysis of IPv6-specific performance.\n",
    "- By analyzing both datasets, you can identify trends, bottlenecks, and areas for optimization in HTTP GET performance across different protocols and server configurations."
   ]
  },
  {
   "cell_type": "markdown",
   "metadata": {},
   "source": [
    "-----"
   ]
  },
  {
   "cell_type": "markdown",
   "metadata": {},
   "source": [
    "# curr_httppostmt and curr_httppostmt6: Upload speed metrics\n",
    "\n"
   ]
  },
  {
   "cell_type": "code",
   "execution_count": 7,
   "metadata": {},
   "outputs": [],
   "source": [
    "df_httppostmt = pd.read_csv('../data/raw/curr_httppostmt.csv')"
   ]
  },
  {
   "cell_type": "code",
   "execution_count": 8,
   "metadata": {},
   "outputs": [
    {
     "data": {
      "text/html": [
       "<div>\n",
       "<style scoped>\n",
       "    .dataframe tbody tr th:only-of-type {\n",
       "        vertical-align: middle;\n",
       "    }\n",
       "\n",
       "    .dataframe tbody tr th {\n",
       "        vertical-align: top;\n",
       "    }\n",
       "\n",
       "    .dataframe thead th {\n",
       "        text-align: right;\n",
       "    }\n",
       "</style>\n",
       "<table border=\"1\" class=\"dataframe\">\n",
       "  <thead>\n",
       "    <tr style=\"text-align: right;\">\n",
       "      <th></th>\n",
       "      <th>unit_id</th>\n",
       "      <th>dtime</th>\n",
       "      <th>target</th>\n",
       "      <th>address</th>\n",
       "      <th>fetch_time</th>\n",
       "      <th>bytes_total</th>\n",
       "      <th>bytes_sec</th>\n",
       "      <th>bytes_sec_interval</th>\n",
       "      <th>warmup_time</th>\n",
       "      <th>warmup_bytes</th>\n",
       "      <th>sequence</th>\n",
       "      <th>threads</th>\n",
       "      <th>successes</th>\n",
       "      <th>failures</th>\n",
       "    </tr>\n",
       "  </thead>\n",
       "  <tbody>\n",
       "    <tr>\n",
       "      <th>0</th>\n",
       "      <td>386</td>\n",
       "      <td>2023-02-02 01:51:29</td>\n",
       "      <td>sp1-vm-newyork-us.samknows.com</td>\n",
       "      <td>151.139.31.1</td>\n",
       "      <td>10000049</td>\n",
       "      <td>181888570</td>\n",
       "      <td>18188768</td>\n",
       "      <td>18188768</td>\n",
       "      <td>1500026</td>\n",
       "      <td>24164586</td>\n",
       "      <td>0</td>\n",
       "      <td>8</td>\n",
       "      <td>1</td>\n",
       "      <td>0</td>\n",
       "    </tr>\n",
       "    <tr>\n",
       "      <th>1</th>\n",
       "      <td>386</td>\n",
       "      <td>2023-02-02 11:47:11</td>\n",
       "      <td>sp1-vm-newyork-us.samknows.com</td>\n",
       "      <td>151.139.31.1</td>\n",
       "      <td>10000030</td>\n",
       "      <td>184537036</td>\n",
       "      <td>18453648</td>\n",
       "      <td>18453648</td>\n",
       "      <td>5000020</td>\n",
       "      <td>86765796</td>\n",
       "      <td>0</td>\n",
       "      <td>8</td>\n",
       "      <td>1</td>\n",
       "      <td>0</td>\n",
       "    </tr>\n",
       "  </tbody>\n",
       "</table>\n",
       "</div>"
      ],
      "text/plain": [
       "   unit_id                dtime                          target       address  \\\n",
       "0      386  2023-02-02 01:51:29  sp1-vm-newyork-us.samknows.com  151.139.31.1   \n",
       "1      386  2023-02-02 11:47:11  sp1-vm-newyork-us.samknows.com  151.139.31.1   \n",
       "\n",
       "   fetch_time  bytes_total  bytes_sec  bytes_sec_interval  warmup_time  \\\n",
       "0    10000049    181888570   18188768            18188768      1500026   \n",
       "1    10000030    184537036   18453648            18453648      5000020   \n",
       "\n",
       "   warmup_bytes  sequence  threads  successes  failures  \n",
       "0      24164586         0        8          1         0  \n",
       "1      86765796         0        8          1         0  "
      ]
     },
     "execution_count": 8,
     "metadata": {},
     "output_type": "execute_result"
    }
   ],
   "source": [
    "df_httppostmt.head(2)"
   ]
  },
  {
   "cell_type": "code",
   "execution_count": 22,
   "metadata": {},
   "outputs": [
    {
     "name": "stdout",
     "output_type": "stream",
     "text": [
      "<class 'pandas.core.frame.DataFrame'>\n",
      "RangeIndex: 722118 entries, 0 to 722117\n",
      "Data columns (total 14 columns):\n",
      " #   Column              Non-Null Count   Dtype \n",
      "---  ------              --------------   ----- \n",
      " 0   unit_id             722118 non-null  int64 \n",
      " 1   dtime               722118 non-null  object\n",
      " 2   target              722118 non-null  object\n",
      " 3   address             722118 non-null  object\n",
      " 4   fetch_time          722118 non-null  int64 \n",
      " 5   bytes_total         722118 non-null  int64 \n",
      " 6   bytes_sec           722118 non-null  int64 \n",
      " 7   bytes_sec_interval  722118 non-null  int64 \n",
      " 8   warmup_time         722118 non-null  int64 \n",
      " 9   warmup_bytes        722118 non-null  int64 \n",
      " 10  sequence            722118 non-null  int64 \n",
      " 11  threads             722118 non-null  int64 \n",
      " 12  successes           722118 non-null  int64 \n",
      " 13  failures            722118 non-null  int64 \n",
      "dtypes: int64(11), object(3)\n",
      "memory usage: 77.1+ MB\n"
     ]
    }
   ],
   "source": [
    "df_httppostmt.info()"
   ]
  },
  {
   "cell_type": "code",
   "execution_count": 9,
   "metadata": {},
   "outputs": [],
   "source": [
    "df_httppostmt6 = pd.read_csv('../data/raw/curr_httppostmt6.csv')"
   ]
  },
  {
   "cell_type": "code",
   "execution_count": 10,
   "metadata": {},
   "outputs": [
    {
     "data": {
      "text/html": [
       "<div>\n",
       "<style scoped>\n",
       "    .dataframe tbody tr th:only-of-type {\n",
       "        vertical-align: middle;\n",
       "    }\n",
       "\n",
       "    .dataframe tbody tr th {\n",
       "        vertical-align: top;\n",
       "    }\n",
       "\n",
       "    .dataframe thead th {\n",
       "        text-align: right;\n",
       "    }\n",
       "</style>\n",
       "<table border=\"1\" class=\"dataframe\">\n",
       "  <thead>\n",
       "    <tr style=\"text-align: right;\">\n",
       "      <th></th>\n",
       "      <th>unit_id</th>\n",
       "      <th>dtime</th>\n",
       "      <th>target</th>\n",
       "      <th>address</th>\n",
       "      <th>fetch_time</th>\n",
       "      <th>bytes_total</th>\n",
       "      <th>bytes_sec</th>\n",
       "      <th>bytes_sec_interval</th>\n",
       "      <th>warmup_time</th>\n",
       "      <th>warmup_bytes</th>\n",
       "      <th>sequence</th>\n",
       "      <th>threads</th>\n",
       "      <th>successes</th>\n",
       "      <th>failures</th>\n",
       "    </tr>\n",
       "  </thead>\n",
       "  <tbody>\n",
       "    <tr>\n",
       "      <th>0</th>\n",
       "      <td>26419</td>\n",
       "      <td>2023-02-28 21:49:55</td>\n",
       "      <td>v6-n1-fcc-ashburn-us.samknows.com</td>\n",
       "      <td>2604:6840:1300:1501::24</td>\n",
       "      <td>10000123</td>\n",
       "      <td>25003274</td>\n",
       "      <td>2500297</td>\n",
       "      <td>2500297</td>\n",
       "      <td>5000056</td>\n",
       "      <td>12327382</td>\n",
       "      <td>0</td>\n",
       "      <td>8</td>\n",
       "      <td>1</td>\n",
       "      <td>0</td>\n",
       "    </tr>\n",
       "    <tr>\n",
       "      <th>1</th>\n",
       "      <td>26419</td>\n",
       "      <td>2023-02-28 21:50:23</td>\n",
       "      <td>v6-n1-fcc-ashburn-us.samknows.com</td>\n",
       "      <td>2604:6840:1300:1501::24</td>\n",
       "      <td>10000052</td>\n",
       "      <td>25013690</td>\n",
       "      <td>2501356</td>\n",
       "      <td>2501356</td>\n",
       "      <td>5000145</td>\n",
       "      <td>12339388</td>\n",
       "      <td>0</td>\n",
       "      <td>8</td>\n",
       "      <td>1</td>\n",
       "      <td>0</td>\n",
       "    </tr>\n",
       "  </tbody>\n",
       "</table>\n",
       "</div>"
      ],
      "text/plain": [
       "   unit_id                dtime                             target  \\\n",
       "0    26419  2023-02-28 21:49:55  v6-n1-fcc-ashburn-us.samknows.com   \n",
       "1    26419  2023-02-28 21:50:23  v6-n1-fcc-ashburn-us.samknows.com   \n",
       "\n",
       "                   address  fetch_time  bytes_total  bytes_sec  \\\n",
       "0  2604:6840:1300:1501::24    10000123     25003274    2500297   \n",
       "1  2604:6840:1300:1501::24    10000052     25013690    2501356   \n",
       "\n",
       "   bytes_sec_interval  warmup_time  warmup_bytes  sequence  threads  \\\n",
       "0             2500297      5000056      12327382         0        8   \n",
       "1             2501356      5000145      12339388         0        8   \n",
       "\n",
       "   successes  failures  \n",
       "0          1         0  \n",
       "1          1         0  "
      ]
     },
     "execution_count": 10,
     "metadata": {},
     "output_type": "execute_result"
    }
   ],
   "source": [
    "df_httppostmt6.head(2)"
   ]
  },
  {
   "cell_type": "code",
   "execution_count": 23,
   "metadata": {},
   "outputs": [
    {
     "name": "stdout",
     "output_type": "stream",
     "text": [
      "<class 'pandas.core.frame.DataFrame'>\n",
      "RangeIndex: 1159 entries, 0 to 1158\n",
      "Data columns (total 14 columns):\n",
      " #   Column              Non-Null Count  Dtype \n",
      "---  ------              --------------  ----- \n",
      " 0   unit_id             1159 non-null   int64 \n",
      " 1   dtime               1159 non-null   object\n",
      " 2   target              1159 non-null   object\n",
      " 3   address             1159 non-null   object\n",
      " 4   fetch_time          1159 non-null   int64 \n",
      " 5   bytes_total         1159 non-null   int64 \n",
      " 6   bytes_sec           1159 non-null   int64 \n",
      " 7   bytes_sec_interval  1159 non-null   int64 \n",
      " 8   warmup_time         1159 non-null   int64 \n",
      " 9   warmup_bytes        1159 non-null   int64 \n",
      " 10  sequence            1159 non-null   int64 \n",
      " 11  threads             1159 non-null   int64 \n",
      " 12  successes           1159 non-null   int64 \n",
      " 13  failures            1159 non-null   int64 \n",
      "dtypes: int64(11), object(3)\n",
      "memory usage: 126.9+ KB\n"
     ]
    }
   ],
   "source": [
    "df_httppostmt6.info()"
   ]
  },
  {
   "cell_type": "markdown",
   "metadata": {},
   "source": [
    "#### curr_httppostmt.csv and curr_httppostmt6.csv\n",
    "\n",
    "The datasets `curr_httppostmt.csv` and `curr_httppostmt6.csv` represent performance metrics for HTTP POST requests, focusing on upload speeds. Here's a comparison and description of these datasets:\n",
    "\n",
    "1. **Purpose**:\n",
    "        - Both datasets measure the performance of HTTP POST requests.\n",
    "        - `curr_httppostmt.csv` focuses on general HTTP POST performance, while `curr_httppostmt6.csv` specifically targets IPv6-based HTTP POST requests.\n",
    "\n",
    "### Insights:\n",
    "- The datasets are complementary and can be used together to compare IPv4 and IPv6 performance for HTTP POST requests.\n",
    "- `curr_httppostmt.csv` provides a broader view of HTTP POST performance, while `curr_httppostmt6.csv` offers a focused analysis of IPv6-specific performance.\n",
    "- By analyzing both datasets, you can identify trends, bottlenecks, and areas for optimization in HTTP POST performance across different protocols and server configurations.\n"
   ]
  },
  {
   "cell_type": "markdown",
   "metadata": {},
   "source": [
    "---"
   ]
  },
  {
   "cell_type": "markdown",
   "metadata": {},
   "source": [
    "# curr_udplatency and curr_udplatency6: Network latency"
   ]
  },
  {
   "cell_type": "code",
   "execution_count": 11,
   "metadata": {},
   "outputs": [
    {
     "data": {
      "text/html": [
       "<div>\n",
       "<style scoped>\n",
       "    .dataframe tbody tr th:only-of-type {\n",
       "        vertical-align: middle;\n",
       "    }\n",
       "\n",
       "    .dataframe tbody tr th {\n",
       "        vertical-align: top;\n",
       "    }\n",
       "\n",
       "    .dataframe thead th {\n",
       "        text-align: right;\n",
       "    }\n",
       "</style>\n",
       "<table border=\"1\" class=\"dataframe\">\n",
       "  <thead>\n",
       "    <tr style=\"text-align: right;\">\n",
       "      <th></th>\n",
       "      <th>unit_id</th>\n",
       "      <th>dtime</th>\n",
       "      <th>target</th>\n",
       "      <th>rtt_avg</th>\n",
       "      <th>rtt_min</th>\n",
       "      <th>rtt_max</th>\n",
       "      <th>rtt_std</th>\n",
       "      <th>successes</th>\n",
       "      <th>failures</th>\n",
       "    </tr>\n",
       "  </thead>\n",
       "  <tbody>\n",
       "    <tr>\n",
       "      <th>0</th>\n",
       "      <td>386</td>\n",
       "      <td>2023-02-01 00:32:53</td>\n",
       "      <td>newyorkfcc.west.verizon.net</td>\n",
       "      <td>8448</td>\n",
       "      <td>7380</td>\n",
       "      <td>7380</td>\n",
       "      <td>1599</td>\n",
       "      <td>17</td>\n",
       "      <td>0</td>\n",
       "    </tr>\n",
       "    <tr>\n",
       "      <th>1</th>\n",
       "      <td>386</td>\n",
       "      <td>2023-02-01 00:32:53</td>\n",
       "      <td>sp1-vm-newyork-us.samknows.com</td>\n",
       "      <td>7936</td>\n",
       "      <td>7143</td>\n",
       "      <td>7143</td>\n",
       "      <td>1539</td>\n",
       "      <td>17</td>\n",
       "      <td>0</td>\n",
       "    </tr>\n",
       "  </tbody>\n",
       "</table>\n",
       "</div>"
      ],
      "text/plain": [
       "   unit_id                dtime                          target  rtt_avg  \\\n",
       "0      386  2023-02-01 00:32:53     newyorkfcc.west.verizon.net     8448   \n",
       "1      386  2023-02-01 00:32:53  sp1-vm-newyork-us.samknows.com     7936   \n",
       "\n",
       "   rtt_min  rtt_max  rtt_std  successes  failures  \n",
       "0     7380     7380     1599         17         0  \n",
       "1     7143     7143     1539         17         0  "
      ]
     },
     "execution_count": 11,
     "metadata": {},
     "output_type": "execute_result"
    }
   ],
   "source": [
    "df_udplatency = pd.read_csv('../data/raw/curr_udplatency.csv')\n",
    "df_udplatency.head(2)"
   ]
  },
  {
   "cell_type": "code",
   "execution_count": 24,
   "metadata": {},
   "outputs": [
    {
     "name": "stdout",
     "output_type": "stream",
     "text": [
      "<class 'pandas.core.frame.DataFrame'>\n",
      "RangeIndex: 4852353 entries, 0 to 4852352\n",
      "Data columns (total 9 columns):\n",
      " #   Column     Dtype \n",
      "---  ------     ----- \n",
      " 0   unit_id    int64 \n",
      " 1   dtime      object\n",
      " 2   target     object\n",
      " 3   rtt_avg    int64 \n",
      " 4   rtt_min    int64 \n",
      " 5   rtt_max    int64 \n",
      " 6   rtt_std    int64 \n",
      " 7   successes  int64 \n",
      " 8   failures   int64 \n",
      "dtypes: int64(7), object(2)\n",
      "memory usage: 333.2+ MB\n"
     ]
    }
   ],
   "source": [
    "df_udplatency.info()"
   ]
  },
  {
   "cell_type": "code",
   "execution_count": 12,
   "metadata": {},
   "outputs": [
    {
     "data": {
      "text/html": [
       "<div>\n",
       "<style scoped>\n",
       "    .dataframe tbody tr th:only-of-type {\n",
       "        vertical-align: middle;\n",
       "    }\n",
       "\n",
       "    .dataframe tbody tr th {\n",
       "        vertical-align: top;\n",
       "    }\n",
       "\n",
       "    .dataframe thead th {\n",
       "        text-align: right;\n",
       "    }\n",
       "</style>\n",
       "<table border=\"1\" class=\"dataframe\">\n",
       "  <thead>\n",
       "    <tr style=\"text-align: right;\">\n",
       "      <th></th>\n",
       "      <th>unit_id</th>\n",
       "      <th>dtime</th>\n",
       "      <th>target</th>\n",
       "      <th>rtt_avg</th>\n",
       "      <th>rtt_min</th>\n",
       "      <th>rtt_max</th>\n",
       "      <th>rtt_std</th>\n",
       "      <th>successes</th>\n",
       "      <th>failures</th>\n",
       "    </tr>\n",
       "  </thead>\n",
       "  <tbody>\n",
       "    <tr>\n",
       "      <th>0</th>\n",
       "      <td>26419</td>\n",
       "      <td>2023-02-28 19:47:56</td>\n",
       "      <td>v6-n1-fcc-ashburn-us.samknows.com</td>\n",
       "      <td>27674</td>\n",
       "      <td>26937</td>\n",
       "      <td>30633</td>\n",
       "      <td>376</td>\n",
       "      <td>2269</td>\n",
       "      <td>6</td>\n",
       "    </tr>\n",
       "    <tr>\n",
       "      <th>1</th>\n",
       "      <td>26419</td>\n",
       "      <td>2023-02-28 20:47:55</td>\n",
       "      <td>v6-n1-fcc-ashburn-us.samknows.com</td>\n",
       "      <td>27635</td>\n",
       "      <td>27033</td>\n",
       "      <td>28628</td>\n",
       "      <td>252</td>\n",
       "      <td>2340</td>\n",
       "      <td>0</td>\n",
       "    </tr>\n",
       "  </tbody>\n",
       "</table>\n",
       "</div>"
      ],
      "text/plain": [
       "   unit_id                dtime                             target  rtt_avg  \\\n",
       "0    26419  2023-02-28 19:47:56  v6-n1-fcc-ashburn-us.samknows.com    27674   \n",
       "1    26419  2023-02-28 20:47:55  v6-n1-fcc-ashburn-us.samknows.com    27635   \n",
       "\n",
       "   rtt_min  rtt_max  rtt_std  successes  failures  \n",
       "0    26937    30633      376       2269         6  \n",
       "1    27033    28628      252       2340         0  "
      ]
     },
     "execution_count": 12,
     "metadata": {},
     "output_type": "execute_result"
    }
   ],
   "source": [
    "df_udplatency6 = pd.read_csv('../data/raw/curr_udplatency6.csv')\n",
    "df_udplatency6.head(2)"
   ]
  },
  {
   "cell_type": "code",
   "execution_count": 25,
   "metadata": {},
   "outputs": [
    {
     "name": "stdout",
     "output_type": "stream",
     "text": [
      "<class 'pandas.core.frame.DataFrame'>\n",
      "RangeIndex: 24790 entries, 0 to 24789\n",
      "Data columns (total 9 columns):\n",
      " #   Column     Non-Null Count  Dtype \n",
      "---  ------     --------------  ----- \n",
      " 0   unit_id    24790 non-null  int64 \n",
      " 1   dtime      24790 non-null  object\n",
      " 2   target     24790 non-null  object\n",
      " 3   rtt_avg    24790 non-null  int64 \n",
      " 4   rtt_min    24790 non-null  int64 \n",
      " 5   rtt_max    24790 non-null  int64 \n",
      " 6   rtt_std    24790 non-null  int64 \n",
      " 7   successes  24790 non-null  int64 \n",
      " 8   failures   24790 non-null  int64 \n",
      "dtypes: int64(7), object(2)\n",
      "memory usage: 1.7+ MB\n"
     ]
    }
   ],
   "source": [
    "df_udplatency6.info()"
   ]
  },
  {
   "cell_type": "markdown",
   "metadata": {},
   "source": [
    "### Overview of UDP Latency Datasets\n",
    " \n",
    " The UDP latency datasets (`curr_udplatency.csv` and `curr_udplatency6.csv`) contain network latency measurements using UDP protocol for IPv4 and IPv6 respectively.\n",
    " \n",
    " ### Common Fields:\n",
    " 1. **Identification**:\n",
    "     - `unit_id`: Unique identifier for the testing unit\n",
    "     - `dtime`: Timestamp of the measurement\n",
    "     - `target`: Target server for latency testing\n",
    " \n",
    " 2. **Latency Metrics**:\n",
    "     - `rtt_avg`: Average round-trip time in milliseconds\n",
    "     - `rtt_min`: Minimum round-trip time observed\n",
    "     - `rtt_max`: Maximum round-trip time observed\n",
    "     - `rtt_std`: Standard deviation of round-trip times\n",
    " \n",
    " 3. **Success Metrics**:\n",
    "     - `successes`: Number of successful UDP packets\n",
    "     - `failures`: Number of failed UDP packets\n",
    " \n",
    " ### Key Differences:\n",
    " - `curr_udplatency.csv` uses IPv4 addresses (e.g., \"151.139.31.1\")\n",
    " - `curr_udplatency6.csv` uses IPv6 addresses (e.g., \"2604:6840:1300:1501::24\")\n",
    " \n",
    " ### Insights:\n",
    " - These datasets enable analysis of network latency characteristics across both IPv4 and IPv6 protocols\n",
    " - The metrics allow for detailed assessment of network performance, jitter, and reliability\n",
    " - The success/failure counts help identify connection stability issues"
   ]
  },
  {
   "cell_type": "markdown",
   "metadata": {},
   "source": [
    "----"
   ]
  },
  {
   "cell_type": "markdown",
   "metadata": {},
   "source": [
    "# curr_udpjitter: Connection stability"
   ]
  },
  {
   "cell_type": "code",
   "execution_count": 13,
   "metadata": {},
   "outputs": [],
   "source": [
    "pd_udpjitter = pd.read_csv('../data/raw/curr_udpjitter.csv')"
   ]
  },
  {
   "cell_type": "code",
   "execution_count": 14,
   "metadata": {},
   "outputs": [
    {
     "data": {
      "text/html": [
       "<div>\n",
       "<style scoped>\n",
       "    .dataframe tbody tr th:only-of-type {\n",
       "        vertical-align: middle;\n",
       "    }\n",
       "\n",
       "    .dataframe tbody tr th {\n",
       "        vertical-align: top;\n",
       "    }\n",
       "\n",
       "    .dataframe thead th {\n",
       "        text-align: right;\n",
       "    }\n",
       "</style>\n",
       "<table border=\"1\" class=\"dataframe\">\n",
       "  <thead>\n",
       "    <tr style=\"text-align: right;\">\n",
       "      <th></th>\n",
       "      <th>unit_id</th>\n",
       "      <th>dtime</th>\n",
       "      <th>target</th>\n",
       "      <th>packet_size</th>\n",
       "      <th>stream_rate</th>\n",
       "      <th>duration</th>\n",
       "      <th>packets_up_sent</th>\n",
       "      <th>packets_down_sent</th>\n",
       "      <th>packets_up_recv</th>\n",
       "      <th>packets_down_recv</th>\n",
       "      <th>jitter_up</th>\n",
       "      <th>jitter_down</th>\n",
       "      <th>latency</th>\n",
       "      <th>successes</th>\n",
       "      <th>failures</th>\n",
       "    </tr>\n",
       "  </thead>\n",
       "  <tbody>\n",
       "    <tr>\n",
       "      <th>0</th>\n",
       "      <td>386</td>\n",
       "      <td>2023-02-01 09:41:39</td>\n",
       "      <td>sp2-vm-newyork-us.samknows.com</td>\n",
       "      <td>160</td>\n",
       "      <td>64000</td>\n",
       "      <td>15102528</td>\n",
       "      <td>500</td>\n",
       "      <td>500</td>\n",
       "      <td>500</td>\n",
       "      <td>500</td>\n",
       "      <td>1268</td>\n",
       "      <td>720</td>\n",
       "      <td>7108</td>\n",
       "      <td>1</td>\n",
       "      <td>0</td>\n",
       "    </tr>\n",
       "    <tr>\n",
       "      <th>1</th>\n",
       "      <td>386</td>\n",
       "      <td>2023-02-01 17:41:44</td>\n",
       "      <td>sp1-vm-newyork-us.samknows.com</td>\n",
       "      <td>160</td>\n",
       "      <td>64000</td>\n",
       "      <td>15008716</td>\n",
       "      <td>500</td>\n",
       "      <td>500</td>\n",
       "      <td>500</td>\n",
       "      <td>500</td>\n",
       "      <td>1100</td>\n",
       "      <td>727</td>\n",
       "      <td>7902</td>\n",
       "      <td>1</td>\n",
       "      <td>0</td>\n",
       "    </tr>\n",
       "  </tbody>\n",
       "</table>\n",
       "</div>"
      ],
      "text/plain": [
       "   unit_id                dtime                          target  packet_size  \\\n",
       "0      386  2023-02-01 09:41:39  sp2-vm-newyork-us.samknows.com          160   \n",
       "1      386  2023-02-01 17:41:44  sp1-vm-newyork-us.samknows.com          160   \n",
       "\n",
       "   stream_rate  duration  packets_up_sent  packets_down_sent  packets_up_recv  \\\n",
       "0        64000  15102528              500                500              500   \n",
       "1        64000  15008716              500                500              500   \n",
       "\n",
       "   packets_down_recv  jitter_up  jitter_down  latency  successes  failures  \n",
       "0                500       1268          720     7108          1         0  \n",
       "1                500       1100          727     7902          1         0  "
      ]
     },
     "execution_count": 14,
     "metadata": {},
     "output_type": "execute_result"
    }
   ],
   "source": [
    "pd_udpjitter.head(2)"
   ]
  },
  {
   "cell_type": "code",
   "execution_count": 26,
   "metadata": {},
   "outputs": [
    {
     "name": "stdout",
     "output_type": "stream",
     "text": [
      "<class 'pandas.core.frame.DataFrame'>\n",
      "RangeIndex: 2394623 entries, 0 to 2394622\n",
      "Data columns (total 15 columns):\n",
      " #   Column             Dtype \n",
      "---  ------             ----- \n",
      " 0   unit_id            int64 \n",
      " 1   dtime              object\n",
      " 2   target             object\n",
      " 3   packet_size        int64 \n",
      " 4   stream_rate        int64 \n",
      " 5   duration           int64 \n",
      " 6   packets_up_sent    int64 \n",
      " 7   packets_down_sent  int64 \n",
      " 8   packets_up_recv    int64 \n",
      " 9   packets_down_recv  int64 \n",
      " 10  jitter_up          int64 \n",
      " 11  jitter_down        int64 \n",
      " 12  latency            int64 \n",
      " 13  successes          int64 \n",
      " 14  failures           int64 \n",
      "dtypes: int64(13), object(2)\n",
      "memory usage: 274.0+ MB\n"
     ]
    }
   ],
   "source": [
    "pd_udpjitter.info()"
   ]
  },
  {
   "cell_type": "markdown",
   "metadata": {},
   "source": [
    "The UDP jitter datasets (`curr_udpjitter.csv` and `curr_udpjitter6.csv`) measure connection stability using UDP protocol.\n",
    "\n",
    "### Key Fields:\n",
    "1. **Test Parameters**:\n",
    "   - `packet_size`: Size of UDP packets used in testing\n",
    "   - `stream_rate`: Rate of packet transmission\n",
    "   - `duration`: Total test duration\n",
    "\n",
    "2. **Packet Statistics**:\n",
    "   - `packets_up_sent/recv`: Packets sent/received upstream\n",
    "   - `packets_down_sent/recv`: Packets sent/received downstream\n",
    "\n",
    "3. **Performance Metrics**:\n",
    "    - `jitter_up`: Upstream jitter (variation in delay)\n",
    "    - `jitter_down`: Downstream jitter\n",
    "    - `latency`: Network latency measurement\n",
    "\n",
    "### Insights:\n",
    "- Jitter measurements help assess connection stability and quality\n",
    "- Packet loss rates indicate network reliability\n",
    "- Combined metrics provide comprehensive view of connection performance\n"
   ]
  },
  {
   "cell_type": "markdown",
   "metadata": {},
   "source": [
    "----"
   ]
  },
  {
   "cell_type": "markdown",
   "metadata": {},
   "source": [
    "# curr_udpcloss: Packet Loss "
   ]
  },
  {
   "cell_type": "code",
   "execution_count": 15,
   "metadata": {},
   "outputs": [],
   "source": [
    "df_curr_udpcloss = pd.read_csv('../data/raw/curr_udpcloss.csv')"
   ]
  },
  {
   "cell_type": "code",
   "execution_count": 16,
   "metadata": {},
   "outputs": [
    {
     "data": {
      "text/html": [
       "<div>\n",
       "<style scoped>\n",
       "    .dataframe tbody tr th:only-of-type {\n",
       "        vertical-align: middle;\n",
       "    }\n",
       "\n",
       "    .dataframe tbody tr th {\n",
       "        vertical-align: top;\n",
       "    }\n",
       "\n",
       "    .dataframe thead th {\n",
       "        text-align: right;\n",
       "    }\n",
       "</style>\n",
       "<table border=\"1\" class=\"dataframe\">\n",
       "  <thead>\n",
       "    <tr style=\"text-align: right;\">\n",
       "      <th></th>\n",
       "      <th>unit_id</th>\n",
       "      <th>dtime</th>\n",
       "      <th>duration</th>\n",
       "      <th>target</th>\n",
       "      <th>address</th>\n",
       "      <th>packets</th>\n",
       "    </tr>\n",
       "  </thead>\n",
       "  <tbody>\n",
       "    <tr>\n",
       "      <th>0</th>\n",
       "      <td>386</td>\n",
       "      <td>2023-02-11 22:09:45</td>\n",
       "      <td>4500098</td>\n",
       "      <td>sp2-vm-newyork-us.samknows.com</td>\n",
       "      <td>151.139.31.8</td>\n",
       "      <td>2</td>\n",
       "    </tr>\n",
       "    <tr>\n",
       "      <th>1</th>\n",
       "      <td>390</td>\n",
       "      <td>2023-02-05 01:25:59</td>\n",
       "      <td>4499578</td>\n",
       "      <td>sp1-vm-newyork-us.samknows.com</td>\n",
       "      <td>151.139.31.1</td>\n",
       "      <td>2</td>\n",
       "    </tr>\n",
       "  </tbody>\n",
       "</table>\n",
       "</div>"
      ],
      "text/plain": [
       "   unit_id                dtime  duration                          target  \\\n",
       "0      386  2023-02-11 22:09:45   4500098  sp2-vm-newyork-us.samknows.com   \n",
       "1      390  2023-02-05 01:25:59   4499578  sp1-vm-newyork-us.samknows.com   \n",
       "\n",
       "        address  packets  \n",
       "0  151.139.31.8        2  \n",
       "1  151.139.31.1        2  "
      ]
     },
     "execution_count": 16,
     "metadata": {},
     "output_type": "execute_result"
    }
   ],
   "source": [
    "df_curr_udpcloss.head(2)"
   ]
  },
  {
   "cell_type": "code",
   "execution_count": 27,
   "metadata": {},
   "outputs": [
    {
     "name": "stdout",
     "output_type": "stream",
     "text": [
      "<class 'pandas.core.frame.DataFrame'>\n",
      "RangeIndex: 1752766 entries, 0 to 1752765\n",
      "Data columns (total 6 columns):\n",
      " #   Column    Dtype \n",
      "---  ------    ----- \n",
      " 0   unit_id   int64 \n",
      " 1   dtime     object\n",
      " 2   duration  int64 \n",
      " 3   target    object\n",
      " 4   address   object\n",
      " 5   packets   int64 \n",
      "dtypes: int64(3), object(3)\n",
      "memory usage: 80.2+ MB\n"
     ]
    }
   ],
   "source": [
    "df_curr_udpcloss.info()"
   ]
  },
  {
   "cell_type": "markdown",
   "metadata": {
    "vscode": {
     "languageId": "yaml"
    }
   },
   "source": [
    "The dataset provides information about packet loss during network testing. Here's a breakdown of the key fields:\n",
    "\n",
    "### Key Fields:\n",
    "1. **Identification**:\n",
    "    - `unit_id`: Unique identifier for the testing unit.\n",
    "    - `dtime`: Timestamp of the measurement.\n",
    "\n",
    "2. **Test Parameters**:\n",
    "    - `duration`: Duration of the test in milliseconds.\n",
    "    - `target`: Target server for the test (e.g., `sp2-vm-newyork-us.samknows.com`).\n",
    "    - `address`: IP address of the target server (e.g., `151.139.31.8`).\n",
    "\n",
    "3. **Packet Statistics**:\n",
    "    - `packets`: Number of packets involved in the test.\n",
    "\n",
    "This dataset can be used to analyze packet loss trends, identify network reliability issues, and assess the performance of specific servers or network paths."
   ]
  },
  {
   "cell_type": "markdown",
   "metadata": {},
   "source": [
    "----"
   ]
  },
  {
   "cell_type": "markdown",
   "metadata": {},
   "source": [
    "#  curr_dns: DNS resolution performance\n",
    "\n"
   ]
  },
  {
   "cell_type": "code",
   "execution_count": 17,
   "metadata": {},
   "outputs": [
    {
     "name": "stderr",
     "output_type": "stream",
     "text": [
      "/var/folders/3z/w_2xtxjs7517xwd76c815h5c0000gn/T/ipykernel_8142/2717031790.py:1: DtypeWarning: Columns (0,5,6,7) have mixed types. Specify dtype option on import or set low_memory=False.\n",
      "  df_dns = pd.read_csv('../data/raw/curr_dns.csv')\n"
     ]
    }
   ],
   "source": [
    "df_dns = pd.read_csv('../data/raw/curr_dns.csv')"
   ]
  },
  {
   "cell_type": "code",
   "execution_count": 18,
   "metadata": {},
   "outputs": [
    {
     "data": {
      "text/html": [
       "<div>\n",
       "<style scoped>\n",
       "    .dataframe tbody tr th:only-of-type {\n",
       "        vertical-align: middle;\n",
       "    }\n",
       "\n",
       "    .dataframe tbody tr th {\n",
       "        vertical-align: top;\n",
       "    }\n",
       "\n",
       "    .dataframe thead th {\n",
       "        text-align: right;\n",
       "    }\n",
       "</style>\n",
       "<table border=\"1\" class=\"dataframe\">\n",
       "  <thead>\n",
       "    <tr style=\"text-align: right;\">\n",
       "      <th></th>\n",
       "      <th>unit_id</th>\n",
       "      <th>dtime</th>\n",
       "      <th>nameserver</th>\n",
       "      <th>lookup_host</th>\n",
       "      <th>response_ip</th>\n",
       "      <th>rtt</th>\n",
       "      <th>successes</th>\n",
       "      <th>failures</th>\n",
       "    </tr>\n",
       "  </thead>\n",
       "  <tbody>\n",
       "    <tr>\n",
       "      <th>0</th>\n",
       "      <td>386</td>\n",
       "      <td>2023-02-01 00:44:55</td>\n",
       "      <td>71.243.0.12</td>\n",
       "      <td>www.yahoo.com</td>\n",
       "      <td>74.6.143.25</td>\n",
       "      <td>3723</td>\n",
       "      <td>1</td>\n",
       "      <td>0</td>\n",
       "    </tr>\n",
       "    <tr>\n",
       "      <th>1</th>\n",
       "      <td>386</td>\n",
       "      <td>2023-02-01 03:44:08</td>\n",
       "      <td>71.243.0.12</td>\n",
       "      <td>www.amazon.com</td>\n",
       "      <td>18.161.31.236</td>\n",
       "      <td>3715</td>\n",
       "      <td>1</td>\n",
       "      <td>0</td>\n",
       "    </tr>\n",
       "  </tbody>\n",
       "</table>\n",
       "</div>"
      ],
      "text/plain": [
       "  unit_id                dtime   nameserver     lookup_host    response_ip  \\\n",
       "0     386  2023-02-01 00:44:55  71.243.0.12   www.yahoo.com    74.6.143.25   \n",
       "1     386  2023-02-01 03:44:08  71.243.0.12  www.amazon.com  18.161.31.236   \n",
       "\n",
       "    rtt successes failures  \n",
       "0  3723         1        0  \n",
       "1  3715         1        0  "
      ]
     },
     "execution_count": 18,
     "metadata": {},
     "output_type": "execute_result"
    }
   ],
   "source": [
    "df_dns.head(2)"
   ]
  },
  {
   "cell_type": "code",
   "execution_count": null,
   "metadata": {},
   "outputs": [
    {
     "name": "stdout",
     "output_type": "stream",
     "text": [
      "<class 'pandas.core.frame.DataFrame'>\n",
      "RangeIndex: 115514488 entries, 0 to 115514487\n",
      "Data columns (total 8 columns):\n",
      " #   Column       Dtype \n",
      "---  ------       ----- \n",
      " 0   unit_id      object\n",
      " 1   dtime        object\n",
      " 2   nameserver   object\n",
      " 3   lookup_host  object\n",
      " 4   response_ip  object\n",
      " 5   rtt          object\n",
      " 6   successes    object\n",
      " 7   failures     object\n",
      "dtypes: object(8)\n",
      "memory usage: 6.9+ GB\n"
     ]
    }
   ],
   "source": [
    "df_dns.info()"
   ]
  },
  {
   "cell_type": "markdown",
   "metadata": {},
   "source": [
    "The DNS resolution dataset (`curr_dns.csv`) measures DNS lookup performance.\n",
    " \n",
    " ### Key Fields:\n",
    " 1. **DNS Query Details**:\n",
    "    - `nameserver`: DNS server used for resolution (e.g., 71.243.0.12)\n",
    "    - `lookup_host`: Domain name being resolved (e.g., www.yahoo.com, www.amazon.com)\n",
    "    - `response_ip`: IP address returned from DNS query\n",
    " \n",
    " 2. **Performance Metrics**:\n",
    "    - `rtt`: Round-trip time for DNS resolution (in milliseconds)\n",
    "    - `successes`: Number of successful DNS queries\n",
    "    - `failures`: Number of failed DNS queries\n",
    " \n",
    " ### Insights:\n",
    " - DNS resolution times around 3.7 seconds for sample queries\n",
    " - Successful resolutions with no failures observed in sample data\n",
    " - Same nameserver used across queries suggesting consistent DNS infrastructure\n"
   ]
  },
  {
   "cell_type": "markdown",
   "metadata": {},
   "source": [
    "----"
   ]
  },
  {
   "cell_type": "markdown",
   "metadata": {},
   "source": [
    "# curr_ping (Basic connectivity)"
   ]
  },
  {
   "cell_type": "code",
   "execution_count": 36,
   "metadata": {},
   "outputs": [],
   "source": [
    "df_ping = pd.read_csv('../data/raw/curr_ping.csv')"
   ]
  },
  {
   "cell_type": "code",
   "execution_count": 39,
   "metadata": {},
   "outputs": [
    {
     "data": {
      "text/html": [
       "<div>\n",
       "<style scoped>\n",
       "    .dataframe tbody tr th:only-of-type {\n",
       "        vertical-align: middle;\n",
       "    }\n",
       "\n",
       "    .dataframe tbody tr th {\n",
       "        vertical-align: top;\n",
       "    }\n",
       "\n",
       "    .dataframe thead th {\n",
       "        text-align: right;\n",
       "    }\n",
       "</style>\n",
       "<table border=\"1\" class=\"dataframe\">\n",
       "  <thead>\n",
       "    <tr style=\"text-align: right;\">\n",
       "      <th></th>\n",
       "      <th>unit_id</th>\n",
       "      <th>dtime</th>\n",
       "      <th>target</th>\n",
       "      <th>rtt_avg</th>\n",
       "      <th>rtt_min</th>\n",
       "      <th>rtt_max</th>\n",
       "      <th>rtt_std</th>\n",
       "      <th>successes</th>\n",
       "      <th>failures</th>\n",
       "    </tr>\n",
       "  </thead>\n",
       "  <tbody>\n",
       "    <tr>\n",
       "      <th>0</th>\n",
       "      <td>386</td>\n",
       "      <td>2023-02-01 09:44:52</td>\n",
       "      <td>sp2-vm-newyork-us.samknows.com</td>\n",
       "      <td>7123</td>\n",
       "      <td>7050</td>\n",
       "      <td>7190</td>\n",
       "      <td>57</td>\n",
       "      <td>5</td>\n",
       "      <td>0</td>\n",
       "    </tr>\n",
       "    <tr>\n",
       "      <th>1</th>\n",
       "      <td>386</td>\n",
       "      <td>2023-02-01 18:44:07</td>\n",
       "      <td>sp1-vm-newyork-us.samknows.com</td>\n",
       "      <td>7506</td>\n",
       "      <td>7126</td>\n",
       "      <td>8167</td>\n",
       "      <td>470</td>\n",
       "      <td>5</td>\n",
       "      <td>0</td>\n",
       "    </tr>\n",
       "    <tr>\n",
       "      <th>2</th>\n",
       "      <td>386</td>\n",
       "      <td>2023-02-01 19:43:56</td>\n",
       "      <td>sp1-vm-newyork-us.samknows.com</td>\n",
       "      <td>8517</td>\n",
       "      <td>7877</td>\n",
       "      <td>9094</td>\n",
       "      <td>503</td>\n",
       "      <td>5</td>\n",
       "      <td>0</td>\n",
       "    </tr>\n",
       "    <tr>\n",
       "      <th>3</th>\n",
       "      <td>386</td>\n",
       "      <td>2023-02-02 00:43:25</td>\n",
       "      <td>sp1-vm-newyork-us.samknows.com</td>\n",
       "      <td>8452</td>\n",
       "      <td>8070</td>\n",
       "      <td>8968</td>\n",
       "      <td>341</td>\n",
       "      <td>5</td>\n",
       "      <td>0</td>\n",
       "    </tr>\n",
       "    <tr>\n",
       "      <th>4</th>\n",
       "      <td>386</td>\n",
       "      <td>2023-02-02 01:44:56</td>\n",
       "      <td>sp1-vm-newyork-us.samknows.com</td>\n",
       "      <td>8424</td>\n",
       "      <td>7921</td>\n",
       "      <td>9050</td>\n",
       "      <td>544</td>\n",
       "      <td>5</td>\n",
       "      <td>0</td>\n",
       "    </tr>\n",
       "  </tbody>\n",
       "</table>\n",
       "</div>"
      ],
      "text/plain": [
       "   unit_id                dtime                          target  rtt_avg  \\\n",
       "0      386  2023-02-01 09:44:52  sp2-vm-newyork-us.samknows.com     7123   \n",
       "1      386  2023-02-01 18:44:07  sp1-vm-newyork-us.samknows.com     7506   \n",
       "2      386  2023-02-01 19:43:56  sp1-vm-newyork-us.samknows.com     8517   \n",
       "3      386  2023-02-02 00:43:25  sp1-vm-newyork-us.samknows.com     8452   \n",
       "4      386  2023-02-02 01:44:56  sp1-vm-newyork-us.samknows.com     8424   \n",
       "\n",
       "   rtt_min  rtt_max  rtt_std  successes  failures  \n",
       "0     7050     7190       57          5         0  \n",
       "1     7126     8167      470          5         0  \n",
       "2     7877     9094      503          5         0  \n",
       "3     8070     8968      341          5         0  \n",
       "4     7921     9050      544          5         0  "
      ]
     },
     "execution_count": 39,
     "metadata": {},
     "output_type": "execute_result"
    }
   ],
   "source": [
    "df_ping.head()"
   ]
  },
  {
   "cell_type": "code",
   "execution_count": 40,
   "metadata": {},
   "outputs": [
    {
     "name": "stdout",
     "output_type": "stream",
     "text": [
      "<class 'pandas.core.frame.DataFrame'>\n",
      "RangeIndex: 4031386 entries, 0 to 4031385\n",
      "Data columns (total 9 columns):\n",
      " #   Column     Dtype \n",
      "---  ------     ----- \n",
      " 0   unit_id    int64 \n",
      " 1   dtime      object\n",
      " 2   target     object\n",
      " 3   rtt_avg    int64 \n",
      " 4   rtt_min    int64 \n",
      " 5   rtt_max    int64 \n",
      " 6   rtt_std    int64 \n",
      " 7   successes  int64 \n",
      " 8   failures   int64 \n",
      "dtypes: int64(7), object(2)\n",
      "memory usage: 276.8+ MB\n"
     ]
    }
   ],
   "source": [
    "df_ping.info()"
   ]
  },
  {
   "cell_type": "markdown",
   "metadata": {},
   "source": [
    "The `df_ping` dataset contains information about basic connectivity tests using the `ping` command. It provides details about round-trip times (RTT) and the success or failure of ping requests to various targets.\n",
    "\n",
    "#### Key Fields:\n",
    "1. **Identification**:\n",
    "    - `unit_id`: Unique identifier for the testing unit.\n",
    "    - `dtime`: Timestamp of the measurement.\n",
    "\n",
    "2. **Target Details**:\n",
    "    - `target`: The server or endpoint being pinged (e.g., `sp2-vm-newyork-us.samknows.com`).\n",
    "\n",
    "3. **Round-Trip Time (RTT) Metrics**:\n",
    "    - `rtt_avg`: Average round-trip time in milliseconds.\n",
    "    - `rtt_min`: Minimum round-trip time observed.\n",
    "    - `rtt_max`: Maximum round-trip time observed.\n",
    "    - `rtt_std`: Standard deviation of round-trip times, indicating variability.\n",
    "\n",
    "4. **Success and Failure Metrics**:\n",
    "    - `successes`: Number of successful ping requests.\n",
    "    - `failures`: Number of failed ping requests.\n",
    "\n",
    "#### Example Insights:\n",
    "- The dataset shows RTT metrics for various targets, allowing analysis of network latency and stability.\n",
    "- Variability in RTT can be assessed using the `rtt_std` column.\n",
    "- Success and failure counts provide insights into the reliability of the network connection."
   ]
  },
  {
   "cell_type": "markdown",
   "metadata": {},
   "source": [
    "----"
   ]
  },
  {
   "cell_type": "markdown",
   "metadata": {},
   "source": [
    "# curr_traceroute (Network path analysis)"
   ]
  },
  {
   "cell_type": "code",
   "execution_count": 33,
   "metadata": {},
   "outputs": [],
   "source": [
    "df_traceroute = pd.read_csv('../data/raw/curr_traceroute.csv')"
   ]
  },
  {
   "cell_type": "code",
   "execution_count": 34,
   "metadata": {},
   "outputs": [
    {
     "data": {
      "text/html": [
       "<div>\n",
       "<style scoped>\n",
       "    .dataframe tbody tr th:only-of-type {\n",
       "        vertical-align: middle;\n",
       "    }\n",
       "\n",
       "    .dataframe tbody tr th {\n",
       "        vertical-align: top;\n",
       "    }\n",
       "\n",
       "    .dataframe thead th {\n",
       "        text-align: right;\n",
       "    }\n",
       "</style>\n",
       "<table border=\"1\" class=\"dataframe\">\n",
       "  <thead>\n",
       "    <tr style=\"text-align: right;\">\n",
       "      <th></th>\n",
       "      <th>unit_id</th>\n",
       "      <th>dtime</th>\n",
       "      <th>target</th>\n",
       "      <th>address</th>\n",
       "      <th>protocol</th>\n",
       "      <th>hop</th>\n",
       "      <th>hop_address</th>\n",
       "      <th>hop_name</th>\n",
       "      <th>sent</th>\n",
       "      <th>received</th>\n",
       "      <th>rtt_avg</th>\n",
       "      <th>successes</th>\n",
       "      <th>failures</th>\n",
       "    </tr>\n",
       "  </thead>\n",
       "  <tbody>\n",
       "    <tr>\n",
       "      <th>0</th>\n",
       "      <td>386</td>\n",
       "      <td>2023-02-01 18:02:23</td>\n",
       "      <td>sp1-vm-newyork-us.samknows.com</td>\n",
       "      <td>151.139.31.1</td>\n",
       "      <td>UDP</td>\n",
       "      <td>19</td>\n",
       "      <td>NaN</td>\n",
       "      <td>NaN</td>\n",
       "      <td>3</td>\n",
       "      <td>0</td>\n",
       "      <td>0</td>\n",
       "      <td>1</td>\n",
       "      <td>0</td>\n",
       "    </tr>\n",
       "    <tr>\n",
       "      <th>1</th>\n",
       "      <td>386</td>\n",
       "      <td>2023-02-01 18:02:23</td>\n",
       "      <td>sp1-vm-newyork-us.samknows.com</td>\n",
       "      <td>151.139.31.1</td>\n",
       "      <td>UDP</td>\n",
       "      <td>28</td>\n",
       "      <td>NaN</td>\n",
       "      <td>NaN</td>\n",
       "      <td>3</td>\n",
       "      <td>0</td>\n",
       "      <td>0</td>\n",
       "      <td>1</td>\n",
       "      <td>0</td>\n",
       "    </tr>\n",
       "  </tbody>\n",
       "</table>\n",
       "</div>"
      ],
      "text/plain": [
       "   unit_id                dtime                          target       address  \\\n",
       "0      386  2023-02-01 18:02:23  sp1-vm-newyork-us.samknows.com  151.139.31.1   \n",
       "1      386  2023-02-01 18:02:23  sp1-vm-newyork-us.samknows.com  151.139.31.1   \n",
       "\n",
       "  protocol  hop hop_address hop_name  sent  received  rtt_avg  successes  \\\n",
       "0      UDP   19         NaN      NaN     3         0        0          1   \n",
       "1      UDP   28         NaN      NaN     3         0        0          1   \n",
       "\n",
       "   failures  \n",
       "0         0  \n",
       "1         0  "
      ]
     },
     "execution_count": 34,
     "metadata": {},
     "output_type": "execute_result"
    }
   ],
   "source": [
    "df_traceroute.head(2)"
   ]
  },
  {
   "cell_type": "code",
   "execution_count": 35,
   "metadata": {},
   "outputs": [
    {
     "name": "stdout",
     "output_type": "stream",
     "text": [
      "<class 'pandas.core.frame.DataFrame'>\n",
      "RangeIndex: 11742111 entries, 0 to 11742110\n",
      "Data columns (total 13 columns):\n",
      " #   Column       Dtype \n",
      "---  ------       ----- \n",
      " 0   unit_id      int64 \n",
      " 1   dtime        object\n",
      " 2   target       object\n",
      " 3   address      object\n",
      " 4   protocol     object\n",
      " 5   hop          int64 \n",
      " 6   hop_address  object\n",
      " 7   hop_name     object\n",
      " 8   sent         int64 \n",
      " 9   received     int64 \n",
      " 10  rtt_avg      int64 \n",
      " 11  successes    int64 \n",
      " 12  failures     int64 \n",
      "dtypes: int64(7), object(6)\n",
      "memory usage: 1.1+ GB\n"
     ]
    }
   ],
   "source": [
    "df_traceroute.info()"
   ]
  },
  {
   "cell_type": "markdown",
   "metadata": {
    "vscode": {
     "languageId": "yaml"
    }
   },
   "source": [
    "This dataset represents traceroute measurements, which analyze the network path between a source and a target server. Each row corresponds to a single hop in the traceroute process, providing details about the network path and performance metrics.\n",
    "\n",
    "### Key Fields:\n",
    "1. **Identification**:\n",
    "    - `unit_id`: Unique identifier for the testing unit.\n",
    "    - `dtime`: Timestamp of the traceroute measurement.\n",
    "\n",
    "2. **Target Details**:\n",
    "    - `target`: The server being traced (e.g., `sp1-vm-newyork-us.samknows.com`).\n",
    "    - `address`: IP address of the target server.\n",
    "\n",
    "3. **Protocol**:\n",
    "    - `protocol`: The protocol used for the traceroute (e.g., `UDP`).\n",
    "\n",
    "4. **Hop Details**:\n",
    "    - `hop`: The hop number in the traceroute path.\n",
    "    - `hop_address`: IP address of the intermediate hop (if available).\n",
    "    - `hop_name`: Hostname of the intermediate hop (if available).\n",
    "\n",
    "5. **Packet Statistics**:\n",
    "    - `sent`: Number of packets sent to the hop.\n",
    "    - `received`: Number of packets received from the hop.\n",
    "\n",
    "6. **Performance Metrics**:\n",
    "    - `rtt_avg`: Average round-trip time (RTT) to the hop (in milliseconds).\n",
    "    - `successes`: Number of successful responses from the hop.\n",
    "    - `failures`: Number of failed responses from the hop.\n",
    "\n",
    "### Insights:\n",
    "- This dataset helps analyze the network path to the target server, identifying intermediate hops and their performance.\n",
    "- Missing values in `hop_address` or `hop_name` indicate that the hop did not respond or is unreachable.\n",
    "- RTT metrics provide insights into latency at each hop, helping identify potential bottlenecks or delays in the network path."
   ]
  },
  {
   "cell_type": "markdown",
   "metadata": {},
   "source": [
    "---"
   ]
  },
  {
   "cell_type": "markdown",
   "metadata": {},
   "source": [
    "# curr_datausage (Overall data consumption)"
   ]
  },
  {
   "cell_type": "code",
   "execution_count": 41,
   "metadata": {},
   "outputs": [],
   "source": [
    "df_datausage = pd.read_csv('../data/raw/curr_datausage.csv')"
   ]
  },
  {
   "cell_type": "code",
   "execution_count": 42,
   "metadata": {},
   "outputs": [
    {
     "data": {
      "text/html": [
       "<div>\n",
       "<style scoped>\n",
       "    .dataframe tbody tr th:only-of-type {\n",
       "        vertical-align: middle;\n",
       "    }\n",
       "\n",
       "    .dataframe tbody tr th {\n",
       "        vertical-align: top;\n",
       "    }\n",
       "\n",
       "    .dataframe thead th {\n",
       "        text-align: right;\n",
       "    }\n",
       "</style>\n",
       "<table border=\"1\" class=\"dataframe\">\n",
       "  <thead>\n",
       "    <tr style=\"text-align: right;\">\n",
       "      <th></th>\n",
       "      <th>unit_id</th>\n",
       "      <th>dtime</th>\n",
       "      <th>sk_tx_bytes</th>\n",
       "      <th>sk_rx_bytes</th>\n",
       "      <th>cust_wired_tx_bytes</th>\n",
       "      <th>cust_wired_rx_bytes</th>\n",
       "      <th>cust_wifi_tx_bytes</th>\n",
       "      <th>cust_wifi_rx_bytes</th>\n",
       "    </tr>\n",
       "  </thead>\n",
       "  <tbody>\n",
       "    <tr>\n",
       "      <th>0</th>\n",
       "      <td>386</td>\n",
       "      <td>2023-02-01 06:31:55</td>\n",
       "      <td>9924</td>\n",
       "      <td>45118</td>\n",
       "      <td>43571037</td>\n",
       "      <td>1004149200</td>\n",
       "      <td>0</td>\n",
       "      <td>2790428</td>\n",
       "    </tr>\n",
       "    <tr>\n",
       "      <th>1</th>\n",
       "      <td>386</td>\n",
       "      <td>2023-02-01 07:31:58</td>\n",
       "      <td>0</td>\n",
       "      <td>47611</td>\n",
       "      <td>43603075</td>\n",
       "      <td>819232115</td>\n",
       "      <td>0</td>\n",
       "      <td>2739453</td>\n",
       "    </tr>\n",
       "  </tbody>\n",
       "</table>\n",
       "</div>"
      ],
      "text/plain": [
       "   unit_id                dtime  sk_tx_bytes  sk_rx_bytes  \\\n",
       "0      386  2023-02-01 06:31:55         9924        45118   \n",
       "1      386  2023-02-01 07:31:58            0        47611   \n",
       "\n",
       "   cust_wired_tx_bytes  cust_wired_rx_bytes  cust_wifi_tx_bytes  \\\n",
       "0             43571037           1004149200                   0   \n",
       "1             43603075            819232115                   0   \n",
       "\n",
       "   cust_wifi_rx_bytes  \n",
       "0             2790428  \n",
       "1             2739453  "
      ]
     },
     "execution_count": 42,
     "metadata": {},
     "output_type": "execute_result"
    }
   ],
   "source": [
    "df_datausage.head(2)"
   ]
  },
  {
   "cell_type": "code",
   "execution_count": 43,
   "metadata": {},
   "outputs": [
    {
     "name": "stdout",
     "output_type": "stream",
     "text": [
      "<class 'pandas.core.frame.DataFrame'>\n",
      "RangeIndex: 2473200 entries, 0 to 2473199\n",
      "Data columns (total 8 columns):\n",
      " #   Column               Dtype \n",
      "---  ------               ----- \n",
      " 0   unit_id              int64 \n",
      " 1   dtime                object\n",
      " 2   sk_tx_bytes          int64 \n",
      " 3   sk_rx_bytes          int64 \n",
      " 4   cust_wired_tx_bytes  int64 \n",
      " 5   cust_wired_rx_bytes  int64 \n",
      " 6   cust_wifi_tx_bytes   int64 \n",
      " 7   cust_wifi_rx_bytes   int64 \n",
      "dtypes: int64(7), object(1)\n",
      "memory usage: 151.0+ MB\n"
     ]
    }
   ],
   "source": [
    "df_datausage.info()"
   ]
  },
  {
   "cell_type": "markdown",
   "metadata": {
    "vscode": {
     "languageId": "yaml"
    }
   },
   "source": [
    "The dataset represents data usage metrics, capturing information about transmitted and received bytes over different network interfaces. Here's a description of the key fields:\n",
    "\n",
    "### Key Fields:\n",
    " - `unit_id` : Unique identifier for the testing unit.\n",
    "\n",
    " - `dtime`: Timestamp of the measurement.\n",
    "\n",
    " - `sk_tx_bytes`: Bytes transmitted by the SamKnows device.\n",
    "\n",
    " - `sk_rx_bytes`: Bytes received by the SamKnows device.\n",
    "\n",
    " - `cust_wired_tx_bytes`: Bytes transmitted over the customer's wired network.\n",
    "\n",
    " - `cust_wired_rx_bytes`: Bytes received over the customer's wired network.\n",
    "\n",
    " - `cust_wifi_tx_bytes`: Bytes transmitted over the customer's Wi-Fi network.\n",
    " \n",
    " - `cust_wifi_rx_bytes`: Bytes received over the customer's Wi-Fi network.\n",
    "\n",
    "### Insights:\n",
    "- The dataset provides a breakdown of data usage across wired and wireless networks.\n",
    "- It can be used to analyze network traffic patterns, identify usage trends, and compare wired vs. Wi-Fi data consumption."
   ]
  }
 ],
 "metadata": {
  "kernelspec": {
   "display_name": "deepseek-mac",
   "language": "python",
   "name": "python3"
  },
  "language_info": {
   "codemirror_mode": {
    "name": "ipython",
    "version": 3
   },
   "file_extension": ".py",
   "mimetype": "text/x-python",
   "name": "python",
   "nbconvert_exporter": "python",
   "pygments_lexer": "ipython3",
   "version": "3.10.16"
  }
 },
 "nbformat": 4,
 "nbformat_minor": 2
}
