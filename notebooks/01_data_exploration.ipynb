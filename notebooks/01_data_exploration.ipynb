{
 "cells": [
  {
   "cell_type": "code",
   "execution_count": 1,
   "metadata": {},
   "outputs": [],
   "source": [
    "import pandas as pd \n",
    "import plotly.express as px\n",
    "import matplotlib.pyplot as plt\n",
    "import plotly.graph_objects as go\n",
    "from plotly.subplots import make_subplots"
   ]
  },
  {
   "cell_type": "markdown",
   "metadata": {},
   "source": [
    "# urr_httpgetmt and curr_httpgetmt6: Download speed metrics\n"
   ]
  },
  {
   "cell_type": "code",
   "execution_count": 2,
   "metadata": {},
   "outputs": [],
   "source": [
    "# first we explore the curr_httpgetmt\n",
    "df_httpgetmt = pd.read_csv('../data/raw/curr_httpgetmt.csv')"
   ]
  },
  {
   "cell_type": "code",
   "execution_count": 3,
   "metadata": {},
   "outputs": [
    {
     "data": {
      "text/html": [
       "<div>\n",
       "<style scoped>\n",
       "    .dataframe tbody tr th:only-of-type {\n",
       "        vertical-align: middle;\n",
       "    }\n",
       "\n",
       "    .dataframe tbody tr th {\n",
       "        vertical-align: top;\n",
       "    }\n",
       "\n",
       "    .dataframe thead th {\n",
       "        text-align: right;\n",
       "    }\n",
       "</style>\n",
       "<table border=\"1\" class=\"dataframe\">\n",
       "  <thead>\n",
       "    <tr style=\"text-align: right;\">\n",
       "      <th></th>\n",
       "      <th>unit_id</th>\n",
       "      <th>dtime</th>\n",
       "      <th>target</th>\n",
       "      <th>address</th>\n",
       "      <th>fetch_time</th>\n",
       "      <th>bytes_total</th>\n",
       "      <th>bytes_sec</th>\n",
       "      <th>bytes_sec_interval</th>\n",
       "      <th>warmup_time</th>\n",
       "      <th>warmup_bytes</th>\n",
       "      <th>sequence</th>\n",
       "      <th>threads</th>\n",
       "      <th>successes</th>\n",
       "      <th>failures</th>\n",
       "    </tr>\n",
       "  </thead>\n",
       "  <tbody>\n",
       "    <tr>\n",
       "      <th>0</th>\n",
       "      <td>386</td>\n",
       "      <td>2023-02-02 11:46:44</td>\n",
       "      <td>sp1-vm-newyork-us.samknows.com</td>\n",
       "      <td>151.139.31.1</td>\n",
       "      <td>10028665</td>\n",
       "      <td>257012514</td>\n",
       "      <td>25627789</td>\n",
       "      <td>25627789</td>\n",
       "      <td>5028092</td>\n",
       "      <td>122041478</td>\n",
       "      <td>0</td>\n",
       "      <td>8</td>\n",
       "      <td>1</td>\n",
       "      <td>0</td>\n",
       "    </tr>\n",
       "    <tr>\n",
       "      <th>1</th>\n",
       "      <td>386</td>\n",
       "      <td>2023-02-02 17:46:29</td>\n",
       "      <td>sp1-vm-newyork-us.samknows.com</td>\n",
       "      <td>151.139.31.1</td>\n",
       "      <td>10018544</td>\n",
       "      <td>255021762</td>\n",
       "      <td>25454972</td>\n",
       "      <td>25454972</td>\n",
       "      <td>1523612</td>\n",
       "      <td>33933926</td>\n",
       "      <td>0</td>\n",
       "      <td>8</td>\n",
       "      <td>1</td>\n",
       "      <td>0</td>\n",
       "    </tr>\n",
       "  </tbody>\n",
       "</table>\n",
       "</div>"
      ],
      "text/plain": [
       "   unit_id                dtime                          target       address  \\\n",
       "0      386  2023-02-02 11:46:44  sp1-vm-newyork-us.samknows.com  151.139.31.1   \n",
       "1      386  2023-02-02 17:46:29  sp1-vm-newyork-us.samknows.com  151.139.31.1   \n",
       "\n",
       "   fetch_time  bytes_total  bytes_sec  bytes_sec_interval  warmup_time  \\\n",
       "0    10028665    257012514   25627789            25627789      5028092   \n",
       "1    10018544    255021762   25454972            25454972      1523612   \n",
       "\n",
       "   warmup_bytes  sequence  threads  successes  failures  \n",
       "0     122041478         0        8          1         0  \n",
       "1      33933926         0        8          1         0  "
      ]
     },
     "execution_count": 3,
     "metadata": {},
     "output_type": "execute_result"
    }
   ],
   "source": [
    "df_httpgetmt.head(2)"
   ]
  },
  {
   "cell_type": "code",
   "execution_count": 4,
   "metadata": {},
   "outputs": [
    {
     "name": "stdout",
     "output_type": "stream",
     "text": [
      "<class 'pandas.core.frame.DataFrame'>\n",
      "RangeIndex: 724511 entries, 0 to 724510\n",
      "Data columns (total 14 columns):\n",
      " #   Column              Non-Null Count   Dtype \n",
      "---  ------              --------------   ----- \n",
      " 0   unit_id             724511 non-null  int64 \n",
      " 1   dtime               724511 non-null  object\n",
      " 2   target              724511 non-null  object\n",
      " 3   address             724511 non-null  object\n",
      " 4   fetch_time          724511 non-null  int64 \n",
      " 5   bytes_total         724511 non-null  int64 \n",
      " 6   bytes_sec           724511 non-null  int64 \n",
      " 7   bytes_sec_interval  724511 non-null  int64 \n",
      " 8   warmup_time         724511 non-null  int64 \n",
      " 9   warmup_bytes        724511 non-null  int64 \n",
      " 10  sequence            724511 non-null  int64 \n",
      " 11  threads             724511 non-null  int64 \n",
      " 12  successes           724511 non-null  int64 \n",
      " 13  failures            724511 non-null  int64 \n",
      "dtypes: int64(11), object(3)\n",
      "memory usage: 77.4+ MB\n"
     ]
    }
   ],
   "source": [
    "df_httpgetmt.info()"
   ]
  },
  {
   "cell_type": "markdown",
   "metadata": {},
   "source": [
    "### Description\n",
    "`urr_httpgetmt` and `curr_httpgetmt6` are functions that measure the download speed of HTTP GET requests. They are used to assess the performance of HTTP servers by calculating the time taken to download a specified number of bytes from a given URL. The functions return the download speed in bytes per second (Bps) and can be used for both IPv4 and IPv6 addresses."
   ]
  },
  {
   "cell_type": "code",
   "execution_count": 5,
   "metadata": {},
   "outputs": [],
   "source": [
    "# second we explore the curr_httpgetmt\n",
    "df_curr_httpgetmt6 = pd.read_csv('../data/raw/curr_httpgetmt6.csv')"
   ]
  },
  {
   "cell_type": "code",
   "execution_count": 6,
   "metadata": {},
   "outputs": [
    {
     "data": {
      "text/html": [
       "<div>\n",
       "<style scoped>\n",
       "    .dataframe tbody tr th:only-of-type {\n",
       "        vertical-align: middle;\n",
       "    }\n",
       "\n",
       "    .dataframe tbody tr th {\n",
       "        vertical-align: top;\n",
       "    }\n",
       "\n",
       "    .dataframe thead th {\n",
       "        text-align: right;\n",
       "    }\n",
       "</style>\n",
       "<table border=\"1\" class=\"dataframe\">\n",
       "  <thead>\n",
       "    <tr style=\"text-align: right;\">\n",
       "      <th></th>\n",
       "      <th>unit_id</th>\n",
       "      <th>dtime</th>\n",
       "      <th>target</th>\n",
       "      <th>address</th>\n",
       "      <th>fetch_time</th>\n",
       "      <th>bytes_total</th>\n",
       "      <th>bytes_sec</th>\n",
       "      <th>bytes_sec_interval</th>\n",
       "      <th>warmup_time</th>\n",
       "      <th>warmup_bytes</th>\n",
       "      <th>sequence</th>\n",
       "      <th>threads</th>\n",
       "      <th>successes</th>\n",
       "      <th>failures</th>\n",
       "    </tr>\n",
       "  </thead>\n",
       "  <tbody>\n",
       "    <tr>\n",
       "      <th>0</th>\n",
       "      <td>216748</td>\n",
       "      <td>2023-02-25 02:55:46</td>\n",
       "      <td>v6-n1-fcc-losangeles-us.samknows.com</td>\n",
       "      <td>2604:6840:1600:1501::1</td>\n",
       "      <td>10489480</td>\n",
       "      <td>616088464</td>\n",
       "      <td>58733938</td>\n",
       "      <td>58733938</td>\n",
       "      <td>7983673</td>\n",
       "      <td>441679036</td>\n",
       "      <td>0</td>\n",
       "      <td>8</td>\n",
       "      <td>1</td>\n",
       "      <td>0</td>\n",
       "    </tr>\n",
       "    <tr>\n",
       "      <th>1</th>\n",
       "      <td>216748</td>\n",
       "      <td>2023-02-25 05:55:25</td>\n",
       "      <td>v6-n1-fcc-losangeles-us.samknows.com</td>\n",
       "      <td>2604:6840:1600:1501::1</td>\n",
       "      <td>10541189</td>\n",
       "      <td>646054608</td>\n",
       "      <td>61288590</td>\n",
       "      <td>61288590</td>\n",
       "      <td>8068534</td>\n",
       "      <td>446827962</td>\n",
       "      <td>0</td>\n",
       "      <td>8</td>\n",
       "      <td>1</td>\n",
       "      <td>0</td>\n",
       "    </tr>\n",
       "  </tbody>\n",
       "</table>\n",
       "</div>"
      ],
      "text/plain": [
       "   unit_id                dtime                                target  \\\n",
       "0   216748  2023-02-25 02:55:46  v6-n1-fcc-losangeles-us.samknows.com   \n",
       "1   216748  2023-02-25 05:55:25  v6-n1-fcc-losangeles-us.samknows.com   \n",
       "\n",
       "                  address  fetch_time  bytes_total  bytes_sec  \\\n",
       "0  2604:6840:1600:1501::1    10489480    616088464   58733938   \n",
       "1  2604:6840:1600:1501::1    10541189    646054608   61288590   \n",
       "\n",
       "   bytes_sec_interval  warmup_time  warmup_bytes  sequence  threads  \\\n",
       "0            58733938      7983673     441679036         0        8   \n",
       "1            61288590      8068534     446827962         0        8   \n",
       "\n",
       "   successes  failures  \n",
       "0          1         0  \n",
       "1          1         0  "
      ]
     },
     "execution_count": 6,
     "metadata": {},
     "output_type": "execute_result"
    }
   ],
   "source": [
    "df_curr_httpgetmt6.head(2)"
   ]
  },
  {
   "cell_type": "code",
   "execution_count": 7,
   "metadata": {},
   "outputs": [
    {
     "name": "stdout",
     "output_type": "stream",
     "text": [
      "<class 'pandas.core.frame.DataFrame'>\n",
      "RangeIndex: 489 entries, 0 to 488\n",
      "Data columns (total 14 columns):\n",
      " #   Column              Non-Null Count  Dtype \n",
      "---  ------              --------------  ----- \n",
      " 0   unit_id             489 non-null    int64 \n",
      " 1   dtime               489 non-null    object\n",
      " 2   target              489 non-null    object\n",
      " 3   address             489 non-null    object\n",
      " 4   fetch_time          489 non-null    int64 \n",
      " 5   bytes_total         489 non-null    int64 \n",
      " 6   bytes_sec           489 non-null    int64 \n",
      " 7   bytes_sec_interval  489 non-null    int64 \n",
      " 8   warmup_time         489 non-null    int64 \n",
      " 9   warmup_bytes        489 non-null    int64 \n",
      " 10  sequence            489 non-null    int64 \n",
      " 11  threads             489 non-null    int64 \n",
      " 12  successes           489 non-null    int64 \n",
      " 13  failures            489 non-null    int64 \n",
      "dtypes: int64(11), object(3)\n",
      "memory usage: 53.6+ KB\n"
     ]
    }
   ],
   "source": [
    "df_curr_httpgetmt6.info()"
   ]
  },
  {
   "cell_type": "markdown",
   "metadata": {},
   "source": [
    "From this data, we can find pattern in the following:\n",
    "\n",
    "1. **Download Speed Analysis**:\n",
    "    - Analyze the `bytes_sec` and `bytes_sec_interval` columns to understand the download speed trends.\n",
    "    - Compare the download speeds across different `target` servers or `address`.\n",
    "\n",
    "2. **Fetch Time Analysis**:\n",
    "    - Investigate the `fetch_time` column to see how long it takes to fetch data from different servers.\n",
    "\n",
    "3. **Warmup Performance**:\n",
    "    - Analyze the `warmup_time` and `warmup_bytes` columns to understand the warmup phase's impact on performance.\n",
    "\n",
    "4. **Server Performance**:\n",
    "    - Compare the performance of different `target` servers or `address` in terms of download speed and fetch time.\n",
    "\n",
    "5. **Success and Failure Rates**:\n",
    "    - Use the `successes` and `failures` columns to calculate the success rate of HTTP GET requests.\n",
    "\n",
    "6. **Thread Utilization**:\n",
    "    - Analyze the `threads` column to see how the number of threads affects performance metrics like `bytes_sec`.\n",
    "\n",
    "7. **Time-based Trends**:\n",
    "    - Use the `dtime` column to explore time-based trends in download speed or fetch time.\n",
    "\n",
    "8. **Correlation Analysis**:\n",
    "    - Perform correlation analysis between columns like `fetch_time`, `bytes_sec`, `warmup_time`, etc., to identify relationships.ـ\n",
    "    "
   ]
  },
  {
   "cell_type": "markdown",
   "metadata": {},
   "source": [
    "---"
   ]
  },
  {
   "cell_type": "markdown",
   "metadata": {},
   "source": [
    "### EDA For Downloading Metrices : httpgetmt - httpgetmt6"
   ]
  },
  {
   "cell_type": "markdown",
   "metadata": {},
   "source": [
    "#### Converting the dtime from object to datetime for downloading metrics"
   ]
  },
  {
   "cell_type": "code",
   "execution_count": 8,
   "metadata": {},
   "outputs": [],
   "source": [
    "# converting the dtime from object to datetime \n",
    "df_httpgetmt['dtime'] = pd.to_datetime(df_httpgetmt['dtime'])\n",
    "df_curr_httpgetmt6['dtime'] = pd.to_datetime(df_curr_httpgetmt6['dtime'])"
   ]
  },
  {
   "cell_type": "markdown",
   "metadata": {},
   "source": [
    "#### Converting the bytes from megabytes for downloading metrics"
   ]
  },
  {
   "cell_type": "code",
   "execution_count": 9,
   "metadata": {},
   "outputs": [],
   "source": [
    "df_httpgetmt['mbps'] = df_httpgetmt['bytes_sec'] * 8 / 1_000_000  # Convert bytes to megabits\n",
    "df_curr_httpgetmt6['mbps'] = df_curr_httpgetmt6['bytes_sec'] * 8 / 1_000_000"
   ]
  },
  {
   "cell_type": "code",
   "execution_count": 10,
   "metadata": {},
   "outputs": [],
   "source": [
    "# 4. Statistical Summary\n",
    "def get_stats(df, name):\n",
    "    stats = {\n",
    "        'Protocol': name,\n",
    "        'Mean Speed (Mbps)': df['mbps'].mean(),\n",
    "        'Median Speed (Mbps)': df['mbps'].median(),\n",
    "        'Max Speed (Mbps)': df['mbps'].max(),\n",
    "        'Min Speed (Mbps)': df['mbps'].min(),\n",
    "        'Success Rate (%)': (df['successes'].sum() / (df['successes'].sum() + df['failures'].sum())) * 100,\n",
    "        'Avg Fetch Time (ms)': df['fetch_time'].mean() / 1000,\n",
    "        'Sample Size': len(df)\n",
    "    }\n",
    "    return pd.Series(stats)\n",
    "\n",
    "download_stats_df = pd.DataFrame([\n",
    "    get_stats(df_httpgetmt, 'IPv4'),\n",
    "    get_stats(df_curr_httpgetmt6, 'IPv6')\n",
    "])"
   ]
  },
  {
   "cell_type": "code",
   "execution_count": 11,
   "metadata": {},
   "outputs": [
    {
     "data": {
      "text/html": [
       "<div>\n",
       "<style scoped>\n",
       "    .dataframe tbody tr th:only-of-type {\n",
       "        vertical-align: middle;\n",
       "    }\n",
       "\n",
       "    .dataframe tbody tr th {\n",
       "        vertical-align: top;\n",
       "    }\n",
       "\n",
       "    .dataframe thead th {\n",
       "        text-align: right;\n",
       "    }\n",
       "</style>\n",
       "<table border=\"1\" class=\"dataframe\">\n",
       "  <thead>\n",
       "    <tr style=\"text-align: right;\">\n",
       "      <th></th>\n",
       "      <th>Protocol</th>\n",
       "      <th>Mean Speed (Mbps)</th>\n",
       "      <th>Median Speed (Mbps)</th>\n",
       "      <th>Max Speed (Mbps)</th>\n",
       "      <th>Min Speed (Mbps)</th>\n",
       "      <th>Success Rate (%)</th>\n",
       "      <th>Avg Fetch Time (ms)</th>\n",
       "      <th>Sample Size</th>\n",
       "    </tr>\n",
       "  </thead>\n",
       "  <tbody>\n",
       "    <tr>\n",
       "      <th>0</th>\n",
       "      <td>IPv4</td>\n",
       "      <td>270.146640</td>\n",
       "      <td>114.928240</td>\n",
       "      <td>947.812632</td>\n",
       "      <td>0.0</td>\n",
       "      <td>99.531270</td>\n",
       "      <td>10000.369815</td>\n",
       "      <td>724511</td>\n",
       "    </tr>\n",
       "    <tr>\n",
       "      <th>1</th>\n",
       "      <td>IPv6</td>\n",
       "      <td>660.365598</td>\n",
       "      <td>858.841512</td>\n",
       "      <td>926.874000</td>\n",
       "      <td>0.0</td>\n",
       "      <td>92.433538</td>\n",
       "      <td>9353.079106</td>\n",
       "      <td>489</td>\n",
       "    </tr>\n",
       "  </tbody>\n",
       "</table>\n",
       "</div>"
      ],
      "text/plain": [
       "  Protocol  Mean Speed (Mbps)  Median Speed (Mbps)  Max Speed (Mbps)  \\\n",
       "0     IPv4         270.146640           114.928240        947.812632   \n",
       "1     IPv6         660.365598           858.841512        926.874000   \n",
       "\n",
       "   Min Speed (Mbps)  Success Rate (%)  Avg Fetch Time (ms)  Sample Size  \n",
       "0               0.0         99.531270         10000.369815       724511  \n",
       "1               0.0         92.433538          9353.079106          489  "
      ]
     },
     "execution_count": 11,
     "metadata": {},
     "output_type": "execute_result"
    }
   ],
   "source": [
    "download_stats_df"
   ]
  },
  {
   "cell_type": "markdown",
   "metadata": {},
   "source": [
    "#### Bar Chart: Mean and Median Download Speeds"
   ]
  },
  {
   "cell_type": "code",
   "execution_count": 12,
   "metadata": {},
   "outputs": [
    {
     "data": {
      "application/vnd.plotly.v1+json": {
       "config": {
        "plotlyServerURL": "https://plot.ly"
       },
       "data": [
        {
         "marker": {
          "color": "indianred"
         },
         "name": "Mean Speed (Mbps)",
         "text": {
          "bdata": "ZmZmZmbicEApXI/C9aKEQA==",
          "dtype": "f8"
         },
         "textposition": "auto",
         "type": "bar",
         "x": [
          "IPv4",
          "IPv6"
         ],
         "y": {
          "bdata": "XCLNoljicEA2+de+7KKEQA==",
          "dtype": "f8"
         }
        },
        {
         "marker": {
          "color": "lightseagreen"
         },
         "name": "Median Speed (Mbps)",
         "text": {
          "bdata": "7FG4HoW7XEAfhetRuNaKQA==",
          "dtype": "f8"
         },
         "textposition": "auto",
         "type": "bar",
         "x": [
          "IPv4",
          "IPv6"
         ],
         "y": {
          "bdata": "s7W+SGi7XECIuaRqu9aKQA==",
          "dtype": "f8"
         }
        }
       ],
       "layout": {
        "barmode": "group",
        "height": 500,
        "legend": {
         "title": {
          "text": "Metric"
         }
        },
        "template": {
         "data": {
          "bar": [
           {
            "error_x": {
             "color": "#2a3f5f"
            },
            "error_y": {
             "color": "#2a3f5f"
            },
            "marker": {
             "line": {
              "color": "white",
              "width": 0.5
             },
             "pattern": {
              "fillmode": "overlay",
              "size": 10,
              "solidity": 0.2
             }
            },
            "type": "bar"
           }
          ],
          "barpolar": [
           {
            "marker": {
             "line": {
              "color": "white",
              "width": 0.5
             },
             "pattern": {
              "fillmode": "overlay",
              "size": 10,
              "solidity": 0.2
             }
            },
            "type": "barpolar"
           }
          ],
          "carpet": [
           {
            "aaxis": {
             "endlinecolor": "#2a3f5f",
             "gridcolor": "#C8D4E3",
             "linecolor": "#C8D4E3",
             "minorgridcolor": "#C8D4E3",
             "startlinecolor": "#2a3f5f"
            },
            "baxis": {
             "endlinecolor": "#2a3f5f",
             "gridcolor": "#C8D4E3",
             "linecolor": "#C8D4E3",
             "minorgridcolor": "#C8D4E3",
             "startlinecolor": "#2a3f5f"
            },
            "type": "carpet"
           }
          ],
          "choropleth": [
           {
            "colorbar": {
             "outlinewidth": 0,
             "ticks": ""
            },
            "type": "choropleth"
           }
          ],
          "contour": [
           {
            "colorbar": {
             "outlinewidth": 0,
             "ticks": ""
            },
            "colorscale": [
             [
              0,
              "#0d0887"
             ],
             [
              0.1111111111111111,
              "#46039f"
             ],
             [
              0.2222222222222222,
              "#7201a8"
             ],
             [
              0.3333333333333333,
              "#9c179e"
             ],
             [
              0.4444444444444444,
              "#bd3786"
             ],
             [
              0.5555555555555556,
              "#d8576b"
             ],
             [
              0.6666666666666666,
              "#ed7953"
             ],
             [
              0.7777777777777778,
              "#fb9f3a"
             ],
             [
              0.8888888888888888,
              "#fdca26"
             ],
             [
              1,
              "#f0f921"
             ]
            ],
            "type": "contour"
           }
          ],
          "contourcarpet": [
           {
            "colorbar": {
             "outlinewidth": 0,
             "ticks": ""
            },
            "type": "contourcarpet"
           }
          ],
          "heatmap": [
           {
            "colorbar": {
             "outlinewidth": 0,
             "ticks": ""
            },
            "colorscale": [
             [
              0,
              "#0d0887"
             ],
             [
              0.1111111111111111,
              "#46039f"
             ],
             [
              0.2222222222222222,
              "#7201a8"
             ],
             [
              0.3333333333333333,
              "#9c179e"
             ],
             [
              0.4444444444444444,
              "#bd3786"
             ],
             [
              0.5555555555555556,
              "#d8576b"
             ],
             [
              0.6666666666666666,
              "#ed7953"
             ],
             [
              0.7777777777777778,
              "#fb9f3a"
             ],
             [
              0.8888888888888888,
              "#fdca26"
             ],
             [
              1,
              "#f0f921"
             ]
            ],
            "type": "heatmap"
           }
          ],
          "histogram": [
           {
            "marker": {
             "pattern": {
              "fillmode": "overlay",
              "size": 10,
              "solidity": 0.2
             }
            },
            "type": "histogram"
           }
          ],
          "histogram2d": [
           {
            "colorbar": {
             "outlinewidth": 0,
             "ticks": ""
            },
            "colorscale": [
             [
              0,
              "#0d0887"
             ],
             [
              0.1111111111111111,
              "#46039f"
             ],
             [
              0.2222222222222222,
              "#7201a8"
             ],
             [
              0.3333333333333333,
              "#9c179e"
             ],
             [
              0.4444444444444444,
              "#bd3786"
             ],
             [
              0.5555555555555556,
              "#d8576b"
             ],
             [
              0.6666666666666666,
              "#ed7953"
             ],
             [
              0.7777777777777778,
              "#fb9f3a"
             ],
             [
              0.8888888888888888,
              "#fdca26"
             ],
             [
              1,
              "#f0f921"
             ]
            ],
            "type": "histogram2d"
           }
          ],
          "histogram2dcontour": [
           {
            "colorbar": {
             "outlinewidth": 0,
             "ticks": ""
            },
            "colorscale": [
             [
              0,
              "#0d0887"
             ],
             [
              0.1111111111111111,
              "#46039f"
             ],
             [
              0.2222222222222222,
              "#7201a8"
             ],
             [
              0.3333333333333333,
              "#9c179e"
             ],
             [
              0.4444444444444444,
              "#bd3786"
             ],
             [
              0.5555555555555556,
              "#d8576b"
             ],
             [
              0.6666666666666666,
              "#ed7953"
             ],
             [
              0.7777777777777778,
              "#fb9f3a"
             ],
             [
              0.8888888888888888,
              "#fdca26"
             ],
             [
              1,
              "#f0f921"
             ]
            ],
            "type": "histogram2dcontour"
           }
          ],
          "mesh3d": [
           {
            "colorbar": {
             "outlinewidth": 0,
             "ticks": ""
            },
            "type": "mesh3d"
           }
          ],
          "parcoords": [
           {
            "line": {
             "colorbar": {
              "outlinewidth": 0,
              "ticks": ""
             }
            },
            "type": "parcoords"
           }
          ],
          "pie": [
           {
            "automargin": true,
            "type": "pie"
           }
          ],
          "scatter": [
           {
            "fillpattern": {
             "fillmode": "overlay",
             "size": 10,
             "solidity": 0.2
            },
            "type": "scatter"
           }
          ],
          "scatter3d": [
           {
            "line": {
             "colorbar": {
              "outlinewidth": 0,
              "ticks": ""
             }
            },
            "marker": {
             "colorbar": {
              "outlinewidth": 0,
              "ticks": ""
             }
            },
            "type": "scatter3d"
           }
          ],
          "scattercarpet": [
           {
            "marker": {
             "colorbar": {
              "outlinewidth": 0,
              "ticks": ""
             }
            },
            "type": "scattercarpet"
           }
          ],
          "scattergeo": [
           {
            "marker": {
             "colorbar": {
              "outlinewidth": 0,
              "ticks": ""
             }
            },
            "type": "scattergeo"
           }
          ],
          "scattergl": [
           {
            "marker": {
             "colorbar": {
              "outlinewidth": 0,
              "ticks": ""
             }
            },
            "type": "scattergl"
           }
          ],
          "scattermap": [
           {
            "marker": {
             "colorbar": {
              "outlinewidth": 0,
              "ticks": ""
             }
            },
            "type": "scattermap"
           }
          ],
          "scattermapbox": [
           {
            "marker": {
             "colorbar": {
              "outlinewidth": 0,
              "ticks": ""
             }
            },
            "type": "scattermapbox"
           }
          ],
          "scatterpolar": [
           {
            "marker": {
             "colorbar": {
              "outlinewidth": 0,
              "ticks": ""
             }
            },
            "type": "scatterpolar"
           }
          ],
          "scatterpolargl": [
           {
            "marker": {
             "colorbar": {
              "outlinewidth": 0,
              "ticks": ""
             }
            },
            "type": "scatterpolargl"
           }
          ],
          "scatterternary": [
           {
            "marker": {
             "colorbar": {
              "outlinewidth": 0,
              "ticks": ""
             }
            },
            "type": "scatterternary"
           }
          ],
          "surface": [
           {
            "colorbar": {
             "outlinewidth": 0,
             "ticks": ""
            },
            "colorscale": [
             [
              0,
              "#0d0887"
             ],
             [
              0.1111111111111111,
              "#46039f"
             ],
             [
              0.2222222222222222,
              "#7201a8"
             ],
             [
              0.3333333333333333,
              "#9c179e"
             ],
             [
              0.4444444444444444,
              "#bd3786"
             ],
             [
              0.5555555555555556,
              "#d8576b"
             ],
             [
              0.6666666666666666,
              "#ed7953"
             ],
             [
              0.7777777777777778,
              "#fb9f3a"
             ],
             [
              0.8888888888888888,
              "#fdca26"
             ],
             [
              1,
              "#f0f921"
             ]
            ],
            "type": "surface"
           }
          ],
          "table": [
           {
            "cells": {
             "fill": {
              "color": "#EBF0F8"
             },
             "line": {
              "color": "white"
             }
            },
            "header": {
             "fill": {
              "color": "#C8D4E3"
             },
             "line": {
              "color": "white"
             }
            },
            "type": "table"
           }
          ]
         },
         "layout": {
          "annotationdefaults": {
           "arrowcolor": "#2a3f5f",
           "arrowhead": 0,
           "arrowwidth": 1
          },
          "autotypenumbers": "strict",
          "coloraxis": {
           "colorbar": {
            "outlinewidth": 0,
            "ticks": ""
           }
          },
          "colorscale": {
           "diverging": [
            [
             0,
             "#8e0152"
            ],
            [
             0.1,
             "#c51b7d"
            ],
            [
             0.2,
             "#de77ae"
            ],
            [
             0.3,
             "#f1b6da"
            ],
            [
             0.4,
             "#fde0ef"
            ],
            [
             0.5,
             "#f7f7f7"
            ],
            [
             0.6,
             "#e6f5d0"
            ],
            [
             0.7,
             "#b8e186"
            ],
            [
             0.8,
             "#7fbc41"
            ],
            [
             0.9,
             "#4d9221"
            ],
            [
             1,
             "#276419"
            ]
           ],
           "sequential": [
            [
             0,
             "#0d0887"
            ],
            [
             0.1111111111111111,
             "#46039f"
            ],
            [
             0.2222222222222222,
             "#7201a8"
            ],
            [
             0.3333333333333333,
             "#9c179e"
            ],
            [
             0.4444444444444444,
             "#bd3786"
            ],
            [
             0.5555555555555556,
             "#d8576b"
            ],
            [
             0.6666666666666666,
             "#ed7953"
            ],
            [
             0.7777777777777778,
             "#fb9f3a"
            ],
            [
             0.8888888888888888,
             "#fdca26"
            ],
            [
             1,
             "#f0f921"
            ]
           ],
           "sequentialminus": [
            [
             0,
             "#0d0887"
            ],
            [
             0.1111111111111111,
             "#46039f"
            ],
            [
             0.2222222222222222,
             "#7201a8"
            ],
            [
             0.3333333333333333,
             "#9c179e"
            ],
            [
             0.4444444444444444,
             "#bd3786"
            ],
            [
             0.5555555555555556,
             "#d8576b"
            ],
            [
             0.6666666666666666,
             "#ed7953"
            ],
            [
             0.7777777777777778,
             "#fb9f3a"
            ],
            [
             0.8888888888888888,
             "#fdca26"
            ],
            [
             1,
             "#f0f921"
            ]
           ]
          },
          "colorway": [
           "#636efa",
           "#EF553B",
           "#00cc96",
           "#ab63fa",
           "#FFA15A",
           "#19d3f3",
           "#FF6692",
           "#B6E880",
           "#FF97FF",
           "#FECB52"
          ],
          "font": {
           "color": "#2a3f5f"
          },
          "geo": {
           "bgcolor": "white",
           "lakecolor": "white",
           "landcolor": "white",
           "showlakes": true,
           "showland": true,
           "subunitcolor": "#C8D4E3"
          },
          "hoverlabel": {
           "align": "left"
          },
          "hovermode": "closest",
          "mapbox": {
           "style": "light"
          },
          "paper_bgcolor": "white",
          "plot_bgcolor": "white",
          "polar": {
           "angularaxis": {
            "gridcolor": "#EBF0F8",
            "linecolor": "#EBF0F8",
            "ticks": ""
           },
           "bgcolor": "white",
           "radialaxis": {
            "gridcolor": "#EBF0F8",
            "linecolor": "#EBF0F8",
            "ticks": ""
           }
          },
          "scene": {
           "xaxis": {
            "backgroundcolor": "white",
            "gridcolor": "#DFE8F3",
            "gridwidth": 2,
            "linecolor": "#EBF0F8",
            "showbackground": true,
            "ticks": "",
            "zerolinecolor": "#EBF0F8"
           },
           "yaxis": {
            "backgroundcolor": "white",
            "gridcolor": "#DFE8F3",
            "gridwidth": 2,
            "linecolor": "#EBF0F8",
            "showbackground": true,
            "ticks": "",
            "zerolinecolor": "#EBF0F8"
           },
           "zaxis": {
            "backgroundcolor": "white",
            "gridcolor": "#DFE8F3",
            "gridwidth": 2,
            "linecolor": "#EBF0F8",
            "showbackground": true,
            "ticks": "",
            "zerolinecolor": "#EBF0F8"
           }
          },
          "shapedefaults": {
           "line": {
            "color": "#2a3f5f"
           }
          },
          "ternary": {
           "aaxis": {
            "gridcolor": "#DFE8F3",
            "linecolor": "#A2B1C6",
            "ticks": ""
           },
           "baxis": {
            "gridcolor": "#DFE8F3",
            "linecolor": "#A2B1C6",
            "ticks": ""
           },
           "bgcolor": "white",
           "caxis": {
            "gridcolor": "#DFE8F3",
            "linecolor": "#A2B1C6",
            "ticks": ""
           }
          },
          "title": {
           "x": 0.05
          },
          "xaxis": {
           "automargin": true,
           "gridcolor": "#EBF0F8",
           "linecolor": "#EBF0F8",
           "ticks": "",
           "title": {
            "standoff": 15
           },
           "zerolinecolor": "#EBF0F8",
           "zerolinewidth": 2
          },
          "yaxis": {
           "automargin": true,
           "gridcolor": "#EBF0F8",
           "linecolor": "#EBF0F8",
           "ticks": "",
           "title": {
            "standoff": 15
           },
           "zerolinecolor": "#EBF0F8",
           "zerolinewidth": 2
          }
         }
        },
        "title": {
         "text": "Download Speed Comparison: Mean vs Median (IPv4 vs IPv6)"
        },
        "width": 800,
        "xaxis": {
         "title": {
          "text": "Protocol"
         }
        },
        "yaxis": {
         "title": {
          "text": "Speed (Mbps)"
         }
        }
       }
      }
     },
     "metadata": {},
     "output_type": "display_data"
    }
   ],
   "source": [
    "fig1 = go.Figure()\n",
    "fig1.add_trace(go.Bar(\n",
    "    x=download_stats_df['Protocol'],\n",
    "    y=download_stats_df['Mean Speed (Mbps)'],\n",
    "    name='Mean Speed (Mbps)',\n",
    "    marker_color='indianred',\n",
    "    text=download_stats_df['Mean Speed (Mbps)'].round(2),\n",
    "    textposition='auto'\n",
    "))\n",
    "fig1.add_trace(go.Bar(\n",
    "    x=download_stats_df['Protocol'],\n",
    "    y=download_stats_df['Median Speed (Mbps)'],\n",
    "    name='Median Speed (Mbps)',\n",
    "    marker_color='lightseagreen',\n",
    "    text=download_stats_df['Median Speed (Mbps)'].round(2),\n",
    "    textposition='auto'\n",
    "))\n",
    "\n",
    "fig1.update_layout(\n",
    "    title='Download Speed Comparison: Mean vs Median (IPv4 vs IPv6)',\n",
    "    xaxis_title='Protocol',\n",
    "    yaxis_title='Speed (Mbps)',\n",
    "    barmode='group',\n",
    "    height=500,\n",
    "    width=800,\n",
    "    legend_title='Metric',\n",
    "    template='plotly_white'\n",
    ")\n",
    "\n",
    "# fig1.write_html(\"../reports/viz/download_performance/download_speed_comparison.html\")"
   ]
  },
  {
   "cell_type": "markdown",
   "metadata": {},
   "source": [
    "####  Bar Chart: Success Rate and Average Fetch Time for Downloading Metrics\n"
   ]
  },
  {
   "cell_type": "code",
   "execution_count": 13,
   "metadata": {},
   "outputs": [
    {
     "data": {
      "application/vnd.plotly.v1+json": {
       "config": {
        "plotlyServerURL": "https://plot.ly"
       },
       "data": [
        {
         "marker": {
          "color": "indianred"
         },
         "name": "Success Rate (%)",
         "text": {
          "bdata": "UrgehevhWEDsUbgehRtXQA==",
          "dtype": "f8"
         },
         "textposition": "auto",
         "type": "bar",
         "x": [
          "IPv4",
          "IPv6"
         ],
         "xaxis": "x",
         "y": {
          "bdata": "1aQfVADiWECl1nYVvxtXQA==",
          "dtype": "f8"
         },
         "yaxis": "y"
        },
        {
         "line": {
          "color": "lightseagreen",
          "width": 2
         },
         "marker": {
          "color": "lightseagreen",
          "size": 10
         },
         "mode": "lines+markers+text",
         "name": "Avg Fetch Time (ms)",
         "text": {
          "bdata": "w/UoXC+Iw0DXo3A9ikTCQA==",
          "dtype": "f8"
         },
         "textposition": "top center",
         "type": "scatter",
         "x": [
          "IPv4",
          "IPv6"
         ],
         "xaxis": "x",
         "y": {
          "bdata": "Jj0bVi+Iw0B2EiggikTCQA==",
          "dtype": "f8"
         },
         "yaxis": "y2"
        }
       ],
       "layout": {
        "barmode": "group",
        "height": 500,
        "legend": {
         "title": {
          "text": "Metric"
         }
        },
        "template": {
         "data": {
          "bar": [
           {
            "error_x": {
             "color": "#2a3f5f"
            },
            "error_y": {
             "color": "#2a3f5f"
            },
            "marker": {
             "line": {
              "color": "white",
              "width": 0.5
             },
             "pattern": {
              "fillmode": "overlay",
              "size": 10,
              "solidity": 0.2
             }
            },
            "type": "bar"
           }
          ],
          "barpolar": [
           {
            "marker": {
             "line": {
              "color": "white",
              "width": 0.5
             },
             "pattern": {
              "fillmode": "overlay",
              "size": 10,
              "solidity": 0.2
             }
            },
            "type": "barpolar"
           }
          ],
          "carpet": [
           {
            "aaxis": {
             "endlinecolor": "#2a3f5f",
             "gridcolor": "#C8D4E3",
             "linecolor": "#C8D4E3",
             "minorgridcolor": "#C8D4E3",
             "startlinecolor": "#2a3f5f"
            },
            "baxis": {
             "endlinecolor": "#2a3f5f",
             "gridcolor": "#C8D4E3",
             "linecolor": "#C8D4E3",
             "minorgridcolor": "#C8D4E3",
             "startlinecolor": "#2a3f5f"
            },
            "type": "carpet"
           }
          ],
          "choropleth": [
           {
            "colorbar": {
             "outlinewidth": 0,
             "ticks": ""
            },
            "type": "choropleth"
           }
          ],
          "contour": [
           {
            "colorbar": {
             "outlinewidth": 0,
             "ticks": ""
            },
            "colorscale": [
             [
              0,
              "#0d0887"
             ],
             [
              0.1111111111111111,
              "#46039f"
             ],
             [
              0.2222222222222222,
              "#7201a8"
             ],
             [
              0.3333333333333333,
              "#9c179e"
             ],
             [
              0.4444444444444444,
              "#bd3786"
             ],
             [
              0.5555555555555556,
              "#d8576b"
             ],
             [
              0.6666666666666666,
              "#ed7953"
             ],
             [
              0.7777777777777778,
              "#fb9f3a"
             ],
             [
              0.8888888888888888,
              "#fdca26"
             ],
             [
              1,
              "#f0f921"
             ]
            ],
            "type": "contour"
           }
          ],
          "contourcarpet": [
           {
            "colorbar": {
             "outlinewidth": 0,
             "ticks": ""
            },
            "type": "contourcarpet"
           }
          ],
          "heatmap": [
           {
            "colorbar": {
             "outlinewidth": 0,
             "ticks": ""
            },
            "colorscale": [
             [
              0,
              "#0d0887"
             ],
             [
              0.1111111111111111,
              "#46039f"
             ],
             [
              0.2222222222222222,
              "#7201a8"
             ],
             [
              0.3333333333333333,
              "#9c179e"
             ],
             [
              0.4444444444444444,
              "#bd3786"
             ],
             [
              0.5555555555555556,
              "#d8576b"
             ],
             [
              0.6666666666666666,
              "#ed7953"
             ],
             [
              0.7777777777777778,
              "#fb9f3a"
             ],
             [
              0.8888888888888888,
              "#fdca26"
             ],
             [
              1,
              "#f0f921"
             ]
            ],
            "type": "heatmap"
           }
          ],
          "histogram": [
           {
            "marker": {
             "pattern": {
              "fillmode": "overlay",
              "size": 10,
              "solidity": 0.2
             }
            },
            "type": "histogram"
           }
          ],
          "histogram2d": [
           {
            "colorbar": {
             "outlinewidth": 0,
             "ticks": ""
            },
            "colorscale": [
             [
              0,
              "#0d0887"
             ],
             [
              0.1111111111111111,
              "#46039f"
             ],
             [
              0.2222222222222222,
              "#7201a8"
             ],
             [
              0.3333333333333333,
              "#9c179e"
             ],
             [
              0.4444444444444444,
              "#bd3786"
             ],
             [
              0.5555555555555556,
              "#d8576b"
             ],
             [
              0.6666666666666666,
              "#ed7953"
             ],
             [
              0.7777777777777778,
              "#fb9f3a"
             ],
             [
              0.8888888888888888,
              "#fdca26"
             ],
             [
              1,
              "#f0f921"
             ]
            ],
            "type": "histogram2d"
           }
          ],
          "histogram2dcontour": [
           {
            "colorbar": {
             "outlinewidth": 0,
             "ticks": ""
            },
            "colorscale": [
             [
              0,
              "#0d0887"
             ],
             [
              0.1111111111111111,
              "#46039f"
             ],
             [
              0.2222222222222222,
              "#7201a8"
             ],
             [
              0.3333333333333333,
              "#9c179e"
             ],
             [
              0.4444444444444444,
              "#bd3786"
             ],
             [
              0.5555555555555556,
              "#d8576b"
             ],
             [
              0.6666666666666666,
              "#ed7953"
             ],
             [
              0.7777777777777778,
              "#fb9f3a"
             ],
             [
              0.8888888888888888,
              "#fdca26"
             ],
             [
              1,
              "#f0f921"
             ]
            ],
            "type": "histogram2dcontour"
           }
          ],
          "mesh3d": [
           {
            "colorbar": {
             "outlinewidth": 0,
             "ticks": ""
            },
            "type": "mesh3d"
           }
          ],
          "parcoords": [
           {
            "line": {
             "colorbar": {
              "outlinewidth": 0,
              "ticks": ""
             }
            },
            "type": "parcoords"
           }
          ],
          "pie": [
           {
            "automargin": true,
            "type": "pie"
           }
          ],
          "scatter": [
           {
            "fillpattern": {
             "fillmode": "overlay",
             "size": 10,
             "solidity": 0.2
            },
            "type": "scatter"
           }
          ],
          "scatter3d": [
           {
            "line": {
             "colorbar": {
              "outlinewidth": 0,
              "ticks": ""
             }
            },
            "marker": {
             "colorbar": {
              "outlinewidth": 0,
              "ticks": ""
             }
            },
            "type": "scatter3d"
           }
          ],
          "scattercarpet": [
           {
            "marker": {
             "colorbar": {
              "outlinewidth": 0,
              "ticks": ""
             }
            },
            "type": "scattercarpet"
           }
          ],
          "scattergeo": [
           {
            "marker": {
             "colorbar": {
              "outlinewidth": 0,
              "ticks": ""
             }
            },
            "type": "scattergeo"
           }
          ],
          "scattergl": [
           {
            "marker": {
             "colorbar": {
              "outlinewidth": 0,
              "ticks": ""
             }
            },
            "type": "scattergl"
           }
          ],
          "scattermap": [
           {
            "marker": {
             "colorbar": {
              "outlinewidth": 0,
              "ticks": ""
             }
            },
            "type": "scattermap"
           }
          ],
          "scattermapbox": [
           {
            "marker": {
             "colorbar": {
              "outlinewidth": 0,
              "ticks": ""
             }
            },
            "type": "scattermapbox"
           }
          ],
          "scatterpolar": [
           {
            "marker": {
             "colorbar": {
              "outlinewidth": 0,
              "ticks": ""
             }
            },
            "type": "scatterpolar"
           }
          ],
          "scatterpolargl": [
           {
            "marker": {
             "colorbar": {
              "outlinewidth": 0,
              "ticks": ""
             }
            },
            "type": "scatterpolargl"
           }
          ],
          "scatterternary": [
           {
            "marker": {
             "colorbar": {
              "outlinewidth": 0,
              "ticks": ""
             }
            },
            "type": "scatterternary"
           }
          ],
          "surface": [
           {
            "colorbar": {
             "outlinewidth": 0,
             "ticks": ""
            },
            "colorscale": [
             [
              0,
              "#0d0887"
             ],
             [
              0.1111111111111111,
              "#46039f"
             ],
             [
              0.2222222222222222,
              "#7201a8"
             ],
             [
              0.3333333333333333,
              "#9c179e"
             ],
             [
              0.4444444444444444,
              "#bd3786"
             ],
             [
              0.5555555555555556,
              "#d8576b"
             ],
             [
              0.6666666666666666,
              "#ed7953"
             ],
             [
              0.7777777777777778,
              "#fb9f3a"
             ],
             [
              0.8888888888888888,
              "#fdca26"
             ],
             [
              1,
              "#f0f921"
             ]
            ],
            "type": "surface"
           }
          ],
          "table": [
           {
            "cells": {
             "fill": {
              "color": "#EBF0F8"
             },
             "line": {
              "color": "white"
             }
            },
            "header": {
             "fill": {
              "color": "#C8D4E3"
             },
             "line": {
              "color": "white"
             }
            },
            "type": "table"
           }
          ]
         },
         "layout": {
          "annotationdefaults": {
           "arrowcolor": "#2a3f5f",
           "arrowhead": 0,
           "arrowwidth": 1
          },
          "autotypenumbers": "strict",
          "coloraxis": {
           "colorbar": {
            "outlinewidth": 0,
            "ticks": ""
           }
          },
          "colorscale": {
           "diverging": [
            [
             0,
             "#8e0152"
            ],
            [
             0.1,
             "#c51b7d"
            ],
            [
             0.2,
             "#de77ae"
            ],
            [
             0.3,
             "#f1b6da"
            ],
            [
             0.4,
             "#fde0ef"
            ],
            [
             0.5,
             "#f7f7f7"
            ],
            [
             0.6,
             "#e6f5d0"
            ],
            [
             0.7,
             "#b8e186"
            ],
            [
             0.8,
             "#7fbc41"
            ],
            [
             0.9,
             "#4d9221"
            ],
            [
             1,
             "#276419"
            ]
           ],
           "sequential": [
            [
             0,
             "#0d0887"
            ],
            [
             0.1111111111111111,
             "#46039f"
            ],
            [
             0.2222222222222222,
             "#7201a8"
            ],
            [
             0.3333333333333333,
             "#9c179e"
            ],
            [
             0.4444444444444444,
             "#bd3786"
            ],
            [
             0.5555555555555556,
             "#d8576b"
            ],
            [
             0.6666666666666666,
             "#ed7953"
            ],
            [
             0.7777777777777778,
             "#fb9f3a"
            ],
            [
             0.8888888888888888,
             "#fdca26"
            ],
            [
             1,
             "#f0f921"
            ]
           ],
           "sequentialminus": [
            [
             0,
             "#0d0887"
            ],
            [
             0.1111111111111111,
             "#46039f"
            ],
            [
             0.2222222222222222,
             "#7201a8"
            ],
            [
             0.3333333333333333,
             "#9c179e"
            ],
            [
             0.4444444444444444,
             "#bd3786"
            ],
            [
             0.5555555555555556,
             "#d8576b"
            ],
            [
             0.6666666666666666,
             "#ed7953"
            ],
            [
             0.7777777777777778,
             "#fb9f3a"
            ],
            [
             0.8888888888888888,
             "#fdca26"
            ],
            [
             1,
             "#f0f921"
            ]
           ]
          },
          "colorway": [
           "#636efa",
           "#EF553B",
           "#00cc96",
           "#ab63fa",
           "#FFA15A",
           "#19d3f3",
           "#FF6692",
           "#B6E880",
           "#FF97FF",
           "#FECB52"
          ],
          "font": {
           "color": "#2a3f5f"
          },
          "geo": {
           "bgcolor": "white",
           "lakecolor": "white",
           "landcolor": "white",
           "showlakes": true,
           "showland": true,
           "subunitcolor": "#C8D4E3"
          },
          "hoverlabel": {
           "align": "left"
          },
          "hovermode": "closest",
          "mapbox": {
           "style": "light"
          },
          "paper_bgcolor": "white",
          "plot_bgcolor": "white",
          "polar": {
           "angularaxis": {
            "gridcolor": "#EBF0F8",
            "linecolor": "#EBF0F8",
            "ticks": ""
           },
           "bgcolor": "white",
           "radialaxis": {
            "gridcolor": "#EBF0F8",
            "linecolor": "#EBF0F8",
            "ticks": ""
           }
          },
          "scene": {
           "xaxis": {
            "backgroundcolor": "white",
            "gridcolor": "#DFE8F3",
            "gridwidth": 2,
            "linecolor": "#EBF0F8",
            "showbackground": true,
            "ticks": "",
            "zerolinecolor": "#EBF0F8"
           },
           "yaxis": {
            "backgroundcolor": "white",
            "gridcolor": "#DFE8F3",
            "gridwidth": 2,
            "linecolor": "#EBF0F8",
            "showbackground": true,
            "ticks": "",
            "zerolinecolor": "#EBF0F8"
           },
           "zaxis": {
            "backgroundcolor": "white",
            "gridcolor": "#DFE8F3",
            "gridwidth": 2,
            "linecolor": "#EBF0F8",
            "showbackground": true,
            "ticks": "",
            "zerolinecolor": "#EBF0F8"
           }
          },
          "shapedefaults": {
           "line": {
            "color": "#2a3f5f"
           }
          },
          "ternary": {
           "aaxis": {
            "gridcolor": "#DFE8F3",
            "linecolor": "#A2B1C6",
            "ticks": ""
           },
           "baxis": {
            "gridcolor": "#DFE8F3",
            "linecolor": "#A2B1C6",
            "ticks": ""
           },
           "bgcolor": "white",
           "caxis": {
            "gridcolor": "#DFE8F3",
            "linecolor": "#A2B1C6",
            "ticks": ""
           }
          },
          "title": {
           "x": 0.05
          },
          "xaxis": {
           "automargin": true,
           "gridcolor": "#EBF0F8",
           "linecolor": "#EBF0F8",
           "ticks": "",
           "title": {
            "standoff": 15
           },
           "zerolinecolor": "#EBF0F8",
           "zerolinewidth": 2
          },
          "yaxis": {
           "automargin": true,
           "gridcolor": "#EBF0F8",
           "linecolor": "#EBF0F8",
           "ticks": "",
           "title": {
            "standoff": 15
           },
           "zerolinecolor": "#EBF0F8",
           "zerolinewidth": 2
          }
         }
        },
        "title": {
         "text": "Success Rate vs Average Fetch Time (IPv4 vs IPv6)"
        },
        "width": 800,
        "xaxis": {
         "anchor": "y",
         "domain": [
          0,
          0.94
         ],
         "title": {
          "text": "Protocol"
         }
        },
        "yaxis": {
         "anchor": "x",
         "domain": [
          0,
          1
         ],
         "range": [
          90,
          100
         ],
         "title": {
          "text": "Success Rate (%)"
         }
        },
        "yaxis2": {
         "anchor": "x",
         "overlaying": "y",
         "range": [
          9000,
          10500
         ],
         "side": "right",
         "title": {
          "text": "Avg Fetch Time (ms)"
         }
        }
       }
      }
     },
     "metadata": {},
     "output_type": "display_data"
    }
   ],
   "source": [
    "fig2 = make_subplots(specs=[[{\"secondary_y\": True}]])\n",
    "# Bar chart for Success Rate (%) on primary Y-axis\n",
    "fig2.add_trace(\n",
    "    go.Bar(\n",
    "        x=download_stats_df['Protocol'],\n",
    "        y=download_stats_df['Success Rate (%)'],\n",
    "        name='Success Rate (%)',\n",
    "        marker_color='indianred',\n",
    "        text=download_stats_df['Success Rate (%)'].round(2),\n",
    "        textposition='auto'\n",
    "    ),\n",
    "    secondary_y=False\n",
    ")\n",
    "\n",
    "# Line chart with markers for Avg Fetch Time (ms) on secondary Y-axis\n",
    "fig2.add_trace(\n",
    "    go.Scatter(\n",
    "        x=download_stats_df['Protocol'],\n",
    "        y=download_stats_df['Avg Fetch Time (ms)'],\n",
    "        name='Avg Fetch Time (ms)',\n",
    "        mode='lines+markers+text',\n",
    "        marker=dict(color='lightseagreen', size=10),\n",
    "        line=dict(color='lightseagreen', width=2),\n",
    "        text=download_stats_df['Avg Fetch Time (ms)'].round(2),\n",
    "        textposition='top center'\n",
    "    ),\n",
    "    secondary_y=True\n",
    ")\n",
    "\n",
    "# Update layout for clarity\n",
    "fig2.update_layout(\n",
    "    title='Success Rate vs Average Fetch Time (IPv4 vs IPv6)',\n",
    "    xaxis_title='Protocol',\n",
    "    height=500,\n",
    "    width=800,\n",
    "    template='plotly_white',\n",
    "    legend_title='Metric',\n",
    "    barmode='group'  # Only affects bars, not the line\n",
    ")\n",
    "\n",
    "fig2.update_yaxes(title_text='Success Rate (%)', secondary_y=False, range=[90, 100])  # Adjusted range for better visibility\n",
    "fig2.update_yaxes(title_text='Avg Fetch Time (ms)', secondary_y=True, range=[9000, 10500])  # Adjusted range\n",
    "\n",
    "# fig2.write_html(\"../reports/viz/download_performance/success_fetch_comparison_corrected.html\")\n",
    "\n"
   ]
  },
  {
   "cell_type": "markdown",
   "metadata": {},
   "source": [
    "#### Average Download Speed by Target Server for Downloading Metrics"
   ]
  },
  {
   "cell_type": "code",
   "execution_count": 14,
   "metadata": {},
   "outputs": [],
   "source": [
    "# 2. Average Download Speed by Target Server\n",
    "download_ipv4_server_stats = df_httpgetmt.groupby('target')['mbps'].agg(['mean', 'count']).reset_index().sort_values(by='mean', ascending=True)\n",
    "download_ipv6_server_stats = df_curr_httpgetmt6.groupby('target')['mbps'].agg(['mean', 'count']).reset_index().sort_values(by='mean', ascending=True)"
   ]
  },
  {
   "cell_type": "code",
   "execution_count": 15,
   "metadata": {},
   "outputs": [
    {
     "data": {
      "application/vnd.plotly.v1+json": {
       "config": {
        "plotlyServerURL": "https://plot.ly"
       },
       "data": [
        {
         "name": "IPv4",
         "text": {
          "bdata": "AAAAAAAAGEAAAAAAAADwPwAAAAAAAABAAAAAAAAAAEAAAAAAAAAAQAAAAAAAAABAAAAAAAAAEEAAAAAAAAAzQAAAAAAAABRAAAAAAAAAHEAAAAAAAAAIQAAAAAAAAFtAAAAAAAAAJEAAAAAAAAAYQAAAAAAAAAhAAAAAAABqpEAAAAAAgGvdQAAAAAAAAChAAAAAAACgYkAAAAAAAFqoQAAAAAAAtLVAAAAAAACojEAAAAAAAEiVQAAAAACAWN1AAAAAAABMkkAAAAAAAKSaQAAAAAAAADNAAAAAAABIkEAAAAAAIDflQAAAAAAA+JNAAAAAAAAASkAAAAAAAMySQAAAAABgQ+pAAAAAAGAx5kAAAAAA4O3vQAAAAABw/fFAAAAAAAAgmEAAAAAAAMu6QAAAAADAnfJAAAAAAABGsEAAAAAAAO6zQAAAAABA+e1AAAAAAABgd0AAAAAAAM2xQAAAAAAAOIZAAAAAAABQf0AAAAAAALqgQAAAAAAAHqNAAAAAAACAgEAAAAAAwD3XQAAAAAAA7qJAAAAAAADIgUAAAAAAAEB8QAAAAAAAgHRAAAAAAADuqEAAAAAAAA6iQAAAAAAA2LpAAAAAAACAbUAAAAAAAGCSQAAAAAAA1KhAAAAAAACUoUAAAAAAACCQQAAAAABAruFAAAAAACDR5EAAAAAAAKBsQAAAAAAAeJBAAAAAAADohUAAAAAAACiBQAAAAAAAyJVAAAAAAABAUEAAAAAAAAiQQAAAAAAAbJFAAAAAAACgdEAAAAAAAHCCQAAAAAAAMIVAAAAAAIBi20AAAAAAACC/QAAAAAAAUJJAAAAAAAAAZEAAAAAAAGBnQAAAAAAAsHtAAAAAAABgeEAAAAAAAEBvQAAAAAAA+IxAAAAAAACgg0AAAAAAALCCQAAAAAAAeKNAAAAAAABEkkAAAAAAAIiJQAAAAAAAgE5AAAAAAAAlt0AAAAAAAJSTQAAAAAAAjJBAAAAAAAAAdEAAAAAAAOBkQAAAAAAA4GxAAAAAAABAUkAAAAAAAOBjQAAAAAAAoGhAAAAAAAAQcEAAAAAAAASoQAAAAAAAYGFAAAAAAADwdUAAAAAAAEChQAAAAAAAIHlAAAAAAAAAXUA=",
          "dtype": "f8"
         },
         "textposition": "auto",
         "type": "bar",
         "x": [
          "lithiasprings.att.samknows.com",
          "onnet-fcc",
          "orlando.att.samknows.com",
          "redwood.att.samknows.com",
          "ispsk07.windstream.net",
          "ispsk02.windstream.net",
          "allen.att.samknows.com",
          "samk01.plal.ca.frontiernet.net",
          "sandiego.att.samknows.com",
          "offnet-fcc-2023",
          "1-winterparkfl-on.centurylink.net",
          "1-atlantaga-on.centurylink.net",
          "secaucus01.att.samknows.com",
          "lisle.att.samknows.com",
          "sp2-vm-ashburn-us.samknows.com",
          "samk01.chcg.il.frontiernet.net",
          "1-lasvegasnv-on.centurylink.net",
          "11-on-national-independence.samknows.comcast.net",
          "05-on-national-la.samknows.comcast.net",
          "1-seattlewa-on.centurylink.net",
          "samk01.asbn.va.frontiernet.net",
          "fcc01spbgsc.spbg.sc.charter.com",
          "fcc01euclwi.eucl.wi.charter.com",
          "sp1-vm-denver-us.samknows.com",
          "t1.st.dca10.tbone.rr.com",
          "fcc01mtpkca.mtpk.ca.charter.com",
          "n1-fcc-detroit-us.samknows.com",
          "f1.st.dca10.tbone.rr.com",
          "sp1-vm-seattle-us.samknows.com",
          "t1.st.lax00.tbone.rr.com",
          "16-on-regional-pima.samknows.comcast.net",
          "fcc01olvemo.olve.mo.charter.com",
          "sp1-vm-losangeles-us.samknows.com",
          "sp1-vm-dallas-us.samknows.com",
          "sp1-vm-atlanta-us.samknows.com",
          "sp1-vm-chicago-us.samknows.com",
          "f1.st.lax00.tbone.rr.com",
          "sk-1.uhnet.net",
          "sp2-vm-chicago-us.samknows.com",
          "samk01.lsan.ca.frontiernet.net",
          "samk01.dlls.tx.frontiernet.net",
          "sp1-vm-ashburn-us.samknows.com",
          "12-on-regional-miami.samknows.comcast.net",
          "prnynj-1-on.cv.net",
          "t1.st.nyc20.tbone.rr.com",
          "f1.st.dfw10.tbone.rr.com",
          "f1.st.chi10.tbone.rr.com",
          "t1.st.chi10.tbone.rr.com",
          "t1.st.dfw10.tbone.rr.com",
          "sp1-vm-miami-us.samknows.com",
          "hcvlny-2-on.cv.net",
          "f1.st.nyc20.tbone.rr.com",
          "13-on-regional-atlanta.samknows.comcast.net",
          "07-on-national-miami.samknows.comcast.net",
          "2-sandiego-on.west.cox.net",
          "t1.st.atl20.tbone.rr.com",
          "restonfcc.west.verizon.net",
          "fcc01oxfrma.oxfr.ma.charter.com",
          "06-on-regional-chicago.samknows.comcast.net",
          "1-atlanta-on.east.cox.net",
          "whplny-1-on.cv.net",
          "02-on-national-dc.samknows.comcast.net",
          "sp1-vm-newyork-us.samknows.com",
          "sp2-vm-newyork-us.samknows.com",
          "sksat-abrn-01.sys.comcast.net",
          "03-on-regional-dc.samknows.comcast.net",
          "19-on-regional-richmond.samknows.comcast.net",
          "27-on-regional-woodstockatlanta.sys.comcast.net",
          "samknows.hawaiiantel.net",
          "n1-fcc-minneapolis-us.samknows.com",
          "10-on-regional-detroit.samknows.comcast.net",
          "04-on-national-chicago.samknows.comcast.net",
          "n1-fcc-chicago-us.samknows.com",
          "17-on-regional-northnj.samknows.comcast.net",
          "03-on-national-northnj.samknows.comcast.net",
          "sp1-vm-sanjose-us.samknows.com",
          "newyorkfcc.west.verizon.net",
          "10-on-national-denver.samknows.comcast.net",
          "20-on-regional-saltlakecity.samknows.comcast.net",
          "15-on-regional-newcastle.samknows.comcast.net",
          "08-on-national-atlanta.samknows.comcast.net",
          "01-on-regional-albuquerque.samknows.comcast.net",
          "n1-fcc-atlanta-us.samknows.com",
          "09-on-national-seattle.samknows.comcast.net",
          "07-on-regional-nashville.samknows.comcast.net",
          "05-on-regional-houston.samknows.comcast.net",
          "02-on-regional-boston.samknows.comcast.net",
          "sksat-scrm-01.sys.comcast.net",
          "18-on-regional-portland.samknows.comcast.net",
          "24-on-regional-augusta.samknows.comcast.net",
          "1-iowa-on.mchsi.com",
          "sksat-crls-01.sys.comcast.net",
          "21-on-regional-seattle.samknows.comcast.net",
          "n1-fcc-ashburn-us.samknows.com",
          "n1-fcc-miami-us.samknows.com",
          "n1-fcc-newyork-us.samknows.com",
          "n1-fcc-boston-us.samknows.com",
          "n1-fcc-seattle-us.samknows.com",
          "n1-fcc-dallas-us.samknows.com",
          "n1-fcc-losangeles-us.samknows.com",
          "12-on-national-santaclara.samknows.comcast.net",
          "n1-fcc-denver-us.samknows.com",
          "25-on-regional-naples.samknows.comcast.net",
          "sksat-scla-01.sys.comcast.net",
          "14-on-regional-tallahassee.samknows.comcast.net",
          "n1-fcc-sanjose-us.samknows.com"
         ],
         "y": {
          "bdata": "AAAAAAAAAAAAAAAAAAAAAAAAAAAAAAAAAAAAAAAAAAAAAAAAAAAAAAAAAAAAAAAAAAAAAAAAAAAAAAAAAAAAAAAAAAAAAAAAAAAAAAAAAAAAAAAAAAAAAAAAAAAAAAAAAAAAAAAAAADQ0D/BxYpaPyW2qDynxk9ACHpMbuEjUEAC7AZ1mBxaQH2cVve1WVtAL65Ij4ZCYEAhKRai/dxgQMBD/20SmGdAFzk4bfklaED9dJo1jNdoQBrE0h71QGlAzdawY4yMakDjweime9dqQDG2BzOCrGxA3jCBSmPnbEDifj4vUQttQNsmTHeod21AFYwESIWxbUDjN0mciiRuQD0vtkZubG5AfppCeE4Ub0AlTTEVYWZvQDeZ9QmOp29AYRmQV5AzcECfBStrBUhwQHf7QRLlXXBAIGArIWmZcEA7YNnIehBxQMp3mGOkEXFAEjm2A1E2cUCzsOzb4lVxQEW1z8MVY3FAu6kHnFlscUCFZrf+SoFxQI2eLPK4iHFAunsWo+ObcUDqO6A40uJxQOkepD4m5HFAF35CnMdqckCswq4KQn1yQJCjZI0csXJAOgC41uz8ckBHKiYvdHlzQNL/QcoTe3NAJtKTgperc0CeK0OIRRd0QJcRu1uvfXRAJAIB7bOXdECyh6+2wpd0QMXUKnTewHRA9jIqoEnSdEB6dF5O3Zd1QIwalZcZ13VAXP2KkSTYdUBMqqZ0rvd1QLTbd7t1EnZABp37IvUldkD+3/qlW2t2QAt6Pzo6kHZAGC/0KJK+dkBUG2nG6NN2QPre2OyFgHdAuozJu/KId0Dt77mcMK13QGqjdh9ahXhAY6TNJ8GTeED0oqIoOr14QDPARDfL9nhAGqJBQWBPeUAKqSlpyIl5QPAwIqrPmXlAh8PrsTmieUCmnPa/qTt6QLuHxGLwI3tAIcO0duRNe0As096EeRZ8QOfQ48D3THxAUFKz9vHYfEDkVxMIWRp9QHeZYZapYn1AiuAkclZ2fUAfpJgrc3p9QLzkkNebBn5AodHTs78hf0CEVqqkKjl/QPb6iYP1LoBAETErDm2hgECblyV8OKuAQJlen11nCYFAfQLw4kCegUBdS0BhCviBQE7JWiMLZoNAdU4cdSi+g0A=",
          "dtype": "f8"
         }
        },
        {
         "name": "IPv6",
         "text": {
          "bdata": "AAAAAAAACEAAAAAAAAA0QAAAAAAAAElAAAAAAACAVEAAAAAAAIBJQAAAAAAAAFFAAAAAAACATEAAAAAAAABLQAAAAAAAADhAAAAAAAAAHEAAAAAAAAA2QAAAAAAAgElA",
          "dtype": "f8"
         },
         "textposition": "auto",
         "type": "bar",
         "x": [
          "v6-n1-fcc-detroit-us.samknows.com",
          "v6-n1-fcc-seattle-us.samknows.com",
          "v6-n1-fcc-newyork-us.samknows.com",
          "v6-n1-fcc-ashburn-us.samknows.com",
          "v6-n1-fcc-denver-us.samknows.com",
          "v6-n1-fcc-losangeles-us.samknows.com",
          "v6-n1-fcc-sanjose-us.samknows.com",
          "v6-n1-fcc-chicago-us.samknows.com",
          "v6-n1-fcc-boston-us.samknows.com",
          "v6-n1-fcc-minneapolis-us.samknows.com",
          "v6-n1-fcc-atlanta-us.samknows.com",
          "v6-n1-fcc-dallas-us.samknows.com"
         ],
         "y": {
          "bdata": "u/YF9MKdGkBRwkzbPxVzQKrrFqK/63hAhOpD3M+Wg0A89dR2n2KEQAsd34IQ4oRA/4miHq3jhUD4w5S+JJ+HQHmbJIMJ1YdACZNkWtyYiEAWCgR4dYiJQGsK02YLF4tA",
          "dtype": "f8"
         }
        }
       ],
       "layout": {
        "barmode": "group",
        "height": 600,
        "template": {
         "data": {
          "bar": [
           {
            "error_x": {
             "color": "#2a3f5f"
            },
            "error_y": {
             "color": "#2a3f5f"
            },
            "marker": {
             "line": {
              "color": "#E5ECF6",
              "width": 0.5
             },
             "pattern": {
              "fillmode": "overlay",
              "size": 10,
              "solidity": 0.2
             }
            },
            "type": "bar"
           }
          ],
          "barpolar": [
           {
            "marker": {
             "line": {
              "color": "#E5ECF6",
              "width": 0.5
             },
             "pattern": {
              "fillmode": "overlay",
              "size": 10,
              "solidity": 0.2
             }
            },
            "type": "barpolar"
           }
          ],
          "carpet": [
           {
            "aaxis": {
             "endlinecolor": "#2a3f5f",
             "gridcolor": "white",
             "linecolor": "white",
             "minorgridcolor": "white",
             "startlinecolor": "#2a3f5f"
            },
            "baxis": {
             "endlinecolor": "#2a3f5f",
             "gridcolor": "white",
             "linecolor": "white",
             "minorgridcolor": "white",
             "startlinecolor": "#2a3f5f"
            },
            "type": "carpet"
           }
          ],
          "choropleth": [
           {
            "colorbar": {
             "outlinewidth": 0,
             "ticks": ""
            },
            "type": "choropleth"
           }
          ],
          "contour": [
           {
            "colorbar": {
             "outlinewidth": 0,
             "ticks": ""
            },
            "colorscale": [
             [
              0,
              "#0d0887"
             ],
             [
              0.1111111111111111,
              "#46039f"
             ],
             [
              0.2222222222222222,
              "#7201a8"
             ],
             [
              0.3333333333333333,
              "#9c179e"
             ],
             [
              0.4444444444444444,
              "#bd3786"
             ],
             [
              0.5555555555555556,
              "#d8576b"
             ],
             [
              0.6666666666666666,
              "#ed7953"
             ],
             [
              0.7777777777777778,
              "#fb9f3a"
             ],
             [
              0.8888888888888888,
              "#fdca26"
             ],
             [
              1,
              "#f0f921"
             ]
            ],
            "type": "contour"
           }
          ],
          "contourcarpet": [
           {
            "colorbar": {
             "outlinewidth": 0,
             "ticks": ""
            },
            "type": "contourcarpet"
           }
          ],
          "heatmap": [
           {
            "colorbar": {
             "outlinewidth": 0,
             "ticks": ""
            },
            "colorscale": [
             [
              0,
              "#0d0887"
             ],
             [
              0.1111111111111111,
              "#46039f"
             ],
             [
              0.2222222222222222,
              "#7201a8"
             ],
             [
              0.3333333333333333,
              "#9c179e"
             ],
             [
              0.4444444444444444,
              "#bd3786"
             ],
             [
              0.5555555555555556,
              "#d8576b"
             ],
             [
              0.6666666666666666,
              "#ed7953"
             ],
             [
              0.7777777777777778,
              "#fb9f3a"
             ],
             [
              0.8888888888888888,
              "#fdca26"
             ],
             [
              1,
              "#f0f921"
             ]
            ],
            "type": "heatmap"
           }
          ],
          "histogram": [
           {
            "marker": {
             "pattern": {
              "fillmode": "overlay",
              "size": 10,
              "solidity": 0.2
             }
            },
            "type": "histogram"
           }
          ],
          "histogram2d": [
           {
            "colorbar": {
             "outlinewidth": 0,
             "ticks": ""
            },
            "colorscale": [
             [
              0,
              "#0d0887"
             ],
             [
              0.1111111111111111,
              "#46039f"
             ],
             [
              0.2222222222222222,
              "#7201a8"
             ],
             [
              0.3333333333333333,
              "#9c179e"
             ],
             [
              0.4444444444444444,
              "#bd3786"
             ],
             [
              0.5555555555555556,
              "#d8576b"
             ],
             [
              0.6666666666666666,
              "#ed7953"
             ],
             [
              0.7777777777777778,
              "#fb9f3a"
             ],
             [
              0.8888888888888888,
              "#fdca26"
             ],
             [
              1,
              "#f0f921"
             ]
            ],
            "type": "histogram2d"
           }
          ],
          "histogram2dcontour": [
           {
            "colorbar": {
             "outlinewidth": 0,
             "ticks": ""
            },
            "colorscale": [
             [
              0,
              "#0d0887"
             ],
             [
              0.1111111111111111,
              "#46039f"
             ],
             [
              0.2222222222222222,
              "#7201a8"
             ],
             [
              0.3333333333333333,
              "#9c179e"
             ],
             [
              0.4444444444444444,
              "#bd3786"
             ],
             [
              0.5555555555555556,
              "#d8576b"
             ],
             [
              0.6666666666666666,
              "#ed7953"
             ],
             [
              0.7777777777777778,
              "#fb9f3a"
             ],
             [
              0.8888888888888888,
              "#fdca26"
             ],
             [
              1,
              "#f0f921"
             ]
            ],
            "type": "histogram2dcontour"
           }
          ],
          "mesh3d": [
           {
            "colorbar": {
             "outlinewidth": 0,
             "ticks": ""
            },
            "type": "mesh3d"
           }
          ],
          "parcoords": [
           {
            "line": {
             "colorbar": {
              "outlinewidth": 0,
              "ticks": ""
             }
            },
            "type": "parcoords"
           }
          ],
          "pie": [
           {
            "automargin": true,
            "type": "pie"
           }
          ],
          "scatter": [
           {
            "fillpattern": {
             "fillmode": "overlay",
             "size": 10,
             "solidity": 0.2
            },
            "type": "scatter"
           }
          ],
          "scatter3d": [
           {
            "line": {
             "colorbar": {
              "outlinewidth": 0,
              "ticks": ""
             }
            },
            "marker": {
             "colorbar": {
              "outlinewidth": 0,
              "ticks": ""
             }
            },
            "type": "scatter3d"
           }
          ],
          "scattercarpet": [
           {
            "marker": {
             "colorbar": {
              "outlinewidth": 0,
              "ticks": ""
             }
            },
            "type": "scattercarpet"
           }
          ],
          "scattergeo": [
           {
            "marker": {
             "colorbar": {
              "outlinewidth": 0,
              "ticks": ""
             }
            },
            "type": "scattergeo"
           }
          ],
          "scattergl": [
           {
            "marker": {
             "colorbar": {
              "outlinewidth": 0,
              "ticks": ""
             }
            },
            "type": "scattergl"
           }
          ],
          "scattermap": [
           {
            "marker": {
             "colorbar": {
              "outlinewidth": 0,
              "ticks": ""
             }
            },
            "type": "scattermap"
           }
          ],
          "scattermapbox": [
           {
            "marker": {
             "colorbar": {
              "outlinewidth": 0,
              "ticks": ""
             }
            },
            "type": "scattermapbox"
           }
          ],
          "scatterpolar": [
           {
            "marker": {
             "colorbar": {
              "outlinewidth": 0,
              "ticks": ""
             }
            },
            "type": "scatterpolar"
           }
          ],
          "scatterpolargl": [
           {
            "marker": {
             "colorbar": {
              "outlinewidth": 0,
              "ticks": ""
             }
            },
            "type": "scatterpolargl"
           }
          ],
          "scatterternary": [
           {
            "marker": {
             "colorbar": {
              "outlinewidth": 0,
              "ticks": ""
             }
            },
            "type": "scatterternary"
           }
          ],
          "surface": [
           {
            "colorbar": {
             "outlinewidth": 0,
             "ticks": ""
            },
            "colorscale": [
             [
              0,
              "#0d0887"
             ],
             [
              0.1111111111111111,
              "#46039f"
             ],
             [
              0.2222222222222222,
              "#7201a8"
             ],
             [
              0.3333333333333333,
              "#9c179e"
             ],
             [
              0.4444444444444444,
              "#bd3786"
             ],
             [
              0.5555555555555556,
              "#d8576b"
             ],
             [
              0.6666666666666666,
              "#ed7953"
             ],
             [
              0.7777777777777778,
              "#fb9f3a"
             ],
             [
              0.8888888888888888,
              "#fdca26"
             ],
             [
              1,
              "#f0f921"
             ]
            ],
            "type": "surface"
           }
          ],
          "table": [
           {
            "cells": {
             "fill": {
              "color": "#EBF0F8"
             },
             "line": {
              "color": "white"
             }
            },
            "header": {
             "fill": {
              "color": "#C8D4E3"
             },
             "line": {
              "color": "white"
             }
            },
            "type": "table"
           }
          ]
         },
         "layout": {
          "annotationdefaults": {
           "arrowcolor": "#2a3f5f",
           "arrowhead": 0,
           "arrowwidth": 1
          },
          "autotypenumbers": "strict",
          "coloraxis": {
           "colorbar": {
            "outlinewidth": 0,
            "ticks": ""
           }
          },
          "colorscale": {
           "diverging": [
            [
             0,
             "#8e0152"
            ],
            [
             0.1,
             "#c51b7d"
            ],
            [
             0.2,
             "#de77ae"
            ],
            [
             0.3,
             "#f1b6da"
            ],
            [
             0.4,
             "#fde0ef"
            ],
            [
             0.5,
             "#f7f7f7"
            ],
            [
             0.6,
             "#e6f5d0"
            ],
            [
             0.7,
             "#b8e186"
            ],
            [
             0.8,
             "#7fbc41"
            ],
            [
             0.9,
             "#4d9221"
            ],
            [
             1,
             "#276419"
            ]
           ],
           "sequential": [
            [
             0,
             "#0d0887"
            ],
            [
             0.1111111111111111,
             "#46039f"
            ],
            [
             0.2222222222222222,
             "#7201a8"
            ],
            [
             0.3333333333333333,
             "#9c179e"
            ],
            [
             0.4444444444444444,
             "#bd3786"
            ],
            [
             0.5555555555555556,
             "#d8576b"
            ],
            [
             0.6666666666666666,
             "#ed7953"
            ],
            [
             0.7777777777777778,
             "#fb9f3a"
            ],
            [
             0.8888888888888888,
             "#fdca26"
            ],
            [
             1,
             "#f0f921"
            ]
           ],
           "sequentialminus": [
            [
             0,
             "#0d0887"
            ],
            [
             0.1111111111111111,
             "#46039f"
            ],
            [
             0.2222222222222222,
             "#7201a8"
            ],
            [
             0.3333333333333333,
             "#9c179e"
            ],
            [
             0.4444444444444444,
             "#bd3786"
            ],
            [
             0.5555555555555556,
             "#d8576b"
            ],
            [
             0.6666666666666666,
             "#ed7953"
            ],
            [
             0.7777777777777778,
             "#fb9f3a"
            ],
            [
             0.8888888888888888,
             "#fdca26"
            ],
            [
             1,
             "#f0f921"
            ]
           ]
          },
          "colorway": [
           "#636efa",
           "#EF553B",
           "#00cc96",
           "#ab63fa",
           "#FFA15A",
           "#19d3f3",
           "#FF6692",
           "#B6E880",
           "#FF97FF",
           "#FECB52"
          ],
          "font": {
           "color": "#2a3f5f"
          },
          "geo": {
           "bgcolor": "white",
           "lakecolor": "white",
           "landcolor": "#E5ECF6",
           "showlakes": true,
           "showland": true,
           "subunitcolor": "white"
          },
          "hoverlabel": {
           "align": "left"
          },
          "hovermode": "closest",
          "mapbox": {
           "style": "light"
          },
          "paper_bgcolor": "white",
          "plot_bgcolor": "#E5ECF6",
          "polar": {
           "angularaxis": {
            "gridcolor": "white",
            "linecolor": "white",
            "ticks": ""
           },
           "bgcolor": "#E5ECF6",
           "radialaxis": {
            "gridcolor": "white",
            "linecolor": "white",
            "ticks": ""
           }
          },
          "scene": {
           "xaxis": {
            "backgroundcolor": "#E5ECF6",
            "gridcolor": "white",
            "gridwidth": 2,
            "linecolor": "white",
            "showbackground": true,
            "ticks": "",
            "zerolinecolor": "white"
           },
           "yaxis": {
            "backgroundcolor": "#E5ECF6",
            "gridcolor": "white",
            "gridwidth": 2,
            "linecolor": "white",
            "showbackground": true,
            "ticks": "",
            "zerolinecolor": "white"
           },
           "zaxis": {
            "backgroundcolor": "#E5ECF6",
            "gridcolor": "white",
            "gridwidth": 2,
            "linecolor": "white",
            "showbackground": true,
            "ticks": "",
            "zerolinecolor": "white"
           }
          },
          "shapedefaults": {
           "line": {
            "color": "#2a3f5f"
           }
          },
          "ternary": {
           "aaxis": {
            "gridcolor": "white",
            "linecolor": "white",
            "ticks": ""
           },
           "baxis": {
            "gridcolor": "white",
            "linecolor": "white",
            "ticks": ""
           },
           "bgcolor": "#E5ECF6",
           "caxis": {
            "gridcolor": "white",
            "linecolor": "white",
            "ticks": ""
           }
          },
          "title": {
           "x": 0.05
          },
          "xaxis": {
           "automargin": true,
           "gridcolor": "white",
           "linecolor": "white",
           "ticks": "",
           "title": {
            "standoff": 15
           },
           "zerolinecolor": "white",
           "zerolinewidth": 2
          },
          "yaxis": {
           "automargin": true,
           "gridcolor": "white",
           "linecolor": "white",
           "ticks": "",
           "title": {
            "standoff": 15
           },
           "zerolinecolor": "white",
           "zerolinewidth": 2
          }
         }
        },
        "title": {
         "text": "Average Download Speed by Server Sorted Ascending"
        },
        "width": 1000,
        "xaxis": {
         "title": {
          "text": "Target Server"
         }
        },
        "yaxis": {
         "title": {
          "text": "Average Speed (Mbps)"
         }
        }
       }
      }
     },
     "metadata": {},
     "output_type": "display_data"
    }
   ],
   "source": [
    "\n",
    "fig2 = go.Figure()\n",
    "fig2.add_trace(go.Bar(\n",
    "    x=download_ipv4_server_stats['target'],\n",
    "    y=download_ipv4_server_stats['mean'],\n",
    "    name='IPv4',\n",
    "    text=download_ipv4_server_stats['count'],\n",
    "    textposition='auto'\n",
    "))\n",
    "fig2.add_trace(go.Bar(\n",
    "    x=download_ipv6_server_stats['target'],\n",
    "    y=download_ipv6_server_stats['mean'],\n",
    "    name='IPv6',\n",
    "    text=download_ipv6_server_stats['count'],\n",
    "    textposition='auto'\n",
    "))\n",
    "\n",
    "fig2.update_layout(\n",
    "    title='Average Download Speed by Server Sorted Ascending',\n",
    "    xaxis_title='Target Server',\n",
    "    yaxis_title='Average Speed (Mbps)',\n",
    "    barmode='group',\n",
    "    height=600,\n",
    "    width=1000\n",
    ")\n",
    "# fig2.write_html(\"../reports/viz/download_performance/Average Downlaod Speed by Server Sorted Ascending.html\")\n"
   ]
  },
  {
   "cell_type": "markdown",
   "metadata": {},
   "source": [
    "####  Perfomance Download Speed Trend Over Time (IPv4 vs IPv6 comparison)\n"
   ]
  },
  {
   "cell_type": "code",
   "execution_count": 16,
   "metadata": {},
   "outputs": [
    {
     "data": {
      "image/png": "[encoded data removed]",
      "text/plain": [
       "<Figure size 1000x600 with 1 Axes>"
      ]
     },
     "metadata": {},
     "output_type": "display_data"
    }
   ],
   "source": [
    "\n",
    "plt.figure(figsize=(10, 6)) \n",
    "\n",
    "# Plot IPv4 data\n",
    "plt.plot(df_httpgetmt['dtime'], df_httpgetmt['mbps'], \n",
    "         label='IPv4', \n",
    "         alpha=0.5)  # opacity=0.5 in Plotly is alpha=0.5 in Matplotlib\n",
    "\n",
    "# Plot IPv6 data\n",
    "plt.plot(df_curr_httpgetmt6['dtime'], df_curr_httpgetmt6['mbps'], \n",
    "         label='IPv6', \n",
    "         alpha=0.5)\n",
    "\n",
    "# Customize the plot\n",
    "plt.title(\"Download Speed Comparison: IPv4 vs IPv6\", fontsize=14)\n",
    "plt.xlabel(\"Date/Time\", fontsize=12)\n",
    "plt.ylabel(\"Download Speed (Mbps)\", fontsize=12)\n",
    "plt.legend(title=\"Protocol\")  # Add legend with a title\n",
    "plt.grid(True, linestyle='--', alpha=0.7)  # Optional: adds a grid for better readability\n",
    "\n",
    "# Rotate x-axis labels for better visibility if needed\n",
    "plt.xticks(rotation=45)\n",
    "\n",
    "# Adjust layout to prevent label cutoff\n",
    "plt.tight_layout()\n",
    "\n",
    "# Display the plot\n",
    "plt.show()\n",
    "\n",
    "# plt.savefig(\"../reports/viz/download_performance/download_speed_trend.png\", dpi=100, bbox_inches='tight')"
   ]
  },
  {
   "cell_type": "markdown",
   "metadata": {},
   "source": [
    "- after i see this download speed comprison i founded that all the above analysis is not really accurate because it's not in the same time period\n",
    "- so i will try to find the time period for each of them and then i will compare them\n",
    "- i will use the dtime column to find the time period for each of them"
   ]
  },
  {
   "cell_type": "code",
   "execution_count": 17,
   "metadata": {},
   "outputs": [],
   "source": [
    "# # Filter the dataframes to include only rows where 'dtime' is between 24-02 and 28-02\n",
    "# start_date = '2023-02-24'\n",
    "# end_date = '2023-02-28'\n",
    "\n",
    "# df_httpgetmt = df_httpgetmt[(df_httpgetmt['dtime'] >= start_date) & (df_httpgetmt['dtime'] <= end_date)]\n",
    "# df_curr_httpgetmt6 = df_curr_httpgetmt6[(df_curr_httpgetmt6['dtime'] >= start_date) & (df_curr_httpgetmt6['dtime'] <= end_date)]"
   ]
  },
  {
   "cell_type": "code",
   "execution_count": null,
   "metadata": {},
   "outputs": [],
   "source": []
  },
  {
   "cell_type": "markdown",
   "metadata": {},
   "source": [
    "---"
   ]
  },
  {
   "cell_type": "markdown",
   "metadata": {},
   "source": [
    "### Comparison of `urr_httpgetmt` and `curr_httpgetmt6`\n",
    "\n",
    "From the descriptions of the two datasets, here are the key observations and comparisons:\n",
    "\n",
    "1. **Purpose**:\n",
    "    - Both datasets measure the performance of HTTP GET requests.\n",
    "    - `urr_httpgetmt` focuses on general HTTP GET performance, while `curr_httpgetmt6` specifically targets IPv6-based HTTP GET requests.\n",
    "\n",
    "2. **Target Servers**:\n",
    "    - Both datasets include a `target` column that identifies the server being tested. However, `curr_httpgetmt6` focuses on IPv6 servers, as indicated by the `address` column containing IPv6 addresses.\n",
    "\n",
    "3. **Performance Metrics**:\n",
    "    - Both datasets provide similar performance metrics, such as:\n",
    "      - `fetch_time`: Time taken to fetch data.\n",
    "      - `bytes_sec` and `bytes_sec_interval`: Download speeds.\n",
    "      - `warmup_time` and `warmup_bytes`: Metrics for the warmup phase.\n",
    "    - These metrics allow for a detailed analysis of download speeds, latency, and connection setup times.\n",
    "\n",
    "4. **Thread Utilization**:\n",
    "    - Both datasets include a `threads` column, which indicates the level of parallelism used during the HTTP GET requests.\n",
    "\n",
    "5. **Success and Failure Rates**:\n",
    "    - Both datasets track the number of successful (`successes`) and failed (`failures`) HTTP GET requests, enabling reliability analysis.\n",
    "\n",
    "6. **Time-based Trends**:\n",
    "    - The `dtime` column in both datasets allows for time-based trend analysis of performance metrics.\n",
    "\n",
    "7. **Differences**:\n",
    "    - The primary difference lies in the focus of the datasets:\n",
    "      - `curr_httpgetmt` includes both IPv4 and IPv6 data.\n",
    "      - `curr_httpgetmt6` is exclusively for IPv6 performance analysis.\n",
    "\n",
    "### Insights:\n",
    "- The datasets are complementary and can be used together to compare IPv4 and IPv6 performance.\n",
    "- `urr_httpgetmt` provides a broader view of HTTP GET performance, while `curr_httpgetmt6` offers a focused analysis of IPv6-specific performance.\n",
    "- By analyzing both datasets, you can identify trends, bottlenecks, and areas for optimization in HTTP GET performance across different protocols and server configurations."
   ]
  },
  {
   "cell_type": "markdown",
   "metadata": {},
   "source": [
    "-----"
   ]
  },
  {
   "cell_type": "markdown",
   "metadata": {},
   "source": [
    "# curr_httppostmt and curr_httppostmt6: Upload speed metrics\n",
    "\n"
   ]
  },
  {
   "cell_type": "code",
   "execution_count": 18,
   "metadata": {},
   "outputs": [],
   "source": [
    "df_httppostmt = pd.read_csv('../data/raw/curr_httppostmt.csv')"
   ]
  },
  {
   "cell_type": "code",
   "execution_count": 19,
   "metadata": {},
   "outputs": [
    {
     "data": {
      "text/html": [
       "<div>\n",
       "<style scoped>\n",
       "    .dataframe tbody tr th:only-of-type {\n",
       "        vertical-align: middle;\n",
       "    }\n",
       "\n",
       "    .dataframe tbody tr th {\n",
       "        vertical-align: top;\n",
       "    }\n",
       "\n",
       "    .dataframe thead th {\n",
       "        text-align: right;\n",
       "    }\n",
       "</style>\n",
       "<table border=\"1\" class=\"dataframe\">\n",
       "  <thead>\n",
       "    <tr style=\"text-align: right;\">\n",
       "      <th></th>\n",
       "      <th>unit_id</th>\n",
       "      <th>dtime</th>\n",
       "      <th>target</th>\n",
       "      <th>address</th>\n",
       "      <th>fetch_time</th>\n",
       "      <th>bytes_total</th>\n",
       "      <th>bytes_sec</th>\n",
       "      <th>bytes_sec_interval</th>\n",
       "      <th>warmup_time</th>\n",
       "      <th>warmup_bytes</th>\n",
       "      <th>sequence</th>\n",
       "      <th>threads</th>\n",
       "      <th>successes</th>\n",
       "      <th>failures</th>\n",
       "    </tr>\n",
       "  </thead>\n",
       "  <tbody>\n",
       "    <tr>\n",
       "      <th>0</th>\n",
       "      <td>386</td>\n",
       "      <td>2023-02-02 01:51:29</td>\n",
       "      <td>sp1-vm-newyork-us.samknows.com</td>\n",
       "      <td>151.139.31.1</td>\n",
       "      <td>10000049</td>\n",
       "      <td>181888570</td>\n",
       "      <td>18188768</td>\n",
       "      <td>18188768</td>\n",
       "      <td>1500026</td>\n",
       "      <td>24164586</td>\n",
       "      <td>0</td>\n",
       "      <td>8</td>\n",
       "      <td>1</td>\n",
       "      <td>0</td>\n",
       "    </tr>\n",
       "    <tr>\n",
       "      <th>1</th>\n",
       "      <td>386</td>\n",
       "      <td>2023-02-02 11:47:11</td>\n",
       "      <td>sp1-vm-newyork-us.samknows.com</td>\n",
       "      <td>151.139.31.1</td>\n",
       "      <td>10000030</td>\n",
       "      <td>184537036</td>\n",
       "      <td>18453648</td>\n",
       "      <td>18453648</td>\n",
       "      <td>5000020</td>\n",
       "      <td>86765796</td>\n",
       "      <td>0</td>\n",
       "      <td>8</td>\n",
       "      <td>1</td>\n",
       "      <td>0</td>\n",
       "    </tr>\n",
       "  </tbody>\n",
       "</table>\n",
       "</div>"
      ],
      "text/plain": [
       "   unit_id                dtime                          target       address  \\\n",
       "0      386  2023-02-02 01:51:29  sp1-vm-newyork-us.samknows.com  151.139.31.1   \n",
       "1      386  2023-02-02 11:47:11  sp1-vm-newyork-us.samknows.com  151.139.31.1   \n",
       "\n",
       "   fetch_time  bytes_total  bytes_sec  bytes_sec_interval  warmup_time  \\\n",
       "0    10000049    181888570   18188768            18188768      1500026   \n",
       "1    10000030    184537036   18453648            18453648      5000020   \n",
       "\n",
       "   warmup_bytes  sequence  threads  successes  failures  \n",
       "0      24164586         0        8          1         0  \n",
       "1      86765796         0        8          1         0  "
      ]
     },
     "execution_count": 19,
     "metadata": {},
     "output_type": "execute_result"
    }
   ],
   "source": [
    "df_httppostmt.head(2)"
   ]
  },
  {
   "cell_type": "code",
   "execution_count": 20,
   "metadata": {},
   "outputs": [
    {
     "name": "stdout",
     "output_type": "stream",
     "text": [
      "<class 'pandas.core.frame.DataFrame'>\n",
      "RangeIndex: 722118 entries, 0 to 722117\n",
      "Data columns (total 14 columns):\n",
      " #   Column              Non-Null Count   Dtype \n",
      "---  ------              --------------   ----- \n",
      " 0   unit_id             722118 non-null  int64 \n",
      " 1   dtime               722118 non-null  object\n",
      " 2   target              722118 non-null  object\n",
      " 3   address             722118 non-null  object\n",
      " 4   fetch_time          722118 non-null  int64 \n",
      " 5   bytes_total         722118 non-null  int64 \n",
      " 6   bytes_sec           722118 non-null  int64 \n",
      " 7   bytes_sec_interval  722118 non-null  int64 \n",
      " 8   warmup_time         722118 non-null  int64 \n",
      " 9   warmup_bytes        722118 non-null  int64 \n",
      " 10  sequence            722118 non-null  int64 \n",
      " 11  threads             722118 non-null  int64 \n",
      " 12  successes           722118 non-null  int64 \n",
      " 13  failures            722118 non-null  int64 \n",
      "dtypes: int64(11), object(3)\n",
      "memory usage: 77.1+ MB\n"
     ]
    }
   ],
   "source": [
    "df_httppostmt.info()"
   ]
  },
  {
   "cell_type": "code",
   "execution_count": 21,
   "metadata": {},
   "outputs": [],
   "source": [
    "df_httppostmt6 = pd.read_csv('../data/raw/curr_httppostmt6.csv')"
   ]
  },
  {
   "cell_type": "code",
   "execution_count": 22,
   "metadata": {},
   "outputs": [
    {
     "data": {
      "text/html": [
       "<div>\n",
       "<style scoped>\n",
       "    .dataframe tbody tr th:only-of-type {\n",
       "        vertical-align: middle;\n",
       "    }\n",
       "\n",
       "    .dataframe tbody tr th {\n",
       "        vertical-align: top;\n",
       "    }\n",
       "\n",
       "    .dataframe thead th {\n",
       "        text-align: right;\n",
       "    }\n",
       "</style>\n",
       "<table border=\"1\" class=\"dataframe\">\n",
       "  <thead>\n",
       "    <tr style=\"text-align: right;\">\n",
       "      <th></th>\n",
       "      <th>unit_id</th>\n",
       "      <th>dtime</th>\n",
       "      <th>target</th>\n",
       "      <th>address</th>\n",
       "      <th>fetch_time</th>\n",
       "      <th>bytes_total</th>\n",
       "      <th>bytes_sec</th>\n",
       "      <th>bytes_sec_interval</th>\n",
       "      <th>warmup_time</th>\n",
       "      <th>warmup_bytes</th>\n",
       "      <th>sequence</th>\n",
       "      <th>threads</th>\n",
       "      <th>successes</th>\n",
       "      <th>failures</th>\n",
       "    </tr>\n",
       "  </thead>\n",
       "  <tbody>\n",
       "    <tr>\n",
       "      <th>0</th>\n",
       "      <td>26419</td>\n",
       "      <td>2023-02-28 21:49:55</td>\n",
       "      <td>v6-n1-fcc-ashburn-us.samknows.com</td>\n",
       "      <td>2604:6840:1300:1501::24</td>\n",
       "      <td>10000123</td>\n",
       "      <td>25003274</td>\n",
       "      <td>2500297</td>\n",
       "      <td>2500297</td>\n",
       "      <td>5000056</td>\n",
       "      <td>12327382</td>\n",
       "      <td>0</td>\n",
       "      <td>8</td>\n",
       "      <td>1</td>\n",
       "      <td>0</td>\n",
       "    </tr>\n",
       "    <tr>\n",
       "      <th>1</th>\n",
       "      <td>26419</td>\n",
       "      <td>2023-02-28 21:50:23</td>\n",
       "      <td>v6-n1-fcc-ashburn-us.samknows.com</td>\n",
       "      <td>2604:6840:1300:1501::24</td>\n",
       "      <td>10000052</td>\n",
       "      <td>25013690</td>\n",
       "      <td>2501356</td>\n",
       "      <td>2501356</td>\n",
       "      <td>5000145</td>\n",
       "      <td>12339388</td>\n",
       "      <td>0</td>\n",
       "      <td>8</td>\n",
       "      <td>1</td>\n",
       "      <td>0</td>\n",
       "    </tr>\n",
       "  </tbody>\n",
       "</table>\n",
       "</div>"
      ],
      "text/plain": [
       "   unit_id                dtime                             target  \\\n",
       "0    26419  2023-02-28 21:49:55  v6-n1-fcc-ashburn-us.samknows.com   \n",
       "1    26419  2023-02-28 21:50:23  v6-n1-fcc-ashburn-us.samknows.com   \n",
       "\n",
       "                   address  fetch_time  bytes_total  bytes_sec  \\\n",
       "0  2604:6840:1300:1501::24    10000123     25003274    2500297   \n",
       "1  2604:6840:1300:1501::24    10000052     25013690    2501356   \n",
       "\n",
       "   bytes_sec_interval  warmup_time  warmup_bytes  sequence  threads  \\\n",
       "0             2500297      5000056      12327382         0        8   \n",
       "1             2501356      5000145      12339388         0        8   \n",
       "\n",
       "   successes  failures  \n",
       "0          1         0  \n",
       "1          1         0  "
      ]
     },
     "execution_count": 22,
     "metadata": {},
     "output_type": "execute_result"
    }
   ],
   "source": [
    "df_httppostmt6.head(2)"
   ]
  },
  {
   "cell_type": "code",
   "execution_count": 23,
   "metadata": {},
   "outputs": [
    {
     "name": "stdout",
     "output_type": "stream",
     "text": [
      "<class 'pandas.core.frame.DataFrame'>\n",
      "RangeIndex: 1159 entries, 0 to 1158\n",
      "Data columns (total 14 columns):\n",
      " #   Column              Non-Null Count  Dtype \n",
      "---  ------              --------------  ----- \n",
      " 0   unit_id             1159 non-null   int64 \n",
      " 1   dtime               1159 non-null   object\n",
      " 2   target              1159 non-null   object\n",
      " 3   address             1159 non-null   object\n",
      " 4   fetch_time          1159 non-null   int64 \n",
      " 5   bytes_total         1159 non-null   int64 \n",
      " 6   bytes_sec           1159 non-null   int64 \n",
      " 7   bytes_sec_interval  1159 non-null   int64 \n",
      " 8   warmup_time         1159 non-null   int64 \n",
      " 9   warmup_bytes        1159 non-null   int64 \n",
      " 10  sequence            1159 non-null   int64 \n",
      " 11  threads             1159 non-null   int64 \n",
      " 12  successes           1159 non-null   int64 \n",
      " 13  failures            1159 non-null   int64 \n",
      "dtypes: int64(11), object(3)\n",
      "memory usage: 126.9+ KB\n"
     ]
    }
   ],
   "source": [
    "df_httppostmt6.info()"
   ]
  },
  {
   "cell_type": "markdown",
   "metadata": {},
   "source": [
    "### EDA For Uploading Metrices : httppostmt - httppostmt6"
   ]
  },
  {
   "cell_type": "markdown",
   "metadata": {},
   "source": [
    "#### Converting the dtime from object to datetime for uploading metrics"
   ]
  },
  {
   "cell_type": "code",
   "execution_count": 24,
   "metadata": {},
   "outputs": [],
   "source": [
    "# converting the dtime from object to datetime \n",
    "df_httppostmt['dtime'] = pd.to_datetime(df_httppostmt['dtime'])\n",
    "df_httppostmt6['dtime'] = pd.to_datetime(df_httppostmt6['dtime'])"
   ]
  },
  {
   "cell_type": "markdown",
   "metadata": {},
   "source": [
    "#### Converting the bytes from megabytes for uploading metrics"
   ]
  },
  {
   "cell_type": "code",
   "execution_count": 25,
   "metadata": {},
   "outputs": [],
   "source": [
    "df_httppostmt['mbps'] = df_httppostmt['bytes_sec'] * 8 / 1_000_000  # Convert bytes to megabits\n",
    "df_httppostmt6['mbps'] = df_httppostmt6['bytes_sec'] * 8 / 1_000_000"
   ]
  },
  {
   "cell_type": "code",
   "execution_count": 26,
   "metadata": {},
   "outputs": [],
   "source": [
    "upload_stats_df = pd.DataFrame([\n",
    "    get_stats(df_httppostmt, 'IPv4'),\n",
    "    get_stats(df_httppostmt6, 'IPv6')\n",
    "])"
   ]
  },
  {
   "cell_type": "code",
   "execution_count": 27,
   "metadata": {},
   "outputs": [
    {
     "data": {
      "text/html": [
       "<div>\n",
       "<style scoped>\n",
       "    .dataframe tbody tr th:only-of-type {\n",
       "        vertical-align: middle;\n",
       "    }\n",
       "\n",
       "    .dataframe tbody tr th {\n",
       "        vertical-align: top;\n",
       "    }\n",
       "\n",
       "    .dataframe thead th {\n",
       "        text-align: right;\n",
       "    }\n",
       "</style>\n",
       "<table border=\"1\" class=\"dataframe\">\n",
       "  <thead>\n",
       "    <tr style=\"text-align: right;\">\n",
       "      <th></th>\n",
       "      <th>Protocol</th>\n",
       "      <th>Mean Speed (Mbps)</th>\n",
       "      <th>Median Speed (Mbps)</th>\n",
       "      <th>Max Speed (Mbps)</th>\n",
       "      <th>Min Speed (Mbps)</th>\n",
       "      <th>Success Rate (%)</th>\n",
       "      <th>Avg Fetch Time (ms)</th>\n",
       "      <th>Sample Size</th>\n",
       "    </tr>\n",
       "  </thead>\n",
       "  <tbody>\n",
       "    <tr>\n",
       "      <th>0</th>\n",
       "      <td>IPv4</td>\n",
       "      <td>116.918714</td>\n",
       "      <td>17.350792</td>\n",
       "      <td>951.260736</td>\n",
       "      <td>0.0</td>\n",
       "      <td>99.190576</td>\n",
       "      <td>9944.071053</td>\n",
       "      <td>722118</td>\n",
       "    </tr>\n",
       "    <tr>\n",
       "      <th>1</th>\n",
       "      <td>IPv6</td>\n",
       "      <td>167.991458</td>\n",
       "      <td>22.735136</td>\n",
       "      <td>923.062496</td>\n",
       "      <td>0.0</td>\n",
       "      <td>91.975841</td>\n",
       "      <td>9214.906734</td>\n",
       "      <td>1159</td>\n",
       "    </tr>\n",
       "  </tbody>\n",
       "</table>\n",
       "</div>"
      ],
      "text/plain": [
       "  Protocol  Mean Speed (Mbps)  Median Speed (Mbps)  Max Speed (Mbps)  \\\n",
       "0     IPv4         116.918714            17.350792        951.260736   \n",
       "1     IPv6         167.991458            22.735136        923.062496   \n",
       "\n",
       "   Min Speed (Mbps)  Success Rate (%)  Avg Fetch Time (ms)  Sample Size  \n",
       "0               0.0         99.190576          9944.071053       722118  \n",
       "1               0.0         91.975841          9214.906734         1159  "
      ]
     },
     "execution_count": 27,
     "metadata": {},
     "output_type": "execute_result"
    }
   ],
   "source": [
    "upload_stats_df"
   ]
  },
  {
   "cell_type": "markdown",
   "metadata": {},
   "source": [
    "#### Bar Chart: Mean and Median Upload Speeds"
   ]
  },
  {
   "cell_type": "code",
   "execution_count": 28,
   "metadata": {},
   "outputs": [
    {
     "data": {
      "application/vnd.plotly.v1+json": {
       "config": {
        "plotlyServerURL": "https://plot.ly"
       },
       "data": [
        {
         "marker": {
          "color": "indianred"
         },
         "name": "Mean Speed (Mbps)",
         "text": {
          "bdata": "exSuR+E6XUBI4XoUrv9kQA==",
          "dtype": "f8"
         },
         "textposition": "auto",
         "type": "bar",
         "x": [
          "IPv4",
          "IPv6"
         ],
         "y": {
          "bdata": "cXIkNcw6XUBVp0YGuv9kQA==",
          "dtype": "f8"
         }
        },
        {
         "marker": {
          "color": "lightseagreen"
         },
         "name": "Median Speed (Mbps)",
         "text": {
          "bdata": "mpmZmZlZMUA9CtejcL02QA==",
          "dtype": "f8"
         },
         "textposition": "auto",
         "type": "bar",
         "x": [
          "IPv4",
          "IPv6"
         ],
         "y": {
          "bdata": "zLIngc1ZMUC9HHbfMbw2QA==",
          "dtype": "f8"
         }
        }
       ],
       "layout": {
        "barmode": "group",
        "height": 500,
        "legend": {
         "title": {
          "text": "Metric"
         }
        },
        "template": {
         "data": {
          "bar": [
           {
            "error_x": {
             "color": "#2a3f5f"
            },
            "error_y": {
             "color": "#2a3f5f"
            },
            "marker": {
             "line": {
              "color": "white",
              "width": 0.5
             },
             "pattern": {
              "fillmode": "overlay",
              "size": 10,
              "solidity": 0.2
             }
            },
            "type": "bar"
           }
          ],
          "barpolar": [
           {
            "marker": {
             "line": {
              "color": "white",
              "width": 0.5
             },
             "pattern": {
              "fillmode": "overlay",
              "size": 10,
              "solidity": 0.2
             }
            },
            "type": "barpolar"
           }
          ],
          "carpet": [
           {
            "aaxis": {
             "endlinecolor": "#2a3f5f",
             "gridcolor": "#C8D4E3",
             "linecolor": "#C8D4E3",
             "minorgridcolor": "#C8D4E3",
             "startlinecolor": "#2a3f5f"
            },
            "baxis": {
             "endlinecolor": "#2a3f5f",
             "gridcolor": "#C8D4E3",
             "linecolor": "#C8D4E3",
             "minorgridcolor": "#C8D4E3",
             "startlinecolor": "#2a3f5f"
            },
            "type": "carpet"
           }
          ],
          "choropleth": [
           {
            "colorbar": {
             "outlinewidth": 0,
             "ticks": ""
            },
            "type": "choropleth"
           }
          ],
          "contour": [
           {
            "colorbar": {
             "outlinewidth": 0,
             "ticks": ""
            },
            "colorscale": [
             [
              0,
              "#0d0887"
             ],
             [
              0.1111111111111111,
              "#46039f"
             ],
             [
              0.2222222222222222,
              "#7201a8"
             ],
             [
              0.3333333333333333,
              "#9c179e"
             ],
             [
              0.4444444444444444,
              "#bd3786"
             ],
             [
              0.5555555555555556,
              "#d8576b"
             ],
             [
              0.6666666666666666,
              "#ed7953"
             ],
             [
              0.7777777777777778,
              "#fb9f3a"
             ],
             [
              0.8888888888888888,
              "#fdca26"
             ],
             [
              1,
              "#f0f921"
             ]
            ],
            "type": "contour"
           }
          ],
          "contourcarpet": [
           {
            "colorbar": {
             "outlinewidth": 0,
             "ticks": ""
            },
            "type": "contourcarpet"
           }
          ],
          "heatmap": [
           {
            "colorbar": {
             "outlinewidth": 0,
             "ticks": ""
            },
            "colorscale": [
             [
              0,
              "#0d0887"
             ],
             [
              0.1111111111111111,
              "#46039f"
             ],
             [
              0.2222222222222222,
              "#7201a8"
             ],
             [
              0.3333333333333333,
              "#9c179e"
             ],
             [
              0.4444444444444444,
              "#bd3786"
             ],
             [
              0.5555555555555556,
              "#d8576b"
             ],
             [
              0.6666666666666666,
              "#ed7953"
             ],
             [
              0.7777777777777778,
              "#fb9f3a"
             ],
             [
              0.8888888888888888,
              "#fdca26"
             ],
             [
              1,
              "#f0f921"
             ]
            ],
            "type": "heatmap"
           }
          ],
          "histogram": [
           {
            "marker": {
             "pattern": {
              "fillmode": "overlay",
              "size": 10,
              "solidity": 0.2
             }
            },
            "type": "histogram"
           }
          ],
          "histogram2d": [
           {
            "colorbar": {
             "outlinewidth": 0,
             "ticks": ""
            },
            "colorscale": [
             [
              0,
              "#0d0887"
             ],
             [
              0.1111111111111111,
              "#46039f"
             ],
             [
              0.2222222222222222,
              "#7201a8"
             ],
             [
              0.3333333333333333,
              "#9c179e"
             ],
             [
              0.4444444444444444,
              "#bd3786"
             ],
             [
              0.5555555555555556,
              "#d8576b"
             ],
             [
              0.6666666666666666,
              "#ed7953"
             ],
             [
              0.7777777777777778,
              "#fb9f3a"
             ],
             [
              0.8888888888888888,
              "#fdca26"
             ],
             [
              1,
              "#f0f921"
             ]
            ],
            "type": "histogram2d"
           }
          ],
          "histogram2dcontour": [
           {
            "colorbar": {
             "outlinewidth": 0,
             "ticks": ""
            },
            "colorscale": [
             [
              0,
              "#0d0887"
             ],
             [
              0.1111111111111111,
              "#46039f"
             ],
             [
              0.2222222222222222,
              "#7201a8"
             ],
             [
              0.3333333333333333,
              "#9c179e"
             ],
             [
              0.4444444444444444,
              "#bd3786"
             ],
             [
              0.5555555555555556,
              "#d8576b"
             ],
             [
              0.6666666666666666,
              "#ed7953"
             ],
             [
              0.7777777777777778,
              "#fb9f3a"
             ],
             [
              0.8888888888888888,
              "#fdca26"
             ],
             [
              1,
              "#f0f921"
             ]
            ],
            "type": "histogram2dcontour"
           }
          ],
          "mesh3d": [
           {
            "colorbar": {
             "outlinewidth": 0,
             "ticks": ""
            },
            "type": "mesh3d"
           }
          ],
          "parcoords": [
           {
            "line": {
             "colorbar": {
              "outlinewidth": 0,
              "ticks": ""
             }
            },
            "type": "parcoords"
           }
          ],
          "pie": [
           {
            "automargin": true,
            "type": "pie"
           }
          ],
          "scatter": [
           {
            "fillpattern": {
             "fillmode": "overlay",
             "size": 10,
             "solidity": 0.2
            },
            "type": "scatter"
           }
          ],
          "scatter3d": [
           {
            "line": {
             "colorbar": {
              "outlinewidth": 0,
              "ticks": ""
             }
            },
            "marker": {
             "colorbar": {
              "outlinewidth": 0,
              "ticks": ""
             }
            },
            "type": "scatter3d"
           }
          ],
          "scattercarpet": [
           {
            "marker": {
             "colorbar": {
              "outlinewidth": 0,
              "ticks": ""
             }
            },
            "type": "scattercarpet"
           }
          ],
          "scattergeo": [
           {
            "marker": {
             "colorbar": {
              "outlinewidth": 0,
              "ticks": ""
             }
            },
            "type": "scattergeo"
           }
          ],
          "scattergl": [
           {
            "marker": {
             "colorbar": {
              "outlinewidth": 0,
              "ticks": ""
             }
            },
            "type": "scattergl"
           }
          ],
          "scattermap": [
           {
            "marker": {
             "colorbar": {
              "outlinewidth": 0,
              "ticks": ""
             }
            },
            "type": "scattermap"
           }
          ],
          "scattermapbox": [
           {
            "marker": {
             "colorbar": {
              "outlinewidth": 0,
              "ticks": ""
             }
            },
            "type": "scattermapbox"
           }
          ],
          "scatterpolar": [
           {
            "marker": {
             "colorbar": {
              "outlinewidth": 0,
              "ticks": ""
             }
            },
            "type": "scatterpolar"
           }
          ],
          "scatterpolargl": [
           {
            "marker": {
             "colorbar": {
              "outlinewidth": 0,
              "ticks": ""
             }
            },
            "type": "scatterpolargl"
           }
          ],
          "scatterternary": [
           {
            "marker": {
             "colorbar": {
              "outlinewidth": 0,
              "ticks": ""
             }
            },
            "type": "scatterternary"
           }
          ],
          "surface": [
           {
            "colorbar": {
             "outlinewidth": 0,
             "ticks": ""
            },
            "colorscale": [
             [
              0,
              "#0d0887"
             ],
             [
              0.1111111111111111,
              "#46039f"
             ],
             [
              0.2222222222222222,
              "#7201a8"
             ],
             [
              0.3333333333333333,
              "#9c179e"
             ],
             [
              0.4444444444444444,
              "#bd3786"
             ],
             [
              0.5555555555555556,
              "#d8576b"
             ],
             [
              0.6666666666666666,
              "#ed7953"
             ],
             [
              0.7777777777777778,
              "#fb9f3a"
             ],
             [
              0.8888888888888888,
              "#fdca26"
             ],
             [
              1,
              "#f0f921"
             ]
            ],
            "type": "surface"
           }
          ],
          "table": [
           {
            "cells": {
             "fill": {
              "color": "#EBF0F8"
             },
             "line": {
              "color": "white"
             }
            },
            "header": {
             "fill": {
              "color": "#C8D4E3"
             },
             "line": {
              "color": "white"
             }
            },
            "type": "table"
           }
          ]
         },
         "layout": {
          "annotationdefaults": {
           "arrowcolor": "#2a3f5f",
           "arrowhead": 0,
           "arrowwidth": 1
          },
          "autotypenumbers": "strict",
          "coloraxis": {
           "colorbar": {
            "outlinewidth": 0,
            "ticks": ""
           }
          },
          "colorscale": {
           "diverging": [
            [
             0,
             "#8e0152"
            ],
            [
             0.1,
             "#c51b7d"
            ],
            [
             0.2,
             "#de77ae"
            ],
            [
             0.3,
             "#f1b6da"
            ],
            [
             0.4,
             "#fde0ef"
            ],
            [
             0.5,
             "#f7f7f7"
            ],
            [
             0.6,
             "#e6f5d0"
            ],
            [
             0.7,
             "#b8e186"
            ],
            [
             0.8,
             "#7fbc41"
            ],
            [
             0.9,
             "#4d9221"
            ],
            [
             1,
             "#276419"
            ]
           ],
           "sequential": [
            [
             0,
             "#0d0887"
            ],
            [
             0.1111111111111111,
             "#46039f"
            ],
            [
             0.2222222222222222,
             "#7201a8"
            ],
            [
             0.3333333333333333,
             "#9c179e"
            ],
            [
             0.4444444444444444,
             "#bd3786"
            ],
            [
             0.5555555555555556,
             "#d8576b"
            ],
            [
             0.6666666666666666,
             "#ed7953"
            ],
            [
             0.7777777777777778,
             "#fb9f3a"
            ],
            [
             0.8888888888888888,
             "#fdca26"
            ],
            [
             1,
             "#f0f921"
            ]
           ],
           "sequentialminus": [
            [
             0,
             "#0d0887"
            ],
            [
             0.1111111111111111,
             "#46039f"
            ],
            [
             0.2222222222222222,
             "#7201a8"
            ],
            [
             0.3333333333333333,
             "#9c179e"
            ],
            [
             0.4444444444444444,
             "#bd3786"
            ],
            [
             0.5555555555555556,
             "#d8576b"
            ],
            [
             0.6666666666666666,
             "#ed7953"
            ],
            [
             0.7777777777777778,
             "#fb9f3a"
            ],
            [
             0.8888888888888888,
             "#fdca26"
            ],
            [
             1,
             "#f0f921"
            ]
           ]
          },
          "colorway": [
           "#636efa",
           "#EF553B",
           "#00cc96",
           "#ab63fa",
           "#FFA15A",
           "#19d3f3",
           "#FF6692",
           "#B6E880",
           "#FF97FF",
           "#FECB52"
          ],
          "font": {
           "color": "#2a3f5f"
          },
          "geo": {
           "bgcolor": "white",
           "lakecolor": "white",
           "landcolor": "white",
           "showlakes": true,
           "showland": true,
           "subunitcolor": "#C8D4E3"
          },
          "hoverlabel": {
           "align": "left"
          },
          "hovermode": "closest",
          "mapbox": {
           "style": "light"
          },
          "paper_bgcolor": "white",
          "plot_bgcolor": "white",
          "polar": {
           "angularaxis": {
            "gridcolor": "#EBF0F8",
            "linecolor": "#EBF0F8",
            "ticks": ""
           },
           "bgcolor": "white",
           "radialaxis": {
            "gridcolor": "#EBF0F8",
            "linecolor": "#EBF0F8",
            "ticks": ""
           }
          },
          "scene": {
           "xaxis": {
            "backgroundcolor": "white",
            "gridcolor": "#DFE8F3",
            "gridwidth": 2,
            "linecolor": "#EBF0F8",
            "showbackground": true,
            "ticks": "",
            "zerolinecolor": "#EBF0F8"
           },
           "yaxis": {
            "backgroundcolor": "white",
            "gridcolor": "#DFE8F3",
            "gridwidth": 2,
            "linecolor": "#EBF0F8",
            "showbackground": true,
            "ticks": "",
            "zerolinecolor": "#EBF0F8"
           },
           "zaxis": {
            "backgroundcolor": "white",
            "gridcolor": "#DFE8F3",
            "gridwidth": 2,
            "linecolor": "#EBF0F8",
            "showbackground": true,
            "ticks": "",
            "zerolinecolor": "#EBF0F8"
           }
          },
          "shapedefaults": {
           "line": {
            "color": "#2a3f5f"
           }
          },
          "ternary": {
           "aaxis": {
            "gridcolor": "#DFE8F3",
            "linecolor": "#A2B1C6",
            "ticks": ""
           },
           "baxis": {
            "gridcolor": "#DFE8F3",
            "linecolor": "#A2B1C6",
            "ticks": ""
           },
           "bgcolor": "white",
           "caxis": {
            "gridcolor": "#DFE8F3",
            "linecolor": "#A2B1C6",
            "ticks": ""
           }
          },
          "title": {
           "x": 0.05
          },
          "xaxis": {
           "automargin": true,
           "gridcolor": "#EBF0F8",
           "linecolor": "#EBF0F8",
           "ticks": "",
           "title": {
            "standoff": 15
           },
           "zerolinecolor": "#EBF0F8",
           "zerolinewidth": 2
          },
          "yaxis": {
           "automargin": true,
           "gridcolor": "#EBF0F8",
           "linecolor": "#EBF0F8",
           "ticks": "",
           "title": {
            "standoff": 15
           },
           "zerolinecolor": "#EBF0F8",
           "zerolinewidth": 2
          }
         }
        },
        "title": {
         "text": "Upload Speed Comparison: Mean vs Median (IPv4 vs IPv6)"
        },
        "width": 800,
        "xaxis": {
         "title": {
          "text": "Protocol"
         }
        },
        "yaxis": {
         "title": {
          "text": "Speed (Mbps)"
         }
        }
       }
      }
     },
     "metadata": {},
     "output_type": "display_data"
    }
   ],
   "source": [
    "fig1 = go.Figure()\n",
    "fig1.add_trace(go.Bar(\n",
    "    x=upload_stats_df['Protocol'],\n",
    "    y=upload_stats_df['Mean Speed (Mbps)'],\n",
    "    name='Mean Speed (Mbps)',\n",
    "    marker_color='indianred',\n",
    "    text=upload_stats_df['Mean Speed (Mbps)'].round(2),\n",
    "    textposition='auto'\n",
    "))\n",
    "fig1.add_trace(go.Bar(\n",
    "    x=upload_stats_df['Protocol'],\n",
    "    y=upload_stats_df['Median Speed (Mbps)'],\n",
    "    name='Median Speed (Mbps)',\n",
    "    marker_color='lightseagreen',\n",
    "    text=upload_stats_df['Median Speed (Mbps)'].round(2),\n",
    "    textposition='auto'\n",
    "))\n",
    "\n",
    "fig1.update_layout(\n",
    "    title='Upload Speed Comparison: Mean vs Median (IPv4 vs IPv6)',\n",
    "    xaxis_title='Protocol',\n",
    "    yaxis_title='Speed (Mbps)',\n",
    "    barmode='group',\n",
    "    height=500,\n",
    "    width=800,\n",
    "    legend_title='Metric',\n",
    "    template='plotly_white'\n",
    ")\n",
    "# fig1.write_html(\"../reports/viz/upload_performance/upload_speed_comparison.html\")"
   ]
  },
  {
   "cell_type": "markdown",
   "metadata": {},
   "source": [
    "####  Bar Chart: Success Rate and Average Fetch Time for Uploading Metrics"
   ]
  },
  {
   "cell_type": "code",
   "execution_count": 29,
   "metadata": {},
   "outputs": [
    {
     "data": {
      "application/vnd.plotly.v1+json": {
       "config": {
        "plotlyServerURL": "https://plot.ly"
       },
       "data": [
        {
         "marker": {
          "color": "indianred"
         },
         "name": "Success Rate (%)",
         "text": {
          "bdata": "XI/C9SjMWEAfhetRuP5WQA==",
          "dtype": "f8"
         },
         "textposition": "auto",
         "type": "bar",
         "x": [
          "IPv4",
          "IPv6"
         ],
         "xaxis": "x",
         "y": {
          "bdata": "GpqWYzLMWEBlmtMudP5WQA==",
          "dtype": "f8"
         },
         "yaxis": "y"
        },
        {
         "line": {
          "color": "lightseagreen",
          "width": 2
         },
         "marker": {
          "color": "lightseagreen",
          "size": 10
         },
         "mode": "lines+markers+text",
         "name": "Avg Fetch Time (ms)",
         "text": {
          "bdata": "XI/C9Qhsw0CuR+F6dP/BQA==",
          "dtype": "f8"
         },
         "textposition": "top center",
         "type": "scatter",
         "x": [
          "IPv4",
          "IPv6"
         ],
         "xaxis": "x",
         "y": {
          "bdata": "+tRCGAlsw0DVNt4PdP/BQA==",
          "dtype": "f8"
         },
         "yaxis": "y2"
        }
       ],
       "layout": {
        "barmode": "group",
        "height": 500,
        "legend": {
         "title": {
          "text": "Metric"
         }
        },
        "template": {
         "data": {
          "bar": [
           {
            "error_x": {
             "color": "#2a3f5f"
            },
            "error_y": {
             "color": "#2a3f5f"
            },
            "marker": {
             "line": {
              "color": "white",
              "width": 0.5
             },
             "pattern": {
              "fillmode": "overlay",
              "size": 10,
              "solidity": 0.2
             }
            },
            "type": "bar"
           }
          ],
          "barpolar": [
           {
            "marker": {
             "line": {
              "color": "white",
              "width": 0.5
             },
             "pattern": {
              "fillmode": "overlay",
              "size": 10,
              "solidity": 0.2
             }
            },
            "type": "barpolar"
           }
          ],
          "carpet": [
           {
            "aaxis": {
             "endlinecolor": "#2a3f5f",
             "gridcolor": "#C8D4E3",
             "linecolor": "#C8D4E3",
             "minorgridcolor": "#C8D4E3",
             "startlinecolor": "#2a3f5f"
            },
            "baxis": {
             "endlinecolor": "#2a3f5f",
             "gridcolor": "#C8D4E3",
             "linecolor": "#C8D4E3",
             "minorgridcolor": "#C8D4E3",
             "startlinecolor": "#2a3f5f"
            },
            "type": "carpet"
           }
          ],
          "choropleth": [
           {
            "colorbar": {
             "outlinewidth": 0,
             "ticks": ""
            },
            "type": "choropleth"
           }
          ],
          "contour": [
           {
            "colorbar": {
             "outlinewidth": 0,
             "ticks": ""
            },
            "colorscale": [
             [
              0,
              "#0d0887"
             ],
             [
              0.1111111111111111,
              "#46039f"
             ],
             [
              0.2222222222222222,
              "#7201a8"
             ],
             [
              0.3333333333333333,
              "#9c179e"
             ],
             [
              0.4444444444444444,
              "#bd3786"
             ],
             [
              0.5555555555555556,
              "#d8576b"
             ],
             [
              0.6666666666666666,
              "#ed7953"
             ],
             [
              0.7777777777777778,
              "#fb9f3a"
             ],
             [
              0.8888888888888888,
              "#fdca26"
             ],
             [
              1,
              "#f0f921"
             ]
            ],
            "type": "contour"
           }
          ],
          "contourcarpet": [
           {
            "colorbar": {
             "outlinewidth": 0,
             "ticks": ""
            },
            "type": "contourcarpet"
           }
          ],
          "heatmap": [
           {
            "colorbar": {
             "outlinewidth": 0,
             "ticks": ""
            },
            "colorscale": [
             [
              0,
              "#0d0887"
             ],
             [
              0.1111111111111111,
              "#46039f"
             ],
             [
              0.2222222222222222,
              "#7201a8"
             ],
             [
              0.3333333333333333,
              "#9c179e"
             ],
             [
              0.4444444444444444,
              "#bd3786"
             ],
             [
              0.5555555555555556,
              "#d8576b"
             ],
             [
              0.6666666666666666,
              "#ed7953"
             ],
             [
              0.7777777777777778,
              "#fb9f3a"
             ],
             [
              0.8888888888888888,
              "#fdca26"
             ],
             [
              1,
              "#f0f921"
             ]
            ],
            "type": "heatmap"
           }
          ],
          "histogram": [
           {
            "marker": {
             "pattern": {
              "fillmode": "overlay",
              "size": 10,
              "solidity": 0.2
             }
            },
            "type": "histogram"
           }
          ],
          "histogram2d": [
           {
            "colorbar": {
             "outlinewidth": 0,
             "ticks": ""
            },
            "colorscale": [
             [
              0,
              "#0d0887"
             ],
             [
              0.1111111111111111,
              "#46039f"
             ],
             [
              0.2222222222222222,
              "#7201a8"
             ],
             [
              0.3333333333333333,
              "#9c179e"
             ],
             [
              0.4444444444444444,
              "#bd3786"
             ],
             [
              0.5555555555555556,
              "#d8576b"
             ],
             [
              0.6666666666666666,
              "#ed7953"
             ],
             [
              0.7777777777777778,
              "#fb9f3a"
             ],
             [
              0.8888888888888888,
              "#fdca26"
             ],
             [
              1,
              "#f0f921"
             ]
            ],
            "type": "histogram2d"
           }
          ],
          "histogram2dcontour": [
           {
            "colorbar": {
             "outlinewidth": 0,
             "ticks": ""
            },
            "colorscale": [
             [
              0,
              "#0d0887"
             ],
             [
              0.1111111111111111,
              "#46039f"
             ],
             [
              0.2222222222222222,
              "#7201a8"
             ],
             [
              0.3333333333333333,
              "#9c179e"
             ],
             [
              0.4444444444444444,
              "#bd3786"
             ],
             [
              0.5555555555555556,
              "#d8576b"
             ],
             [
              0.6666666666666666,
              "#ed7953"
             ],
             [
              0.7777777777777778,
              "#fb9f3a"
             ],
             [
              0.8888888888888888,
              "#fdca26"
             ],
             [
              1,
              "#f0f921"
             ]
            ],
            "type": "histogram2dcontour"
           }
          ],
          "mesh3d": [
           {
            "colorbar": {
             "outlinewidth": 0,
             "ticks": ""
            },
            "type": "mesh3d"
           }
          ],
          "parcoords": [
           {
            "line": {
             "colorbar": {
              "outlinewidth": 0,
              "ticks": ""
             }
            },
            "type": "parcoords"
           }
          ],
          "pie": [
           {
            "automargin": true,
            "type": "pie"
           }
          ],
          "scatter": [
           {
            "fillpattern": {
             "fillmode": "overlay",
             "size": 10,
             "solidity": 0.2
            },
            "type": "scatter"
           }
          ],
          "scatter3d": [
           {
            "line": {
             "colorbar": {
              "outlinewidth": 0,
              "ticks": ""
             }
            },
            "marker": {
             "colorbar": {
              "outlinewidth": 0,
              "ticks": ""
             }
            },
            "type": "scatter3d"
           }
          ],
          "scattercarpet": [
           {
            "marker": {
             "colorbar": {
              "outlinewidth": 0,
              "ticks": ""
             }
            },
            "type": "scattercarpet"
           }
          ],
          "scattergeo": [
           {
            "marker": {
             "colorbar": {
              "outlinewidth": 0,
              "ticks": ""
             }
            },
            "type": "scattergeo"
           }
          ],
          "scattergl": [
           {
            "marker": {
             "colorbar": {
              "outlinewidth": 0,
              "ticks": ""
             }
            },
            "type": "scattergl"
           }
          ],
          "scattermap": [
           {
            "marker": {
             "colorbar": {
              "outlinewidth": 0,
              "ticks": ""
             }
            },
            "type": "scattermap"
           }
          ],
          "scattermapbox": [
           {
            "marker": {
             "colorbar": {
              "outlinewidth": 0,
              "ticks": ""
             }
            },
            "type": "scattermapbox"
           }
          ],
          "scatterpolar": [
           {
            "marker": {
             "colorbar": {
              "outlinewidth": 0,
              "ticks": ""
             }
            },
            "type": "scatterpolar"
           }
          ],
          "scatterpolargl": [
           {
            "marker": {
             "colorbar": {
              "outlinewidth": 0,
              "ticks": ""
             }
            },
            "type": "scatterpolargl"
           }
          ],
          "scatterternary": [
           {
            "marker": {
             "colorbar": {
              "outlinewidth": 0,
              "ticks": ""
             }
            },
            "type": "scatterternary"
           }
          ],
          "surface": [
           {
            "colorbar": {
             "outlinewidth": 0,
             "ticks": ""
            },
            "colorscale": [
             [
              0,
              "#0d0887"
             ],
             [
              0.1111111111111111,
              "#46039f"
             ],
             [
              0.2222222222222222,
              "#7201a8"
             ],
             [
              0.3333333333333333,
              "#9c179e"
             ],
             [
              0.4444444444444444,
              "#bd3786"
             ],
             [
              0.5555555555555556,
              "#d8576b"
             ],
             [
              0.6666666666666666,
              "#ed7953"
             ],
             [
              0.7777777777777778,
              "#fb9f3a"
             ],
             [
              0.8888888888888888,
              "#fdca26"
             ],
             [
              1,
              "#f0f921"
             ]
            ],
            "type": "surface"
           }
          ],
          "table": [
           {
            "cells": {
             "fill": {
              "color": "#EBF0F8"
             },
             "line": {
              "color": "white"
             }
            },
            "header": {
             "fill": {
              "color": "#C8D4E3"
             },
             "line": {
              "color": "white"
             }
            },
            "type": "table"
           }
          ]
         },
         "layout": {
          "annotationdefaults": {
           "arrowcolor": "#2a3f5f",
           "arrowhead": 0,
           "arrowwidth": 1
          },
          "autotypenumbers": "strict",
          "coloraxis": {
           "colorbar": {
            "outlinewidth": 0,
            "ticks": ""
           }
          },
          "colorscale": {
           "diverging": [
            [
             0,
             "#8e0152"
            ],
            [
             0.1,
             "#c51b7d"
            ],
            [
             0.2,
             "#de77ae"
            ],
            [
             0.3,
             "#f1b6da"
            ],
            [
             0.4,
             "#fde0ef"
            ],
            [
             0.5,
             "#f7f7f7"
            ],
            [
             0.6,
             "#e6f5d0"
            ],
            [
             0.7,
             "#b8e186"
            ],
            [
             0.8,
             "#7fbc41"
            ],
            [
             0.9,
             "#4d9221"
            ],
            [
             1,
             "#276419"
            ]
           ],
           "sequential": [
            [
             0,
             "#0d0887"
            ],
            [
             0.1111111111111111,
             "#46039f"
            ],
            [
             0.2222222222222222,
             "#7201a8"
            ],
            [
             0.3333333333333333,
             "#9c179e"
            ],
            [
             0.4444444444444444,
             "#bd3786"
            ],
            [
             0.5555555555555556,
             "#d8576b"
            ],
            [
             0.6666666666666666,
             "#ed7953"
            ],
            [
             0.7777777777777778,
             "#fb9f3a"
            ],
            [
             0.8888888888888888,
             "#fdca26"
            ],
            [
             1,
             "#f0f921"
            ]
           ],
           "sequentialminus": [
            [
             0,
             "#0d0887"
            ],
            [
             0.1111111111111111,
             "#46039f"
            ],
            [
             0.2222222222222222,
             "#7201a8"
            ],
            [
             0.3333333333333333,
             "#9c179e"
            ],
            [
             0.4444444444444444,
             "#bd3786"
            ],
            [
             0.5555555555555556,
             "#d8576b"
            ],
            [
             0.6666666666666666,
             "#ed7953"
            ],
            [
             0.7777777777777778,
             "#fb9f3a"
            ],
            [
             0.8888888888888888,
             "#fdca26"
            ],
            [
             1,
             "#f0f921"
            ]
           ]
          },
          "colorway": [
           "#636efa",
           "#EF553B",
           "#00cc96",
           "#ab63fa",
           "#FFA15A",
           "#19d3f3",
           "#FF6692",
           "#B6E880",
           "#FF97FF",
           "#FECB52"
          ],
          "font": {
           "color": "#2a3f5f"
          },
          "geo": {
           "bgcolor": "white",
           "lakecolor": "white",
           "landcolor": "white",
           "showlakes": true,
           "showland": true,
           "subunitcolor": "#C8D4E3"
          },
          "hoverlabel": {
           "align": "left"
          },
          "hovermode": "closest",
          "mapbox": {
           "style": "light"
          },
          "paper_bgcolor": "white",
          "plot_bgcolor": "white",
          "polar": {
           "angularaxis": {
            "gridcolor": "#EBF0F8",
            "linecolor": "#EBF0F8",
            "ticks": ""
           },
           "bgcolor": "white",
           "radialaxis": {
            "gridcolor": "#EBF0F8",
            "linecolor": "#EBF0F8",
            "ticks": ""
           }
          },
          "scene": {
           "xaxis": {
            "backgroundcolor": "white",
            "gridcolor": "#DFE8F3",
            "gridwidth": 2,
            "linecolor": "#EBF0F8",
            "showbackground": true,
            "ticks": "",
            "zerolinecolor": "#EBF0F8"
           },
           "yaxis": {
            "backgroundcolor": "white",
            "gridcolor": "#DFE8F3",
            "gridwidth": 2,
            "linecolor": "#EBF0F8",
            "showbackground": true,
            "ticks": "",
            "zerolinecolor": "#EBF0F8"
           },
           "zaxis": {
            "backgroundcolor": "white",
            "gridcolor": "#DFE8F3",
            "gridwidth": 2,
            "linecolor": "#EBF0F8",
            "showbackground": true,
            "ticks": "",
            "zerolinecolor": "#EBF0F8"
           }
          },
          "shapedefaults": {
           "line": {
            "color": "#2a3f5f"
           }
          },
          "ternary": {
           "aaxis": {
            "gridcolor": "#DFE8F3",
            "linecolor": "#A2B1C6",
            "ticks": ""
           },
           "baxis": {
            "gridcolor": "#DFE8F3",
            "linecolor": "#A2B1C6",
            "ticks": ""
           },
           "bgcolor": "white",
           "caxis": {
            "gridcolor": "#DFE8F3",
            "linecolor": "#A2B1C6",
            "ticks": ""
           }
          },
          "title": {
           "x": 0.05
          },
          "xaxis": {
           "automargin": true,
           "gridcolor": "#EBF0F8",
           "linecolor": "#EBF0F8",
           "ticks": "",
           "title": {
            "standoff": 15
           },
           "zerolinecolor": "#EBF0F8",
           "zerolinewidth": 2
          },
          "yaxis": {
           "automargin": true,
           "gridcolor": "#EBF0F8",
           "linecolor": "#EBF0F8",
           "ticks": "",
           "title": {
            "standoff": 15
           },
           "zerolinecolor": "#EBF0F8",
           "zerolinewidth": 2
          }
         }
        },
        "title": {
         "text": "Success Rate vs Average Fetch Time (IPv4 vs IPv6)"
        },
        "width": 800,
        "xaxis": {
         "anchor": "y",
         "domain": [
          0,
          0.94
         ],
         "title": {
          "text": "Protocol"
         }
        },
        "yaxis": {
         "anchor": "x",
         "domain": [
          0,
          1
         ],
         "range": [
          90,
          100
         ],
         "title": {
          "text": "Success Rate (%)"
         }
        },
        "yaxis2": {
         "anchor": "x",
         "overlaying": "y",
         "range": [
          9000,
          10500
         ],
         "side": "right",
         "title": {
          "text": "Avg Fetch Time (ms)"
         }
        }
       }
      }
     },
     "metadata": {},
     "output_type": "display_data"
    }
   ],
   "source": [
    "fig2 = make_subplots(specs=[[{\"secondary_y\": True}]])\n",
    "# Bar chart for Success Rate (%) on primary Y-axis\n",
    "fig2.add_trace(\n",
    "    go.Bar(\n",
    "        x=upload_stats_df['Protocol'],\n",
    "        y=upload_stats_df['Success Rate (%)'],\n",
    "        name='Success Rate (%)',\n",
    "        marker_color='indianred',\n",
    "        text=upload_stats_df['Success Rate (%)'].round(2),\n",
    "        textposition='auto'\n",
    "    ),\n",
    "    secondary_y=False\n",
    ")\n",
    "\n",
    "# Line chart with markers for Avg Fetch Time (ms) on secondary Y-axis\n",
    "fig2.add_trace(\n",
    "    go.Scatter(\n",
    "        x=upload_stats_df['Protocol'],\n",
    "        y=upload_stats_df['Avg Fetch Time (ms)'],\n",
    "        name='Avg Fetch Time (ms)',\n",
    "        mode='lines+markers+text',\n",
    "        marker=dict(color='lightseagreen', size=10),\n",
    "        line=dict(color='lightseagreen', width=2),\n",
    "        text=upload_stats_df['Avg Fetch Time (ms)'].round(2),\n",
    "        textposition='top center'\n",
    "    ),\n",
    "    secondary_y=True\n",
    ")\n",
    "\n",
    "# Update layout for clarity\n",
    "fig2.update_layout(\n",
    "    title='Success Rate vs Average Fetch Time (IPv4 vs IPv6)',\n",
    "    xaxis_title='Protocol',\n",
    "    height=500,\n",
    "    width=800,\n",
    "    template='plotly_white',\n",
    "    legend_title='Metric',\n",
    "    barmode='group'  # Only affects bars, not the line\n",
    ")\n",
    "\n",
    "fig2.update_yaxes(title_text='Success Rate (%)', secondary_y=False, range=[90, 100])  # Adjusted range for better visibility\n",
    "fig2.update_yaxes(title_text='Avg Fetch Time (ms)', secondary_y=True, range=[9000, 10500])  # Adjusted range\n",
    "\n",
    "# fig2.write_html(\"../reports/viz/upload_performance/success_fetch_comparison_corrected.html\")\n"
   ]
  },
  {
   "cell_type": "markdown",
   "metadata": {},
   "source": [
    "#### Average Uploading Speed by Target Server"
   ]
  },
  {
   "cell_type": "code",
   "execution_count": 30,
   "metadata": {},
   "outputs": [],
   "source": [
    "upload_ipv4_server_stats = df_httppostmt.groupby('target')['mbps'].agg(['mean', 'count']).reset_index().sort_values(by='mean', ascending=True)\n",
    "upload_ipv6_server_stats = df_httppostmt6.groupby('target')['mbps'].agg(['mean', 'count']).reset_index().sort_values(by='mean', ascending=True)"
   ]
  },
  {
   "cell_type": "code",
   "execution_count": 31,
   "metadata": {},
   "outputs": [
    {
     "data": {
      "application/vnd.plotly.v1+json": {
       "config": {
        "plotlyServerURL": "https://plot.ly"
       },
       "data": [
        {
         "name": "IPv4",
         "text": {
          "bdata": "AAAAAAAAHEAAAAAAAAAkQAAAAAAAABRAAAAAAAAAAEAAAAAAAAAAQAAAAAAAABhAAAAAAAAAGEAAAAAAAAAAQAAAAAAAAABAAAAAAAAAEEAAAAAAAIBKQAAAAAAAAChAAAAAAABAY0AAAAAAAIBOQAAAAAAAsHhAAAAAAABAlUAAAAAAAMBsQAAAAAAACJhAAAAAAAC0kkAAAAAAAAyUQAAAAAAAEJJAAAAAAAAAMkAAAAAAAOCoQAAAAAAAVJBAAAAAAAAwkkAAAAAAAAiDQAAAAAAAtJNAAAAAAACYjEAAAAAAACySQAAAAAAA4GNAAAAAAACYj0AAAAAAAGioQAAAAAAAbqNAAAAAAADgeEAAAAAAAFiGQAAAAAAA1JBAAAAAAACQf0AAAAAAAGagQAAAAAAAGIFAAAAAAACIiUAAAAAAAIBaQAAAAAAAtJFAAAAAAAD4j0AAAAAAADB2QAAAAAAAAAhAAAAAAAAqokAAAAAAAOBsQAAAAAAAEKNAAAAAAACYgkAAAAAAAKCQQAAAAAAAdJpAAAAAAACAgEAAAAAAABiFQAAAAAAAEHxAAAAAAAAACEAAAAAAAMiMQAAAAAAAoHtAAAAAAADIgkAAAAAAAA6oQAAAAAAAgHRAAAAAAAA5t0AAAAAAANWxQAAAAAAAAGdAAAAAAAAMo0AAAAAAAEBQQAAAAAAAOqFAAAAAAACQd0AAAAAAAIyhQAAAAAAAhttAAAAAAACKpEAAAAAAAEiQQAAAAAAAoIFAAAAAAABW3UAAAAAAgPPxQAAAAADA2O9AAAAAAMCG8kAAAAAAgB3qQAAAAAAAEIZAAAAAAMA03UAAAAAAAMW6QAAAAACgIOVAAAAAAACQdEAAAAAAABaoQAAAAACgJuZAAAAAACCx7UAAAAAAIKHhQAAAAAAAwJVAAAAAAEDR5EAAAAAAAJ61QAAAAACAK9dAAAAAAABgb0AAAAAAAMBRQAAAAAAAcHBAAAAAAAAQdEAAAAAAAKBhQAAAAAAAAGRAAAAAAABIsEAAAAAAANqzQAAAAAAAwFxAAAAAAABAaUAAAAAAAABsQAAAAAAA1LpAAAAAAAAAMkAAAAAAACa/QAAAAAAAIGVA",
          "dtype": "f8"
         },
         "textposition": "auto",
         "type": "bar",
         "x": [
          "lithiasprings.att.samknows.com",
          "secaucus01.att.samknows.com",
          "sandiego.att.samknows.com",
          "redwood.att.samknows.com",
          "orlando.att.samknows.com",
          "offnet-fcc-2023",
          "lisle.att.samknows.com",
          "ispsk07.windstream.net",
          "ispsk02.windstream.net",
          "allen.att.samknows.com",
          "16-on-regional-pima.samknows.comcast.net",
          "11-on-national-independence.samknows.comcast.net",
          "05-on-national-la.samknows.comcast.net",
          "24-on-regional-augusta.samknows.comcast.net",
          "01-on-regional-albuquerque.samknows.comcast.net",
          "fcc01euclwi.eucl.wi.charter.com",
          "fcc01oxfrma.oxfr.ma.charter.com",
          "f1.st.lax00.tbone.rr.com",
          "fcc01olvemo.olve.mo.charter.com",
          "t1.st.lax00.tbone.rr.com",
          "t1.st.dca10.tbone.rr.com",
          "n1-fcc-detroit-us.samknows.com",
          "1-atlanta-on.east.cox.net",
          "f1.st.dca10.tbone.rr.com",
          "sksat-scrm-01.sys.comcast.net",
          "07-on-regional-nashville.samknows.comcast.net",
          "sksat-crls-01.sys.comcast.net",
          "fcc01spbgsc.spbg.sc.charter.com",
          "10-on-national-denver.samknows.comcast.net",
          "20-on-regional-saltlakecity.samknows.comcast.net",
          "10-on-regional-detroit.samknows.comcast.net",
          "2-sandiego-on.west.cox.net",
          "02-on-regional-boston.samknows.comcast.net",
          "14-on-regional-tallahassee.samknows.comcast.net",
          "19-on-regional-richmond.samknows.comcast.net",
          "04-on-national-chicago.samknows.comcast.net",
          "f1.st.dfw10.tbone.rr.com",
          "f1.st.chi10.tbone.rr.com",
          "27-on-regional-woodstockatlanta.sys.comcast.net",
          "18-on-regional-portland.samknows.comcast.net",
          "1-atlantaga-on.centurylink.net",
          "06-on-regional-chicago.samknows.comcast.net",
          "02-on-national-dc.samknows.comcast.net",
          "25-on-regional-naples.samknows.comcast.net",
          "sp2-vm-ashburn-us.samknows.com",
          "t1.st.atl20.tbone.rr.com",
          "sksat-abrn-01.sys.comcast.net",
          "t1.st.chi10.tbone.rr.com",
          "17-on-regional-northnj.samknows.comcast.net",
          "21-on-regional-seattle.samknows.comcast.net",
          "fcc01mtpkca.mtpk.ca.charter.com",
          "t1.st.dfw10.tbone.rr.com",
          "03-on-national-northnj.samknows.comcast.net",
          "13-on-regional-atlanta.samknows.comcast.net",
          "1-winterparkfl-on.centurylink.net",
          "09-on-national-seattle.samknows.comcast.net",
          "08-on-national-atlanta.samknows.comcast.net",
          "05-on-regional-houston.samknows.comcast.net",
          "12-on-national-santaclara.samknows.comcast.net",
          "07-on-national-miami.samknows.comcast.net",
          "1-iowa-on.mchsi.com",
          "prnynj-1-on.cv.net",
          "15-on-regional-newcastle.samknows.comcast.net",
          "hcvlny-2-on.cv.net",
          "n1-fcc-minneapolis-us.samknows.com",
          "sksat-scla-01.sys.comcast.net",
          "12-on-regional-miami.samknows.comcast.net",
          "whplny-1-on.cv.net",
          "sp1-vm-sanjose-us.samknows.com",
          "samk01.chcg.il.frontiernet.net",
          "03-on-regional-dc.samknows.comcast.net",
          "f1.st.nyc20.tbone.rr.com",
          "1-lasvegasnv-on.centurylink.net",
          "sp1-vm-chicago-us.samknows.com",
          "sp1-vm-atlanta-us.samknows.com",
          "sp2-vm-chicago-us.samknows.com",
          "sp1-vm-losangeles-us.samknows.com",
          "t1.st.nyc20.tbone.rr.com",
          "sp1-vm-denver-us.samknows.com",
          "sk-1.uhnet.net",
          "sp1-vm-seattle-us.samknows.com",
          "n1-fcc-chicago-us.samknows.com",
          "1-seattlewa-on.centurylink.net",
          "sp1-vm-dallas-us.samknows.com",
          "sp1-vm-ashburn-us.samknows.com",
          "sp1-vm-newyork-us.samknows.com",
          "samknows.hawaiiantel.net",
          "sp2-vm-newyork-us.samknows.com",
          "samk01.asbn.va.frontiernet.net",
          "sp1-vm-miami-us.samknows.com",
          "n1-fcc-atlanta-us.samknows.com",
          "n1-fcc-boston-us.samknows.com",
          "n1-fcc-losangeles-us.samknows.com",
          "n1-fcc-ashburn-us.samknows.com",
          "n1-fcc-denver-us.samknows.com",
          "n1-fcc-seattle-us.samknows.com",
          "samk01.lsan.ca.frontiernet.net",
          "samk01.dlls.tx.frontiernet.net",
          "n1-fcc-sanjose-us.samknows.com",
          "n1-fcc-dallas-us.samknows.com",
          "n1-fcc-newyork-us.samknows.com",
          "restonfcc.west.verizon.net",
          "samk01.plal.ca.frontiernet.net",
          "newyorkfcc.west.verizon.net",
          "n1-fcc-miami-us.samknows.com"
         ],
         "y": {
          "bdata": "AAAAAAAAAAAAAAAAAAAAAAAAAAAAAAAAAAAAAAAAAAAAAAAAAAAAAAAAAAAAAAAAAAAAAAAAAAAAAAAAAAAAAAAAAAAAAAAAAAAAAAAAAADNN9VhlNQXQB2rlJ7pJSNAYPfO+wbfKEBbQHbRQ8MpQGDKZpn0IypA2vqLQjSYLECuB6+j678sQDyM3OFMgy5ALBL2K2LQLkAIbjfymcAvQEA75GVHdzFAcMMCcpx+MUCHpAmAyYQxQJXHEPNNozJAhiZDhyU2M0Dcya8F0GkzQOkJkOnp0jNAQeM+lEwBNEC2bVl6a4U0QFOYOZh5CjVAhQ/YF5pfNUCg70njQfw1QGm5LM0aKTZAtON2vxaYNkD6c5Amvpg2QAGx+BCgsDlALYHg1oRVO0DyKnFpKbA8QEZiUclGvzxAilzEzX5WPUDc7KhGFcM9QAwsjM0Zyz1AEV8K2DIJPkCaGuIGHkM/QG3fo/56pUBApt+AjC8fQUC0AZbSlS9BQFbc6DqTXUFAXKUJKY1WQkC300KwWmBCQFsO5xW9fUJAxW5OqOx/QkB7O8VSceVCQGitz/ZnJkNAh7m3NfyhQ0DjnnrnCMhDQLpBH92LUkRAWQAy1KAGRUDjsCy6y3xHQKJg6InOfUdAf0SlBF6DR0CISB14ZqZIQKfp91aX7khA0oqsJfuLSUDeWYMFEBZNQP5OIDJNwk9AxnZsmTIZUEDhqwsXqoRQQNi0VBx5hlBA7xuduzk2U0AiB4GKo4dTQDWU74pUEVRARnkPU2OhVUAeEAXbi8dVQDcecxyk6VZAINhaKIJSV0BndErbhS1YQNRZSUGHk1lAdfxjwMzoWUBIi3V8TNZaQAmUoAaQO15A5xytYx3RYUDTX4EV0xJiQOcVmHUsVWJAnSYB9LQVY0ACL907zERkQFdDwABUbmVAyziNedV3ZUCPXSkvQlVmQAqWVgd1lGdALO2JVeMTa0B2jC2JHEBrQJIxqlZ9zWxAPuZm7kEAbUDRonwsDAFuQPdblgrFyHBA20kdBp5FcUD1LGxa03JxQGbmzbHQvHJAf76GXz/EckDgZvFiITpzQCflC/GOPnNAa0N2fD/Mc0AFOIvFamZ4QNm5i/8ckXhA",
          "dtype": "f8"
         }
        },
        {
         "name": "IPv6",
         "text": {
          "bdata": "AAAAAAAANEAAAAAAAAAQQAAAAAAAAENAAAAAAAAAMkAAAAAAAAAuQAAAAAAAAF5AAAAAAACAUkAAAAAAAAAzQAAAAAAAgExAAAAAAADgakAAAAAAAABbQAAAAAAAwF5AAAAAAABAVEAAAAAAAGBnQAAAAAAAAFRA",
          "dtype": "f8"
         },
         "textposition": "auto",
         "type": "bar",
         "x": [
          "offnet-fcc-2023-v6",
          "sk-1.uhnet.net",
          "v6-n1-fcc-seattle-us.samknows.com",
          "v6-n1-fcc-detroit-us.samknows.com",
          "v6-n1-fcc-miami-us.samknows.com",
          "v6-n1-fcc-losangeles-us.samknows.com",
          "v6-n1-fcc-denver-us.samknows.com",
          "v6-n1-fcc-minneapolis-us.samknows.com",
          "v6-n1-fcc-boston-us.samknows.com",
          "v6-n1-fcc-chicago-us.samknows.com",
          "v6-n1-fcc-atlanta-us.samknows.com",
          "v6-n1-fcc-newyork-us.samknows.com",
          "v6-n1-fcc-sanjose-us.samknows.com",
          "v6-n1-fcc-ashburn-us.samknows.com",
          "v6-n1-fcc-dallas-us.samknows.com"
         ],
         "y": {
          "bdata": "AAAAAAAAAABlHY6u0t0GQMxOKgtEzCdAUohteGcaLEBVIPuhGlcyQAAC1qpdCzNAVh9f5QIEO0BOM8hOXXZBQLUKeni9B1RA7TXqUxoEZUCF5mFTSmNnQIVRQlr0+mxAfnDBOQkccEAXlTQdQqhxQKszCL0oA3RA",
          "dtype": "f8"
         }
        }
       ],
       "layout": {
        "barmode": "group",
        "height": 600,
        "template": {
         "data": {
          "bar": [
           {
            "error_x": {
             "color": "#2a3f5f"
            },
            "error_y": {
             "color": "#2a3f5f"
            },
            "marker": {
             "line": {
              "color": "#E5ECF6",
              "width": 0.5
             },
             "pattern": {
              "fillmode": "overlay",
              "size": 10,
              "solidity": 0.2
             }
            },
            "type": "bar"
           }
          ],
          "barpolar": [
           {
            "marker": {
             "line": {
              "color": "#E5ECF6",
              "width": 0.5
             },
             "pattern": {
              "fillmode": "overlay",
              "size": 10,
              "solidity": 0.2
             }
            },
            "type": "barpolar"
           }
          ],
          "carpet": [
           {
            "aaxis": {
             "endlinecolor": "#2a3f5f",
             "gridcolor": "white",
             "linecolor": "white",
             "minorgridcolor": "white",
             "startlinecolor": "#2a3f5f"
            },
            "baxis": {
             "endlinecolor": "#2a3f5f",
             "gridcolor": "white",
             "linecolor": "white",
             "minorgridcolor": "white",
             "startlinecolor": "#2a3f5f"
            },
            "type": "carpet"
           }
          ],
          "choropleth": [
           {
            "colorbar": {
             "outlinewidth": 0,
             "ticks": ""
            },
            "type": "choropleth"
           }
          ],
          "contour": [
           {
            "colorbar": {
             "outlinewidth": 0,
             "ticks": ""
            },
            "colorscale": [
             [
              0,
              "#0d0887"
             ],
             [
              0.1111111111111111,
              "#46039f"
             ],
             [
              0.2222222222222222,
              "#7201a8"
             ],
             [
              0.3333333333333333,
              "#9c179e"
             ],
             [
              0.4444444444444444,
              "#bd3786"
             ],
             [
              0.5555555555555556,
              "#d8576b"
             ],
             [
              0.6666666666666666,
              "#ed7953"
             ],
             [
              0.7777777777777778,
              "#fb9f3a"
             ],
             [
              0.8888888888888888,
              "#fdca26"
             ],
             [
              1,
              "#f0f921"
             ]
            ],
            "type": "contour"
           }
          ],
          "contourcarpet": [
           {
            "colorbar": {
             "outlinewidth": 0,
             "ticks": ""
            },
            "type": "contourcarpet"
           }
          ],
          "heatmap": [
           {
            "colorbar": {
             "outlinewidth": 0,
             "ticks": ""
            },
            "colorscale": [
             [
              0,
              "#0d0887"
             ],
             [
              0.1111111111111111,
              "#46039f"
             ],
             [
              0.2222222222222222,
              "#7201a8"
             ],
             [
              0.3333333333333333,
              "#9c179e"
             ],
             [
              0.4444444444444444,
              "#bd3786"
             ],
             [
              0.5555555555555556,
              "#d8576b"
             ],
             [
              0.6666666666666666,
              "#ed7953"
             ],
             [
              0.7777777777777778,
              "#fb9f3a"
             ],
             [
              0.8888888888888888,
              "#fdca26"
             ],
             [
              1,
              "#f0f921"
             ]
            ],
            "type": "heatmap"
           }
          ],
          "histogram": [
           {
            "marker": {
             "pattern": {
              "fillmode": "overlay",
              "size": 10,
              "solidity": 0.2
             }
            },
            "type": "histogram"
           }
          ],
          "histogram2d": [
           {
            "colorbar": {
             "outlinewidth": 0,
             "ticks": ""
            },
            "colorscale": [
             [
              0,
              "#0d0887"
             ],
             [
              0.1111111111111111,
              "#46039f"
             ],
             [
              0.2222222222222222,
              "#7201a8"
             ],
             [
              0.3333333333333333,
              "#9c179e"
             ],
             [
              0.4444444444444444,
              "#bd3786"
             ],
             [
              0.5555555555555556,
              "#d8576b"
             ],
             [
              0.6666666666666666,
              "#ed7953"
             ],
             [
              0.7777777777777778,
              "#fb9f3a"
             ],
             [
              0.8888888888888888,
              "#fdca26"
             ],
             [
              1,
              "#f0f921"
             ]
            ],
            "type": "histogram2d"
           }
          ],
          "histogram2dcontour": [
           {
            "colorbar": {
             "outlinewidth": 0,
             "ticks": ""
            },
            "colorscale": [
             [
              0,
              "#0d0887"
             ],
             [
              0.1111111111111111,
              "#46039f"
             ],
             [
              0.2222222222222222,
              "#7201a8"
             ],
             [
              0.3333333333333333,
              "#9c179e"
             ],
             [
              0.4444444444444444,
              "#bd3786"
             ],
             [
              0.5555555555555556,
              "#d8576b"
             ],
             [
              0.6666666666666666,
              "#ed7953"
             ],
             [
              0.7777777777777778,
              "#fb9f3a"
             ],
             [
              0.8888888888888888,
              "#fdca26"
             ],
             [
              1,
              "#f0f921"
             ]
            ],
            "type": "histogram2dcontour"
           }
          ],
          "mesh3d": [
           {
            "colorbar": {
             "outlinewidth": 0,
             "ticks": ""
            },
            "type": "mesh3d"
           }
          ],
          "parcoords": [
           {
            "line": {
             "colorbar": {
              "outlinewidth": 0,
              "ticks": ""
             }
            },
            "type": "parcoords"
           }
          ],
          "pie": [
           {
            "automargin": true,
            "type": "pie"
           }
          ],
          "scatter": [
           {
            "fillpattern": {
             "fillmode": "overlay",
             "size": 10,
             "solidity": 0.2
            },
            "type": "scatter"
           }
          ],
          "scatter3d": [
           {
            "line": {
             "colorbar": {
              "outlinewidth": 0,
              "ticks": ""
             }
            },
            "marker": {
             "colorbar": {
              "outlinewidth": 0,
              "ticks": ""
             }
            },
            "type": "scatter3d"
           }
          ],
          "scattercarpet": [
           {
            "marker": {
             "colorbar": {
              "outlinewidth": 0,
              "ticks": ""
             }
            },
            "type": "scattercarpet"
           }
          ],
          "scattergeo": [
           {
            "marker": {
             "colorbar": {
              "outlinewidth": 0,
              "ticks": ""
             }
            },
            "type": "scattergeo"
           }
          ],
          "scattergl": [
           {
            "marker": {
             "colorbar": {
              "outlinewidth": 0,
              "ticks": ""
             }
            },
            "type": "scattergl"
           }
          ],
          "scattermap": [
           {
            "marker": {
             "colorbar": {
              "outlinewidth": 0,
              "ticks": ""
             }
            },
            "type": "scattermap"
           }
          ],
          "scattermapbox": [
           {
            "marker": {
             "colorbar": {
              "outlinewidth": 0,
              "ticks": ""
             }
            },
            "type": "scattermapbox"
           }
          ],
          "scatterpolar": [
           {
            "marker": {
             "colorbar": {
              "outlinewidth": 0,
              "ticks": ""
             }
            },
            "type": "scatterpolar"
           }
          ],
          "scatterpolargl": [
           {
            "marker": {
             "colorbar": {
              "outlinewidth": 0,
              "ticks": ""
             }
            },
            "type": "scatterpolargl"
           }
          ],
          "scatterternary": [
           {
            "marker": {
             "colorbar": {
              "outlinewidth": 0,
              "ticks": ""
             }
            },
            "type": "scatterternary"
           }
          ],
          "surface": [
           {
            "colorbar": {
             "outlinewidth": 0,
             "ticks": ""
            },
            "colorscale": [
             [
              0,
              "#0d0887"
             ],
             [
              0.1111111111111111,
              "#46039f"
             ],
             [
              0.2222222222222222,
              "#7201a8"
             ],
             [
              0.3333333333333333,
              "#9c179e"
             ],
             [
              0.4444444444444444,
              "#bd3786"
             ],
             [
              0.5555555555555556,
              "#d8576b"
             ],
             [
              0.6666666666666666,
              "#ed7953"
             ],
             [
              0.7777777777777778,
              "#fb9f3a"
             ],
             [
              0.8888888888888888,
              "#fdca26"
             ],
             [
              1,
              "#f0f921"
             ]
            ],
            "type": "surface"
           }
          ],
          "table": [
           {
            "cells": {
             "fill": {
              "color": "#EBF0F8"
             },
             "line": {
              "color": "white"
             }
            },
            "header": {
             "fill": {
              "color": "#C8D4E3"
             },
             "line": {
              "color": "white"
             }
            },
            "type": "table"
           }
          ]
         },
         "layout": {
          "annotationdefaults": {
           "arrowcolor": "#2a3f5f",
           "arrowhead": 0,
           "arrowwidth": 1
          },
          "autotypenumbers": "strict",
          "coloraxis": {
           "colorbar": {
            "outlinewidth": 0,
            "ticks": ""
           }
          },
          "colorscale": {
           "diverging": [
            [
             0,
             "#8e0152"
            ],
            [
             0.1,
             "#c51b7d"
            ],
            [
             0.2,
             "#de77ae"
            ],
            [
             0.3,
             "#f1b6da"
            ],
            [
             0.4,
             "#fde0ef"
            ],
            [
             0.5,
             "#f7f7f7"
            ],
            [
             0.6,
             "#e6f5d0"
            ],
            [
             0.7,
             "#b8e186"
            ],
            [
             0.8,
             "#7fbc41"
            ],
            [
             0.9,
             "#4d9221"
            ],
            [
             1,
             "#276419"
            ]
           ],
           "sequential": [
            [
             0,
             "#0d0887"
            ],
            [
             0.1111111111111111,
             "#46039f"
            ],
            [
             0.2222222222222222,
             "#7201a8"
            ],
            [
             0.3333333333333333,
             "#9c179e"
            ],
            [
             0.4444444444444444,
             "#bd3786"
            ],
            [
             0.5555555555555556,
             "#d8576b"
            ],
            [
             0.6666666666666666,
             "#ed7953"
            ],
            [
             0.7777777777777778,
             "#fb9f3a"
            ],
            [
             0.8888888888888888,
             "#fdca26"
            ],
            [
             1,
             "#f0f921"
            ]
           ],
           "sequentialminus": [
            [
             0,
             "#0d0887"
            ],
            [
             0.1111111111111111,
             "#46039f"
            ],
            [
             0.2222222222222222,
             "#7201a8"
            ],
            [
             0.3333333333333333,
             "#9c179e"
            ],
            [
             0.4444444444444444,
             "#bd3786"
            ],
            [
             0.5555555555555556,
             "#d8576b"
            ],
            [
             0.6666666666666666,
             "#ed7953"
            ],
            [
             0.7777777777777778,
             "#fb9f3a"
            ],
            [
             0.8888888888888888,
             "#fdca26"
            ],
            [
             1,
             "#f0f921"
            ]
           ]
          },
          "colorway": [
           "#636efa",
           "#EF553B",
           "#00cc96",
           "#ab63fa",
           "#FFA15A",
           "#19d3f3",
           "#FF6692",
           "#B6E880",
           "#FF97FF",
           "#FECB52"
          ],
          "font": {
           "color": "#2a3f5f"
          },
          "geo": {
           "bgcolor": "white",
           "lakecolor": "white",
           "landcolor": "#E5ECF6",
           "showlakes": true,
           "showland": true,
           "subunitcolor": "white"
          },
          "hoverlabel": {
           "align": "left"
          },
          "hovermode": "closest",
          "mapbox": {
           "style": "light"
          },
          "paper_bgcolor": "white",
          "plot_bgcolor": "#E5ECF6",
          "polar": {
           "angularaxis": {
            "gridcolor": "white",
            "linecolor": "white",
            "ticks": ""
           },
           "bgcolor": "#E5ECF6",
           "radialaxis": {
            "gridcolor": "white",
            "linecolor": "white",
            "ticks": ""
           }
          },
          "scene": {
           "xaxis": {
            "backgroundcolor": "#E5ECF6",
            "gridcolor": "white",
            "gridwidth": 2,
            "linecolor": "white",
            "showbackground": true,
            "ticks": "",
            "zerolinecolor": "white"
           },
           "yaxis": {
            "backgroundcolor": "#E5ECF6",
            "gridcolor": "white",
            "gridwidth": 2,
            "linecolor": "white",
            "showbackground": true,
            "ticks": "",
            "zerolinecolor": "white"
           },
           "zaxis": {
            "backgroundcolor": "#E5ECF6",
            "gridcolor": "white",
            "gridwidth": 2,
            "linecolor": "white",
            "showbackground": true,
            "ticks": "",
            "zerolinecolor": "white"
           }
          },
          "shapedefaults": {
           "line": {
            "color": "#2a3f5f"
           }
          },
          "ternary": {
           "aaxis": {
            "gridcolor": "white",
            "linecolor": "white",
            "ticks": ""
           },
           "baxis": {
            "gridcolor": "white",
            "linecolor": "white",
            "ticks": ""
           },
           "bgcolor": "#E5ECF6",
           "caxis": {
            "gridcolor": "white",
            "linecolor": "white",
            "ticks": ""
           }
          },
          "title": {
           "x": 0.05
          },
          "xaxis": {
           "automargin": true,
           "gridcolor": "white",
           "linecolor": "white",
           "ticks": "",
           "title": {
            "standoff": 15
           },
           "zerolinecolor": "white",
           "zerolinewidth": 2
          },
          "yaxis": {
           "automargin": true,
           "gridcolor": "white",
           "linecolor": "white",
           "ticks": "",
           "title": {
            "standoff": 15
           },
           "zerolinecolor": "white",
           "zerolinewidth": 2
          }
         }
        },
        "title": {
         "text": "Average Upload Speed by Server Sorted Ascending"
        },
        "width": 1000,
        "xaxis": {
         "title": {
          "text": "Target Server"
         }
        },
        "yaxis": {
         "title": {
          "text": "Average Speed (Mbps)"
         }
        }
       }
      }
     },
     "metadata": {},
     "output_type": "display_data"
    }
   ],
   "source": [
    "fig2 = go.Figure()\n",
    "fig2.add_trace(go.Bar(\n",
    "    x=upload_ipv4_server_stats['target'],\n",
    "    y=upload_ipv4_server_stats['mean'],\n",
    "    name='IPv4',\n",
    "    text=upload_ipv4_server_stats['count'],\n",
    "    textposition='auto'\n",
    "))\n",
    "fig2.add_trace(go.Bar(\n",
    "    x=upload_ipv6_server_stats['target'],\n",
    "    y=upload_ipv6_server_stats['mean'],\n",
    "    name='IPv6',\n",
    "    text=upload_ipv6_server_stats['count'],\n",
    "    textposition='auto'\n",
    "))\n",
    "\n",
    "fig2.update_layout(\n",
    "    title='Average Upload Speed by Server Sorted Ascending',\n",
    "    xaxis_title='Target Server',\n",
    "    yaxis_title='Average Speed (Mbps)',\n",
    "    barmode='group',\n",
    "    height=600,\n",
    "    width=1000\n",
    ")\n",
    "\n",
    "# fig2.write_html(\"../reports/viz/upload_performance/Average Upload Speed by Server Sorted Ascending.html\")\n"
   ]
  },
  {
   "cell_type": "markdown",
   "metadata": {},
   "source": [
    "####  Perfomance Upload Speed Trend Over Time (IPv4 vs IPv6 comparison)\n"
   ]
  },
  {
   "cell_type": "code",
   "execution_count": 32,
   "metadata": {},
   "outputs": [
    {
     "data": {
      "image/png": "[encoded data removed]",
      "text/plain": [
       "<Figure size 1000x600 with 1 Axes>"
      ]
     },
     "metadata": {},
     "output_type": "display_data"
    }
   ],
   "source": [
    "\n",
    "plt.figure(figsize=(10, 6)) \n",
    "\n",
    "# Plot IPv4 data\n",
    "plt.plot(df_httppostmt['dtime'], df_httppostmt['mbps'], \n",
    "         label='IPv4', \n",
    "         alpha=0.5)  # opacity=0.5 in Plotly is alpha=0.5 in Matplotlib\n",
    "\n",
    "# Plot IPv6 data\n",
    "plt.plot(df_httppostmt6['dtime'], df_httppostmt6['mbps'], \n",
    "         label='IPv6', \n",
    "         alpha=0.5)\n",
    "\n",
    "# Customize the plot\n",
    "plt.title(\"Uploading Speed Comparison: IPv4 vs IPv6\", fontsize=14)\n",
    "plt.xlabel(\"Date/Time\", fontsize=12)\n",
    "plt.ylabel(\"Upload Speed (Mbps)\", fontsize=12)\n",
    "plt.legend(title=\"Protocol\")  # Add legend with a title\n",
    "plt.grid(True, linestyle='--', alpha=0.7)  # Optional: adds a grid for better readability\n",
    "\n",
    "# Rotate x-axis labels for better visibility if needed\n",
    "plt.xticks(rotation=45)\n",
    "\n",
    "# Adjust layout to prevent label cutoff\n",
    "plt.tight_layout()\n",
    "\n",
    "# Display the plot\n",
    "plt.show()\n",
    "\n",
    "# plt.savefig(\"../reports/viz/upload_performance/upload_speed_trend.png\", dpi=100, bbox_inches='tight')"
   ]
  },
  {
   "cell_type": "markdown",
   "metadata": {},
   "source": [
    "#### curr_httppostmt.csv and curr_httppostmt6.csv\n",
    "\n",
    "The datasets `curr_httppostmt.csv` and `curr_httppostmt6.csv` represent performance metrics for HTTP POST requests, focusing on upload speeds. Here's a comparison and description of these datasets:\n",
    "\n",
    "1. **Purpose**:\n",
    "        - Both datasets measure the performance of HTTP POST requests.\n",
    "        - `curr_httppostmt.csv` focuses on general HTTP POST performance, while `curr_httppostmt6.csv` specifically targets IPv6-based HTTP POST requests.\n",
    "\n",
    "### Insights:\n",
    "- The datasets are complementary and can be used together to compare IPv4 and IPv6 performance for HTTP POST requests.\n",
    "- `curr_httppostmt.csv` provides a broader view of HTTP POST performance, while `curr_httppostmt6.csv` offers a focused analysis of IPv6-specific performance.\n",
    "- By analyzing both datasets, you can identify trends, bottlenecks, and areas for optimization in HTTP POST performance across different protocols and server configurations.\n"
   ]
  },
  {
   "cell_type": "markdown",
   "metadata": {},
   "source": [
    "---"
   ]
  },
  {
   "cell_type": "markdown",
   "metadata": {},
   "source": [
    "# curr_udplatency and curr_udplatency6: Network latency"
   ]
  },
  {
   "cell_type": "code",
   "execution_count": 33,
   "metadata": {},
   "outputs": [
    {
     "data": {
      "text/html": [
       "<div>\n",
       "<style scoped>\n",
       "    .dataframe tbody tr th:only-of-type {\n",
       "        vertical-align: middle;\n",
       "    }\n",
       "\n",
       "    .dataframe tbody tr th {\n",
       "        vertical-align: top;\n",
       "    }\n",
       "\n",
       "    .dataframe thead th {\n",
       "        text-align: right;\n",
       "    }\n",
       "</style>\n",
       "<table border=\"1\" class=\"dataframe\">\n",
       "  <thead>\n",
       "    <tr style=\"text-align: right;\">\n",
       "      <th></th>\n",
       "      <th>unit_id</th>\n",
       "      <th>dtime</th>\n",
       "      <th>target</th>\n",
       "      <th>rtt_avg</th>\n",
       "      <th>rtt_min</th>\n",
       "      <th>rtt_max</th>\n",
       "      <th>rtt_std</th>\n",
       "      <th>successes</th>\n",
       "      <th>failures</th>\n",
       "    </tr>\n",
       "  </thead>\n",
       "  <tbody>\n",
       "    <tr>\n",
       "      <th>0</th>\n",
       "      <td>386</td>\n",
       "      <td>2023-02-01 00:32:53</td>\n",
       "      <td>newyorkfcc.west.verizon.net</td>\n",
       "      <td>8448</td>\n",
       "      <td>7380</td>\n",
       "      <td>7380</td>\n",
       "      <td>1599</td>\n",
       "      <td>17</td>\n",
       "      <td>0</td>\n",
       "    </tr>\n",
       "    <tr>\n",
       "      <th>1</th>\n",
       "      <td>386</td>\n",
       "      <td>2023-02-01 00:32:53</td>\n",
       "      <td>sp1-vm-newyork-us.samknows.com</td>\n",
       "      <td>7936</td>\n",
       "      <td>7143</td>\n",
       "      <td>7143</td>\n",
       "      <td>1539</td>\n",
       "      <td>17</td>\n",
       "      <td>0</td>\n",
       "    </tr>\n",
       "  </tbody>\n",
       "</table>\n",
       "</div>"
      ],
      "text/plain": [
       "   unit_id                dtime                          target  rtt_avg  \\\n",
       "0      386  2023-02-01 00:32:53     newyorkfcc.west.verizon.net     8448   \n",
       "1      386  2023-02-01 00:32:53  sp1-vm-newyork-us.samknows.com     7936   \n",
       "\n",
       "   rtt_min  rtt_max  rtt_std  successes  failures  \n",
       "0     7380     7380     1599         17         0  \n",
       "1     7143     7143     1539         17         0  "
      ]
     },
     "execution_count": 33,
     "metadata": {},
     "output_type": "execute_result"
    }
   ],
   "source": [
    "df_udplatency = pd.read_csv('../data/raw/curr_udplatency.csv')\n",
    "df_udplatency.head(2)"
   ]
  },
  {
   "cell_type": "code",
   "execution_count": 34,
   "metadata": {},
   "outputs": [
    {
     "name": "stdout",
     "output_type": "stream",
     "text": [
      "<class 'pandas.core.frame.DataFrame'>\n",
      "RangeIndex: 4852353 entries, 0 to 4852352\n",
      "Data columns (total 9 columns):\n",
      " #   Column     Dtype \n",
      "---  ------     ----- \n",
      " 0   unit_id    int64 \n",
      " 1   dtime      object\n",
      " 2   target     object\n",
      " 3   rtt_avg    int64 \n",
      " 4   rtt_min    int64 \n",
      " 5   rtt_max    int64 \n",
      " 6   rtt_std    int64 \n",
      " 7   successes  int64 \n",
      " 8   failures   int64 \n",
      "dtypes: int64(7), object(2)\n",
      "memory usage: 333.2+ MB\n"
     ]
    }
   ],
   "source": [
    "df_udplatency.info()"
   ]
  },
  {
   "cell_type": "code",
   "execution_count": 35,
   "metadata": {},
   "outputs": [
    {
     "data": {
      "text/html": [
       "<div>\n",
       "<style scoped>\n",
       "    .dataframe tbody tr th:only-of-type {\n",
       "        vertical-align: middle;\n",
       "    }\n",
       "\n",
       "    .dataframe tbody tr th {\n",
       "        vertical-align: top;\n",
       "    }\n",
       "\n",
       "    .dataframe thead th {\n",
       "        text-align: right;\n",
       "    }\n",
       "</style>\n",
       "<table border=\"1\" class=\"dataframe\">\n",
       "  <thead>\n",
       "    <tr style=\"text-align: right;\">\n",
       "      <th></th>\n",
       "      <th>unit_id</th>\n",
       "      <th>dtime</th>\n",
       "      <th>target</th>\n",
       "      <th>rtt_avg</th>\n",
       "      <th>rtt_min</th>\n",
       "      <th>rtt_max</th>\n",
       "      <th>rtt_std</th>\n",
       "      <th>successes</th>\n",
       "      <th>failures</th>\n",
       "    </tr>\n",
       "  </thead>\n",
       "  <tbody>\n",
       "    <tr>\n",
       "      <th>0</th>\n",
       "      <td>26419</td>\n",
       "      <td>2023-02-28 19:47:56</td>\n",
       "      <td>v6-n1-fcc-ashburn-us.samknows.com</td>\n",
       "      <td>27674</td>\n",
       "      <td>26937</td>\n",
       "      <td>30633</td>\n",
       "      <td>376</td>\n",
       "      <td>2269</td>\n",
       "      <td>6</td>\n",
       "    </tr>\n",
       "    <tr>\n",
       "      <th>1</th>\n",
       "      <td>26419</td>\n",
       "      <td>2023-02-28 20:47:55</td>\n",
       "      <td>v6-n1-fcc-ashburn-us.samknows.com</td>\n",
       "      <td>27635</td>\n",
       "      <td>27033</td>\n",
       "      <td>28628</td>\n",
       "      <td>252</td>\n",
       "      <td>2340</td>\n",
       "      <td>0</td>\n",
       "    </tr>\n",
       "  </tbody>\n",
       "</table>\n",
       "</div>"
      ],
      "text/plain": [
       "   unit_id                dtime                             target  rtt_avg  \\\n",
       "0    26419  2023-02-28 19:47:56  v6-n1-fcc-ashburn-us.samknows.com    27674   \n",
       "1    26419  2023-02-28 20:47:55  v6-n1-fcc-ashburn-us.samknows.com    27635   \n",
       "\n",
       "   rtt_min  rtt_max  rtt_std  successes  failures  \n",
       "0    26937    30633      376       2269         6  \n",
       "1    27033    28628      252       2340         0  "
      ]
     },
     "execution_count": 35,
     "metadata": {},
     "output_type": "execute_result"
    }
   ],
   "source": [
    "df_udplatency6 = pd.read_csv('../data/raw/curr_udplatency6.csv')\n",
    "df_udplatency6.head(2)"
   ]
  },
  {
   "cell_type": "code",
   "execution_count": 36,
   "metadata": {},
   "outputs": [
    {
     "name": "stdout",
     "output_type": "stream",
     "text": [
      "<class 'pandas.core.frame.DataFrame'>\n",
      "RangeIndex: 24790 entries, 0 to 24789\n",
      "Data columns (total 9 columns):\n",
      " #   Column     Non-Null Count  Dtype \n",
      "---  ------     --------------  ----- \n",
      " 0   unit_id    24790 non-null  int64 \n",
      " 1   dtime      24790 non-null  object\n",
      " 2   target     24790 non-null  object\n",
      " 3   rtt_avg    24790 non-null  int64 \n",
      " 4   rtt_min    24790 non-null  int64 \n",
      " 5   rtt_max    24790 non-null  int64 \n",
      " 6   rtt_std    24790 non-null  int64 \n",
      " 7   successes  24790 non-null  int64 \n",
      " 8   failures   24790 non-null  int64 \n",
      "dtypes: int64(7), object(2)\n",
      "memory usage: 1.7+ MB\n"
     ]
    }
   ],
   "source": [
    "df_udplatency6.info()"
   ]
  },
  {
   "cell_type": "markdown",
   "metadata": {},
   "source": [
    "### Overview of UDP Latency Datasets\n",
    " \n",
    " The UDP latency datasets (`curr_udplatency.csv` and `curr_udplatency6.csv`) contain network latency measurements using UDP protocol for IPv4 and IPv6 respectively.\n",
    " \n",
    " ### Common Fields:\n",
    " 1. **Identification**:\n",
    "     - `unit_id`: Unique identifier for the testing unit\n",
    "     - `dtime`: Timestamp of the measurement\n",
    "     - `target`: Target server for latency testing\n",
    " \n",
    " 2. **Latency Metrics**:\n",
    "     - `rtt_avg`: Average round-trip time in milliseconds\n",
    "     - `rtt_min`: Minimum round-trip time observed\n",
    "     - `rtt_max`: Maximum round-trip time observed\n",
    "     - `rtt_std`: Standard deviation of round-trip times\n",
    " \n",
    " 3. **Success Metrics**:\n",
    "     - `successes`: Number of successful UDP packets\n",
    "     - `failures`: Number of failed UDP packets\n",
    " \n",
    " ### Key Differences:\n",
    " - `curr_udplatency.csv` uses IPv4 addresses (e.g., \"151.139.31.1\")\n",
    " - `curr_udplatency6.csv` uses IPv6 addresses (e.g., \"2604:6840:1300:1501::24\")\n",
    " \n",
    " ### Insights:\n",
    " - These datasets enable analysis of network latency characteristics across both IPv4 and IPv6 protocols\n",
    " - The metrics allow for detailed assessment of network performance, jitter, and reliability\n",
    " - The success/failure counts help identify connection stability issues"
   ]
  },
  {
   "cell_type": "markdown",
   "metadata": {},
   "source": [
    "----"
   ]
  },
  {
   "cell_type": "markdown",
   "metadata": {},
   "source": [
    "# curr_udpjitter: Connection stability"
   ]
  },
  {
   "cell_type": "code",
   "execution_count": 37,
   "metadata": {},
   "outputs": [],
   "source": [
    "pd_udpjitter = pd.read_csv('../data/raw/curr_udpjitter.csv')"
   ]
  },
  {
   "cell_type": "code",
   "execution_count": 38,
   "metadata": {},
   "outputs": [
    {
     "data": {
      "text/html": [
       "<div>\n",
       "<style scoped>\n",
       "    .dataframe tbody tr th:only-of-type {\n",
       "        vertical-align: middle;\n",
       "    }\n",
       "\n",
       "    .dataframe tbody tr th {\n",
       "        vertical-align: top;\n",
       "    }\n",
       "\n",
       "    .dataframe thead th {\n",
       "        text-align: right;\n",
       "    }\n",
       "</style>\n",
       "<table border=\"1\" class=\"dataframe\">\n",
       "  <thead>\n",
       "    <tr style=\"text-align: right;\">\n",
       "      <th></th>\n",
       "      <th>unit_id</th>\n",
       "      <th>dtime</th>\n",
       "      <th>target</th>\n",
       "      <th>packet_size</th>\n",
       "      <th>stream_rate</th>\n",
       "      <th>duration</th>\n",
       "      <th>packets_up_sent</th>\n",
       "      <th>packets_down_sent</th>\n",
       "      <th>packets_up_recv</th>\n",
       "      <th>packets_down_recv</th>\n",
       "      <th>jitter_up</th>\n",
       "      <th>jitter_down</th>\n",
       "      <th>latency</th>\n",
       "      <th>successes</th>\n",
       "      <th>failures</th>\n",
       "    </tr>\n",
       "  </thead>\n",
       "  <tbody>\n",
       "    <tr>\n",
       "      <th>0</th>\n",
       "      <td>386</td>\n",
       "      <td>2023-02-01 09:41:39</td>\n",
       "      <td>sp2-vm-newyork-us.samknows.com</td>\n",
       "      <td>160</td>\n",
       "      <td>64000</td>\n",
       "      <td>15102528</td>\n",
       "      <td>500</td>\n",
       "      <td>500</td>\n",
       "      <td>500</td>\n",
       "      <td>500</td>\n",
       "      <td>1268</td>\n",
       "      <td>720</td>\n",
       "      <td>7108</td>\n",
       "      <td>1</td>\n",
       "      <td>0</td>\n",
       "    </tr>\n",
       "    <tr>\n",
       "      <th>1</th>\n",
       "      <td>386</td>\n",
       "      <td>2023-02-01 17:41:44</td>\n",
       "      <td>sp1-vm-newyork-us.samknows.com</td>\n",
       "      <td>160</td>\n",
       "      <td>64000</td>\n",
       "      <td>15008716</td>\n",
       "      <td>500</td>\n",
       "      <td>500</td>\n",
       "      <td>500</td>\n",
       "      <td>500</td>\n",
       "      <td>1100</td>\n",
       "      <td>727</td>\n",
       "      <td>7902</td>\n",
       "      <td>1</td>\n",
       "      <td>0</td>\n",
       "    </tr>\n",
       "  </tbody>\n",
       "</table>\n",
       "</div>"
      ],
      "text/plain": [
       "   unit_id                dtime                          target  packet_size  \\\n",
       "0      386  2023-02-01 09:41:39  sp2-vm-newyork-us.samknows.com          160   \n",
       "1      386  2023-02-01 17:41:44  sp1-vm-newyork-us.samknows.com          160   \n",
       "\n",
       "   stream_rate  duration  packets_up_sent  packets_down_sent  packets_up_recv  \\\n",
       "0        64000  15102528              500                500              500   \n",
       "1        64000  15008716              500                500              500   \n",
       "\n",
       "   packets_down_recv  jitter_up  jitter_down  latency  successes  failures  \n",
       "0                500       1268          720     7108          1         0  \n",
       "1                500       1100          727     7902          1         0  "
      ]
     },
     "execution_count": 38,
     "metadata": {},
     "output_type": "execute_result"
    }
   ],
   "source": [
    "pd_udpjitter.head(2)"
   ]
  },
  {
   "cell_type": "code",
   "execution_count": 39,
   "metadata": {},
   "outputs": [
    {
     "name": "stdout",
     "output_type": "stream",
     "text": [
      "<class 'pandas.core.frame.DataFrame'>\n",
      "RangeIndex: 2394623 entries, 0 to 2394622\n",
      "Data columns (total 15 columns):\n",
      " #   Column             Dtype \n",
      "---  ------             ----- \n",
      " 0   unit_id            int64 \n",
      " 1   dtime              object\n",
      " 2   target             object\n",
      " 3   packet_size        int64 \n",
      " 4   stream_rate        int64 \n",
      " 5   duration           int64 \n",
      " 6   packets_up_sent    int64 \n",
      " 7   packets_down_sent  int64 \n",
      " 8   packets_up_recv    int64 \n",
      " 9   packets_down_recv  int64 \n",
      " 10  jitter_up          int64 \n",
      " 11  jitter_down        int64 \n",
      " 12  latency            int64 \n",
      " 13  successes          int64 \n",
      " 14  failures           int64 \n",
      "dtypes: int64(13), object(2)\n",
      "memory usage: 274.0+ MB\n"
     ]
    }
   ],
   "source": [
    "pd_udpjitter.info()"
   ]
  },
  {
   "cell_type": "markdown",
   "metadata": {},
   "source": [
    "The UDP jitter datasets (`curr_udpjitter.csv` and `curr_udpjitter6.csv`) measure connection stability using UDP protocol.\n",
    "\n",
    "### Key Fields:\n",
    "1. **Test Parameters**:\n",
    "   - `packet_size`: Size of UDP packets used in testing\n",
    "   - `stream_rate`: Rate of packet transmission\n",
    "   - `duration`: Total test duration\n",
    "\n",
    "2. **Packet Statistics**:\n",
    "   - `packets_up_sent/recv`: Packets sent/received upstream\n",
    "   - `packets_down_sent/recv`: Packets sent/received downstream\n",
    "\n",
    "3. **Performance Metrics**:\n",
    "    - `jitter_up`: Upstream jitter (variation in delay)\n",
    "    - `jitter_down`: Downstream jitter\n",
    "    - `latency`: Network latency measurement\n",
    "\n",
    "### Insights:\n",
    "- Jitter measurements help assess connection stability and quality\n",
    "- Packet loss rates indicate network reliability\n",
    "- Combined metrics provide comprehensive view of connection performance\n"
   ]
  },
  {
   "cell_type": "markdown",
   "metadata": {},
   "source": [
    "----"
   ]
  },
  {
   "cell_type": "markdown",
   "metadata": {},
   "source": [
    "# curr_udpcloss: Packet Loss "
   ]
  },
  {
   "cell_type": "code",
   "execution_count": 40,
   "metadata": {},
   "outputs": [],
   "source": [
    "df_curr_udpcloss = pd.read_csv('../data/raw/curr_udpcloss.csv')"
   ]
  },
  {
   "cell_type": "code",
   "execution_count": 41,
   "metadata": {},
   "outputs": [
    {
     "data": {
      "text/html": [
       "<div>\n",
       "<style scoped>\n",
       "    .dataframe tbody tr th:only-of-type {\n",
       "        vertical-align: middle;\n",
       "    }\n",
       "\n",
       "    .dataframe tbody tr th {\n",
       "        vertical-align: top;\n",
       "    }\n",
       "\n",
       "    .dataframe thead th {\n",
       "        text-align: right;\n",
       "    }\n",
       "</style>\n",
       "<table border=\"1\" class=\"dataframe\">\n",
       "  <thead>\n",
       "    <tr style=\"text-align: right;\">\n",
       "      <th></th>\n",
       "      <th>unit_id</th>\n",
       "      <th>dtime</th>\n",
       "      <th>duration</th>\n",
       "      <th>target</th>\n",
       "      <th>address</th>\n",
       "      <th>packets</th>\n",
       "    </tr>\n",
       "  </thead>\n",
       "  <tbody>\n",
       "    <tr>\n",
       "      <th>0</th>\n",
       "      <td>386</td>\n",
       "      <td>2023-02-11 22:09:45</td>\n",
       "      <td>4500098</td>\n",
       "      <td>sp2-vm-newyork-us.samknows.com</td>\n",
       "      <td>151.139.31.8</td>\n",
       "      <td>2</td>\n",
       "    </tr>\n",
       "    <tr>\n",
       "      <th>1</th>\n",
       "      <td>390</td>\n",
       "      <td>2023-02-05 01:25:59</td>\n",
       "      <td>4499578</td>\n",
       "      <td>sp1-vm-newyork-us.samknows.com</td>\n",
       "      <td>151.139.31.1</td>\n",
       "      <td>2</td>\n",
       "    </tr>\n",
       "  </tbody>\n",
       "</table>\n",
       "</div>"
      ],
      "text/plain": [
       "   unit_id                dtime  duration                          target  \\\n",
       "0      386  2023-02-11 22:09:45   4500098  sp2-vm-newyork-us.samknows.com   \n",
       "1      390  2023-02-05 01:25:59   4499578  sp1-vm-newyork-us.samknows.com   \n",
       "\n",
       "        address  packets  \n",
       "0  151.139.31.8        2  \n",
       "1  151.139.31.1        2  "
      ]
     },
     "execution_count": 41,
     "metadata": {},
     "output_type": "execute_result"
    }
   ],
   "source": [
    "df_curr_udpcloss.head(2)"
   ]
  },
  {
   "cell_type": "code",
   "execution_count": 42,
   "metadata": {},
   "outputs": [
    {
     "name": "stdout",
     "output_type": "stream",
     "text": [
      "<class 'pandas.core.frame.DataFrame'>\n",
      "RangeIndex: 1752766 entries, 0 to 1752765\n",
      "Data columns (total 6 columns):\n",
      " #   Column    Dtype \n",
      "---  ------    ----- \n",
      " 0   unit_id   int64 \n",
      " 1   dtime     object\n",
      " 2   duration  int64 \n",
      " 3   target    object\n",
      " 4   address   object\n",
      " 5   packets   int64 \n",
      "dtypes: int64(3), object(3)\n",
      "memory usage: 80.2+ MB\n"
     ]
    }
   ],
   "source": [
    "df_curr_udpcloss.info()"
   ]
  },
  {
   "cell_type": "markdown",
   "metadata": {
    "vscode": {
     "languageId": "yaml"
    }
   },
   "source": [
    "The dataset provides information about packet loss during network testing. Here's a breakdown of the key fields:\n",
    "\n",
    "### Key Fields:\n",
    "1. **Identification**:\n",
    "    - `unit_id`: Unique identifier for the testing unit.\n",
    "    - `dtime`: Timestamp of the measurement.\n",
    "\n",
    "2. **Test Parameters**:\n",
    "    - `duration`: Duration of the test in milliseconds.\n",
    "    - `target`: Target server for the test (e.g., `sp2-vm-newyork-us.samknows.com`).\n",
    "    - `address`: IP address of the target server (e.g., `151.139.31.8`).\n",
    "\n",
    "3. **Packet Statistics**:\n",
    "    - `packets`: Number of packets involved in the test.\n",
    "\n",
    "This dataset can be used to analyze packet loss trends, identify network reliability issues, and assess the performance of specific servers or network paths."
   ]
  },
  {
   "cell_type": "markdown",
   "metadata": {},
   "source": [
    "----"
   ]
  },
  {
   "cell_type": "markdown",
   "metadata": {},
   "source": [
    "#  curr_dns: DNS resolution performance\n",
    "\n"
   ]
  },
  {
   "cell_type": "code",
   "execution_count": 43,
   "metadata": {},
   "outputs": [
    {
     "name": "stderr",
     "output_type": "stream",
     "text": [
      "/var/folders/3z/w_2xtxjs7517xwd76c815h5c0000gn/T/ipykernel_15192/2717031790.py:1: DtypeWarning:\n",
      "\n",
      "Columns (0,5,6,7) have mixed types. Specify dtype option on import or set low_memory=False.\n",
      "\n"
     ]
    }
   ],
   "source": [
    "df_dns = pd.read_csv('../data/raw/curr_dns.csv')"
   ]
  },
  {
   "cell_type": "code",
   "execution_count": 44,
   "metadata": {},
   "outputs": [
    {
     "data": {
      "text/html": [
       "<div>\n",
       "<style scoped>\n",
       "    .dataframe tbody tr th:only-of-type {\n",
       "        vertical-align: middle;\n",
       "    }\n",
       "\n",
       "    .dataframe tbody tr th {\n",
       "        vertical-align: top;\n",
       "    }\n",
       "\n",
       "    .dataframe thead th {\n",
       "        text-align: right;\n",
       "    }\n",
       "</style>\n",
       "<table border=\"1\" class=\"dataframe\">\n",
       "  <thead>\n",
       "    <tr style=\"text-align: right;\">\n",
       "      <th></th>\n",
       "      <th>unit_id</th>\n",
       "      <th>dtime</th>\n",
       "      <th>nameserver</th>\n",
       "      <th>lookup_host</th>\n",
       "      <th>response_ip</th>\n",
       "      <th>rtt</th>\n",
       "      <th>successes</th>\n",
       "      <th>failures</th>\n",
       "    </tr>\n",
       "  </thead>\n",
       "  <tbody>\n",
       "    <tr>\n",
       "      <th>0</th>\n",
       "      <td>386</td>\n",
       "      <td>2023-02-01 00:44:55</td>\n",
       "      <td>71.243.0.12</td>\n",
       "      <td>www.yahoo.com</td>\n",
       "      <td>74.6.143.25</td>\n",
       "      <td>3723</td>\n",
       "      <td>1</td>\n",
       "      <td>0</td>\n",
       "    </tr>\n",
       "    <tr>\n",
       "      <th>1</th>\n",
       "      <td>386</td>\n",
       "      <td>2023-02-01 03:44:08</td>\n",
       "      <td>71.243.0.12</td>\n",
       "      <td>www.amazon.com</td>\n",
       "      <td>18.161.31.236</td>\n",
       "      <td>3715</td>\n",
       "      <td>1</td>\n",
       "      <td>0</td>\n",
       "    </tr>\n",
       "  </tbody>\n",
       "</table>\n",
       "</div>"
      ],
      "text/plain": [
       "  unit_id                dtime   nameserver     lookup_host    response_ip  \\\n",
       "0     386  2023-02-01 00:44:55  71.243.0.12   www.yahoo.com    74.6.143.25   \n",
       "1     386  2023-02-01 03:44:08  71.243.0.12  www.amazon.com  18.161.31.236   \n",
       "\n",
       "    rtt successes failures  \n",
       "0  3723         1        0  \n",
       "1  3715         1        0  "
      ]
     },
     "execution_count": 44,
     "metadata": {},
     "output_type": "execute_result"
    }
   ],
   "source": [
    "df_dns.head(2)"
   ]
  },
  {
   "cell_type": "code",
   "execution_count": 45,
   "metadata": {},
   "outputs": [
    {
     "name": "stdout",
     "output_type": "stream",
     "text": [
      "<class 'pandas.core.frame.DataFrame'>\n",
      "RangeIndex: 115514488 entries, 0 to 115514487\n",
      "Data columns (total 8 columns):\n",
      " #   Column       Dtype \n",
      "---  ------       ----- \n",
      " 0   unit_id      object\n",
      " 1   dtime        object\n",
      " 2   nameserver   object\n",
      " 3   lookup_host  object\n",
      " 4   response_ip  object\n",
      " 5   rtt          object\n",
      " 6   successes    object\n",
      " 7   failures     object\n",
      "dtypes: object(8)\n",
      "memory usage: 6.9+ GB\n"
     ]
    }
   ],
   "source": [
    "df_dns.info()"
   ]
  },
  {
   "cell_type": "markdown",
   "metadata": {},
   "source": [
    "The DNS resolution dataset (`curr_dns.csv`) measures DNS lookup performance.\n",
    " \n",
    " ### Key Fields:\n",
    " 1. **DNS Query Details**:\n",
    "    - `nameserver`: DNS server used for resolution (e.g., 71.243.0.12)\n",
    "    - `lookup_host`: Domain name being resolved (e.g., www.yahoo.com, www.amazon.com)\n",
    "    - `response_ip`: IP address returned from DNS query\n",
    " \n",
    " 2. **Performance Metrics**:\n",
    "    - `rtt`: Round-trip time for DNS resolution (in milliseconds)\n",
    "    - `successes`: Number of successful DNS queries\n",
    "    - `failures`: Number of failed DNS queries\n",
    " \n",
    " ### Insights:\n",
    " - DNS resolution times around 3.7 seconds for sample queries\n",
    " - Successful resolutions with no failures observed in sample data\n",
    " - Same nameserver used across queries suggesting consistent DNS infrastructure\n"
   ]
  },
  {
   "cell_type": "markdown",
   "metadata": {},
   "source": [
    "----"
   ]
  },
  {
   "cell_type": "markdown",
   "metadata": {},
   "source": [
    "# curr_ping (Basic connectivity)"
   ]
  },
  {
   "cell_type": "code",
   "execution_count": 46,
   "metadata": {},
   "outputs": [],
   "source": [
    "df_ping = pd.read_csv('../data/raw/curr_ping.csv')"
   ]
  },
  {
   "cell_type": "code",
   "execution_count": 47,
   "metadata": {},
   "outputs": [
    {
     "data": {
      "text/html": [
       "<div>\n",
       "<style scoped>\n",
       "    .dataframe tbody tr th:only-of-type {\n",
       "        vertical-align: middle;\n",
       "    }\n",
       "\n",
       "    .dataframe tbody tr th {\n",
       "        vertical-align: top;\n",
       "    }\n",
       "\n",
       "    .dataframe thead th {\n",
       "        text-align: right;\n",
       "    }\n",
       "</style>\n",
       "<table border=\"1\" class=\"dataframe\">\n",
       "  <thead>\n",
       "    <tr style=\"text-align: right;\">\n",
       "      <th></th>\n",
       "      <th>unit_id</th>\n",
       "      <th>dtime</th>\n",
       "      <th>target</th>\n",
       "      <th>rtt_avg</th>\n",
       "      <th>rtt_min</th>\n",
       "      <th>rtt_max</th>\n",
       "      <th>rtt_std</th>\n",
       "      <th>successes</th>\n",
       "      <th>failures</th>\n",
       "    </tr>\n",
       "  </thead>\n",
       "  <tbody>\n",
       "    <tr>\n",
       "      <th>0</th>\n",
       "      <td>386</td>\n",
       "      <td>2023-02-01 09:44:52</td>\n",
       "      <td>sp2-vm-newyork-us.samknows.com</td>\n",
       "      <td>7123</td>\n",
       "      <td>7050</td>\n",
       "      <td>7190</td>\n",
       "      <td>57</td>\n",
       "      <td>5</td>\n",
       "      <td>0</td>\n",
       "    </tr>\n",
       "    <tr>\n",
       "      <th>1</th>\n",
       "      <td>386</td>\n",
       "      <td>2023-02-01 18:44:07</td>\n",
       "      <td>sp1-vm-newyork-us.samknows.com</td>\n",
       "      <td>7506</td>\n",
       "      <td>7126</td>\n",
       "      <td>8167</td>\n",
       "      <td>470</td>\n",
       "      <td>5</td>\n",
       "      <td>0</td>\n",
       "    </tr>\n",
       "    <tr>\n",
       "      <th>2</th>\n",
       "      <td>386</td>\n",
       "      <td>2023-02-01 19:43:56</td>\n",
       "      <td>sp1-vm-newyork-us.samknows.com</td>\n",
       "      <td>8517</td>\n",
       "      <td>7877</td>\n",
       "      <td>9094</td>\n",
       "      <td>503</td>\n",
       "      <td>5</td>\n",
       "      <td>0</td>\n",
       "    </tr>\n",
       "    <tr>\n",
       "      <th>3</th>\n",
       "      <td>386</td>\n",
       "      <td>2023-02-02 00:43:25</td>\n",
       "      <td>sp1-vm-newyork-us.samknows.com</td>\n",
       "      <td>8452</td>\n",
       "      <td>8070</td>\n",
       "      <td>8968</td>\n",
       "      <td>341</td>\n",
       "      <td>5</td>\n",
       "      <td>0</td>\n",
       "    </tr>\n",
       "    <tr>\n",
       "      <th>4</th>\n",
       "      <td>386</td>\n",
       "      <td>2023-02-02 01:44:56</td>\n",
       "      <td>sp1-vm-newyork-us.samknows.com</td>\n",
       "      <td>8424</td>\n",
       "      <td>7921</td>\n",
       "      <td>9050</td>\n",
       "      <td>544</td>\n",
       "      <td>5</td>\n",
       "      <td>0</td>\n",
       "    </tr>\n",
       "  </tbody>\n",
       "</table>\n",
       "</div>"
      ],
      "text/plain": [
       "   unit_id                dtime                          target  rtt_avg  \\\n",
       "0      386  2023-02-01 09:44:52  sp2-vm-newyork-us.samknows.com     7123   \n",
       "1      386  2023-02-01 18:44:07  sp1-vm-newyork-us.samknows.com     7506   \n",
       "2      386  2023-02-01 19:43:56  sp1-vm-newyork-us.samknows.com     8517   \n",
       "3      386  2023-02-02 00:43:25  sp1-vm-newyork-us.samknows.com     8452   \n",
       "4      386  2023-02-02 01:44:56  sp1-vm-newyork-us.samknows.com     8424   \n",
       "\n",
       "   rtt_min  rtt_max  rtt_std  successes  failures  \n",
       "0     7050     7190       57          5         0  \n",
       "1     7126     8167      470          5         0  \n",
       "2     7877     9094      503          5         0  \n",
       "3     8070     8968      341          5         0  \n",
       "4     7921     9050      544          5         0  "
      ]
     },
     "execution_count": 47,
     "metadata": {},
     "output_type": "execute_result"
    }
   ],
   "source": [
    "df_ping.head()"
   ]
  },
  {
   "cell_type": "code",
   "execution_count": 48,
   "metadata": {},
   "outputs": [
    {
     "name": "stdout",
     "output_type": "stream",
     "text": [
      "<class 'pandas.core.frame.DataFrame'>\n",
      "RangeIndex: 4031386 entries, 0 to 4031385\n",
      "Data columns (total 9 columns):\n",
      " #   Column     Dtype \n",
      "---  ------     ----- \n",
      " 0   unit_id    int64 \n",
      " 1   dtime      object\n",
      " 2   target     object\n",
      " 3   rtt_avg    int64 \n",
      " 4   rtt_min    int64 \n",
      " 5   rtt_max    int64 \n",
      " 6   rtt_std    int64 \n",
      " 7   successes  int64 \n",
      " 8   failures   int64 \n",
      "dtypes: int64(7), object(2)\n",
      "memory usage: 276.8+ MB\n"
     ]
    }
   ],
   "source": [
    "df_ping.info()"
   ]
  },
  {
   "cell_type": "markdown",
   "metadata": {},
   "source": [
    "The `df_ping` dataset contains information about basic connectivity tests using the `ping` command. It provides details about round-trip times (RTT) and the success or failure of ping requests to various targets.\n",
    "\n",
    "#### Key Fields:\n",
    "1. **Identification**:\n",
    "    - `unit_id`: Unique identifier for the testing unit.\n",
    "    - `dtime`: Timestamp of the measurement.\n",
    "\n",
    "2. **Target Details**:\n",
    "    - `target`: The server or endpoint being pinged (e.g., `sp2-vm-newyork-us.samknows.com`).\n",
    "\n",
    "3. **Round-Trip Time (RTT) Metrics**:\n",
    "    - `rtt_avg`: Average round-trip time in milliseconds.\n",
    "    - `rtt_min`: Minimum round-trip time observed.\n",
    "    - `rtt_max`: Maximum round-trip time observed.\n",
    "    - `rtt_std`: Standard deviation of round-trip times, indicating variability.\n",
    "\n",
    "4. **Success and Failure Metrics**:\n",
    "    - `successes`: Number of successful ping requests.\n",
    "    - `failures`: Number of failed ping requests.\n",
    "\n",
    "#### Example Insights:\n",
    "- The dataset shows RTT metrics for various targets, allowing analysis of network latency and stability.\n",
    "- Variability in RTT can be assessed using the `rtt_std` column.\n",
    "- Success and failure counts provide insights into the reliability of the network connection."
   ]
  },
  {
   "cell_type": "markdown",
   "metadata": {},
   "source": [
    "----"
   ]
  },
  {
   "cell_type": "markdown",
   "metadata": {},
   "source": [
    "# curr_traceroute (Network path analysis)"
   ]
  },
  {
   "cell_type": "code",
   "execution_count": 49,
   "metadata": {},
   "outputs": [],
   "source": [
    "df_traceroute = pd.read_csv('../data/raw/curr_traceroute.csv')"
   ]
  },
  {
   "cell_type": "code",
   "execution_count": 50,
   "metadata": {},
   "outputs": [
    {
     "data": {
      "text/html": [
       "<div>\n",
       "<style scoped>\n",
       "    .dataframe tbody tr th:only-of-type {\n",
       "        vertical-align: middle;\n",
       "    }\n",
       "\n",
       "    .dataframe tbody tr th {\n",
       "        vertical-align: top;\n",
       "    }\n",
       "\n",
       "    .dataframe thead th {\n",
       "        text-align: right;\n",
       "    }\n",
       "</style>\n",
       "<table border=\"1\" class=\"dataframe\">\n",
       "  <thead>\n",
       "    <tr style=\"text-align: right;\">\n",
       "      <th></th>\n",
       "      <th>unit_id</th>\n",
       "      <th>dtime</th>\n",
       "      <th>target</th>\n",
       "      <th>address</th>\n",
       "      <th>protocol</th>\n",
       "      <th>hop</th>\n",
       "      <th>hop_address</th>\n",
       "      <th>hop_name</th>\n",
       "      <th>sent</th>\n",
       "      <th>received</th>\n",
       "      <th>rtt_avg</th>\n",
       "      <th>successes</th>\n",
       "      <th>failures</th>\n",
       "    </tr>\n",
       "  </thead>\n",
       "  <tbody>\n",
       "    <tr>\n",
       "      <th>0</th>\n",
       "      <td>386</td>\n",
       "      <td>2023-02-01 18:02:23</td>\n",
       "      <td>sp1-vm-newyork-us.samknows.com</td>\n",
       "      <td>151.139.31.1</td>\n",
       "      <td>UDP</td>\n",
       "      <td>19</td>\n",
       "      <td>NaN</td>\n",
       "      <td>NaN</td>\n",
       "      <td>3</td>\n",
       "      <td>0</td>\n",
       "      <td>0</td>\n",
       "      <td>1</td>\n",
       "      <td>0</td>\n",
       "    </tr>\n",
       "    <tr>\n",
       "      <th>1</th>\n",
       "      <td>386</td>\n",
       "      <td>2023-02-01 18:02:23</td>\n",
       "      <td>sp1-vm-newyork-us.samknows.com</td>\n",
       "      <td>151.139.31.1</td>\n",
       "      <td>UDP</td>\n",
       "      <td>28</td>\n",
       "      <td>NaN</td>\n",
       "      <td>NaN</td>\n",
       "      <td>3</td>\n",
       "      <td>0</td>\n",
       "      <td>0</td>\n",
       "      <td>1</td>\n",
       "      <td>0</td>\n",
       "    </tr>\n",
       "  </tbody>\n",
       "</table>\n",
       "</div>"
      ],
      "text/plain": [
       "   unit_id                dtime                          target       address  \\\n",
       "0      386  2023-02-01 18:02:23  sp1-vm-newyork-us.samknows.com  151.139.31.1   \n",
       "1      386  2023-02-01 18:02:23  sp1-vm-newyork-us.samknows.com  151.139.31.1   \n",
       "\n",
       "  protocol  hop hop_address hop_name  sent  received  rtt_avg  successes  \\\n",
       "0      UDP   19         NaN      NaN     3         0        0          1   \n",
       "1      UDP   28         NaN      NaN     3         0        0          1   \n",
       "\n",
       "   failures  \n",
       "0         0  \n",
       "1         0  "
      ]
     },
     "execution_count": 50,
     "metadata": {},
     "output_type": "execute_result"
    }
   ],
   "source": [
    "df_traceroute.head(2)"
   ]
  },
  {
   "cell_type": "code",
   "execution_count": 51,
   "metadata": {},
   "outputs": [
    {
     "name": "stdout",
     "output_type": "stream",
     "text": [
      "<class 'pandas.core.frame.DataFrame'>\n",
      "RangeIndex: 11742111 entries, 0 to 11742110\n",
      "Data columns (total 13 columns):\n",
      " #   Column       Dtype \n",
      "---  ------       ----- \n",
      " 0   unit_id      int64 \n",
      " 1   dtime        object\n",
      " 2   target       object\n",
      " 3   address      object\n",
      " 4   protocol     object\n",
      " 5   hop          int64 \n",
      " 6   hop_address  object\n",
      " 7   hop_name     object\n",
      " 8   sent         int64 \n",
      " 9   received     int64 \n",
      " 10  rtt_avg      int64 \n",
      " 11  successes    int64 \n",
      " 12  failures     int64 \n",
      "dtypes: int64(7), object(6)\n",
      "memory usage: 1.1+ GB\n"
     ]
    }
   ],
   "source": [
    "df_traceroute.info()"
   ]
  },
  {
   "cell_type": "markdown",
   "metadata": {
    "vscode": {
     "languageId": "yaml"
    }
   },
   "source": [
    "This dataset represents traceroute measurements, which analyze the network path between a source and a target server. Each row corresponds to a single hop in the traceroute process, providing details about the network path and performance metrics.\n",
    "\n",
    "### Key Fields:\n",
    "1. **Identification**:\n",
    "    - `unit_id`: Unique identifier for the testing unit.\n",
    "    - `dtime`: Timestamp of the traceroute measurement.\n",
    "\n",
    "2. **Target Details**:\n",
    "    - `target`: The server being traced (e.g., `sp1-vm-newyork-us.samknows.com`).\n",
    "    - `address`: IP address of the target server.\n",
    "\n",
    "3. **Protocol**:\n",
    "    - `protocol`: The protocol used for the traceroute (e.g., `UDP`).\n",
    "\n",
    "4. **Hop Details**:\n",
    "    - `hop`: The hop number in the traceroute path.\n",
    "    - `hop_address`: IP address of the intermediate hop (if available).\n",
    "    - `hop_name`: Hostname of the intermediate hop (if available).\n",
    "\n",
    "5. **Packet Statistics**:\n",
    "    - `sent`: Number of packets sent to the hop.\n",
    "    - `received`: Number of packets received from the hop.\n",
    "\n",
    "6. **Performance Metrics**:\n",
    "    - `rtt_avg`: Average round-trip time (RTT) to the hop (in milliseconds).\n",
    "    - `successes`: Number of successful responses from the hop.\n",
    "    - `failures`: Number of failed responses from the hop.\n",
    "\n",
    "### Insights:\n",
    "- This dataset helps analyze the network path to the target server, identifying intermediate hops and their performance.\n",
    "- Missing values in `hop_address` or `hop_name` indicate that the hop did not respond or is unreachable.\n",
    "- RTT metrics provide insights into latency at each hop, helping identify potential bottlenecks or delays in the network path."
   ]
  },
  {
   "cell_type": "markdown",
   "metadata": {},
   "source": [
    "---"
   ]
  },
  {
   "cell_type": "markdown",
   "metadata": {},
   "source": [
    "# curr_datausage (Overall data consumption)"
   ]
  },
  {
   "cell_type": "code",
   "execution_count": 52,
   "metadata": {},
   "outputs": [],
   "source": [
    "df_datausage = pd.read_csv('../data/raw/curr_datausage.csv')"
   ]
  },
  {
   "cell_type": "code",
   "execution_count": 53,
   "metadata": {},
   "outputs": [
    {
     "data": {
      "text/html": [
       "<div>\n",
       "<style scoped>\n",
       "    .dataframe tbody tr th:only-of-type {\n",
       "        vertical-align: middle;\n",
       "    }\n",
       "\n",
       "    .dataframe tbody tr th {\n",
       "        vertical-align: top;\n",
       "    }\n",
       "\n",
       "    .dataframe thead th {\n",
       "        text-align: right;\n",
       "    }\n",
       "</style>\n",
       "<table border=\"1\" class=\"dataframe\">\n",
       "  <thead>\n",
       "    <tr style=\"text-align: right;\">\n",
       "      <th></th>\n",
       "      <th>unit_id</th>\n",
       "      <th>dtime</th>\n",
       "      <th>sk_tx_bytes</th>\n",
       "      <th>sk_rx_bytes</th>\n",
       "      <th>cust_wired_tx_bytes</th>\n",
       "      <th>cust_wired_rx_bytes</th>\n",
       "      <th>cust_wifi_tx_bytes</th>\n",
       "      <th>cust_wifi_rx_bytes</th>\n",
       "    </tr>\n",
       "  </thead>\n",
       "  <tbody>\n",
       "    <tr>\n",
       "      <th>0</th>\n",
       "      <td>386</td>\n",
       "      <td>2023-02-01 06:31:55</td>\n",
       "      <td>9924</td>\n",
       "      <td>45118</td>\n",
       "      <td>43571037</td>\n",
       "      <td>1004149200</td>\n",
       "      <td>0</td>\n",
       "      <td>2790428</td>\n",
       "    </tr>\n",
       "    <tr>\n",
       "      <th>1</th>\n",
       "      <td>386</td>\n",
       "      <td>2023-02-01 07:31:58</td>\n",
       "      <td>0</td>\n",
       "      <td>47611</td>\n",
       "      <td>43603075</td>\n",
       "      <td>819232115</td>\n",
       "      <td>0</td>\n",
       "      <td>2739453</td>\n",
       "    </tr>\n",
       "  </tbody>\n",
       "</table>\n",
       "</div>"
      ],
      "text/plain": [
       "   unit_id                dtime  sk_tx_bytes  sk_rx_bytes  \\\n",
       "0      386  2023-02-01 06:31:55         9924        45118   \n",
       "1      386  2023-02-01 07:31:58            0        47611   \n",
       "\n",
       "   cust_wired_tx_bytes  cust_wired_rx_bytes  cust_wifi_tx_bytes  \\\n",
       "0             43571037           1004149200                   0   \n",
       "1             43603075            819232115                   0   \n",
       "\n",
       "   cust_wifi_rx_bytes  \n",
       "0             2790428  \n",
       "1             2739453  "
      ]
     },
     "execution_count": 53,
     "metadata": {},
     "output_type": "execute_result"
    }
   ],
   "source": [
    "df_datausage.head(2)"
   ]
  },
  {
   "cell_type": "code",
   "execution_count": 54,
   "metadata": {},
   "outputs": [
    {
     "name": "stdout",
     "output_type": "stream",
     "text": [
      "<class 'pandas.core.frame.DataFrame'>\n",
      "RangeIndex: 2473200 entries, 0 to 2473199\n",
      "Data columns (total 8 columns):\n",
      " #   Column               Dtype \n",
      "---  ------               ----- \n",
      " 0   unit_id              int64 \n",
      " 1   dtime                object\n",
      " 2   sk_tx_bytes          int64 \n",
      " 3   sk_rx_bytes          int64 \n",
      " 4   cust_wired_tx_bytes  int64 \n",
      " 5   cust_wired_rx_bytes  int64 \n",
      " 6   cust_wifi_tx_bytes   int64 \n",
      " 7   cust_wifi_rx_bytes   int64 \n",
      "dtypes: int64(7), object(1)\n",
      "memory usage: 151.0+ MB\n"
     ]
    }
   ],
   "source": [
    "df_datausage.info()"
   ]
  },
  {
   "cell_type": "markdown",
   "metadata": {
    "vscode": {
     "languageId": "yaml"
    }
   },
   "source": [
    "The dataset represents data usage metrics, capturing information about transmitted and received bytes over different network interfaces. Here's a description of the key fields:\n",
    "\n",
    "### Key Fields:\n",
    " - `unit_id` : Unique identifier for the testing unit.\n",
    "\n",
    " - `dtime`: Timestamp of the measurement.\n",
    "\n",
    " - `sk_tx_bytes`: Bytes transmitted by the SamKnows device.\n",
    "\n",
    " - `sk_rx_bytes`: Bytes received by the SamKnows device.\n",
    "\n",
    " - `cust_wired_tx_bytes`: Bytes transmitted over the customer's wired network.\n",
    "\n",
    " - `cust_wired_rx_bytes`: Bytes received over the customer's wired network.\n",
    "\n",
    " - `cust_wifi_tx_bytes`: Bytes transmitted over the customer's Wi-Fi network.\n",
    " \n",
    " - `cust_wifi_rx_bytes`: Bytes received over the customer's Wi-Fi network.\n",
    "\n",
    "### Insights:\n",
    "- The dataset provides a breakdown of data usage across wired and wireless networks.\n",
    "- It can be used to analyze network traffic patterns, identify usage trends, and compare wired vs. Wi-Fi data consumption."
   ]
  }
 ],
 "metadata": {
  "kernelspec": {
   "display_name": "deepseek-mac",
   "language": "python",
   "name": "python3"
  },
  "language_info": {
   "codemirror_mode": {
    "name": "ipython",
    "version": 3
   },
   "file_extension": ".py",
   "mimetype": "text/x-python",
   "name": "python",
   "nbconvert_exporter": "python",
   "pygments_lexer": "ipython3",
   "version": "3.10.16"
  }
 },
 "nbformat": 4,
 "nbformat_minor": 2
}
