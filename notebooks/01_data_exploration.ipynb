{
 "cells": [
  {
   "cell_type": "code",
   "execution_count": 1,
   "metadata": {},
   "outputs": [],
   "source": [
    "import pandas as pd \n",
    "import plotly.express as px\n",
    "import matplotlib.pyplot as plt\n",
    "import plotly.graph_objects as go\n",
    "from plotly.subplots import make_subplots"
   ]
  },
  {
   "cell_type": "markdown",
   "metadata": {},
   "source": [
    "# urr_httpgetmt and curr_httpgetmt6: Download speed metrics\n"
   ]
  },
  {
   "cell_type": "code",
   "execution_count": 2,
   "metadata": {},
   "outputs": [],
   "source": [
    "# first we explore the curr_httpgetmt\n",
    "df_httpgetmt = pd.read_csv('../data/raw/curr_httpgetmt.csv')"
   ]
  },
  {
   "cell_type": "code",
   "execution_count": 3,
   "metadata": {},
   "outputs": [
    {
     "data": {
      "text/html": [
       "<div>\n",
       "<style scoped>\n",
       "    .dataframe tbody tr th:only-of-type {\n",
       "        vertical-align: middle;\n",
       "    }\n",
       "\n",
       "    .dataframe tbody tr th {\n",
       "        vertical-align: top;\n",
       "    }\n",
       "\n",
       "    .dataframe thead th {\n",
       "        text-align: right;\n",
       "    }\n",
       "</style>\n",
       "<table border=\"1\" class=\"dataframe\">\n",
       "  <thead>\n",
       "    <tr style=\"text-align: right;\">\n",
       "      <th></th>\n",
       "      <th>unit_id</th>\n",
       "      <th>dtime</th>\n",
       "      <th>target</th>\n",
       "      <th>address</th>\n",
       "      <th>fetch_time</th>\n",
       "      <th>bytes_total</th>\n",
       "      <th>bytes_sec</th>\n",
       "      <th>bytes_sec_interval</th>\n",
       "      <th>warmup_time</th>\n",
       "      <th>warmup_bytes</th>\n",
       "      <th>sequence</th>\n",
       "      <th>threads</th>\n",
       "      <th>successes</th>\n",
       "      <th>failures</th>\n",
       "    </tr>\n",
       "  </thead>\n",
       "  <tbody>\n",
       "    <tr>\n",
       "      <th>0</th>\n",
       "      <td>386</td>\n",
       "      <td>2023-02-02 11:46:44</td>\n",
       "      <td>sp1-vm-newyork-us.samknows.com</td>\n",
       "      <td>151.139.31.1</td>\n",
       "      <td>10028665</td>\n",
       "      <td>257012514</td>\n",
       "      <td>25627789</td>\n",
       "      <td>25627789</td>\n",
       "      <td>5028092</td>\n",
       "      <td>122041478</td>\n",
       "      <td>0</td>\n",
       "      <td>8</td>\n",
       "      <td>1</td>\n",
       "      <td>0</td>\n",
       "    </tr>\n",
       "    <tr>\n",
       "      <th>1</th>\n",
       "      <td>386</td>\n",
       "      <td>2023-02-02 17:46:29</td>\n",
       "      <td>sp1-vm-newyork-us.samknows.com</td>\n",
       "      <td>151.139.31.1</td>\n",
       "      <td>10018544</td>\n",
       "      <td>255021762</td>\n",
       "      <td>25454972</td>\n",
       "      <td>25454972</td>\n",
       "      <td>1523612</td>\n",
       "      <td>33933926</td>\n",
       "      <td>0</td>\n",
       "      <td>8</td>\n",
       "      <td>1</td>\n",
       "      <td>0</td>\n",
       "    </tr>\n",
       "  </tbody>\n",
       "</table>\n",
       "</div>"
      ],
      "text/plain": [
       "   unit_id                dtime                          target       address  \\\n",
       "0      386  2023-02-02 11:46:44  sp1-vm-newyork-us.samknows.com  151.139.31.1   \n",
       "1      386  2023-02-02 17:46:29  sp1-vm-newyork-us.samknows.com  151.139.31.1   \n",
       "\n",
       "   fetch_time  bytes_total  bytes_sec  bytes_sec_interval  warmup_time  \\\n",
       "0    10028665    257012514   25627789            25627789      5028092   \n",
       "1    10018544    255021762   25454972            25454972      1523612   \n",
       "\n",
       "   warmup_bytes  sequence  threads  successes  failures  \n",
       "0     122041478         0        8          1         0  \n",
       "1      33933926         0        8          1         0  "
      ]
     },
     "execution_count": 3,
     "metadata": {},
     "output_type": "execute_result"
    }
   ],
   "source": [
    "df_httpgetmt.head(2)"
   ]
  },
  {
   "cell_type": "code",
   "execution_count": 4,
   "metadata": {},
   "outputs": [
    {
     "name": "stdout",
     "output_type": "stream",
     "text": [
      "<class 'pandas.core.frame.DataFrame'>\n",
      "RangeIndex: 724511 entries, 0 to 724510\n",
      "Data columns (total 14 columns):\n",
      " #   Column              Non-Null Count   Dtype \n",
      "---  ------              --------------   ----- \n",
      " 0   unit_id             724511 non-null  int64 \n",
      " 1   dtime               724511 non-null  object\n",
      " 2   target              724511 non-null  object\n",
      " 3   address             724511 non-null  object\n",
      " 4   fetch_time          724511 non-null  int64 \n",
      " 5   bytes_total         724511 non-null  int64 \n",
      " 6   bytes_sec           724511 non-null  int64 \n",
      " 7   bytes_sec_interval  724511 non-null  int64 \n",
      " 8   warmup_time         724511 non-null  int64 \n",
      " 9   warmup_bytes        724511 non-null  int64 \n",
      " 10  sequence            724511 non-null  int64 \n",
      " 11  threads             724511 non-null  int64 \n",
      " 12  successes           724511 non-null  int64 \n",
      " 13  failures            724511 non-null  int64 \n",
      "dtypes: int64(11), object(3)\n",
      "memory usage: 77.4+ MB\n"
     ]
    }
   ],
   "source": [
    "df_httpgetmt.info()"
   ]
  },
  {
   "cell_type": "markdown",
   "metadata": {},
   "source": [
    "### Description\n",
    "`urr_httpgetmt` and `curr_httpgetmt6` are functions that measure the download speed of HTTP GET requests. They are used to assess the performance of HTTP servers by calculating the time taken to download a specified number of bytes from a given URL. The functions return the download speed in bytes per second (Bps) and can be used for both IPv4 and IPv6 addresses."
   ]
  },
  {
   "cell_type": "code",
   "execution_count": 5,
   "metadata": {},
   "outputs": [],
   "source": [
    "# second we explore the curr_httpgetmt\n",
    "df_curr_httpgetmt6 = pd.read_csv('../data/raw/curr_httpgetmt6.csv')"
   ]
  },
  {
   "cell_type": "code",
   "execution_count": 6,
   "metadata": {},
   "outputs": [
    {
     "data": {
      "text/html": [
       "<div>\n",
       "<style scoped>\n",
       "    .dataframe tbody tr th:only-of-type {\n",
       "        vertical-align: middle;\n",
       "    }\n",
       "\n",
       "    .dataframe tbody tr th {\n",
       "        vertical-align: top;\n",
       "    }\n",
       "\n",
       "    .dataframe thead th {\n",
       "        text-align: right;\n",
       "    }\n",
       "</style>\n",
       "<table border=\"1\" class=\"dataframe\">\n",
       "  <thead>\n",
       "    <tr style=\"text-align: right;\">\n",
       "      <th></th>\n",
       "      <th>unit_id</th>\n",
       "      <th>dtime</th>\n",
       "      <th>target</th>\n",
       "      <th>address</th>\n",
       "      <th>fetch_time</th>\n",
       "      <th>bytes_total</th>\n",
       "      <th>bytes_sec</th>\n",
       "      <th>bytes_sec_interval</th>\n",
       "      <th>warmup_time</th>\n",
       "      <th>warmup_bytes</th>\n",
       "      <th>sequence</th>\n",
       "      <th>threads</th>\n",
       "      <th>successes</th>\n",
       "      <th>failures</th>\n",
       "    </tr>\n",
       "  </thead>\n",
       "  <tbody>\n",
       "    <tr>\n",
       "      <th>0</th>\n",
       "      <td>216748</td>\n",
       "      <td>2023-02-25 02:55:46</td>\n",
       "      <td>v6-n1-fcc-losangeles-us.samknows.com</td>\n",
       "      <td>2604:6840:1600:1501::1</td>\n",
       "      <td>10489480</td>\n",
       "      <td>616088464</td>\n",
       "      <td>58733938</td>\n",
       "      <td>58733938</td>\n",
       "      <td>7983673</td>\n",
       "      <td>441679036</td>\n",
       "      <td>0</td>\n",
       "      <td>8</td>\n",
       "      <td>1</td>\n",
       "      <td>0</td>\n",
       "    </tr>\n",
       "    <tr>\n",
       "      <th>1</th>\n",
       "      <td>216748</td>\n",
       "      <td>2023-02-25 05:55:25</td>\n",
       "      <td>v6-n1-fcc-losangeles-us.samknows.com</td>\n",
       "      <td>2604:6840:1600:1501::1</td>\n",
       "      <td>10541189</td>\n",
       "      <td>646054608</td>\n",
       "      <td>61288590</td>\n",
       "      <td>61288590</td>\n",
       "      <td>8068534</td>\n",
       "      <td>446827962</td>\n",
       "      <td>0</td>\n",
       "      <td>8</td>\n",
       "      <td>1</td>\n",
       "      <td>0</td>\n",
       "    </tr>\n",
       "  </tbody>\n",
       "</table>\n",
       "</div>"
      ],
      "text/plain": [
       "   unit_id                dtime                                target  \\\n",
       "0   216748  2023-02-25 02:55:46  v6-n1-fcc-losangeles-us.samknows.com   \n",
       "1   216748  2023-02-25 05:55:25  v6-n1-fcc-losangeles-us.samknows.com   \n",
       "\n",
       "                  address  fetch_time  bytes_total  bytes_sec  \\\n",
       "0  2604:6840:1600:1501::1    10489480    616088464   58733938   \n",
       "1  2604:6840:1600:1501::1    10541189    646054608   61288590   \n",
       "\n",
       "   bytes_sec_interval  warmup_time  warmup_bytes  sequence  threads  \\\n",
       "0            58733938      7983673     441679036         0        8   \n",
       "1            61288590      8068534     446827962         0        8   \n",
       "\n",
       "   successes  failures  \n",
       "0          1         0  \n",
       "1          1         0  "
      ]
     },
     "execution_count": 6,
     "metadata": {},
     "output_type": "execute_result"
    }
   ],
   "source": [
    "df_curr_httpgetmt6.head(2)"
   ]
  },
  {
   "cell_type": "code",
   "execution_count": 7,
   "metadata": {},
   "outputs": [
    {
     "name": "stdout",
     "output_type": "stream",
     "text": [
      "<class 'pandas.core.frame.DataFrame'>\n",
      "RangeIndex: 489 entries, 0 to 488\n",
      "Data columns (total 14 columns):\n",
      " #   Column              Non-Null Count  Dtype \n",
      "---  ------              --------------  ----- \n",
      " 0   unit_id             489 non-null    int64 \n",
      " 1   dtime               489 non-null    object\n",
      " 2   target              489 non-null    object\n",
      " 3   address             489 non-null    object\n",
      " 4   fetch_time          489 non-null    int64 \n",
      " 5   bytes_total         489 non-null    int64 \n",
      " 6   bytes_sec           489 non-null    int64 \n",
      " 7   bytes_sec_interval  489 non-null    int64 \n",
      " 8   warmup_time         489 non-null    int64 \n",
      " 9   warmup_bytes        489 non-null    int64 \n",
      " 10  sequence            489 non-null    int64 \n",
      " 11  threads             489 non-null    int64 \n",
      " 12  successes           489 non-null    int64 \n",
      " 13  failures            489 non-null    int64 \n",
      "dtypes: int64(11), object(3)\n",
      "memory usage: 53.6+ KB\n"
     ]
    }
   ],
   "source": [
    "df_curr_httpgetmt6.info()"
   ]
  },
  {
   "cell_type": "markdown",
   "metadata": {},
   "source": [
    "From this data, we can find pattern in the following:\n",
    "\n",
    "1. **Download Speed Analysis**:\n",
    "    - Analyze the `bytes_sec` and `bytes_sec_interval` columns to understand the download speed trends.\n",
    "    - Compare the download speeds across different `target` servers or `address`.\n",
    "\n",
    "2. **Fetch Time Analysis**:\n",
    "    - Investigate the `fetch_time` column to see how long it takes to fetch data from different servers.\n",
    "\n",
    "3. **Warmup Performance**:\n",
    "    - Analyze the `warmup_time` and `warmup_bytes` columns to understand the warmup phase's impact on performance.\n",
    "\n",
    "4. **Server Performance**:\n",
    "    - Compare the performance of different `target` servers or `address` in terms of download speed and fetch time.\n",
    "\n",
    "5. **Success and Failure Rates**:\n",
    "    - Use the `successes` and `failures` columns to calculate the success rate of HTTP GET requests.\n",
    "\n",
    "6. **Thread Utilization**:\n",
    "    - Analyze the `threads` column to see how the number of threads affects performance metrics like `bytes_sec`.\n",
    "\n",
    "7. **Time-based Trends**:\n",
    "    - Use the `dtime` column to explore time-based trends in download speed or fetch time.\n",
    "\n",
    "8. **Correlation Analysis**:\n",
    "    - Perform correlation analysis between columns like `fetch_time`, `bytes_sec`, `warmup_time`, etc., to identify relationships.ـ\n",
    "    "
   ]
  },
  {
   "cell_type": "markdown",
   "metadata": {},
   "source": [
    "---"
   ]
  },
  {
   "cell_type": "markdown",
   "metadata": {},
   "source": [
    "### EDA For Downloading Metrices : httpgetmt - httpgetmt6"
   ]
  },
  {
   "cell_type": "markdown",
   "metadata": {},
   "source": [
    "#### Converting the dtime from object to datetime for downloading metrics"
   ]
  },
  {
   "cell_type": "code",
   "execution_count": 8,
   "metadata": {},
   "outputs": [],
   "source": [
    "# converting the dtime from object to datetime \n",
    "df_httpgetmt['dtime'] = pd.to_datetime(df_httpgetmt['dtime'])\n",
    "df_curr_httpgetmt6['dtime'] = pd.to_datetime(df_curr_httpgetmt6['dtime'])"
   ]
  },
  {
   "cell_type": "markdown",
   "metadata": {},
   "source": [
    "#### Converting the bytes from megabytes for downloading metrics"
   ]
  },
  {
   "cell_type": "code",
   "execution_count": 9,
   "metadata": {},
   "outputs": [],
   "source": [
    "df_httpgetmt['mbps'] = df_httpgetmt['bytes_sec'] * 8 / 1_000_000  # Convert bytes to megabits\n",
    "df_curr_httpgetmt6['mbps'] = df_curr_httpgetmt6['bytes_sec'] * 8 / 1_000_000"
   ]
  },
  {
   "cell_type": "code",
   "execution_count": 10,
   "metadata": {},
   "outputs": [],
   "source": [
    "# 4. Statistical Summary\n",
    "def get_stats(df, name):\n",
    "    stats = {\n",
    "        'Protocol': name,\n",
    "        'Mean Speed (Mbps)': df['mbps'].mean(),\n",
    "        'Median Speed (Mbps)': df['mbps'].median(),\n",
    "        'Max Speed (Mbps)': df['mbps'].max(),\n",
    "        'Min Speed (Mbps)': df['mbps'].min(),\n",
    "        'Success Rate (%)': (df['successes'].sum() / (df['successes'].sum() + df['failures'].sum())) * 100,\n",
    "        'Avg Fetch Time (ms)': df['fetch_time'].mean() / 1000,\n",
    "        'Sample Size': len(df)\n",
    "    }\n",
    "    return pd.Series(stats)\n",
    "\n",
    "download_stats_df = pd.DataFrame([\n",
    "    get_stats(df_httpgetmt, 'IPv4'),\n",
    "    get_stats(df_curr_httpgetmt6, 'IPv6')\n",
    "])"
   ]
  },
  {
   "cell_type": "code",
   "execution_count": 11,
   "metadata": {},
   "outputs": [
    {
     "data": {
      "text/html": [
       "<div>\n",
       "<style scoped>\n",
       "    .dataframe tbody tr th:only-of-type {\n",
       "        vertical-align: middle;\n",
       "    }\n",
       "\n",
       "    .dataframe tbody tr th {\n",
       "        vertical-align: top;\n",
       "    }\n",
       "\n",
       "    .dataframe thead th {\n",
       "        text-align: right;\n",
       "    }\n",
       "</style>\n",
       "<table border=\"1\" class=\"dataframe\">\n",
       "  <thead>\n",
       "    <tr style=\"text-align: right;\">\n",
       "      <th></th>\n",
       "      <th>Protocol</th>\n",
       "      <th>Mean Speed (Mbps)</th>\n",
       "      <th>Median Speed (Mbps)</th>\n",
       "      <th>Max Speed (Mbps)</th>\n",
       "      <th>Min Speed (Mbps)</th>\n",
       "      <th>Success Rate (%)</th>\n",
       "      <th>Avg Fetch Time (ms)</th>\n",
       "      <th>Sample Size</th>\n",
       "    </tr>\n",
       "  </thead>\n",
       "  <tbody>\n",
       "    <tr>\n",
       "      <th>0</th>\n",
       "      <td>IPv4</td>\n",
       "      <td>270.146640</td>\n",
       "      <td>114.928240</td>\n",
       "      <td>947.812632</td>\n",
       "      <td>0.0</td>\n",
       "      <td>99.531270</td>\n",
       "      <td>10000.369815</td>\n",
       "      <td>724511</td>\n",
       "    </tr>\n",
       "    <tr>\n",
       "      <th>1</th>\n",
       "      <td>IPv6</td>\n",
       "      <td>660.365598</td>\n",
       "      <td>858.841512</td>\n",
       "      <td>926.874000</td>\n",
       "      <td>0.0</td>\n",
       "      <td>92.433538</td>\n",
       "      <td>9353.079106</td>\n",
       "      <td>489</td>\n",
       "    </tr>\n",
       "  </tbody>\n",
       "</table>\n",
       "</div>"
      ],
      "text/plain": [
       "  Protocol  Mean Speed (Mbps)  Median Speed (Mbps)  Max Speed (Mbps)  \\\n",
       "0     IPv4         270.146640           114.928240        947.812632   \n",
       "1     IPv6         660.365598           858.841512        926.874000   \n",
       "\n",
       "   Min Speed (Mbps)  Success Rate (%)  Avg Fetch Time (ms)  Sample Size  \n",
       "0               0.0         99.531270         10000.369815       724511  \n",
       "1               0.0         92.433538          9353.079106          489  "
      ]
     },
     "execution_count": 11,
     "metadata": {},
     "output_type": "execute_result"
    }
   ],
   "source": [
    "download_stats_df"
   ]
  },
  {
   "cell_type": "markdown",
   "metadata": {},
   "source": [
    "#### Bar Chart: Mean and Median Download Speeds"
   ]
  },
  {
   "cell_type": "code",
   "execution_count": null,
   "metadata": {},
   "outputs": [
    {
     "ename": "NameError",
     "evalue": "name 'upload_stats_df' is not defined",
     "output_type": "error",
     "traceback": [
      "\u001b[0;31m---------------------------------------------------------------------------\u001b[0m",
      "\u001b[0;31mNameError\u001b[0m                                 Traceback (most recent call last)",
      "Cell \u001b[0;32mIn[12], line 7\u001b[0m\n\u001b[1;32m      1\u001b[0m fig1 \u001b[38;5;241m=\u001b[39m go\u001b[38;5;241m.\u001b[39mFigure()\n\u001b[1;32m      2\u001b[0m fig1\u001b[38;5;241m.\u001b[39madd_trace(go\u001b[38;5;241m.\u001b[39mBar(\n\u001b[1;32m      3\u001b[0m     x\u001b[38;5;241m=\u001b[39mdownload_stats_df[\u001b[38;5;124m'\u001b[39m\u001b[38;5;124mProtocol\u001b[39m\u001b[38;5;124m'\u001b[39m],\n\u001b[1;32m      4\u001b[0m     y\u001b[38;5;241m=\u001b[39mdownload_stats_df[\u001b[38;5;124m'\u001b[39m\u001b[38;5;124mMean Speed (Mbps)\u001b[39m\u001b[38;5;124m'\u001b[39m],\n\u001b[1;32m      5\u001b[0m     name\u001b[38;5;241m=\u001b[39m\u001b[38;5;124m'\u001b[39m\u001b[38;5;124mMean Speed (Mbps)\u001b[39m\u001b[38;5;124m'\u001b[39m,\n\u001b[1;32m      6\u001b[0m     marker_color\u001b[38;5;241m=\u001b[39m\u001b[38;5;124m'\u001b[39m\u001b[38;5;124mindianred\u001b[39m\u001b[38;5;124m'\u001b[39m,\n\u001b[0;32m----> 7\u001b[0m     text\u001b[38;5;241m=\u001b[39m\u001b[43mupload_stats_df\u001b[49m[\u001b[38;5;124m'\u001b[39m\u001b[38;5;124mMean Speed (Mbps)\u001b[39m\u001b[38;5;124m'\u001b[39m]\u001b[38;5;241m.\u001b[39mround(\u001b[38;5;241m2\u001b[39m),\n\u001b[1;32m      8\u001b[0m     textposition\u001b[38;5;241m=\u001b[39m\u001b[38;5;124m'\u001b[39m\u001b[38;5;124mauto\u001b[39m\u001b[38;5;124m'\u001b[39m\n\u001b[1;32m      9\u001b[0m ))\n\u001b[1;32m     10\u001b[0m fig1\u001b[38;5;241m.\u001b[39madd_trace(go\u001b[38;5;241m.\u001b[39mBar(\n\u001b[1;32m     11\u001b[0m     x\u001b[38;5;241m=\u001b[39mdownload_stats_df[\u001b[38;5;124m'\u001b[39m\u001b[38;5;124mProtocol\u001b[39m\u001b[38;5;124m'\u001b[39m],\n\u001b[1;32m     12\u001b[0m     y\u001b[38;5;241m=\u001b[39mdownload_stats_df[\u001b[38;5;124m'\u001b[39m\u001b[38;5;124mMedian Speed (Mbps)\u001b[39m\u001b[38;5;124m'\u001b[39m],\n\u001b[0;32m   (...)\u001b[0m\n\u001b[1;32m     16\u001b[0m     textposition\u001b[38;5;241m=\u001b[39m\u001b[38;5;124m'\u001b[39m\u001b[38;5;124mauto\u001b[39m\u001b[38;5;124m'\u001b[39m\n\u001b[1;32m     17\u001b[0m ))\n\u001b[1;32m     19\u001b[0m fig1\u001b[38;5;241m.\u001b[39mupdate_layout(\n\u001b[1;32m     20\u001b[0m     title\u001b[38;5;241m=\u001b[39m\u001b[38;5;124m'\u001b[39m\u001b[38;5;124mDownload Speed Comparison: Mean vs Median (IPv4 vs IPv6)\u001b[39m\u001b[38;5;124m'\u001b[39m,\n\u001b[1;32m     21\u001b[0m     xaxis_title\u001b[38;5;241m=\u001b[39m\u001b[38;5;124m'\u001b[39m\u001b[38;5;124mProtocol\u001b[39m\u001b[38;5;124m'\u001b[39m,\n\u001b[0;32m   (...)\u001b[0m\n\u001b[1;32m     27\u001b[0m     template\u001b[38;5;241m=\u001b[39m\u001b[38;5;124m'\u001b[39m\u001b[38;5;124mplotly_white\u001b[39m\u001b[38;5;124m'\u001b[39m\n\u001b[1;32m     28\u001b[0m )\n",
      "\u001b[0;31mNameError\u001b[0m: name 'upload_stats_df' is not defined"
     ]
    }
   ],
   "source": [
    "fig1 = go.Figure()\n",
    "fig1.add_trace(go.Bar(\n",
    "    x=download_stats_df['Protocol'],\n",
    "    y=download_stats_df['Mean Speed (Mbps)'],\n",
    "    name='Mean Speed (Mbps)',\n",
    "    marker_color='indianred',\n",
    "    text=download_stats_df['Mean Speed (Mbps)'].round(2),\n",
    "    textposition='auto'\n",
    "))\n",
    "fig1.add_trace(go.Bar(\n",
    "    x=download_stats_df['Protocol'],\n",
    "    y=download_stats_df['Median Speed (Mbps)'],\n",
    "    name='Median Speed (Mbps)',\n",
    "    marker_color='lightseagreen',\n",
    "    text=download_stats_df['Median Speed (Mbps)'].round(2),\n",
    "    textposition='auto'\n",
    "))\n",
    "\n",
    "fig1.update_layout(\n",
    "    title='Download Speed Comparison: Mean vs Median (IPv4 vs IPv6)',\n",
    "    xaxis_title='Protocol',\n",
    "    yaxis_title='Speed (Mbps)',\n",
    "    barmode='group',\n",
    "    height=500,\n",
    "    width=800,\n",
    "    legend_title='Metric',\n",
    "    template='plotly_white'\n",
    ")\n",
    "\n",
    "# fig1.write_html(\"../reports/viz/download_performance/download_speed_comparison.html\")"
   ]
  },
  {
   "cell_type": "markdown",
   "metadata": {},
   "source": [
    "####  Bar Chart: Success Rate and Average Fetch Time for Downloading Metrics\n"
   ]
  },
  {
   "cell_type": "code",
   "execution_count": null,
   "metadata": {},
   "outputs": [],
   "source": [
    "fig2 = make_subplots(specs=[[{\"secondary_y\": True}]])\n",
    "# Bar chart for Success Rate (%) on primary Y-axis\n",
    "fig2.add_trace(\n",
    "    go.Bar(\n",
    "        x=download_stats_df['Protocol'],\n",
    "        y=download_stats_df['Success Rate (%)'],\n",
    "        name='Success Rate (%)',\n",
    "        marker_color='indianred',\n",
    "        text=download_stats_df['Success Rate (%)'].round(2),\n",
    "        textposition='auto'\n",
    "    ),\n",
    "    secondary_y=False\n",
    ")\n",
    "\n",
    "# Line chart with markers for Avg Fetch Time (ms) on secondary Y-axis\n",
    "fig2.add_trace(\n",
    "    go.Scatter(\n",
    "        x=download_stats_df['Protocol'],\n",
    "        y=download_stats_df['Avg Fetch Time (ms)'],\n",
    "        name='Avg Fetch Time (ms)',\n",
    "        mode='lines+markers+text',\n",
    "        marker=dict(color='lightseagreen', size=10),\n",
    "        line=dict(color='lightseagreen', width=2),\n",
    "        text=download_stats_df['Avg Fetch Time (ms)'].round(2),\n",
    "        textposition='top center'\n",
    "    ),\n",
    "    secondary_y=True\n",
    ")\n",
    "\n",
    "# Update layout for clarity\n",
    "fig2.update_layout(\n",
    "    title='Success Rate vs Average Fetch Time (IPv4 vs IPv6)',\n",
    "    xaxis_title='Protocol',\n",
    "    height=500,\n",
    "    width=800,\n",
    "    template='plotly_white',\n",
    "    legend_title='Metric',\n",
    "    barmode='group'  # Only affects bars, not the line\n",
    ")\n",
    "\n",
    "fig2.update_yaxes(title_text='Success Rate (%)', secondary_y=False, range=[90, 100])  # Adjusted range for better visibility\n",
    "fig2.update_yaxes(title_text='Avg Fetch Time (ms)', secondary_y=True, range=[9000, 10500])  # Adjusted range\n",
    "\n",
    "# fig2.write_html(\"../reports/viz/download_performance/success_fetch_comparison_corrected.html\")\n",
    "\n"
   ]
  },
  {
   "cell_type": "markdown",
   "metadata": {},
   "source": [
    "#### Average Download Speed by Target Server for Downloading Metrics"
   ]
  },
  {
   "cell_type": "code",
   "execution_count": null,
   "metadata": {},
   "outputs": [],
   "source": [
    "# 2. Average Download Speed by Target Server\n",
    "download_ipv4_server_stats = df_httpgetmt.groupby('target')['mbps'].agg(['mean', 'count']).reset_index().sort_values(by='mean', ascending=True)\n",
    "download_ipv6_server_stats = df_curr_httpgetmt6.groupby('target')['mbps'].agg(['mean', 'count']).reset_index().sort_values(by='mean', ascending=True)"
   ]
  },
  {
   "cell_type": "code",
   "execution_count": null,
   "metadata": {},
   "outputs": [],
   "source": [
    "\n",
    "fig2 = go.Figure()\n",
    "fig2.add_trace(go.Bar(\n",
    "    x=download_ipv4_server_stats['target'],\n",
    "    y=download_ipv4_server_stats['mean'],\n",
    "    name='IPv4',\n",
    "    text=download_ipv4_server_stats['count'],\n",
    "    textposition='auto'\n",
    "))\n",
    "fig2.add_trace(go.Bar(\n",
    "    x=download_ipv6_server_stats['target'],\n",
    "    y=download_ipv6_server_stats['mean'],\n",
    "    name='IPv6',\n",
    "    text=download_ipv6_server_stats['count'],\n",
    "    textposition='auto'\n",
    "))\n",
    "\n",
    "fig2.update_layout(\n",
    "    title='Average Download Speed by Server Sorted Ascending',\n",
    "    xaxis_title='Target Server',\n",
    "    yaxis_title='Average Speed (Mbps)',\n",
    "    barmode='group',\n",
    "    height=600,\n",
    "    width=1000\n",
    ")\n",
    "# fig2.write_html(\"../reports/viz/download_performance/Average Downlaod Speed by Server Sorted Ascending.html\")\n"
   ]
  },
  {
   "cell_type": "markdown",
   "metadata": {},
   "source": [
    "####  Perfomance Download Speed Trend Over Time (IPv4 vs IPv6 comparison)\n"
   ]
  },
  {
   "cell_type": "code",
   "execution_count": null,
   "metadata": {},
   "outputs": [],
   "source": [
    "\n",
    "plt.figure(figsize=(10, 6)) \n",
    "\n",
    "# Plot IPv4 data\n",
    "plt.plot(df_httpgetmt['dtime'], df_httpgetmt['mbps'], \n",
    "         label='IPv4', \n",
    "         alpha=0.5)  # opacity=0.5 in Plotly is alpha=0.5 in Matplotlib\n",
    "\n",
    "# Plot IPv6 data\n",
    "plt.plot(df_curr_httpgetmt6['dtime'], df_curr_httpgetmt6['mbps'], \n",
    "         label='IPv6', \n",
    "         alpha=0.5)\n",
    "\n",
    "# Customize the plot\n",
    "plt.title(\"Download Speed Comparison: IPv4 vs IPv6\", fontsize=14)\n",
    "plt.xlabel(\"Date/Time\", fontsize=12)\n",
    "plt.ylabel(\"Download Speed (Mbps)\", fontsize=12)\n",
    "plt.legend(title=\"Protocol\")  # Add legend with a title\n",
    "plt.grid(True, linestyle='--', alpha=0.7)  # Optional: adds a grid for better readability\n",
    "\n",
    "# Rotate x-axis labels for better visibility if needed\n",
    "plt.xticks(rotation=45)\n",
    "\n",
    "# Adjust layout to prevent label cutoff\n",
    "plt.tight_layout()\n",
    "\n",
    "# Display the plot\n",
    "plt.show()\n",
    "\n",
    "# plt.savefig(\"../reports/viz/download_performance/download_speed_trend.png\", dpi=100, bbox_inches='tight')"
   ]
  },
  {
   "cell_type": "markdown",
   "metadata": {},
   "source": [
    "- after i see this download speed comprison i founded that all the above analysis is not really accurate because it's not in the same time period\n",
    "- so i will try to find the time period for each of them and then i will compare them\n",
    "- i will use the dtime column to find the time period for each of them"
   ]
  },
  {
   "cell_type": "code",
   "execution_count": null,
   "metadata": {},
   "outputs": [],
   "source": [
    "# # Filter the dataframes to include only rows where 'dtime' is between 24-02 and 28-02\n",
    "# start_date = '2023-02-24'\n",
    "# end_date = '2023-02-28'\n",
    "\n",
    "# df_httpgetmt = df_httpgetmt[(df_httpgetmt['dtime'] >= start_date) & (df_httpgetmt['dtime'] <= end_date)]\n",
    "# df_curr_httpgetmt6 = df_curr_httpgetmt6[(df_curr_httpgetmt6['dtime'] >= start_date) & (df_curr_httpgetmt6['dtime'] <= end_date)]"
   ]
  },
  {
   "cell_type": "code",
   "execution_count": null,
   "metadata": {},
   "outputs": [],
   "source": []
  },
  {
   "cell_type": "markdown",
   "metadata": {},
   "source": [
    "---"
   ]
  },
  {
   "cell_type": "markdown",
   "metadata": {},
   "source": [
    "### Comparison of `urr_httpgetmt` and `curr_httpgetmt6`\n",
    "\n",
    "From the descriptions of the two datasets, here are the key observations and comparisons:\n",
    "\n",
    "1. **Purpose**:\n",
    "    - Both datasets measure the performance of HTTP GET requests.\n",
    "    - `urr_httpgetmt` focuses on general HTTP GET performance, while `curr_httpgetmt6` specifically targets IPv6-based HTTP GET requests.\n",
    "\n",
    "2. **Target Servers**:\n",
    "    - Both datasets include a `target` column that identifies the server being tested. However, `curr_httpgetmt6` focuses on IPv6 servers, as indicated by the `address` column containing IPv6 addresses.\n",
    "\n",
    "3. **Performance Metrics**:\n",
    "    - Both datasets provide similar performance metrics, such as:\n",
    "      - `fetch_time`: Time taken to fetch data.\n",
    "      - `bytes_sec` and `bytes_sec_interval`: Download speeds.\n",
    "      - `warmup_time` and `warmup_bytes`: Metrics for the warmup phase.\n",
    "    - These metrics allow for a detailed analysis of download speeds, latency, and connection setup times.\n",
    "\n",
    "4. **Thread Utilization**:\n",
    "    - Both datasets include a `threads` column, which indicates the level of parallelism used during the HTTP GET requests.\n",
    "\n",
    "5. **Success and Failure Rates**:\n",
    "    - Both datasets track the number of successful (`successes`) and failed (`failures`) HTTP GET requests, enabling reliability analysis.\n",
    "\n",
    "6. **Time-based Trends**:\n",
    "    - The `dtime` column in both datasets allows for time-based trend analysis of performance metrics.\n",
    "\n",
    "7. **Differences**:\n",
    "    - The primary difference lies in the focus of the datasets:\n",
    "      - `curr_httpgetmt` includes both IPv4 and IPv6 data.\n",
    "      - `curr_httpgetmt6` is exclusively for IPv6 performance analysis.\n",
    "\n",
    "### Insights:\n",
    "- The datasets are complementary and can be used together to compare IPv4 and IPv6 performance.\n",
    "- `urr_httpgetmt` provides a broader view of HTTP GET performance, while `curr_httpgetmt6` offers a focused analysis of IPv6-specific performance.\n",
    "- By analyzing both datasets, you can identify trends, bottlenecks, and areas for optimization in HTTP GET performance across different protocols and server configurations."
   ]
  },
  {
   "cell_type": "markdown",
   "metadata": {},
   "source": [
    "-----"
   ]
  },
  {
   "cell_type": "markdown",
   "metadata": {},
   "source": [
    "# curr_httppostmt and curr_httppostmt6: Upload speed metrics\n",
    "\n"
   ]
  },
  {
   "cell_type": "code",
   "execution_count": null,
   "metadata": {},
   "outputs": [],
   "source": [
    "df_httppostmt = pd.read_csv('../data/raw/curr_httppostmt.csv')"
   ]
  },
  {
   "cell_type": "code",
   "execution_count": null,
   "metadata": {},
   "outputs": [],
   "source": [
    "df_httppostmt.head(2)"
   ]
  },
  {
   "cell_type": "code",
   "execution_count": null,
   "metadata": {},
   "outputs": [],
   "source": [
    "df_httppostmt.info()"
   ]
  },
  {
   "cell_type": "code",
   "execution_count": null,
   "metadata": {},
   "outputs": [],
   "source": [
    "df_httppostmt6 = pd.read_csv('../data/raw/curr_httppostmt6.csv')"
   ]
  },
  {
   "cell_type": "code",
   "execution_count": null,
   "metadata": {},
   "outputs": [],
   "source": [
    "df_httppostmt6.head(2)"
   ]
  },
  {
   "cell_type": "code",
   "execution_count": null,
   "metadata": {},
   "outputs": [],
   "source": [
    "df_httppostmt6.info()"
   ]
  },
  {
   "cell_type": "markdown",
   "metadata": {},
   "source": [
    "### EDA For Uploading Metrices : httppostmt - httppostmt6"
   ]
  },
  {
   "cell_type": "markdown",
   "metadata": {},
   "source": [
    "#### Converting the dtime from object to datetime for uploading metrics"
   ]
  },
  {
   "cell_type": "code",
   "execution_count": null,
   "metadata": {},
   "outputs": [],
   "source": [
    "# converting the dtime from object to datetime \n",
    "df_httppostmt['dtime'] = pd.to_datetime(df_httppostmt['dtime'])\n",
    "df_httppostmt6['dtime'] = pd.to_datetime(df_httppostmt6['dtime'])"
   ]
  },
  {
   "cell_type": "markdown",
   "metadata": {},
   "source": [
    "#### Converting the bytes from megabytes for uploading metrics"
   ]
  },
  {
   "cell_type": "code",
   "execution_count": null,
   "metadata": {},
   "outputs": [],
   "source": [
    "df_httppostmt['mbps'] = df_httppostmt['bytes_sec'] * 8 / 1_000_000  # Convert bytes to megabits\n",
    "df_httppostmt6['mbps'] = df_httppostmt6['bytes_sec'] * 8 / 1_000_000"
   ]
  },
  {
   "cell_type": "code",
   "execution_count": null,
   "metadata": {},
   "outputs": [],
   "source": [
    "upload_stats_df = pd.DataFrame([\n",
    "    get_stats(df_httppostmt, 'IPv4'),\n",
    "    get_stats(df_httppostmt6, 'IPv6')\n",
    "])"
   ]
  },
  {
   "cell_type": "code",
   "execution_count": null,
   "metadata": {},
   "outputs": [],
   "source": [
    "upload_stats_df"
   ]
  },
  {
   "cell_type": "markdown",
   "metadata": {},
   "source": [
    "#### Bar Chart: Mean and Median Upload Speeds"
   ]
  },
  {
   "cell_type": "code",
   "execution_count": null,
   "metadata": {},
   "outputs": [],
   "source": [
    "fig1 = go.Figure()\n",
    "fig1.add_trace(go.Bar(\n",
    "    x=upload_stats_df['Protocol'],\n",
    "    y=upload_stats_df['Mean Speed (Mbps)'],\n",
    "    name='Mean Speed (Mbps)',\n",
    "    marker_color='indianred',\n",
    "    text=upload_stats_df['Mean Speed (Mbps)'].round(2),\n",
    "    textposition='auto'\n",
    "))\n",
    "fig1.add_trace(go.Bar(\n",
    "    x=upload_stats_df['Protocol'],\n",
    "    y=upload_stats_df['Median Speed (Mbps)'],\n",
    "    name='Median Speed (Mbps)',\n",
    "    marker_color='lightseagreen',\n",
    "    text=upload_stats_df['Median Speed (Mbps)'].round(2),\n",
    "    textposition='auto'\n",
    "))\n",
    "\n",
    "fig1.update_layout(\n",
    "    title='Upload Speed Comparison: Mean vs Median (IPv4 vs IPv6)',\n",
    "    xaxis_title='Protocol',\n",
    "    yaxis_title='Speed (Mbps)',\n",
    "    barmode='group',\n",
    "    height=500,\n",
    "    width=800,\n",
    "    legend_title='Metric',\n",
    "    template='plotly_white'\n",
    ")\n",
    "# fig1.write_html(\"../reports/viz/upload_performance/upload_speed_comparison.html\")"
   ]
  },
  {
   "cell_type": "markdown",
   "metadata": {},
   "source": [
    "####  Bar Chart: Success Rate and Average Fetch Time for Uploading Metrics"
   ]
  },
  {
   "cell_type": "code",
   "execution_count": null,
   "metadata": {},
   "outputs": [],
   "source": [
    "fig2 = make_subplots(specs=[[{\"secondary_y\": True}]])\n",
    "# Bar chart for Success Rate (%) on primary Y-axis\n",
    "fig2.add_trace(\n",
    "    go.Bar(\n",
    "        x=upload_stats_df['Protocol'],\n",
    "        y=upload_stats_df['Success Rate (%)'],\n",
    "        name='Success Rate (%)',\n",
    "        marker_color='indianred',\n",
    "        text=upload_stats_df['Success Rate (%)'].round(2),\n",
    "        textposition='auto'\n",
    "    ),\n",
    "    secondary_y=False\n",
    ")\n",
    "\n",
    "# Line chart with markers for Avg Fetch Time (ms) on secondary Y-axis\n",
    "fig2.add_trace(\n",
    "    go.Scatter(\n",
    "        x=upload_stats_df['Protocol'],\n",
    "        y=upload_stats_df['Avg Fetch Time (ms)'],\n",
    "        name='Avg Fetch Time (ms)',\n",
    "        mode='lines+markers+text',\n",
    "        marker=dict(color='lightseagreen', size=10),\n",
    "        line=dict(color='lightseagreen', width=2),\n",
    "        text=upload_stats_df['Avg Fetch Time (ms)'].round(2),\n",
    "        textposition='top center'\n",
    "    ),\n",
    "    secondary_y=True\n",
    ")\n",
    "\n",
    "# Update layout for clarity\n",
    "fig2.update_layout(\n",
    "    title='Success Rate vs Average Fetch Time (IPv4 vs IPv6)',\n",
    "    xaxis_title='Protocol',\n",
    "    height=500,\n",
    "    width=800,\n",
    "    template='plotly_white',\n",
    "    legend_title='Metric',\n",
    "    barmode='group'  # Only affects bars, not the line\n",
    ")\n",
    "\n",
    "fig2.update_yaxes(title_text='Success Rate (%)', secondary_y=False, range=[90, 100])  # Adjusted range for better visibility\n",
    "fig2.update_yaxes(title_text='Avg Fetch Time (ms)', secondary_y=True, range=[9000, 10500])  # Adjusted range\n",
    "\n",
    "# fig2.write_html(\"../reports/viz/upload_performance/success_fetch_comparison_corrected.html\")\n"
   ]
  },
  {
   "cell_type": "markdown",
   "metadata": {},
   "source": [
    "#### Average Uploading Speed by Target Server"
   ]
  },
  {
   "cell_type": "code",
   "execution_count": null,
   "metadata": {},
   "outputs": [],
   "source": [
    "upload_ipv4_server_stats = df_httppostmt.groupby('target')['mbps'].agg(['mean', 'count']).reset_index().sort_values(by='mean', ascending=True)\n",
    "upload_ipv6_server_stats = df_httppostmt6.groupby('target')['mbps'].agg(['mean', 'count']).reset_index().sort_values(by='mean', ascending=True)"
   ]
  },
  {
   "cell_type": "code",
   "execution_count": null,
   "metadata": {},
   "outputs": [],
   "source": [
    "fig2 = go.Figure()\n",
    "fig2.add_trace(go.Bar(\n",
    "    x=upload_ipv4_server_stats['target'],\n",
    "    y=upload_ipv4_server_stats['mean'],\n",
    "    name='IPv4',\n",
    "    text=upload_ipv4_server_stats['count'],\n",
    "    textposition='auto'\n",
    "))\n",
    "fig2.add_trace(go.Bar(\n",
    "    x=upload_ipv6_server_stats['target'],\n",
    "    y=upload_ipv6_server_stats['mean'],\n",
    "    name='IPv6',\n",
    "    text=upload_ipv6_server_stats['count'],\n",
    "    textposition='auto'\n",
    "))\n",
    "\n",
    "fig2.update_layout(\n",
    "    title='Average Upload Speed by Server Sorted Ascending',\n",
    "    xaxis_title='Target Server',\n",
    "    yaxis_title='Average Speed (Mbps)',\n",
    "    barmode='group',\n",
    "    height=600,\n",
    "    width=1000\n",
    ")\n",
    "\n",
    "# fig2.write_html(\"../reports/viz/upload_performance/Average Upload Speed by Server Sorted Ascending.html\")\n"
   ]
  },
  {
   "cell_type": "markdown",
   "metadata": {},
   "source": [
    "####  Perfomance Upload Speed Trend Over Time (IPv4 vs IPv6 comparison)\n"
   ]
  },
  {
   "cell_type": "code",
   "execution_count": null,
   "metadata": {},
   "outputs": [],
   "source": [
    "\n",
    "plt.figure(figsize=(10, 6)) \n",
    "\n",
    "# Plot IPv4 data\n",
    "plt.plot(df_httppostmt['dtime'], df_httppostmt['mbps'], \n",
    "         label='IPv4', \n",
    "         alpha=0.5)  # opacity=0.5 in Plotly is alpha=0.5 in Matplotlib\n",
    "\n",
    "# Plot IPv6 data\n",
    "plt.plot(df_httppostmt6['dtime'], df_httppostmt6['mbps'], \n",
    "         label='IPv6', \n",
    "         alpha=0.5)\n",
    "\n",
    "# Customize the plot\n",
    "plt.title(\"Uploading Speed Comparison: IPv4 vs IPv6\", fontsize=14)\n",
    "plt.xlabel(\"Date/Time\", fontsize=12)\n",
    "plt.ylabel(\"Upload Speed (Mbps)\", fontsize=12)\n",
    "plt.legend(title=\"Protocol\")  # Add legend with a title\n",
    "plt.grid(True, linestyle='--', alpha=0.7)  # Optional: adds a grid for better readability\n",
    "\n",
    "# Rotate x-axis labels for better visibility if needed\n",
    "plt.xticks(rotation=45)\n",
    "\n",
    "# Adjust layout to prevent label cutoff\n",
    "plt.tight_layout()\n",
    "\n",
    "# Display the plot\n",
    "plt.show()\n",
    "\n",
    "# plt.savefig(\"../reports/viz/upload_performance/upload_speed_trend.png\", dpi=100, bbox_inches='tight')"
   ]
  },
  {
   "cell_type": "markdown",
   "metadata": {},
   "source": [
    "#### curr_httppostmt.csv and curr_httppostmt6.csv\n",
    "\n",
    "The datasets `curr_httppostmt.csv` and `curr_httppostmt6.csv` represent performance metrics for HTTP POST requests, focusing on upload speeds. Here's a comparison and description of these datasets:\n",
    "\n",
    "1. **Purpose**:\n",
    "        - Both datasets measure the performance of HTTP POST requests.\n",
    "        - `curr_httppostmt.csv` focuses on general HTTP POST performance, while `curr_httppostmt6.csv` specifically targets IPv6-based HTTP POST requests.\n",
    "\n",
    "### Insights:\n",
    "- The datasets are complementary and can be used together to compare IPv4 and IPv6 performance for HTTP POST requests.\n",
    "- `curr_httppostmt.csv` provides a broader view of HTTP POST performance, while `curr_httppostmt6.csv` offers a focused analysis of IPv6-specific performance.\n",
    "- By analyzing both datasets, you can identify trends, bottlenecks, and areas for optimization in HTTP POST performance across different protocols and server configurations.\n"
   ]
  },
  {
   "cell_type": "markdown",
   "metadata": {},
   "source": [
    "---"
   ]
  },
  {
   "cell_type": "markdown",
   "metadata": {},
   "source": [
    "# curr_udplatency and curr_udplatency6: Network latency"
   ]
  },
  {
   "cell_type": "code",
   "execution_count": null,
   "metadata": {},
   "outputs": [],
   "source": [
    "df_udplatency = pd.read_csv('../data/raw/curr_udplatency.csv')\n",
    "df_udplatency.head(2)"
   ]
  },
  {
   "cell_type": "code",
   "execution_count": null,
   "metadata": {},
   "outputs": [],
   "source": [
    "df_udplatency.info()"
   ]
  },
  {
   "cell_type": "code",
   "execution_count": null,
   "metadata": {},
   "outputs": [],
   "source": [
    "df_udplatency6 = pd.read_csv('../data/raw/curr_udplatency6.csv')\n",
    "df_udplatency6.head(2)"
   ]
  },
  {
   "cell_type": "code",
   "execution_count": null,
   "metadata": {},
   "outputs": [],
   "source": [
    "df_udplatency6.info()"
   ]
  },
  {
   "cell_type": "markdown",
   "metadata": {},
   "source": [
    "### Overview of UDP Latency Datasets\n",
    " \n",
    " The UDP latency datasets (`curr_udplatency.csv` and `curr_udplatency6.csv`) contain network latency measurements using UDP protocol for IPv4 and IPv6 respectively.\n",
    " \n",
    " ### Common Fields:\n",
    " 1. **Identification**:\n",
    "     - `unit_id`: Unique identifier for the testing unit\n",
    "     - `dtime`: Timestamp of the measurement\n",
    "     - `target`: Target server for latency testing\n",
    " \n",
    " 2. **Latency Metrics**:\n",
    "     - `rtt_avg`: Average round-trip time in milliseconds\n",
    "     - `rtt_min`: Minimum round-trip time observed\n",
    "     - `rtt_max`: Maximum round-trip time observed\n",
    "     - `rtt_std`: Standard deviation of round-trip times\n",
    " \n",
    " 3. **Success Metrics**:\n",
    "     - `successes`: Number of successful UDP packets\n",
    "     - `failures`: Number of failed UDP packets\n",
    " \n",
    " ### Key Differences:\n",
    " - `curr_udplatency.csv` uses IPv4 addresses (e.g., \"151.139.31.1\")\n",
    " - `curr_udplatency6.csv` uses IPv6 addresses (e.g., \"2604:6840:1300:1501::24\")\n",
    " \n",
    " ### Insights:\n",
    " - These datasets enable analysis of network latency characteristics across both IPv4 and IPv6 protocols\n",
    " - The metrics allow for detailed assessment of network performance, jitter, and reliability\n",
    " - The success/failure counts help identify connection stability issues"
   ]
  },
  {
   "cell_type": "markdown",
   "metadata": {},
   "source": [
    "----"
   ]
  },
  {
   "cell_type": "markdown",
   "metadata": {},
   "source": [
    "# curr_udpjitter: Connection stability"
   ]
  },
  {
   "cell_type": "code",
   "execution_count": null,
   "metadata": {},
   "outputs": [],
   "source": [
    "pd_udpjitter = pd.read_csv('../data/raw/curr_udpjitter.csv')"
   ]
  },
  {
   "cell_type": "code",
   "execution_count": null,
   "metadata": {},
   "outputs": [],
   "source": [
    "pd_udpjitter.head(2)"
   ]
  },
  {
   "cell_type": "code",
   "execution_count": null,
   "metadata": {},
   "outputs": [],
   "source": [
    "pd_udpjitter.info()"
   ]
  },
  {
   "cell_type": "markdown",
   "metadata": {},
   "source": [
    "The UDP jitter datasets (`curr_udpjitter.csv` and `curr_udpjitter6.csv`) measure connection stability using UDP protocol.\n",
    "\n",
    "### Key Fields:\n",
    "1. **Test Parameters**:\n",
    "   - `packet_size`: Size of UDP packets used in testing\n",
    "   - `stream_rate`: Rate of packet transmission\n",
    "   - `duration`: Total test duration\n",
    "\n",
    "2. **Packet Statistics**:\n",
    "   - `packets_up_sent/recv`: Packets sent/received upstream\n",
    "   - `packets_down_sent/recv`: Packets sent/received downstream\n",
    "\n",
    "3. **Performance Metrics**:\n",
    "    - `jitter_up`: Upstream jitter (variation in delay)\n",
    "    - `jitter_down`: Downstream jitter\n",
    "    - `latency`: Network latency measurement\n",
    "\n",
    "### Insights:\n",
    "- Jitter measurements help assess connection stability and quality\n",
    "- Packet loss rates indicate network reliability\n",
    "- Combined metrics provide comprehensive view of connection performance\n"
   ]
  },
  {
   "cell_type": "markdown",
   "metadata": {},
   "source": [
    "----"
   ]
  },
  {
   "cell_type": "markdown",
   "metadata": {},
   "source": [
    "# curr_udpcloss: Packet Loss "
   ]
  },
  {
   "cell_type": "code",
   "execution_count": null,
   "metadata": {},
   "outputs": [],
   "source": [
    "df_curr_udpcloss = pd.read_csv('../data/raw/curr_udpcloss.csv')"
   ]
  },
  {
   "cell_type": "code",
   "execution_count": null,
   "metadata": {},
   "outputs": [],
   "source": [
    "df_curr_udpcloss.head(2)"
   ]
  },
  {
   "cell_type": "code",
   "execution_count": null,
   "metadata": {},
   "outputs": [],
   "source": [
    "df_curr_udpcloss.info()"
   ]
  },
  {
   "cell_type": "markdown",
   "metadata": {
    "vscode": {
     "languageId": "yaml"
    }
   },
   "source": [
    "The dataset provides information about packet loss during network testing. Here's a breakdown of the key fields:\n",
    "\n",
    "### Key Fields:\n",
    "1. **Identification**:\n",
    "    - `unit_id`: Unique identifier for the testing unit.\n",
    "    - `dtime`: Timestamp of the measurement.\n",
    "\n",
    "2. **Test Parameters**:\n",
    "    - `duration`: Duration of the test in milliseconds.\n",
    "    - `target`: Target server for the test (e.g., `sp2-vm-newyork-us.samknows.com`).\n",
    "    - `address`: IP address of the target server (e.g., `151.139.31.8`).\n",
    "\n",
    "3. **Packet Statistics**:\n",
    "    - `packets`: Number of packets involved in the test.\n",
    "\n",
    "This dataset can be used to analyze packet loss trends, identify network reliability issues, and assess the performance of specific servers or network paths."
   ]
  },
  {
   "cell_type": "markdown",
   "metadata": {},
   "source": [
    "----"
   ]
  },
  {
   "cell_type": "markdown",
   "metadata": {},
   "source": [
    "#  curr_dns: DNS resolution performance\n",
    "\n"
   ]
  },
  {
   "cell_type": "code",
   "execution_count": null,
   "metadata": {},
   "outputs": [],
   "source": [
    "df_dns = pd.read_csv('../data/raw/curr_dns.csv')"
   ]
  },
  {
   "cell_type": "code",
   "execution_count": null,
   "metadata": {},
   "outputs": [],
   "source": [
    "df_dns.head(2)"
   ]
  },
  {
   "cell_type": "code",
   "execution_count": null,
   "metadata": {},
   "outputs": [],
   "source": [
    "df_dns.info()"
   ]
  },
  {
   "cell_type": "markdown",
   "metadata": {},
   "source": [
    "The DNS resolution dataset (`curr_dns.csv`) measures DNS lookup performance.\n",
    " \n",
    " ### Key Fields:\n",
    " 1. **DNS Query Details**:\n",
    "    - `nameserver`: DNS server used for resolution (e.g., 71.243.0.12)\n",
    "    - `lookup_host`: Domain name being resolved (e.g., www.yahoo.com, www.amazon.com)\n",
    "    - `response_ip`: IP address returned from DNS query\n",
    " \n",
    " 2. **Performance Metrics**:\n",
    "    - `rtt`: Round-trip time for DNS resolution (in milliseconds)\n",
    "    - `successes`: Number of successful DNS queries\n",
    "    - `failures`: Number of failed DNS queries\n",
    " \n",
    " ### Insights:\n",
    " - DNS resolution times around 3.7 seconds for sample queries\n",
    " - Successful resolutions with no failures observed in sample data\n",
    " - Same nameserver used across queries suggesting consistent DNS infrastructure\n"
   ]
  },
  {
   "cell_type": "markdown",
   "metadata": {},
   "source": [
    "----"
   ]
  },
  {
   "cell_type": "markdown",
   "metadata": {},
   "source": [
    "# curr_ping (Basic connectivity)"
   ]
  },
  {
   "cell_type": "code",
   "execution_count": null,
   "metadata": {},
   "outputs": [],
   "source": [
    "df_ping = pd.read_csv('../data/raw/curr_ping.csv')"
   ]
  },
  {
   "cell_type": "code",
   "execution_count": null,
   "metadata": {},
   "outputs": [],
   "source": [
    "df_ping.head()"
   ]
  },
  {
   "cell_type": "code",
   "execution_count": null,
   "metadata": {},
   "outputs": [],
   "source": [
    "df_ping.info()"
   ]
  },
  {
   "cell_type": "markdown",
   "metadata": {},
   "source": [
    "The `df_ping` dataset contains information about basic connectivity tests using the `ping` command. It provides details about round-trip times (RTT) and the success or failure of ping requests to various targets.\n",
    "\n",
    "#### Key Fields:\n",
    "1. **Identification**:\n",
    "    - `unit_id`: Unique identifier for the testing unit.\n",
    "    - `dtime`: Timestamp of the measurement.\n",
    "\n",
    "2. **Target Details**:\n",
    "    - `target`: The server or endpoint being pinged (e.g., `sp2-vm-newyork-us.samknows.com`).\n",
    "\n",
    "3. **Round-Trip Time (RTT) Metrics**:\n",
    "    - `rtt_avg`: Average round-trip time in milliseconds.\n",
    "    - `rtt_min`: Minimum round-trip time observed.\n",
    "    - `rtt_max`: Maximum round-trip time observed.\n",
    "    - `rtt_std`: Standard deviation of round-trip times, indicating variability.\n",
    "\n",
    "4. **Success and Failure Metrics**:\n",
    "    - `successes`: Number of successful ping requests.\n",
    "    - `failures`: Number of failed ping requests.\n",
    "\n",
    "#### Example Insights:\n",
    "- The dataset shows RTT metrics for various targets, allowing analysis of network latency and stability.\n",
    "- Variability in RTT can be assessed using the `rtt_std` column.\n",
    "- Success and failure counts provide insights into the reliability of the network connection."
   ]
  },
  {
   "cell_type": "markdown",
   "metadata": {},
   "source": [
    "----"
   ]
  },
  {
   "cell_type": "markdown",
   "metadata": {},
   "source": [
    "# curr_traceroute (Network path analysis)"
   ]
  },
  {
   "cell_type": "code",
   "execution_count": null,
   "metadata": {},
   "outputs": [],
   "source": [
    "df_traceroute = pd.read_csv('../data/raw/curr_traceroute.csv')"
   ]
  },
  {
   "cell_type": "code",
   "execution_count": null,
   "metadata": {},
   "outputs": [],
   "source": [
    "df_traceroute.head(2)"
   ]
  },
  {
   "cell_type": "code",
   "execution_count": null,
   "metadata": {},
   "outputs": [],
   "source": [
    "df_traceroute.info()"
   ]
  },
  {
   "cell_type": "markdown",
   "metadata": {
    "vscode": {
     "languageId": "yaml"
    }
   },
   "source": [
    "This dataset represents traceroute measurements, which analyze the network path between a source and a target server. Each row corresponds to a single hop in the traceroute process, providing details about the network path and performance metrics.\n",
    "\n",
    "### Key Fields:\n",
    "1. **Identification**:\n",
    "    - `unit_id`: Unique identifier for the testing unit.\n",
    "    - `dtime`: Timestamp of the traceroute measurement.\n",
    "\n",
    "2. **Target Details**:\n",
    "    - `target`: The server being traced (e.g., `sp1-vm-newyork-us.samknows.com`).\n",
    "    - `address`: IP address of the target server.\n",
    "\n",
    "3. **Protocol**:\n",
    "    - `protocol`: The protocol used for the traceroute (e.g., `UDP`).\n",
    "\n",
    "4. **Hop Details**:\n",
    "    - `hop`: The hop number in the traceroute path.\n",
    "    - `hop_address`: IP address of the intermediate hop (if available).\n",
    "    - `hop_name`: Hostname of the intermediate hop (if available).\n",
    "\n",
    "5. **Packet Statistics**:\n",
    "    - `sent`: Number of packets sent to the hop.\n",
    "    - `received`: Number of packets received from the hop.\n",
    "\n",
    "6. **Performance Metrics**:\n",
    "    - `rtt_avg`: Average round-trip time (RTT) to the hop (in milliseconds).\n",
    "    - `successes`: Number of successful responses from the hop.\n",
    "    - `failures`: Number of failed responses from the hop.\n",
    "\n",
    "### Insights:\n",
    "- This dataset helps analyze the network path to the target server, identifying intermediate hops and their performance.\n",
    "- Missing values in `hop_address` or `hop_name` indicate that the hop did not respond or is unreachable.\n",
    "- RTT metrics provide insights into latency at each hop, helping identify potential bottlenecks or delays in the network path."
   ]
  },
  {
   "cell_type": "markdown",
   "metadata": {},
   "source": [
    "---"
   ]
  },
  {
   "cell_type": "markdown",
   "metadata": {},
   "source": [
    "# curr_datausage (Overall data consumption)"
   ]
  },
  {
   "cell_type": "code",
   "execution_count": null,
   "metadata": {},
   "outputs": [],
   "source": [
    "df_datausage = pd.read_csv('../data/raw/curr_datausage.csv')"
   ]
  },
  {
   "cell_type": "code",
   "execution_count": null,
   "metadata": {},
   "outputs": [],
   "source": [
    "df_datausage.head(2)"
   ]
  },
  {
   "cell_type": "code",
   "execution_count": null,
   "metadata": {},
   "outputs": [],
   "source": [
    "df_datausage.info()"
   ]
  },
  {
   "cell_type": "markdown",
   "metadata": {
    "vscode": {
     "languageId": "yaml"
    }
   },
   "source": [
    "The dataset represents data usage metrics, capturing information about transmitted and received bytes over different network interfaces. Here's a description of the key fields:\n",
    "\n",
    "### Key Fields:\n",
    " - `unit_id` : Unique identifier for the testing unit.\n",
    "\n",
    " - `dtime`: Timestamp of the measurement.\n",
    "\n",
    " - `sk_tx_bytes`: Bytes transmitted by the SamKnows device.\n",
    "\n",
    " - `sk_rx_bytes`: Bytes received by the SamKnows device.\n",
    "\n",
    " - `cust_wired_tx_bytes`: Bytes transmitted over the customer's wired network.\n",
    "\n",
    " - `cust_wired_rx_bytes`: Bytes received over the customer's wired network.\n",
    "\n",
    " - `cust_wifi_tx_bytes`: Bytes transmitted over the customer's Wi-Fi network.\n",
    " \n",
    " - `cust_wifi_rx_bytes`: Bytes received over the customer's Wi-Fi network.\n",
    "\n",
    "### Insights:\n",
    "- The dataset provides a breakdown of data usage across wired and wireless networks.\n",
    "- It can be used to analyze network traffic patterns, identify usage trends, and compare wired vs. Wi-Fi data consumption."
   ]
  }
 ],
 "metadata": {
  "kernelspec": {
   "display_name": "deepseek-mac",
   "language": "python",
   "name": "python3"
  },
  "language_info": {
   "codemirror_mode": {
    "name": "ipython",
    "version": 3
   },
   "file_extension": ".py",
   "mimetype": "text/x-python",
   "name": "python",
   "nbconvert_exporter": "python",
   "pygments_lexer": "ipython3",
   "version": "3.10.16"
  }
 },
 "nbformat": 4,
 "nbformat_minor": 2
}
