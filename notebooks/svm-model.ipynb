{
 "cells": [
  {
   "cell_type": "code",
   "execution_count": 1,
   "id": "1166b6ef",
   "metadata": {
    "_cell_guid": "b1076dfc-b9ad-4769-8c92-a6c4dae69d19",
    "_uuid": "8f2839f25d086af736a60e9eeb907d3b93b6e0e5",
    "execution": {
     "iopub.execute_input": "2025-04-10T00:38:03.479435Z",
     "iopub.status.busy": "2025-04-10T00:38:03.479124Z",
     "iopub.status.idle": "2025-04-10T00:38:05.768678Z",
     "shell.execute_reply": "2025-04-10T00:38:05.767468Z"
    },
    "papermill": {
     "duration": 2.298244,
     "end_time": "2025-04-10T00:38:05.770330",
     "exception": false,
     "start_time": "2025-04-10T00:38:03.472086",
     "status": "completed"
    },
    "tags": []
   },
   "outputs": [
    {
     "name": "stdout",
     "output_type": "stream",
     "text": [
      "/kaggle/input/model-data/curr_lct_dl.csv\n"
     ]
    }
   ],
   "source": [
    "# This Python 3 environment comes with many helpful analytics libraries installed\n",
    "# It is defined by the kaggle/python Docker image: https://github.com/kaggle/docker-python\n",
    "# For example, here's several helpful packages to load\n",
    "\n",
    "import numpy as np # linear algebra\n",
    "import pandas as pd # data processing, CSV file I/O (e.g. pd.read_csv)\n",
    "\n",
    "# Input data files are available in the read-only \"../input/\" directory\n",
    "# For example, running this (by clicking run or pressing Shift+Enter) will list all files under the input directory\n",
    "\n",
    "import os\n",
    "for dirname, _, filenames in os.walk('/kaggle/input'):\n",
    "    for filename in filenames:\n",
    "        print(os.path.join(dirname, filename))\n",
    "\n",
    "# You can write up to 20GB to the current directory (/kaggle/working/) that gets preserved as output when you create a version using \"Save & Run All\" \n",
    "# You can also write temporary files to /kaggle/temp/, but they won't be saved outside of the current session"
   ]
  },
  {
   "cell_type": "markdown",
   "id": "847c0cb6",
   "metadata": {
    "papermill": {
     "duration": 0.005018,
     "end_time": "2025-04-10T00:38:05.780982",
     "exception": false,
     "start_time": "2025-04-10T00:38:05.775964",
     "status": "completed"
    },
    "tags": []
   },
   "source": [
    "# 1: Initial Setup and Data Loading"
   ]
  },
  {
   "cell_type": "code",
   "execution_count": 2,
   "id": "6e37c7f1",
   "metadata": {
    "execution": {
     "iopub.execute_input": "2025-04-10T00:38:05.793140Z",
     "iopub.status.busy": "2025-04-10T00:38:05.792692Z",
     "iopub.status.idle": "2025-04-10T00:38:14.595509Z",
     "shell.execute_reply": "2025-04-10T00:38:14.594210Z"
    },
    "papermill": {
     "duration": 8.811864,
     "end_time": "2025-04-10T00:38:14.597855",
     "exception": false,
     "start_time": "2025-04-10T00:38:05.785991",
     "status": "completed"
    },
    "tags": []
   },
   "outputs": [
    {
     "name": "stdout",
     "output_type": "stream",
     "text": [
      "Initial memory usage: 119.56 MB\n",
      "Memory usage after optimization: 55.84 MB\n",
      "Reduced by 53.3%\n",
      "Initial shape: (1044769, 15)\n",
      "After removing duplicates: (1044769, 15)\n"
     ]
    }
   ],
   "source": [
    "import pandas as pd\n",
    "import numpy as np\n",
    "from sklearn.model_selection import train_test_split\n",
    "from sklearn.pipeline import Pipeline\n",
    "from sklearn.compose import ColumnTransformer\n",
    "from sklearn.preprocessing import StandardScaler, OneHotEncoder\n",
    "from sklearn.feature_selection import SelectKBest, f_classif\n",
    "from sklearn.svm import SVC\n",
    "from sklearn.ensemble import RandomForestClassifier\n",
    "from sklearn.metrics import classification_report\n",
    "from sklearn.impute import SimpleImputer\n",
    "import gc  # For memory management\n",
    "\n",
    "# Load data with reduced memory usage\n",
    "def reduce_mem_usage(df):\n",
    "    \"\"\"Iterate through dataframe columns and reduce memory usage\"\"\"\n",
    "    start_mem = df.memory_usage().sum() / 1024**2\n",
    "    print(f\"Initial memory usage: {start_mem:.2f} MB\")\n",
    "    \n",
    "    for col in df.columns:\n",
    "        col_type = df[col].dtype\n",
    "        \n",
    "        if col_type != object:\n",
    "            c_min = df[col].min()\n",
    "            c_max = df[col].max()\n",
    "            if str(col_type)[:3] == 'int':\n",
    "                if c_min > np.iinfo(np.int8).min and c_max < np.iinfo(np.int8).max:\n",
    "                    df[col] = df[col].astype(np.int8)\n",
    "                elif c_min > np.iinfo(np.int16).min and c_max < np.iinfo(np.int16).max:\n",
    "                    df[col] = df[col].astype(np.int16)\n",
    "                elif c_min > np.iinfo(np.int32).min and c_max < np.iinfo(np.int32).max:\n",
    "                    df[col] = df[col].astype(np.int32)\n",
    "                elif c_min > np.iinfo(np.int64).min and c_max < np.iinfo(np.int64).max:\n",
    "                    df[col] = df[col].astype(np.int64)\n",
    "            else:\n",
    "                if c_min > np.finfo(np.float16).min and c_max < np.finfo(np.float16).max:\n",
    "                    df[col] = df[col].astype(np.float16)\n",
    "                elif c_min > np.finfo(np.float32).min and c_max < np.finfo(np.float32).max:\n",
    "                    df[col] = df[col].astype(np.float32)\n",
    "                else:\n",
    "                    df[col] = df[col].astype(np.float64)\n",
    "        else:\n",
    "            df[col] = df[col].astype('category')\n",
    "            \n",
    "    end_mem = df.memory_usage().sum() / 1024**2\n",
    "    print(f\"Memory usage after optimization: {end_mem:.2f} MB\")\n",
    "    print(f\"Reduced by {100 * (start_mem - end_mem) / start_mem:.1f}%\")\n",
    "    return df\n",
    "\n",
    "# Load data\n",
    "df_lct_dl = pd.read_csv('/kaggle/input/model-data/curr_lct_dl.csv')\n",
    "df_lct_dl = reduce_mem_usage(df_lct_dl)\n",
    "\n",
    "# Remove duplicates\n",
    "print(f\"Initial shape: {df_lct_dl.shape}\")\n",
    "df_lct_dl.drop_duplicates(inplace=True)\n",
    "print(f\"After removing duplicates: {df_lct_dl.shape}\")"
   ]
  },
  {
   "cell_type": "code",
   "execution_count": 3,
   "id": "2fd8c009",
   "metadata": {
    "execution": {
     "iopub.execute_input": "2025-04-10T00:38:14.618402Z",
     "iopub.status.busy": "2025-04-10T00:38:14.617816Z",
     "iopub.status.idle": "2025-04-10T00:38:17.195650Z",
     "shell.execute_reply": "2025-04-10T00:38:17.194621Z"
    },
    "papermill": {
     "duration": 2.589219,
     "end_time": "2025-04-10T00:38:17.197664",
     "exception": false,
     "start_time": "2025-04-10T00:38:14.608445",
     "status": "completed"
    },
    "tags": []
   },
   "outputs": [],
   "source": [
    "# This is the most likely correct path\n",
    "df_lct_dl = pd.read_csv('/kaggle/input/model-data/curr_lct_dl.csv')"
   ]
  },
  {
   "cell_type": "code",
   "execution_count": 4,
   "id": "cb1605e7",
   "metadata": {
    "execution": {
     "iopub.execute_input": "2025-04-10T00:38:17.210051Z",
     "iopub.status.busy": "2025-04-10T00:38:17.209686Z",
     "iopub.status.idle": "2025-04-10T00:38:17.246064Z",
     "shell.execute_reply": "2025-04-10T00:38:17.245088Z"
    },
    "papermill": {
     "duration": 0.044352,
     "end_time": "2025-04-10T00:38:17.247636",
     "exception": false,
     "start_time": "2025-04-10T00:38:17.203284",
     "status": "completed"
    },
    "tags": []
   },
   "outputs": [
    {
     "data": {
      "text/html": [
       "<div>\n",
       "<style scoped>\n",
       "    .dataframe tbody tr th:only-of-type {\n",
       "        vertical-align: middle;\n",
       "    }\n",
       "\n",
       "    .dataframe tbody tr th {\n",
       "        vertical-align: top;\n",
       "    }\n",
       "\n",
       "    .dataframe thead th {\n",
       "        text-align: right;\n",
       "    }\n",
       "</style>\n",
       "<table border=\"1\" class=\"dataframe\">\n",
       "  <thead>\n",
       "    <tr style=\"text-align: right;\">\n",
       "      <th></th>\n",
       "      <th>unit_id</th>\n",
       "      <th>dtime</th>\n",
       "      <th>target</th>\n",
       "      <th>address</th>\n",
       "      <th>packets_received</th>\n",
       "      <th>packets_sent</th>\n",
       "      <th>packet_size</th>\n",
       "      <th>bytes_total</th>\n",
       "      <th>duration</th>\n",
       "      <th>reordered_packets</th>\n",
       "      <th>bytes_sec</th>\n",
       "      <th>error_code</th>\n",
       "      <th>successes</th>\n",
       "      <th>failures</th>\n",
       "      <th>location_id</th>\n",
       "    </tr>\n",
       "  </thead>\n",
       "  <tbody>\n",
       "    <tr>\n",
       "      <th>0</th>\n",
       "      <td>386</td>\n",
       "      <td>2021-02-01 01:35:34</td>\n",
       "      <td>sp2-vm-newyork-us.samknows.com</td>\n",
       "      <td>151.139.31.8</td>\n",
       "      <td>76</td>\n",
       "      <td>100</td>\n",
       "      <td>1400</td>\n",
       "      <td>106400</td>\n",
       "      <td>5657</td>\n",
       "      <td>0</td>\n",
       "      <td>76363640</td>\n",
       "      <td>NO_ERROR</td>\n",
       "      <td>1</td>\n",
       "      <td>0</td>\n",
       "      <td>77705633</td>\n",
       "    </tr>\n",
       "    <tr>\n",
       "      <th>1</th>\n",
       "      <td>390</td>\n",
       "      <td>2021-02-01 00:51:01</td>\n",
       "      <td>sp2-vm-newyork-us.samknows.com</td>\n",
       "      <td>151.139.31.8</td>\n",
       "      <td>75</td>\n",
       "      <td>100</td>\n",
       "      <td>1400</td>\n",
       "      <td>105000</td>\n",
       "      <td>11377</td>\n",
       "      <td>5</td>\n",
       "      <td>11930649</td>\n",
       "      <td>NO_ERROR</td>\n",
       "      <td>1</td>\n",
       "      <td>0</td>\n",
       "      <td>77705625</td>\n",
       "    </tr>\n",
       "    <tr>\n",
       "      <th>2</th>\n",
       "      <td>390</td>\n",
       "      <td>2021-02-01 01:54:09</td>\n",
       "      <td>sp2-vm-newyork-us.samknows.com</td>\n",
       "      <td>151.139.31.8</td>\n",
       "      <td>74</td>\n",
       "      <td>100</td>\n",
       "      <td>1400</td>\n",
       "      <td>103600</td>\n",
       "      <td>11265</td>\n",
       "      <td>5</td>\n",
       "      <td>11930649</td>\n",
       "      <td>NO_ERROR</td>\n",
       "      <td>1</td>\n",
       "      <td>0</td>\n",
       "      <td>77705625</td>\n",
       "    </tr>\n",
       "    <tr>\n",
       "      <th>3</th>\n",
       "      <td>390</td>\n",
       "      <td>2021-02-01 02:51:03</td>\n",
       "      <td>sp2-vm-newyork-us.samknows.com</td>\n",
       "      <td>151.139.31.8</td>\n",
       "      <td>78</td>\n",
       "      <td>100</td>\n",
       "      <td>1400</td>\n",
       "      <td>109200</td>\n",
       "      <td>11718</td>\n",
       "      <td>5</td>\n",
       "      <td>11927145</td>\n",
       "      <td>NO_ERROR</td>\n",
       "      <td>1</td>\n",
       "      <td>0</td>\n",
       "      <td>77705625</td>\n",
       "    </tr>\n",
       "    <tr>\n",
       "      <th>4</th>\n",
       "      <td>390</td>\n",
       "      <td>2021-02-01 03:53:56</td>\n",
       "      <td>sp2-vm-newyork-us.samknows.com</td>\n",
       "      <td>151.139.31.8</td>\n",
       "      <td>77</td>\n",
       "      <td>100</td>\n",
       "      <td>1400</td>\n",
       "      <td>107800</td>\n",
       "      <td>11958</td>\n",
       "      <td>2</td>\n",
       "      <td>11934156</td>\n",
       "      <td>NO_ERROR</td>\n",
       "      <td>1</td>\n",
       "      <td>0</td>\n",
       "      <td>77705625</td>\n",
       "    </tr>\n",
       "    <tr>\n",
       "      <th>...</th>\n",
       "      <td>...</td>\n",
       "      <td>...</td>\n",
       "      <td>...</td>\n",
       "      <td>...</td>\n",
       "      <td>...</td>\n",
       "      <td>...</td>\n",
       "      <td>...</td>\n",
       "      <td>...</td>\n",
       "      <td>...</td>\n",
       "      <td>...</td>\n",
       "      <td>...</td>\n",
       "      <td>...</td>\n",
       "      <td>...</td>\n",
       "      <td>...</td>\n",
       "      <td>...</td>\n",
       "    </tr>\n",
       "    <tr>\n",
       "      <th>1044764</th>\n",
       "      <td>47507813</td>\n",
       "      <td>2021-02-28 02:52:16</td>\n",
       "      <td>samknows1.chi2.level3.net</td>\n",
       "      <td>4.30.14.254</td>\n",
       "      <td>20</td>\n",
       "      <td>20</td>\n",
       "      <td>1400</td>\n",
       "      <td>28000</td>\n",
       "      <td>1339</td>\n",
       "      <td>0</td>\n",
       "      <td>20911128</td>\n",
       "      <td>NO_ERROR</td>\n",
       "      <td>1</td>\n",
       "      <td>0</td>\n",
       "      <td>92300853</td>\n",
       "    </tr>\n",
       "    <tr>\n",
       "      <th>1044765</th>\n",
       "      <td>47507813</td>\n",
       "      <td>2021-02-28 03:52:16</td>\n",
       "      <td>samknows1.chi2.level3.net</td>\n",
       "      <td>4.30.14.254</td>\n",
       "      <td>20</td>\n",
       "      <td>20</td>\n",
       "      <td>1400</td>\n",
       "      <td>28000</td>\n",
       "      <td>730</td>\n",
       "      <td>0</td>\n",
       "      <td>38356164</td>\n",
       "      <td>NO_ERROR</td>\n",
       "      <td>1</td>\n",
       "      <td>0</td>\n",
       "      <td>92300853</td>\n",
       "    </tr>\n",
       "    <tr>\n",
       "      <th>1044766</th>\n",
       "      <td>47507813</td>\n",
       "      <td>2021-02-28 04:56:04</td>\n",
       "      <td>samknows1.chi2.level3.net</td>\n",
       "      <td>4.30.14.254</td>\n",
       "      <td>20</td>\n",
       "      <td>20</td>\n",
       "      <td>1400</td>\n",
       "      <td>28000</td>\n",
       "      <td>736</td>\n",
       "      <td>0</td>\n",
       "      <td>38043480</td>\n",
       "      <td>NO_ERROR</td>\n",
       "      <td>1</td>\n",
       "      <td>0</td>\n",
       "      <td>92300853</td>\n",
       "    </tr>\n",
       "    <tr>\n",
       "      <th>1044767</th>\n",
       "      <td>47507813</td>\n",
       "      <td>2021-02-28 05:52:19</td>\n",
       "      <td>samknows1.chi2.level3.net</td>\n",
       "      <td>4.30.14.254</td>\n",
       "      <td>20</td>\n",
       "      <td>20</td>\n",
       "      <td>1400</td>\n",
       "      <td>28000</td>\n",
       "      <td>768</td>\n",
       "      <td>0</td>\n",
       "      <td>36458332</td>\n",
       "      <td>NO_ERROR</td>\n",
       "      <td>1</td>\n",
       "      <td>0</td>\n",
       "      <td>92300853</td>\n",
       "    </tr>\n",
       "    <tr>\n",
       "      <th>1044768</th>\n",
       "      <td>47507813</td>\n",
       "      <td>2021-02-28 08:51:09</td>\n",
       "      <td>samknows1.chi2.level3.net</td>\n",
       "      <td>4.30.14.254</td>\n",
       "      <td>20</td>\n",
       "      <td>20</td>\n",
       "      <td>1400</td>\n",
       "      <td>28000</td>\n",
       "      <td>727</td>\n",
       "      <td>0</td>\n",
       "      <td>38514444</td>\n",
       "      <td>NO_ERROR</td>\n",
       "      <td>1</td>\n",
       "      <td>0</td>\n",
       "      <td>92300853</td>\n",
       "    </tr>\n",
       "  </tbody>\n",
       "</table>\n",
       "<p>1044769 rows × 15 columns</p>\n",
       "</div>"
      ],
      "text/plain": [
       "          unit_id                dtime                          target  \\\n",
       "0             386  2021-02-01 01:35:34  sp2-vm-newyork-us.samknows.com   \n",
       "1             390  2021-02-01 00:51:01  sp2-vm-newyork-us.samknows.com   \n",
       "2             390  2021-02-01 01:54:09  sp2-vm-newyork-us.samknows.com   \n",
       "3             390  2021-02-01 02:51:03  sp2-vm-newyork-us.samknows.com   \n",
       "4             390  2021-02-01 03:53:56  sp2-vm-newyork-us.samknows.com   \n",
       "...           ...                  ...                             ...   \n",
       "1044764  47507813  2021-02-28 02:52:16       samknows1.chi2.level3.net   \n",
       "1044765  47507813  2021-02-28 03:52:16       samknows1.chi2.level3.net   \n",
       "1044766  47507813  2021-02-28 04:56:04       samknows1.chi2.level3.net   \n",
       "1044767  47507813  2021-02-28 05:52:19       samknows1.chi2.level3.net   \n",
       "1044768  47507813  2021-02-28 08:51:09       samknows1.chi2.level3.net   \n",
       "\n",
       "              address  packets_received  packets_sent  packet_size  \\\n",
       "0        151.139.31.8                76           100         1400   \n",
       "1        151.139.31.8                75           100         1400   \n",
       "2        151.139.31.8                74           100         1400   \n",
       "3        151.139.31.8                78           100         1400   \n",
       "4        151.139.31.8                77           100         1400   \n",
       "...               ...               ...           ...          ...   \n",
       "1044764   4.30.14.254                20            20         1400   \n",
       "1044765   4.30.14.254                20            20         1400   \n",
       "1044766   4.30.14.254                20            20         1400   \n",
       "1044767   4.30.14.254                20            20         1400   \n",
       "1044768   4.30.14.254                20            20         1400   \n",
       "\n",
       "         bytes_total  duration  reordered_packets  bytes_sec error_code  \\\n",
       "0             106400      5657                  0   76363640   NO_ERROR   \n",
       "1             105000     11377                  5   11930649   NO_ERROR   \n",
       "2             103600     11265                  5   11930649   NO_ERROR   \n",
       "3             109200     11718                  5   11927145   NO_ERROR   \n",
       "4             107800     11958                  2   11934156   NO_ERROR   \n",
       "...              ...       ...                ...        ...        ...   \n",
       "1044764        28000      1339                  0   20911128   NO_ERROR   \n",
       "1044765        28000       730                  0   38356164   NO_ERROR   \n",
       "1044766        28000       736                  0   38043480   NO_ERROR   \n",
       "1044767        28000       768                  0   36458332   NO_ERROR   \n",
       "1044768        28000       727                  0   38514444   NO_ERROR   \n",
       "\n",
       "         successes  failures  location_id  \n",
       "0                1         0     77705633  \n",
       "1                1         0     77705625  \n",
       "2                1         0     77705625  \n",
       "3                1         0     77705625  \n",
       "4                1         0     77705625  \n",
       "...            ...       ...          ...  \n",
       "1044764          1         0     92300853  \n",
       "1044765          1         0     92300853  \n",
       "1044766          1         0     92300853  \n",
       "1044767          1         0     92300853  \n",
       "1044768          1         0     92300853  \n",
       "\n",
       "[1044769 rows x 15 columns]"
      ]
     },
     "execution_count": 4,
     "metadata": {},
     "output_type": "execute_result"
    }
   ],
   "source": [
    "df_lct_dl"
   ]
  },
  {
   "cell_type": "code",
   "execution_count": 5,
   "id": "d6a87537",
   "metadata": {
    "execution": {
     "iopub.execute_input": "2025-04-10T00:38:17.260620Z",
     "iopub.status.busy": "2025-04-10T00:38:17.260284Z",
     "iopub.status.idle": "2025-04-10T00:38:17.503815Z",
     "shell.execute_reply": "2025-04-10T00:38:17.502657Z"
    },
    "papermill": {
     "duration": 0.25189,
     "end_time": "2025-04-10T00:38:17.505426",
     "exception": false,
     "start_time": "2025-04-10T00:38:17.253536",
     "status": "completed"
    },
    "tags": []
   },
   "outputs": [
    {
     "name": "stdout",
     "output_type": "stream",
     "text": [
      "<class 'pandas.core.frame.DataFrame'>\n",
      "RangeIndex: 1044769 entries, 0 to 1044768\n",
      "Data columns (total 15 columns):\n",
      " #   Column             Non-Null Count    Dtype \n",
      "---  ------             --------------    ----- \n",
      " 0   unit_id            1044769 non-null  int64 \n",
      " 1   dtime              1044769 non-null  object\n",
      " 2   target             1044769 non-null  object\n",
      " 3   address            1044769 non-null  object\n",
      " 4   packets_received   1044769 non-null  int64 \n",
      " 5   packets_sent       1044769 non-null  int64 \n",
      " 6   packet_size        1044769 non-null  int64 \n",
      " 7   bytes_total        1044769 non-null  int64 \n",
      " 8   duration           1044769 non-null  int64 \n",
      " 9   reordered_packets  1044769 non-null  int64 \n",
      " 10  bytes_sec          1044769 non-null  int64 \n",
      " 11  error_code         1044769 non-null  object\n",
      " 12  successes          1044769 non-null  int64 \n",
      " 13  failures           1044769 non-null  int64 \n",
      " 14  location_id        1044769 non-null  int64 \n",
      "dtypes: int64(11), object(4)\n",
      "memory usage: 119.6+ MB\n"
     ]
    }
   ],
   "source": [
    "df_lct_dl.info()"
   ]
  },
  {
   "cell_type": "code",
   "execution_count": 6,
   "id": "1dc91a1c",
   "metadata": {
    "execution": {
     "iopub.execute_input": "2025-04-10T00:38:17.518273Z",
     "iopub.status.busy": "2025-04-10T00:38:17.517895Z",
     "iopub.status.idle": "2025-04-10T00:38:17.572622Z",
     "shell.execute_reply": "2025-04-10T00:38:17.571608Z"
    },
    "papermill": {
     "duration": 0.062952,
     "end_time": "2025-04-10T00:38:17.574302",
     "exception": false,
     "start_time": "2025-04-10T00:38:17.511350",
     "status": "completed"
    },
    "tags": []
   },
   "outputs": [
    {
     "data": {
      "text/plain": [
       "array(['NO_ERROR', 'TCP_CONNECT', 'ZERO_SENT_SERVER', 'TCP_RECV',\n",
       "       'RCV_FAILED'], dtype=object)"
      ]
     },
     "execution_count": 6,
     "metadata": {},
     "output_type": "execute_result"
    }
   ],
   "source": [
    "df_lct_dl['error_code'].unique()"
   ]
  },
  {
   "cell_type": "code",
   "execution_count": 7,
   "id": "8d113a01",
   "metadata": {
    "execution": {
     "iopub.execute_input": "2025-04-10T00:38:17.588706Z",
     "iopub.status.busy": "2025-04-10T00:38:17.588361Z",
     "iopub.status.idle": "2025-04-10T00:38:17.671106Z",
     "shell.execute_reply": "2025-04-10T00:38:17.669859Z"
    },
    "papermill": {
     "duration": 0.091879,
     "end_time": "2025-04-10T00:38:17.672755",
     "exception": false,
     "start_time": "2025-04-10T00:38:17.580876",
     "status": "completed"
    },
    "tags": []
   },
   "outputs": [
    {
     "name": "stdout",
     "output_type": "stream",
     "text": [
      "error_code\n",
      "NO_ERROR            1000104\n",
      "TCP_CONNECT           40170\n",
      "ZERO_SENT_SERVER       2970\n",
      "RCV_FAILED              856\n",
      "TCP_RECV                669\n",
      "Name: count, dtype: int64\n"
     ]
    }
   ],
   "source": [
    "error_code_distribution = df_lct_dl['error_code'].value_counts()\n",
    "print(error_code_distribution)"
   ]
  },
  {
   "cell_type": "code",
   "execution_count": 8,
   "id": "3e3284f1",
   "metadata": {
    "execution": {
     "iopub.execute_input": "2025-04-10T00:38:17.686876Z",
     "iopub.status.busy": "2025-04-10T00:38:17.686540Z",
     "iopub.status.idle": "2025-04-10T00:38:18.010889Z",
     "shell.execute_reply": "2025-04-10T00:38:18.009990Z"
    },
    "papermill": {
     "duration": 0.333383,
     "end_time": "2025-04-10T00:38:18.012575",
     "exception": false,
     "start_time": "2025-04-10T00:38:17.679192",
     "status": "completed"
    },
    "tags": []
   },
   "outputs": [
    {
     "data": {
      "text/html": [
       "<div>\n",
       "<style scoped>\n",
       "    .dataframe tbody tr th:only-of-type {\n",
       "        vertical-align: middle;\n",
       "    }\n",
       "\n",
       "    .dataframe tbody tr th {\n",
       "        vertical-align: top;\n",
       "    }\n",
       "\n",
       "    .dataframe thead th {\n",
       "        text-align: right;\n",
       "    }\n",
       "</style>\n",
       "<table border=\"1\" class=\"dataframe\">\n",
       "  <thead>\n",
       "    <tr style=\"text-align: right;\">\n",
       "      <th></th>\n",
       "      <th>unit_id</th>\n",
       "      <th>packets_received</th>\n",
       "      <th>packets_sent</th>\n",
       "      <th>packet_size</th>\n",
       "      <th>bytes_total</th>\n",
       "      <th>duration</th>\n",
       "      <th>reordered_packets</th>\n",
       "      <th>bytes_sec</th>\n",
       "      <th>successes</th>\n",
       "      <th>failures</th>\n",
       "      <th>location_id</th>\n",
       "    </tr>\n",
       "  </thead>\n",
       "  <tbody>\n",
       "    <tr>\n",
       "      <th>count</th>\n",
       "      <td>1.044769e+06</td>\n",
       "      <td>1.044769e+06</td>\n",
       "      <td>1.044769e+06</td>\n",
       "      <td>1044769.0</td>\n",
       "      <td>1.044769e+06</td>\n",
       "      <td>1.044769e+06</td>\n",
       "      <td>1.044769e+06</td>\n",
       "      <td>1.044769e+06</td>\n",
       "      <td>1.044769e+06</td>\n",
       "      <td>1.044769e+06</td>\n",
       "      <td>1.044769e+06</td>\n",
       "    </tr>\n",
       "    <tr>\n",
       "      <th>mean</th>\n",
       "      <td>1.377027e+07</td>\n",
       "      <td>7.533986e+01</td>\n",
       "      <td>8.802459e+01</td>\n",
       "      <td>1400.0</td>\n",
       "      <td>1.054758e+05</td>\n",
       "      <td>4.214761e+04</td>\n",
       "      <td>4.881309e+00</td>\n",
       "      <td>2.152854e+07</td>\n",
       "      <td>9.572489e-01</td>\n",
       "      <td>4.275108e-02</td>\n",
       "      <td>7.966725e+07</td>\n",
       "    </tr>\n",
       "    <tr>\n",
       "      <th>std</th>\n",
       "      <td>1.610693e+07</td>\n",
       "      <td>3.195683e+01</td>\n",
       "      <td>3.000209e+01</td>\n",
       "      <td>0.0</td>\n",
       "      <td>4.473956e+04</td>\n",
       "      <td>1.279110e+05</td>\n",
       "      <td>1.184718e+01</td>\n",
       "      <td>2.913163e+07</td>\n",
       "      <td>2.022955e-01</td>\n",
       "      <td>2.022955e-01</td>\n",
       "      <td>5.944291e+06</td>\n",
       "    </tr>\n",
       "    <tr>\n",
       "      <th>min</th>\n",
       "      <td>8.000000e+00</td>\n",
       "      <td>0.000000e+00</td>\n",
       "      <td>0.000000e+00</td>\n",
       "      <td>1400.0</td>\n",
       "      <td>0.000000e+00</td>\n",
       "      <td>0.000000e+00</td>\n",
       "      <td>0.000000e+00</td>\n",
       "      <td>0.000000e+00</td>\n",
       "      <td>0.000000e+00</td>\n",
       "      <td>0.000000e+00</td>\n",
       "      <td>3.579800e+06</td>\n",
       "    </tr>\n",
       "    <tr>\n",
       "      <th>25%</th>\n",
       "      <td>6.267780e+05</td>\n",
       "      <td>5.400000e+01</td>\n",
       "      <td>1.000000e+02</td>\n",
       "      <td>1400.0</td>\n",
       "      <td>7.560000e+04</td>\n",
       "      <td>5.536000e+03</td>\n",
       "      <td>0.000000e+00</td>\n",
       "      <td>2.267082e+06</td>\n",
       "      <td>1.000000e+00</td>\n",
       "      <td>0.000000e+00</td>\n",
       "      <td>7.693548e+07</td>\n",
       "    </tr>\n",
       "    <tr>\n",
       "      <th>50%</th>\n",
       "      <td>3.693393e+06</td>\n",
       "      <td>9.600000e+01</td>\n",
       "      <td>1.000000e+02</td>\n",
       "      <td>1400.0</td>\n",
       "      <td>1.344000e+05</td>\n",
       "      <td>1.114100e+04</td>\n",
       "      <td>0.000000e+00</td>\n",
       "      <td>1.141710e+07</td>\n",
       "      <td>1.000000e+00</td>\n",
       "      <td>0.000000e+00</td>\n",
       "      <td>7.765884e+07</td>\n",
       "    </tr>\n",
       "    <tr>\n",
       "      <th>75%</th>\n",
       "      <td>2.622610e+07</td>\n",
       "      <td>1.000000e+02</td>\n",
       "      <td>1.000000e+02</td>\n",
       "      <td>1400.0</td>\n",
       "      <td>1.400000e+05</td>\n",
       "      <td>2.806700e+04</td>\n",
       "      <td>3.000000e+00</td>\n",
       "      <td>2.638077e+07</td>\n",
       "      <td>1.000000e+00</td>\n",
       "      <td>0.000000e+00</td>\n",
       "      <td>8.223381e+07</td>\n",
       "    </tr>\n",
       "    <tr>\n",
       "      <th>max</th>\n",
       "      <td>4.750781e+07</td>\n",
       "      <td>1.000000e+02</td>\n",
       "      <td>1.000000e+02</td>\n",
       "      <td>1400.0</td>\n",
       "      <td>1.400000e+05</td>\n",
       "      <td>3.004136e+06</td>\n",
       "      <td>9.900000e+01</td>\n",
       "      <td>3.472369e+08</td>\n",
       "      <td>1.000000e+00</td>\n",
       "      <td>1.000000e+00</td>\n",
       "      <td>9.523281e+07</td>\n",
       "    </tr>\n",
       "  </tbody>\n",
       "</table>\n",
       "</div>"
      ],
      "text/plain": [
       "            unit_id  packets_received  packets_sent  packet_size  \\\n",
       "count  1.044769e+06      1.044769e+06  1.044769e+06    1044769.0   \n",
       "mean   1.377027e+07      7.533986e+01  8.802459e+01       1400.0   \n",
       "std    1.610693e+07      3.195683e+01  3.000209e+01          0.0   \n",
       "min    8.000000e+00      0.000000e+00  0.000000e+00       1400.0   \n",
       "25%    6.267780e+05      5.400000e+01  1.000000e+02       1400.0   \n",
       "50%    3.693393e+06      9.600000e+01  1.000000e+02       1400.0   \n",
       "75%    2.622610e+07      1.000000e+02  1.000000e+02       1400.0   \n",
       "max    4.750781e+07      1.000000e+02  1.000000e+02       1400.0   \n",
       "\n",
       "        bytes_total      duration  reordered_packets     bytes_sec  \\\n",
       "count  1.044769e+06  1.044769e+06       1.044769e+06  1.044769e+06   \n",
       "mean   1.054758e+05  4.214761e+04       4.881309e+00  2.152854e+07   \n",
       "std    4.473956e+04  1.279110e+05       1.184718e+01  2.913163e+07   \n",
       "min    0.000000e+00  0.000000e+00       0.000000e+00  0.000000e+00   \n",
       "25%    7.560000e+04  5.536000e+03       0.000000e+00  2.267082e+06   \n",
       "50%    1.344000e+05  1.114100e+04       0.000000e+00  1.141710e+07   \n",
       "75%    1.400000e+05  2.806700e+04       3.000000e+00  2.638077e+07   \n",
       "max    1.400000e+05  3.004136e+06       9.900000e+01  3.472369e+08   \n",
       "\n",
       "          successes      failures   location_id  \n",
       "count  1.044769e+06  1.044769e+06  1.044769e+06  \n",
       "mean   9.572489e-01  4.275108e-02  7.966725e+07  \n",
       "std    2.022955e-01  2.022955e-01  5.944291e+06  \n",
       "min    0.000000e+00  0.000000e+00  3.579800e+06  \n",
       "25%    1.000000e+00  0.000000e+00  7.693548e+07  \n",
       "50%    1.000000e+00  0.000000e+00  7.765884e+07  \n",
       "75%    1.000000e+00  0.000000e+00  8.223381e+07  \n",
       "max    1.000000e+00  1.000000e+00  9.523281e+07  "
      ]
     },
     "execution_count": 8,
     "metadata": {},
     "output_type": "execute_result"
    }
   ],
   "source": [
    "df_lct_dl.describe()"
   ]
  },
  {
   "cell_type": "code",
   "execution_count": 9,
   "id": "aceda802",
   "metadata": {
    "execution": {
     "iopub.execute_input": "2025-04-10T00:38:18.026380Z",
     "iopub.status.busy": "2025-04-10T00:38:18.026037Z",
     "iopub.status.idle": "2025-04-10T00:38:18.158696Z",
     "shell.execute_reply": "2025-04-10T00:38:18.157555Z"
    },
    "papermill": {
     "duration": 0.141533,
     "end_time": "2025-04-10T00:38:18.160402",
     "exception": false,
     "start_time": "2025-04-10T00:38:18.018869",
     "status": "completed"
    },
    "tags": []
   },
   "outputs": [
    {
     "data": {
      "text/html": [
       "<div>\n",
       "<style scoped>\n",
       "    .dataframe tbody tr th:only-of-type {\n",
       "        vertical-align: middle;\n",
       "    }\n",
       "\n",
       "    .dataframe tbody tr th {\n",
       "        vertical-align: top;\n",
       "    }\n",
       "\n",
       "    .dataframe thead th {\n",
       "        text-align: right;\n",
       "    }\n",
       "</style>\n",
       "<table border=\"1\" class=\"dataframe\">\n",
       "  <thead>\n",
       "    <tr style=\"text-align: right;\">\n",
       "      <th></th>\n",
       "      <th>bytes_sec</th>\n",
       "      <th>duration</th>\n",
       "      <th>packets_received</th>\n",
       "      <th>packets_sent</th>\n",
       "    </tr>\n",
       "  </thead>\n",
       "  <tbody>\n",
       "    <tr>\n",
       "      <th>count</th>\n",
       "      <td>1.044769e+06</td>\n",
       "      <td>1.044769e+06</td>\n",
       "      <td>1.044769e+06</td>\n",
       "      <td>1.044769e+06</td>\n",
       "    </tr>\n",
       "    <tr>\n",
       "      <th>mean</th>\n",
       "      <td>2.152854e+07</td>\n",
       "      <td>4.214761e+04</td>\n",
       "      <td>7.533986e+01</td>\n",
       "      <td>8.802459e+01</td>\n",
       "    </tr>\n",
       "    <tr>\n",
       "      <th>std</th>\n",
       "      <td>2.913163e+07</td>\n",
       "      <td>1.279110e+05</td>\n",
       "      <td>3.195683e+01</td>\n",
       "      <td>3.000209e+01</td>\n",
       "    </tr>\n",
       "    <tr>\n",
       "      <th>min</th>\n",
       "      <td>0.000000e+00</td>\n",
       "      <td>0.000000e+00</td>\n",
       "      <td>0.000000e+00</td>\n",
       "      <td>0.000000e+00</td>\n",
       "    </tr>\n",
       "    <tr>\n",
       "      <th>25%</th>\n",
       "      <td>2.267082e+06</td>\n",
       "      <td>5.536000e+03</td>\n",
       "      <td>5.400000e+01</td>\n",
       "      <td>1.000000e+02</td>\n",
       "    </tr>\n",
       "    <tr>\n",
       "      <th>50%</th>\n",
       "      <td>1.141710e+07</td>\n",
       "      <td>1.114100e+04</td>\n",
       "      <td>9.600000e+01</td>\n",
       "      <td>1.000000e+02</td>\n",
       "    </tr>\n",
       "    <tr>\n",
       "      <th>75%</th>\n",
       "      <td>2.638077e+07</td>\n",
       "      <td>2.806700e+04</td>\n",
       "      <td>1.000000e+02</td>\n",
       "      <td>1.000000e+02</td>\n",
       "    </tr>\n",
       "    <tr>\n",
       "      <th>max</th>\n",
       "      <td>3.472369e+08</td>\n",
       "      <td>3.004136e+06</td>\n",
       "      <td>1.000000e+02</td>\n",
       "      <td>1.000000e+02</td>\n",
       "    </tr>\n",
       "  </tbody>\n",
       "</table>\n",
       "</div>"
      ],
      "text/plain": [
       "          bytes_sec      duration  packets_received  packets_sent\n",
       "count  1.044769e+06  1.044769e+06      1.044769e+06  1.044769e+06\n",
       "mean   2.152854e+07  4.214761e+04      7.533986e+01  8.802459e+01\n",
       "std    2.913163e+07  1.279110e+05      3.195683e+01  3.000209e+01\n",
       "min    0.000000e+00  0.000000e+00      0.000000e+00  0.000000e+00\n",
       "25%    2.267082e+06  5.536000e+03      5.400000e+01  1.000000e+02\n",
       "50%    1.141710e+07  1.114100e+04      9.600000e+01  1.000000e+02\n",
       "75%    2.638077e+07  2.806700e+04      1.000000e+02  1.000000e+02\n",
       "max    3.472369e+08  3.004136e+06      1.000000e+02  1.000000e+02"
      ]
     },
     "execution_count": 9,
     "metadata": {},
     "output_type": "execute_result"
    }
   ],
   "source": [
    "df_lct_dl[['bytes_sec', 'duration', 'packets_received', 'packets_sent']].describe()"
   ]
  },
  {
   "cell_type": "code",
   "execution_count": 10,
   "id": "c54e9e27",
   "metadata": {
    "execution": {
     "iopub.execute_input": "2025-04-10T00:38:18.177968Z",
     "iopub.status.busy": "2025-04-10T00:38:18.177596Z",
     "iopub.status.idle": "2025-04-10T00:38:18.981586Z",
     "shell.execute_reply": "2025-04-10T00:38:18.980741Z"
    },
    "papermill": {
     "duration": 0.815148,
     "end_time": "2025-04-10T00:38:18.983006",
     "exception": false,
     "start_time": "2025-04-10T00:38:18.167858",
     "status": "completed"
    },
    "tags": []
   },
   "outputs": [
    {
     "data": {
      "text/plain": [
       "False    1044769\n",
       "Name: count, dtype: int64"
      ]
     },
     "execution_count": 10,
     "metadata": {},
     "output_type": "execute_result"
    }
   ],
   "source": [
    "df_lct_dl.duplicated().value_counts()"
   ]
  },
  {
   "cell_type": "code",
   "execution_count": 11,
   "id": "bad81758",
   "metadata": {
    "execution": {
     "iopub.execute_input": "2025-04-10T00:38:18.997237Z",
     "iopub.status.busy": "2025-04-10T00:38:18.996863Z",
     "iopub.status.idle": "2025-04-10T00:38:19.229039Z",
     "shell.execute_reply": "2025-04-10T00:38:19.227969Z"
    },
    "papermill": {
     "duration": 0.241093,
     "end_time": "2025-04-10T00:38:19.230574",
     "exception": false,
     "start_time": "2025-04-10T00:38:18.989481",
     "status": "completed"
    },
    "tags": []
   },
   "outputs": [
    {
     "data": {
      "text/plain": [
       "unit_id              0\n",
       "dtime                0\n",
       "target               0\n",
       "address              0\n",
       "packets_received     0\n",
       "packets_sent         0\n",
       "packet_size          0\n",
       "bytes_total          0\n",
       "duration             0\n",
       "reordered_packets    0\n",
       "bytes_sec            0\n",
       "error_code           0\n",
       "successes            0\n",
       "failures             0\n",
       "location_id          0\n",
       "dtype: int64"
      ]
     },
     "execution_count": 11,
     "metadata": {},
     "output_type": "execute_result"
    }
   ],
   "source": [
    "df_lct_dl.isnull().sum()"
   ]
  },
  {
   "cell_type": "markdown",
   "id": "12b81378",
   "metadata": {
    "papermill": {
     "duration": 0.00605,
     "end_time": "2025-04-10T00:38:19.243085",
     "exception": false,
     "start_time": "2025-04-10T00:38:19.237035",
     "status": "completed"
    },
    "tags": []
   },
   "source": [
    "## Error Code Distribution\n",
    "\n",
    "- **NO_ERROR**: 866,807 (99.7%)\n",
    "\n",
    "- **TCP_CONNECT**: 2,336 (0.27%)\n",
    "\n",
    "- **ZERO_SENT_SERVER**: 382 (0.04%)\n",
    "\n",
    "- **RCV_FAILED**: 175 (0.02%)\n",
    "\n",
    "- **TCP_RECV**: 1 (extremely rare)\n",
    "\n",
    "## Data Characteristics\n",
    "\n",
    "- **Missing Values**: None\n",
    "\n",
    "- **Duplicate Rows**: 246 (can be removed)\n",
    "\n",
    "- **Class Imbalance**: Extremely imbalanced classes (NO_ERROR dominates)\n",
    "\n",
    "## Numerical Features\n",
    "\n",
    "- **Variation**: Numerical features exhibit good variation.\n",
    "\n",
    "- **Predictive Potential**: `bytes_sec` shows high variability and could be highly predictive."
   ]
  },
  {
   "cell_type": "markdown",
   "id": "7b2d774b",
   "metadata": {
    "papermill": {
     "duration": 0.006576,
     "end_time": "2025-04-10T00:38:19.256305",
     "exception": false,
     "start_time": "2025-04-10T00:38:19.249729",
     "status": "completed"
    },
    "tags": []
   },
   "source": [
    "# 2: Feature Engineering and Preprocessing"
   ]
  },
  {
   "cell_type": "code",
   "execution_count": 12,
   "id": "159a5645",
   "metadata": {
    "execution": {
     "iopub.execute_input": "2025-04-10T00:38:19.270100Z",
     "iopub.status.busy": "2025-04-10T00:38:19.269759Z",
     "iopub.status.idle": "2025-04-10T00:38:20.967822Z",
     "shell.execute_reply": "2025-04-10T00:38:20.966636Z"
    },
    "papermill": {
     "duration": 1.70678,
     "end_time": "2025-04-10T00:38:20.969288",
     "exception": false,
     "start_time": "2025-04-10T00:38:19.262508",
     "status": "completed"
    },
    "tags": []
   },
   "outputs": [
    {
     "name": "stdout",
     "output_type": "stream",
     "text": [
      "Categorical columns: ['target', 'address']\n",
      "Numerical columns: ['unit_id', 'packets_received', 'packets_sent', 'packet_size', 'bytes_total', 'duration', 'reordered_packets', 'bytes_sec', 'successes', 'failures', 'location_id', 'hour', 'day_of_week', 'day_of_month', 'month']\n"
     ]
    }
   ],
   "source": [
    "# Extract features from datetime\n",
    "df_lct_dl['dtime'] = pd.to_datetime(df_lct_dl['dtime'])\n",
    "df_lct_dl['hour'] = df_lct_dl['dtime'].dt.hour.astype(np.int8)\n",
    "df_lct_dl['day_of_week'] = df_lct_dl['dtime'].dt.dayofweek.astype(np.int8)\n",
    "df_lct_dl['day_of_month'] = df_lct_dl['dtime'].dt.day.astype(np.int8)\n",
    "df_lct_dl['month'] = df_lct_dl['dtime'].dt.month.astype(np.int8)\n",
    "\n",
    "# Drop original datetime column\n",
    "df_lct_dl.drop('dtime', axis=1, inplace=True)\n",
    "\n",
    "# Assuming 'error_code' is our target - if not, replace with your actual target\n",
    "# If target is binary, we'll need to encode it\n",
    "if 'error_code' in df_lct_dl.columns:\n",
    "    df_lct_dl['error_code'] = df_lct_dl['error_code'].apply(lambda x: 0 if x == 'NO_ERROR' else 1).astype(np.int8)\n",
    "    target = 'error_code'\n",
    "else:\n",
    "    # Replace with your actual target column\n",
    "    target = 'target_column'  \n",
    "\n",
    "# Separate features and target\n",
    "X = df_lct_dl.drop(target, axis=1)\n",
    "y = df_lct_dl[target]\n",
    "\n",
    "# Free up memory\n",
    "del df_lct_dl\n",
    "gc.collect()\n",
    "\n",
    "# Split data - stratify to maintain class distribution\n",
    "X_train, X_test, y_train, y_test = train_test_split(\n",
    "    X, y, test_size=0.2, random_state=42, stratify=y)\n",
    "\n",
    "# Identify categorical and numerical columns\n",
    "categorical_cols = X_train.select_dtypes(include=['category', 'object']).columns.tolist()\n",
    "numerical_cols = X_train.select_dtypes(include=['int8', 'int16', 'int32', 'int64', 'float16', 'float32', 'float64']).columns.tolist()\n",
    "\n",
    "print(f\"Categorical columns: {categorical_cols}\")\n",
    "print(f\"Numerical columns: {numerical_cols}\")"
   ]
  },
  {
   "cell_type": "markdown",
   "id": "a29422e3",
   "metadata": {
    "papermill": {
     "duration": 0.006303,
     "end_time": "2025-04-10T00:38:20.982250",
     "exception": false,
     "start_time": "2025-04-10T00:38:20.975947",
     "status": "completed"
    },
    "tags": []
   },
   "source": [
    "# 3: Create Preprocessing Pipeline with Memory Efficiency"
   ]
  },
  {
   "cell_type": "code",
   "execution_count": 13,
   "id": "bea59deb",
   "metadata": {
    "execution": {
     "iopub.execute_input": "2025-04-10T00:38:20.996369Z",
     "iopub.status.busy": "2025-04-10T00:38:20.996042Z",
     "iopub.status.idle": "2025-04-10T00:38:21.002478Z",
     "shell.execute_reply": "2025-04-10T00:38:21.001525Z"
    },
    "papermill": {
     "duration": 0.01557,
     "end_time": "2025-04-10T00:38:21.004162",
     "exception": false,
     "start_time": "2025-04-10T00:38:20.988592",
     "status": "completed"
    },
    "tags": []
   },
   "outputs": [],
   "source": [
    "# Numerical pipeline with memory-efficient scaler\n",
    "num_pipeline = Pipeline([\n",
    "    ('imputer', SimpleImputer(strategy='median')),\n",
    "    ('scaler', StandardScaler())\n",
    "])\n",
    "\n",
    "# Categorical pipeline with low-memory one-hot encoding\n",
    "cat_pipeline = Pipeline([\n",
    "    ('imputer', SimpleImputer(strategy='most_frequent')),\n",
    "    ('onehot', OneHotEncoder(handle_unknown='ignore', sparse=True, dtype=np.int8))\n",
    "])\n",
    "\n",
    "# Full preprocessing pipeline\n",
    "preprocessor = ColumnTransformer([\n",
    "    ('num', num_pipeline, numerical_cols),\n",
    "    ('cat', cat_pipeline, categorical_cols)\n",
    "], sparse_threshold=0.3)  # Helps with memory for large datasets"
   ]
  },
  {
   "cell_type": "markdown",
   "id": "b8d2ae2d",
   "metadata": {
    "papermill": {
     "duration": 0.006362,
     "end_time": "2025-04-10T00:38:21.017287",
     "exception": false,
     "start_time": "2025-04-10T00:38:21.010925",
     "status": "completed"
    },
    "tags": []
   },
   "source": [
    "# 4: Build Models with Feature Selection"
   ]
  },
  {
   "cell_type": "code",
   "execution_count": 14,
   "id": "8b5d5b98",
   "metadata": {
    "execution": {
     "iopub.execute_input": "2025-04-10T00:38:21.031374Z",
     "iopub.status.busy": "2025-04-10T00:38:21.031080Z",
     "iopub.status.idle": "2025-04-10T00:38:21.037690Z",
     "shell.execute_reply": "2025-04-10T00:38:21.036592Z"
    },
    "papermill": {
     "duration": 0.015652,
     "end_time": "2025-04-10T00:38:21.039421",
     "exception": false,
     "start_time": "2025-04-10T00:38:21.023769",
     "status": "completed"
    },
    "tags": []
   },
   "outputs": [],
   "source": [
    "# SVM Pipeline with reduced memory footprint\n",
    "svm_pipeline = Pipeline([\n",
    "    ('preprocessor', preprocessor),\n",
    "    ('feature_selector', SelectKBest(f_classif, k=20)),  # Select top 20 features\n",
    "    ('classifier', SVC(\n",
    "        kernel='rbf', \n",
    "        class_weight='balanced', \n",
    "        probability=True, \n",
    "        random_state=42,\n",
    "        gamma='scale',  # Helps with memory for large datasets\n",
    "        cache_size=500  # Limit cache size\n",
    "    ))\n",
    "])\n",
    "\n",
    "# Random Forest Pipeline with reduced memory\n",
    "rf_pipeline = Pipeline([\n",
    "    ('preprocessor', preprocessor),\n",
    "    ('feature_selector', SelectKBest(f_classif, k=20)),  # Select top 20 features\n",
    "    ('classifier', RandomForestClassifier(\n",
    "        n_estimators=100,\n",
    "        class_weight='balanced',\n",
    "        random_state=42,\n",
    "        max_depth=10,  # Limit depth to prevent memory issues\n",
    "        n_jobs=-1  # Use all cores\n",
    "    ))\n",
    "])"
   ]
  },
  {
   "cell_type": "markdown",
   "id": "9687b67f",
   "metadata": {
    "papermill": {
     "duration": 0.007055,
     "end_time": "2025-04-10T00:38:21.053470",
     "exception": false,
     "start_time": "2025-04-10T00:38:21.046415",
     "status": "completed"
    },
    "tags": []
   },
   "source": [
    "# 5: Train and Evaluate Models with Memory Management"
   ]
  },
  {
   "cell_type": "code",
   "execution_count": 15,
   "id": "c06f1079",
   "metadata": {
    "execution": {
     "iopub.execute_input": "2025-04-10T00:38:21.068145Z",
     "iopub.status.busy": "2025-04-10T00:38:21.067462Z",
     "iopub.status.idle": "2025-04-10T00:41:29.570811Z",
     "shell.execute_reply": "2025-04-10T00:41:29.569527Z"
    },
    "papermill": {
     "duration": 188.51227,
     "end_time": "2025-04-10T00:41:29.572358",
     "exception": false,
     "start_time": "2025-04-10T00:38:21.060088",
     "status": "completed"
    },
    "tags": []
   },
   "outputs": [
    {
     "name": "stdout",
     "output_type": "stream",
     "text": [
      "\n",
      "Training SVM...\n"
     ]
    },
    {
     "name": "stderr",
     "output_type": "stream",
     "text": [
      "/usr/local/lib/python3.11/dist-packages/sklearn/preprocessing/_encoders.py:868: FutureWarning: `sparse` was renamed to `sparse_output` in version 1.2 and will be removed in 1.4. `sparse_output` is ignored unless you leave `sparse` to its default value.\n",
      "  warnings.warn(\n",
      "/usr/local/lib/python3.11/dist-packages/sklearn/feature_selection/_univariate_selection.py:112: UserWarning: Features [0 0] are constant.\n",
      "  warnings.warn(\"Features %s are constant.\" % constant_features_idx, UserWarning)\n",
      "/usr/local/lib/python3.11/dist-packages/sklearn/feature_selection/_univariate_selection.py:113: RuntimeWarning: invalid value encountered in divide\n",
      "  f = msb / msw\n"
     ]
    },
    {
     "name": "stdout",
     "output_type": "stream",
     "text": [
      "\n",
      "SVM Classification Report:\n",
      "              precision    recall  f1-score   support\n",
      "\n",
      "           0       1.00      1.00      1.00    200021\n",
      "           1       1.00      1.00      1.00      8933\n",
      "\n",
      "    accuracy                           1.00    208954\n",
      "   macro avg       1.00      1.00      1.00    208954\n",
      "weighted avg       1.00      1.00      1.00    208954\n",
      "\n",
      "\n",
      "Training Random Forest...\n"
     ]
    },
    {
     "name": "stderr",
     "output_type": "stream",
     "text": [
      "/usr/local/lib/python3.11/dist-packages/sklearn/preprocessing/_encoders.py:868: FutureWarning: `sparse` was renamed to `sparse_output` in version 1.2 and will be removed in 1.4. `sparse_output` is ignored unless you leave `sparse` to its default value.\n",
      "  warnings.warn(\n",
      "/usr/local/lib/python3.11/dist-packages/sklearn/feature_selection/_univariate_selection.py:112: UserWarning: Features [0 0] are constant.\n",
      "  warnings.warn(\"Features %s are constant.\" % constant_features_idx, UserWarning)\n",
      "/usr/local/lib/python3.11/dist-packages/sklearn/feature_selection/_univariate_selection.py:113: RuntimeWarning: invalid value encountered in divide\n",
      "  f = msb / msw\n"
     ]
    },
    {
     "name": "stdout",
     "output_type": "stream",
     "text": [
      "\n",
      "Random Forest Classification Report:\n",
      "              precision    recall  f1-score   support\n",
      "\n",
      "           0       1.00      1.00      1.00    200021\n",
      "           1       1.00      1.00      1.00      8933\n",
      "\n",
      "    accuracy                           1.00    208954\n",
      "   macro avg       1.00      1.00      1.00    208954\n",
      "weighted avg       1.00      1.00      1.00    208954\n",
      "\n",
      "\n",
      "Model training completed!\n"
     ]
    }
   ],
   "source": [
    "def train_and_evaluate(pipeline, X_train, y_train, X_test, y_test, model_name):\n",
    "    print(f\"\\nTraining {model_name}...\")\n",
    "    \n",
    "    # Fit the model\n",
    "    pipeline.fit(X_train, y_train)\n",
    "    \n",
    "    # Predict and evaluate\n",
    "    y_pred = pipeline.predict(X_test)\n",
    "    print(f\"\\n{model_name} Classification Report:\")\n",
    "    print(classification_report(y_test, y_pred))\n",
    "    \n",
    "    # Clear memory\n",
    "    gc.collect()\n",
    "    return pipeline\n",
    "\n",
    "# Train SVM (may be memory intensive)\n",
    "try:\n",
    "    svm_model = train_and_evaluate(svm_pipeline, X_train, y_train, X_test, y_test, \"SVM\")\n",
    "except MemoryError:\n",
    "    print(\"SVM training failed due to memory constraints. Trying with smaller sample...\")\n",
    "    # Try with smaller sample if memory is an issue\n",
    "    X_train_sample, _, y_train_sample, _ = train_test_split(\n",
    "        X_train, y_train, train_size=0.5, random_state=42, stratify=y_train)\n",
    "    svm_model = train_and_evaluate(svm_pipeline, X_train_sample, y_train_sample, X_test, y_test, \"SVM (50% sample)\")\n",
    "\n",
    "# Train Random Forest (generally more memory-friendly)\n",
    "rf_model = train_and_evaluate(rf_pipeline, X_train, y_train, X_test, y_test, \"Random Forest\")\n",
    "\n",
    "# Compare model performance\n",
    "print(\"\\nModel training completed!\")"
   ]
  },
  {
   "cell_type": "markdown",
   "id": "e85a17de",
   "metadata": {
    "papermill": {
     "duration": 0.00701,
     "end_time": "2025-04-10T00:41:29.586547",
     "exception": false,
     "start_time": "2025-04-10T00:41:29.579537",
     "status": "completed"
    },
    "tags": []
   },
   "source": [
    "# 6: Deployment Preparation"
   ]
  },
  {
   "cell_type": "code",
   "execution_count": 16,
   "id": "e73de374",
   "metadata": {
    "execution": {
     "iopub.execute_input": "2025-04-10T00:41:29.602111Z",
     "iopub.status.busy": "2025-04-10T00:41:29.601723Z",
     "iopub.status.idle": "2025-04-10T00:41:49.944021Z",
     "shell.execute_reply": "2025-04-10T00:41:49.942866Z"
    },
    "papermill": {
     "duration": 20.352082,
     "end_time": "2025-04-10T00:41:49.945611",
     "exception": false,
     "start_time": "2025-04-10T00:41:29.593529",
     "status": "completed"
    },
    "tags": []
   },
   "outputs": [
    {
     "name": "stderr",
     "output_type": "stream",
     "text": [
      "/usr/local/lib/python3.11/dist-packages/sklearn/preprocessing/_encoders.py:868: FutureWarning: `sparse` was renamed to `sparse_output` in version 1.2 and will be removed in 1.4. `sparse_output` is ignored unless you leave `sparse` to its default value.\n",
      "  warnings.warn(\n",
      "/usr/local/lib/python3.11/dist-packages/sklearn/feature_selection/_univariate_selection.py:112: UserWarning: Features [0 0] are constant.\n",
      "  warnings.warn(\"Features %s are constant.\" % constant_features_idx, UserWarning)\n",
      "/usr/local/lib/python3.11/dist-packages/sklearn/feature_selection/_univariate_selection.py:113: RuntimeWarning: invalid value encountered in divide\n",
      "  f = msb / msw\n"
     ]
    },
    {
     "name": "stdout",
     "output_type": "stream",
     "text": [
      "Pipeline saved for deployment!\n"
     ]
    }
   ],
   "source": [
    "import joblib\n",
    "from sklearn.base import BaseEstimator, TransformerMixin\n",
    "\n",
    "# Create a custom transformer for datetime features\n",
    "class DateTimeTransformer(BaseEstimator, TransformerMixin):\n",
    "    def fit(self, X, y=None):\n",
    "        return self\n",
    "    \n",
    "    def transform(self, X):\n",
    "        X = X.copy()\n",
    "        if 'dtime' in X.columns:\n",
    "            X['dtime'] = pd.to_datetime(X['dtime'])\n",
    "            X['hour'] = X['dtime'].dt.hour.astype(np.int8)\n",
    "            X['day_of_week'] = X['dtime'].dt.dayofweek.astype(np.int8)\n",
    "            X['day_of_month'] = X['dtime'].dt.day.astype(np.int8)\n",
    "            X['month'] = X['dtime'].dt.month.astype(np.int8)\n",
    "            X.drop('dtime', axis=1, inplace=True)\n",
    "        return X\n",
    "\n",
    "# Create a final pipeline that includes datetime processing\n",
    "final_pipeline = Pipeline([\n",
    "    ('datetime_processor', DateTimeTransformer()),\n",
    "    ('preprocessor', preprocessor),\n",
    "    ('feature_selector', SelectKBest(f_classif, k=20)),\n",
    "    ('classifier', RandomForestClassifier(\n",
    "        n_estimators=100,\n",
    "        class_weight='balanced',\n",
    "        random_state=42,\n",
    "        max_depth=10,\n",
    "        n_jobs=-1\n",
    "    ))\n",
    "])\n",
    "\n",
    "# Retrain on full data if needed\n",
    "final_pipeline.fit(X, y)\n",
    "\n",
    "# Save the model\n",
    "joblib.dump(final_pipeline, 'network_error_pipeline.pkl', compress=3)  # High compression to save space\n",
    "\n",
    "print(\"Pipeline saved for deployment!\")"
   ]
  },
  {
   "cell_type": "markdown",
   "id": "e5eb7def",
   "metadata": {
    "papermill": {
     "duration": 0.00684,
     "end_time": "2025-04-10T00:41:49.959594",
     "exception": false,
     "start_time": "2025-04-10T00:41:49.952754",
     "status": "completed"
    },
    "tags": []
   },
   "source": [
    "# Visualizing Model Results"
   ]
  },
  {
   "cell_type": "markdown",
   "id": "621a0247",
   "metadata": {
    "papermill": {
     "duration": 0.006752,
     "end_time": "2025-04-10T00:41:49.973068",
     "exception": false,
     "start_time": "2025-04-10T00:41:49.966316",
     "status": "completed"
    },
    "tags": []
   },
   "source": [
    "# 1. Confusion Matrices"
   ]
  },
  {
   "cell_type": "code",
   "execution_count": 17,
   "id": "5df772b1",
   "metadata": {
    "execution": {
     "iopub.execute_input": "2025-04-10T00:41:49.988807Z",
     "iopub.status.busy": "2025-04-10T00:41:49.988477Z",
     "iopub.status.idle": "2025-04-10T00:48:49.295661Z",
     "shell.execute_reply": "2025-04-10T00:48:49.294631Z"
    },
    "papermill": {
     "duration": 419.317027,
     "end_time": "2025-04-10T00:48:49.297244",
     "exception": false,
     "start_time": "2025-04-10T00:41:49.980217",
     "status": "completed"
    },
    "tags": []
   },
   "outputs": [
    {
     "name": "stdout",
     "output_type": "stream",
     "text": [
      "Retraining models with consistent preprocessing...\n"
     ]
    },
    {
     "name": "stderr",
     "output_type": "stream",
     "text": [
      "/usr/local/lib/python3.11/dist-packages/sklearn/preprocessing/_encoders.py:868: FutureWarning: `sparse` was renamed to `sparse_output` in version 1.2 and will be removed in 1.4. `sparse_output` is ignored unless you leave `sparse` to its default value.\n",
      "  warnings.warn(\n",
      "/usr/local/lib/python3.11/dist-packages/sklearn/feature_selection/_univariate_selection.py:112: UserWarning: Features [ 3 14] are constant.\n",
      "  warnings.warn(\"Features %s are constant.\" % constant_features_idx, UserWarning)\n",
      "/usr/local/lib/python3.11/dist-packages/sklearn/feature_selection/_univariate_selection.py:113: RuntimeWarning: invalid value encountered in divide\n",
      "  f = msb / msw\n",
      "/usr/local/lib/python3.11/dist-packages/sklearn/preprocessing/_encoders.py:868: FutureWarning: `sparse` was renamed to `sparse_output` in version 1.2 and will be removed in 1.4. `sparse_output` is ignored unless you leave `sparse` to its default value.\n",
      "  warnings.warn(\n",
      "/usr/local/lib/python3.11/dist-packages/sklearn/feature_selection/_univariate_selection.py:112: UserWarning: Features [ 3 14] are constant.\n",
      "  warnings.warn(\"Features %s are constant.\" % constant_features_idx, UserWarning)\n",
      "/usr/local/lib/python3.11/dist-packages/sklearn/feature_selection/_univariate_selection.py:113: RuntimeWarning: invalid value encountered in divide\n",
      "  f = msb / msw\n"
     ]
    },
    {
     "data": {
      "image/png": "[encoded data removed]",
      "text/plain": [
       "<Figure size 1400x600 with 4 Axes>"
      ]
     },
     "metadata": {},
     "output_type": "display_data"
    }
   ],
   "source": [
    "from sklearn.metrics import confusion_matrix\n",
    "import seaborn as sns\n",
    "import matplotlib.pyplot as plt\n",
    "from sklearn.compose import make_column_transformer\n",
    "from sklearn.pipeline import make_pipeline\n",
    "\n",
    "# 1. First, let's create a more robust preprocessing pipeline\n",
    "# that will handle feature consistency automatically\n",
    "\n",
    "# Identify categorical and numerical columns (should be done before any splitting)\n",
    "categorical_cols = X.select_dtypes(include=['category', 'object']).columns.tolist()\n",
    "numerical_cols = X.select_dtypes(include=['int8', 'int16', 'int32', 'int64', 'float16', 'float32', 'float64']).columns.tolist()\n",
    "\n",
    "# Create a robust preprocessing pipeline that maintains feature consistency\n",
    "preprocessor = make_column_transformer(\n",
    "    (make_pipeline(\n",
    "        SimpleImputer(strategy='median'),\n",
    "        StandardScaler()\n",
    "    ), numerical_cols),\n",
    "    (make_pipeline(\n",
    "        SimpleImputer(strategy='most_frequent'),\n",
    "        OneHotEncoder(handle_unknown='infrequent_if_exist', sparse=False)\n",
    "    ), categorical_cols),\n",
    "    remainder='drop'  # Drop any columns not explicitly transformed\n",
    ")\n",
    "\n",
    "# 2. Rebuild your models with this consistent preprocessing\n",
    "svm_pipeline = make_pipeline(\n",
    "    preprocessor,\n",
    "    SelectKBest(f_classif, k=20),\n",
    "    SVC(kernel='rbf', class_weight='balanced', probability=True, random_state=42)\n",
    ")\n",
    "\n",
    "rf_pipeline = make_pipeline(\n",
    "    preprocessor,\n",
    "    SelectKBest(f_classif, k=20),\n",
    "    RandomForestClassifier(n_estimators=100, class_weight='balanced', random_state=42, max_depth=10)\n",
    ")\n",
    "\n",
    "# 3. Retrain the models\n",
    "print(\"Retraining models with consistent preprocessing...\")\n",
    "svm_model = svm_pipeline.fit(X_train, y_train)\n",
    "rf_model = rf_pipeline.fit(X_train, y_train)\n",
    "\n",
    "# 4. Now the predictions should work correctly\n",
    "def plot_confusion_matrix(y_true, y_pred, model_name, ax=None):\n",
    "    cm = confusion_matrix(y_true, y_pred)\n",
    "    if ax is None:\n",
    "        fig, ax = plt.subplots(figsize=(6, 6))\n",
    "    sns.heatmap(cm, annot=True, fmt='d', cmap='Blues', ax=ax,\n",
    "                xticklabels=['No Error', 'Error'],\n",
    "                yticklabels=['No Error', 'Error'])\n",
    "    ax.set_title(f'{model_name} Confusion Matrix')\n",
    "    ax.set_xlabel('Predicted')\n",
    "    ax.set_ylabel('Actual')\n",
    "\n",
    "# Get predictions from both models\n",
    "try:\n",
    "    y_pred_svm = svm_model.predict(X_test)\n",
    "    y_pred_rf = rf_model.predict(X_test)\n",
    "    \n",
    "    # Create side-by-side confusion matrices\n",
    "    fig, (ax1, ax2) = plt.subplots(1, 2, figsize=(14, 6))\n",
    "    plot_confusion_matrix(y_test, y_pred_svm, 'SVM', ax1)\n",
    "    plot_confusion_matrix(y_test, y_pred_rf, 'Random Forest', ax2)\n",
    "    plt.tight_layout()\n",
    "    plt.show()\n",
    "    \n",
    "except Exception as e:\n",
    "    print(f\"Error during prediction: {e}\")\n",
    "    print(\"\\nDebugging information:\")\n",
    "    print(f\"X_train shape: {X_train.shape}\")\n",
    "    print(f\"X_test shape: {X_test.shape}\")\n",
    "    print(\"Checking column differences:\")\n",
    "    train_cols = set(X_train.columns)\n",
    "    test_cols = set(X_test.columns)\n",
    "    print(f\"Columns in train but not test: {train_cols - test_cols}\")\n",
    "    print(f\"Columns in test but not train: {test_cols - train_cols}\")"
   ]
  },
  {
   "cell_type": "markdown",
   "id": "81ebf90f",
   "metadata": {
    "papermill": {
     "duration": 0.007719,
     "end_time": "2025-04-10T00:48:49.313332",
     "exception": false,
     "start_time": "2025-04-10T00:48:49.305613",
     "status": "completed"
    },
    "tags": []
   },
   "source": [
    "# 2. ROC Curves and AUC Scores"
   ]
  },
  {
   "cell_type": "code",
   "execution_count": 18,
   "id": "e9af51a9",
   "metadata": {
    "execution": {
     "iopub.execute_input": "2025-04-10T00:48:49.330755Z",
     "iopub.status.busy": "2025-04-10T00:48:49.330288Z",
     "iopub.status.idle": "2025-04-10T00:48:54.039309Z",
     "shell.execute_reply": "2025-04-10T00:48:54.038335Z"
    },
    "papermill": {
     "duration": 4.720623,
     "end_time": "2025-04-10T00:48:54.041852",
     "exception": false,
     "start_time": "2025-04-10T00:48:49.321229",
     "status": "completed"
    },
    "tags": []
   },
   "outputs": [
    {
     "data": {
      "image/png": "[encoded data removed]",
      "text/plain": [
       "<Figure size 1600x600 with 2 Axes>"
      ]
     },
     "metadata": {},
     "output_type": "display_data"
    },
    {
     "name": "stdout",
     "output_type": "stream",
     "text": [
      "SVM AUC: 1.0000\n",
      "Random Forest AUC: 1.0000\n"
     ]
    }
   ],
   "source": [
    "from sklearn.metrics import roc_curve, auc\n",
    "from sklearn.metrics import RocCurveDisplay\n",
    "\n",
    "def plot_roc_curve(y_true, y_probs, model_name, ax=None):\n",
    "    fpr, tpr, _ = roc_curve(y_true, y_probs)\n",
    "    roc_auc = auc(fpr, tpr)\n",
    "    \n",
    "    if ax is None:\n",
    "        fig, ax = plt.subplots(figsize=(8, 6))\n",
    "    \n",
    "    RocCurveDisplay(fpr=fpr, tpr=tpr, roc_auc=roc_auc, \n",
    "                   estimator_name=model_name).plot(ax=ax)\n",
    "    ax.plot([0, 1], [0, 1], 'k--')  # Diagonal line\n",
    "    ax.set_title(f'ROC Curve - {model_name}')\n",
    "    return roc_auc\n",
    "\n",
    "# Get probability predictions (we need to use predict_proba)\n",
    "y_proba_svm = svm_model.predict_proba(X_test)[:, 1]\n",
    "y_proba_rf = rf_model.predict_proba(X_test)[:, 1]\n",
    "\n",
    "# Plot ROC curves\n",
    "fig, (ax1, ax2) = plt.subplots(1, 2, figsize=(16, 6))\n",
    "auc_svm = plot_roc_curve(y_test, y_proba_svm, 'SVM', ax1)\n",
    "auc_rf = plot_roc_curve(y_test, y_proba_rf, 'Random Forest', ax2)\n",
    "plt.tight_layout()\n",
    "plt.show()\n",
    "\n",
    "print(f\"SVM AUC: {auc_svm:.4f}\")\n",
    "print(f\"Random Forest AUC: {auc_rf:.4f}\")"
   ]
  },
  {
   "cell_type": "markdown",
   "id": "73f591ff",
   "metadata": {
    "papermill": {
     "duration": 0.009023,
     "end_time": "2025-04-10T00:48:54.060503",
     "exception": false,
     "start_time": "2025-04-10T00:48:54.051480",
     "status": "completed"
    },
    "tags": []
   },
   "source": [
    "# 3. Precision-Recall Curves"
   ]
  },
  {
   "cell_type": "code",
   "execution_count": 19,
   "id": "d3015aa8",
   "metadata": {
    "execution": {
     "iopub.execute_input": "2025-04-10T00:48:54.080243Z",
     "iopub.status.busy": "2025-04-10T00:48:54.079559Z",
     "iopub.status.idle": "2025-04-10T00:48:54.549407Z",
     "shell.execute_reply": "2025-04-10T00:48:54.548273Z"
    },
    "papermill": {
     "duration": 0.485035,
     "end_time": "2025-04-10T00:48:54.554603",
     "exception": false,
     "start_time": "2025-04-10T00:48:54.069568",
     "status": "completed"
    },
    "tags": []
   },
   "outputs": [
    {
     "data": {
      "image/png": "[encoded data removed]",
      "text/plain": [
       "<Figure size 1600x600 with 2 Axes>"
      ]
     },
     "metadata": {},
     "output_type": "display_data"
    },
    {
     "name": "stdout",
     "output_type": "stream",
     "text": [
      "SVM PR AUC: 1.0000\n",
      "Random Forest PR AUC: 1.0000\n"
     ]
    }
   ],
   "source": [
    "from sklearn.metrics import precision_recall_curve, PrecisionRecallDisplay\n",
    "\n",
    "def plot_pr_curve(y_true, y_probs, model_name, ax=None):\n",
    "    precision, recall, _ = precision_recall_curve(y_true, y_probs)\n",
    "    \n",
    "    if ax is None:\n",
    "        fig, ax = plt.subplots(figsize=(8, 6))\n",
    "    \n",
    "    PrecisionRecallDisplay(precision=precision, recall=recall, \n",
    "                         estimator_name=model_name).plot(ax=ax)\n",
    "    ax.set_title(f'Precision-Recall Curve - {model_name}')\n",
    "    return auc(recall, precision)\n",
    "\n",
    "# Plot PR curves\n",
    "fig, (ax1, ax2) = plt.subplots(1, 2, figsize=(16, 6))\n",
    "pr_auc_svm = plot_pr_curve(y_test, y_proba_svm, 'SVM', ax1)\n",
    "pr_auc_rf = plot_pr_curve(y_test, y_proba_rf, 'Random Forest', ax2)\n",
    "plt.tight_layout()\n",
    "plt.show()\n",
    "\n",
    "print(f\"SVM PR AUC: {pr_auc_svm:.4f}\")\n",
    "print(f\"Random Forest PR AUC: {pr_auc_rf:.4f}\")"
   ]
  },
  {
   "cell_type": "code",
   "execution_count": null,
   "id": "d8703886",
   "metadata": {
    "papermill": {
     "duration": 0.010256,
     "end_time": "2025-04-10T00:48:54.575316",
     "exception": false,
     "start_time": "2025-04-10T00:48:54.565060",
     "status": "completed"
    },
    "tags": []
   },
   "outputs": [],
   "source": []
  }
 ],
 "metadata": {
  "kaggle": {
   "accelerator": "none",
   "dataSources": [
    {
     "datasetId": 7099154,
     "sourceId": 11345920,
     "sourceType": "datasetVersion"
    }
   ],
   "dockerImageVersionId": 31012,
   "isGpuEnabled": false,
   "isInternetEnabled": true,
   "language": "python",
   "sourceType": "notebook"
  },
  "kernelspec": {
   "display_name": "Python 3",
   "language": "python",
   "name": "python3"
  },
  "language_info": {
   "codemirror_mode": {
    "name": "ipython",
    "version": 3
   },
   "file_extension": ".py",
   "mimetype": "text/x-python",
   "name": "python",
   "nbconvert_exporter": "python",
   "pygments_lexer": "ipython3",
   "version": "3.11.11"
  },
  "papermill": {
   "default_parameters": {},
   "duration": 657.563086,
   "end_time": "2025-04-10T00:48:55.507377",
   "environment_variables": {},
   "exception": null,
   "input_path": "__notebook__.ipynb",
   "output_path": "__notebook__.ipynb",
   "parameters": {},
   "start_time": "2025-04-10T00:37:57.944291",
   "version": "2.6.0"
  }
 },
 "nbformat": 4,
 "nbformat_minor": 5
}
